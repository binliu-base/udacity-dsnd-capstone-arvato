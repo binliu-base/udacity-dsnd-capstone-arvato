{
 "cells": [
  {
   "cell_type": "code",
   "execution_count": 6,
   "metadata": {
    "ExecuteTime": {
     "end_time": "2020-03-04T13:31:20.909765Z",
     "start_time": "2020-03-04T13:31:20.900764Z"
    }
   },
   "outputs": [],
   "source": [
    "import pandas as  pd\n",
    "import pickle"
   ]
  },
  {
   "cell_type": "code",
   "execution_count": 3,
   "metadata": {
    "ExecuteTime": {
     "end_time": "2020-03-04T13:30:26.364008Z",
     "start_time": "2020-03-04T13:30:26.322009Z"
    }
   },
   "outputs": [],
   "source": [
    "feat_info = pd.read_csv('./feats_info.csv', sep=';', names=['feat', 'type', 'unknown'])"
   ]
  },
  {
   "cell_type": "code",
   "execution_count": 5,
   "metadata": {
    "ExecuteTime": {
     "end_time": "2020-03-04T13:30:39.668234Z",
     "start_time": "2020-03-04T13:30:39.651235Z"
    }
   },
   "outputs": [
    {
     "data": {
      "text/plain": [
       "0                  AGER_TYP\n",
       "1      ALTERSKATEGORIE_FEIN\n",
       "2      ALTERSKATEGORIE_GROB\n",
       "3                  ALTER_HH\n",
       "4                 ANREDE_KZ\n",
       "               ...         \n",
       "345               CJT_TYP_2\n",
       "346               CJT_TYP_3\n",
       "347               CJT_TYP_4\n",
       "348               CJT_TYP_5\n",
       "349               CJT_TYP_6\n",
       "Name: feat, Length: 350, dtype: object"
      ]
     },
     "execution_count": 5,
     "metadata": {},
     "output_type": "execute_result"
    }
   ],
   "source": [
    "feat_info.feat"
   ]
  },
  {
   "cell_type": "code",
   "execution_count": 7,
   "metadata": {
    "ExecuteTime": {
     "end_time": "2020-03-04T13:31:39.069106Z",
     "start_time": "2020-03-04T13:31:24.582760Z"
    }
   },
   "outputs": [],
   "source": [
    "azdias = pd.read_pickle ('../data/azdias.p')   "
   ]
  }
 ],
 "metadata": {
  "hide_input": false,
  "kernelspec": {
   "display_name": "Python 3",
   "language": "python",
   "name": "python3"
  },
  "language_info": {
   "codemirror_mode": {
    "name": "ipython",
    "version": 3
   },
   "file_extension": ".py",
   "mimetype": "text/x-python",
   "name": "python",
   "nbconvert_exporter": "python",
   "pygments_lexer": "ipython3",
   "version": "3.7.4"
  },
  "latex_envs": {
   "LaTeX_envs_menu_present": true,
   "autoclose": false,
   "autocomplete": true,
   "bibliofile": "biblio.bib",
   "cite_by": "apalike",
   "current_citInitial": 1,
   "eqLabelWithNumbers": true,
   "eqNumInitial": 1,
   "hotkeys": {
    "equation": "Ctrl-E",
    "itemize": "Ctrl-I"
   },
   "labels_anchors": false,
   "latex_user_defs": false,
   "report_style_numbering": false,
   "user_envs_cfg": false
  },
  "toc": {
   "base_numbering": 1,
   "nav_menu": {},
   "number_sections": true,
   "sideBar": true,
   "skip_h1_title": false,
   "title_cell": "Table of Contents",
   "title_sidebar": "Contents",
   "toc_cell": false,
   "toc_position": {},
   "toc_section_display": true,
   "toc_window_display": false
  },
  "varInspector": {
   "cols": {
    "lenName": 16,
    "lenType": 16,
    "lenVar": 40
   },
   "kernels_config": {
    "python": {
     "delete_cmd_postfix": "",
     "delete_cmd_prefix": "del ",
     "library": "var_list.py",
     "varRefreshCmd": "print(var_dic_list())"
    },
    "r": {
     "delete_cmd_postfix": ") ",
     "delete_cmd_prefix": "rm(",
     "library": "var_list.r",
     "varRefreshCmd": "cat(var_dic_list()) "
    }
   },
   "types_to_exclude": [
    "module",
    "function",
    "builtin_function_or_method",
    "instance",
    "_Feature"
   ],
   "window_display": false
  }
 },
 "nbformat": 4,
 "nbformat_minor": 2
}
