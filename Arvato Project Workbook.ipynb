{
 "cells": [
  {
   "cell_type": "markdown",
   "metadata": {},
   "source": [
    "# Capstone Project: Create a Customer Segmentation Report for Arvato Financial Services\n",
    "\n",
    "In this project, you will analyze demographics data for customers of a mail-order sales company in Germany, comparing it against demographics information for the general population. You'll use unsupervised learning techniques to perform customer segmentation, identifying the parts of the population that best describe the core customer base of the company. Then, you'll apply what you've learned on a third dataset with demographics information for targets of a marketing campaign for the company, and use a model to predict which individuals are most likely to convert into becoming customers for the company. The data that you will use has been provided by our partners at Bertelsmann Arvato Analytics, and represents a real-life data science task.\n",
    "\n",
    "If you completed the first term of this program, you will be familiar with the first part of this project, from the unsupervised learning project. The versions of those two datasets used in this project will include many more features and has not been pre-cleaned. You are also free to choose whatever approach you'd like to analyzing the data rather than follow pre-determined steps. In your work on this project, make sure that you carefully document your steps and decisions, since your main deliverable for this project will be a blog post reporting your findings."
   ]
  },
  {
   "cell_type": "code",
   "execution_count": 1,
   "metadata": {
    "ExecuteTime": {
     "end_time": "2020-03-05T15:12:16.768314Z",
     "start_time": "2020-03-05T15:12:08.980118Z"
    }
   },
   "outputs": [],
   "source": [
    "# import libraries here; add more as necessary\n",
    "import numpy as np\n",
    "import pandas as pd\n",
    "import matplotlib.pyplot as plt\n",
    "import seaborn as sns\n",
    "\n",
    "import sys\n",
    "import pickle\n",
    "import ast\n",
    "\n",
    "from sklearn.preprocessing import Imputer, StandardScaler\n",
    "from sklearn.model_selection import GridSearchCV, train_test_split\n",
    "from sklearn.linear_model import LogisticRegression\n",
    "from sklearn.ensemble import BaggingClassifier\n",
    "from sklearn.metrics import roc_auc_score\n",
    "from hyperopt import hp\n",
    "import lightgbm as lgb\n",
    "from skopt import BayesSearchCV\n",
    "\n",
    "sys.path += ['./ilikeds']\n",
    "import eda \n",
    "import helper_functions as h\n",
    "import train_classifier as t\n",
    "\n",
    "import warnings                             \n",
    "warnings.filterwarnings('ignore')\n",
    "# magic word for producing visualizations in notebook\n",
    "%matplotlib inline"
   ]
  },
  {
   "cell_type": "markdown",
   "metadata": {},
   "source": [
    "## Part 0: Get to Know the Data\n",
    "\n",
    "There are four data files associated with this project:\n",
    "\n",
    "- `Udacity_AZDIAS_052018.csv`: Demographics data for the general population of Germany; 891 211 persons (rows) x 366 features (columns).\n",
    "- `Udacity_CUSTOMERS_052018.csv`: Demographics data for customers of a mail-order company; 191 652 persons (rows) x 369 features (columns).\n",
    "- `Udacity_MAILOUT_052018_TRAIN.csv`: Demographics data for individuals who were targets of a marketing campaign; 42 982 persons (rows) x 367 (columns).\n",
    "- `Udacity_MAILOUT_052018_TEST.csv`: Demographics data for individuals who were targets of a marketing campaign; 42 833 persons (rows) x 366 (columns).\n",
    "\n",
    "Each row of the demographics files represents a single person, but also includes information outside of individuals, including information about their household, building, and neighborhood. Use the information from the first two files to figure out how customers (\"CUSTOMERS\") are similar to or differ from the general population at large (\"AZDIAS\"), then use your analysis to make predictions on the other two files (\"MAILOUT\"), predicting which recipients are most likely to become a customer for the mail-order company.\n",
    "\n",
    "The \"CUSTOMERS\" file contains three extra columns ('CUSTOMER_GROUP', 'ONLINE_PURCHASE', and 'PRODUCT_GROUP'), which provide broad information about the customers depicted in the file. The original \"MAILOUT\" file included one additional column, \"RESPONSE\", which indicated whether or not each recipient became a customer of the company. For the \"TRAIN\" subset, this column has been retained, but in the \"TEST\" subset it has been removed; it is against that withheld column that your final predictions will be assessed in the Kaggle competition.\n",
    "\n",
    "Otherwise, all of the remaining columns are the same between the three data files. For more information about the columns depicted in the files, you can refer to two Excel spreadsheets provided in the workspace. [One of them](./DIAS Information Levels - Attributes 2017.xlsx) is a top-level list of attributes and descriptions, organized by informational category. [The other](./DIAS Attributes - Values 2017.xlsx) is a detailed mapping of data values for each feature in alphabetical order.\n",
    "\n",
    "In the below cell, we've provided some initial code to load in the first two datasets. Note for all of the `.csv` data files in this project that they're semicolon (`;`) delimited, so an additional argument in the [`read_csv()`](https://pandas.pydata.org/pandas-docs/stable/generated/pandas.read_csv.html) call has been included to read in the data properly. Also, considering the size of the datasets, it may take some time for them to load completely.\n",
    "\n",
    "You'll notice when the data is loaded in that a warning message will immediately pop up. Before you really start digging into the modeling and analysis, you're going to need to perform some cleaning. Take some time to browse the structure of the data and look over the informational spreadsheets to understand the data values. Make some decisions on which features to keep, which features to drop, and if any revisions need to be made on data formats. It'll be a good idea to create a function with pre-processing steps, since you'll need to clean all of the datasets before you work with them."
   ]
  },
  {
   "cell_type": "code",
   "execution_count": 2,
   "metadata": {
    "ExecuteTime": {
     "end_time": "2020-03-05T15:12:25.552681Z",
     "start_time": "2020-03-05T15:12:16.769318Z"
    }
   },
   "outputs": [],
   "source": [
    "# load in the data\n",
    "# azdias = pd.read_csv('../../data/Term2/capstone/arvato_data/Udacity_AZDIAS_052018.csv', sep=';')\n",
    "# customers = pd.read_csv('../../data/Term2/capstone/arvato_data/Udacity_CUSTOMERS_052018.csv', sep=';')\n",
    "\n",
    "azdias = pd.read_pickle ('../data/azdias.p')    \n",
    "customers = pd.read_pickle ('../data/customers.p')    "
   ]
  },
  {
   "cell_type": "code",
   "execution_count": 3,
   "metadata": {
    "ExecuteTime": {
     "end_time": "2020-03-05T15:12:25.600683Z",
     "start_time": "2020-03-05T15:12:25.554681Z"
    }
   },
   "outputs": [
    {
     "data": {
      "text/html": [
       "<div>\n",
       "<style scoped>\n",
       "    .dataframe tbody tr th:only-of-type {\n",
       "        vertical-align: middle;\n",
       "    }\n",
       "\n",
       "    .dataframe tbody tr th {\n",
       "        vertical-align: top;\n",
       "    }\n",
       "\n",
       "    .dataframe thead th {\n",
       "        text-align: right;\n",
       "    }\n",
       "</style>\n",
       "<table border=\"1\" class=\"dataframe\">\n",
       "  <thead>\n",
       "    <tr style=\"text-align: right;\">\n",
       "      <th></th>\n",
       "      <th>type</th>\n",
       "      <th>unknown</th>\n",
       "      <th>is_drop</th>\n",
       "    </tr>\n",
       "    <tr>\n",
       "      <th>feat</th>\n",
       "      <th></th>\n",
       "      <th></th>\n",
       "      <th></th>\n",
       "    </tr>\n",
       "  </thead>\n",
       "  <tbody>\n",
       "    <tr>\n",
       "      <td>feat</td>\n",
       "      <td>type</td>\n",
       "      <td>unknow</td>\n",
       "      <td>is_drop</td>\n",
       "    </tr>\n",
       "    <tr>\n",
       "      <td>AGER_TYP</td>\n",
       "      <td>categorical</td>\n",
       "      <td>[-1,0]</td>\n",
       "      <td>0.0</td>\n",
       "    </tr>\n",
       "    <tr>\n",
       "      <td>ALTERSKATEGORIE_FEIN</td>\n",
       "      <td>ordinal</td>\n",
       "      <td>[-1,0,9]</td>\n",
       "      <td>1.0</td>\n",
       "    </tr>\n",
       "    <tr>\n",
       "      <td>ALTERSKATEGORIE_GROB</td>\n",
       "      <td>ordinal</td>\n",
       "      <td>[-1,0,9]</td>\n",
       "      <td>0.0</td>\n",
       "    </tr>\n",
       "    <tr>\n",
       "      <td>ALTER_HH</td>\n",
       "      <td>ordinal</td>\n",
       "      <td>[0]</td>\n",
       "      <td>0.0</td>\n",
       "    </tr>\n",
       "    <tr>\n",
       "      <td>...</td>\n",
       "      <td>...</td>\n",
       "      <td>...</td>\n",
       "      <td>...</td>\n",
       "    </tr>\n",
       "    <tr>\n",
       "      <td>RT_UEBERGROESSE</td>\n",
       "      <td>categorical</td>\n",
       "      <td>[]</td>\n",
       "      <td>1.0</td>\n",
       "    </tr>\n",
       "    <tr>\n",
       "      <td>STRUKTURTYP</td>\n",
       "      <td>categorical</td>\n",
       "      <td>[]</td>\n",
       "      <td>1.0</td>\n",
       "    </tr>\n",
       "    <tr>\n",
       "      <td>UMFELD_ALT</td>\n",
       "      <td>categorical</td>\n",
       "      <td>[]</td>\n",
       "      <td>1.0</td>\n",
       "    </tr>\n",
       "    <tr>\n",
       "      <td>UMFELD_JUNG</td>\n",
       "      <td>categorical</td>\n",
       "      <td>[]</td>\n",
       "      <td>1.0</td>\n",
       "    </tr>\n",
       "    <tr>\n",
       "      <td>VERDICHTUNGSRAUM</td>\n",
       "      <td>ordinal</td>\n",
       "      <td>[]</td>\n",
       "      <td>1.0</td>\n",
       "    </tr>\n",
       "  </tbody>\n",
       "</table>\n",
       "<p>367 rows × 3 columns</p>\n",
       "</div>"
      ],
      "text/plain": [
       "                             type   unknown  is_drop\n",
       "feat                                                \n",
       "feat                         type    unknow  is_drop\n",
       "AGER_TYP              categorical    [-1,0]      0.0\n",
       "ALTERSKATEGORIE_FEIN      ordinal  [-1,0,9]      1.0\n",
       "ALTERSKATEGORIE_GROB      ordinal  [-1,0,9]      0.0\n",
       "ALTER_HH                  ordinal       [0]      0.0\n",
       "...                           ...       ...      ...\n",
       "RT_UEBERGROESSE       categorical        []      1.0\n",
       "STRUKTURTYP           categorical        []      1.0\n",
       "UMFELD_ALT            categorical        []      1.0\n",
       "UMFELD_JUNG           categorical        []      1.0\n",
       "VERDICHTUNGSRAUM          ordinal        []      1.0\n",
       "\n",
       "[367 rows x 3 columns]"
      ]
     },
     "execution_count": 3,
     "metadata": {},
     "output_type": "execute_result"
    }
   ],
   "source": [
    "# read in feature info file\n",
    "feat_info = pd.read_csv('./feats_info.csv', sep=',', names=['feat', 'type', 'unknown','is_drop'])\n",
    "# feat_info = pd.read_csv('./feats_info.csv')\n",
    "feat_info.set_index('feat', inplace =True)\n",
    "feat_info"
   ]
  },
  {
   "cell_type": "code",
   "execution_count": 4,
   "metadata": {
    "ExecuteTime": {
     "end_time": "2020-03-05T15:12:43.956123Z",
     "start_time": "2020-03-05T15:12:25.602682Z"
    }
   },
   "outputs": [],
   "source": [
    "# create  a EDA  instance for Azdias.\n",
    "eda_azdias= eda.EDA(azdias, feat_info, label = 'Azdias')\n",
    "\n",
    "# create  a EDA  instance for Azdias. for  customers\n",
    "eda_customers= eda.EDA(customers, feat_info, label = 'Customers')"
   ]
  },
  {
   "cell_type": "markdown",
   "metadata": {},
   "source": [
    "### Data Cleaning"
   ]
  },
  {
   "cell_type": "code",
   "execution_count": 26,
   "metadata": {
    "ExecuteTime": {
     "end_time": "2020-03-05T15:20:05.802250Z",
     "start_time": "2020-03-05T15:20:05.797249Z"
    }
   },
   "outputs": [],
   "source": [
    "#### Step 1: Remove undefined features\n",
    "drop_reason_dic ={\n",
    "    1:  'high missing values',\n",
    "}"
   ]
  },
  {
   "cell_type": "code",
   "execution_count": 6,
   "metadata": {
    "ExecuteTime": {
     "end_time": "2020-03-05T15:12:43.988124Z",
     "start_time": "2020-03-05T15:12:43.974140Z"
    }
   },
   "outputs": [],
   "source": [
    "# Removing the three extra columns ('CUSTOMER_GROUP', 'ONLINE_PURCHASE', and 'PRODUCT_GROUP') in Customers\n",
    "# feats_customers_excl  = list(set(eda_customers.data.columns) - set(eda_azdias.data.columns))\n",
    "# feats_customers_excl\n",
    "# eda_customers.data.drop(columns = feats_customers_excl, inplace =True)"
   ]
  },
  {
   "cell_type": "markdown",
   "metadata": {
    "ExecuteTime": {
     "end_time": "2020-02-28T14:54:12.817463Z",
     "start_time": "2020-02-28T14:54:12.808465Z"
    }
   },
   "source": [
    "####  Step 2:  Converting of missing and unknown data to NaN"
   ]
  },
  {
   "cell_type": "code",
   "execution_count": 7,
   "metadata": {
    "ExecuteTime": {
     "end_time": "2020-03-05T15:13:07.664126Z",
     "start_time": "2020-03-05T15:12:43.989125Z"
    }
   },
   "outputs": [
    {
     "name": "stdout",
     "output_type": "stream",
     "text": [
      "Number of missing values in Azdias:\n",
      "Before converstion is 33492923\n",
      "Ater converstion IS 84927470\n",
      "Increase in missing values: 153.57 % \n",
      "Number of missing values in Customers:\n",
      "Before converstion is 13864522\n",
      "Ater converstion IS 24261451\n",
      "Increase in missing values: 74.99 % \n"
     ]
    }
   ],
   "source": [
    "eda_azdias.missing2nan()\n",
    "eda_customers.missing2nan()"
   ]
  },
  {
   "cell_type": "markdown",
   "metadata": {},
   "source": [
    "####  Step 3: Handling missing values"
   ]
  },
  {
   "cell_type": "markdown",
   "metadata": {},
   "source": [
    "##### a. Handling missing values for rows"
   ]
  },
  {
   "cell_type": "code",
   "execution_count": 8,
   "metadata": {
    "ExecuteTime": {
     "end_time": "2020-03-05T15:13:09.161202Z",
     "start_time": "2020-03-05T15:13:07.668127Z"
    }
   },
   "outputs": [
    {
     "data": {
      "text/plain": [
       "(array([1.2000e+01, 8.3000e+01, 6.7600e+02, 1.6620e+03, 5.0840e+03,\n",
       "        6.8730e+03, 1.5258e+04, 1.7684e+04, 3.3895e+04, 3.3019e+04,\n",
       "        5.3046e+04, 4.3827e+04, 4.5117e+04, 6.0756e+04, 4.4968e+04,\n",
       "        6.1253e+04, 4.7424e+04, 6.2888e+04, 7.6944e+04, 9.6553e+04,\n",
       "        1.2043e+04, 1.4148e+04, 2.7250e+03, 8.4000e+02, 1.2220e+03,\n",
       "        1.1350e+03, 1.9390e+03, 2.0930e+03, 3.4770e+03, 3.0580e+03,\n",
       "        4.2320e+03, 3.0320e+03, 4.1680e+03, 2.9920e+03, 3.2290e+03,\n",
       "        5.8260e+03, 5.0030e+03, 3.2730e+03, 1.9890e+03, 1.0580e+03,\n",
       "        5.0800e+02, 2.9900e+02, 1.2400e+02, 1.4700e+02, 1.0700e+02,\n",
       "        1.2900e+02, 2.4200e+02, 2.1500e+02, 3.0300e+02, 2.7000e+02,\n",
       "        4.1500e+02, 3.7000e+02, 6.1100e+02, 5.2400e+02, 1.2750e+03,\n",
       "        7.4200e+02, 2.2300e+02, 1.9500e+02, 4.3000e+01, 4.9000e+01,\n",
       "        6.1000e+01, 1.6800e+02, 1.8800e+02, 3.9500e+02, 4.1000e+02,\n",
       "        6.6500e+02, 5.1100e+02, 5.5100e+02, 8.0400e+02, 6.8100e+02,\n",
       "        9.9700e+02, 9.5000e+02, 1.5340e+03, 1.2880e+03, 1.7190e+03,\n",
       "        1.3330e+03, 1.6990e+03, 1.2080e+03, 1.2050e+03, 1.5800e+03,\n",
       "        1.1870e+03, 1.7570e+03, 2.2720e+03, 2.7380e+03, 2.0300e+02,\n",
       "        2.9100e+02, 8.0000e+00, 2.7350e+04, 5.8800e+02, 4.5585e+04]),\n",
       " array([0.03551913, 0.04496053, 0.05440194, 0.06384335, 0.07328476,\n",
       "        0.08272617, 0.09216758, 0.10160899, 0.11105039, 0.1204918 ,\n",
       "        0.12993321, 0.13937462, 0.14881603, 0.15825744, 0.16769885,\n",
       "        0.17714026, 0.18658166, 0.19602307, 0.20546448, 0.21490589,\n",
       "        0.2243473 , 0.23378871, 0.24323012, 0.25267152, 0.26211293,\n",
       "        0.27155434, 0.28099575, 0.29043716, 0.29987857, 0.30931998,\n",
       "        0.31876138, 0.32820279, 0.3376442 , 0.34708561, 0.35652702,\n",
       "        0.36596843, 0.37540984, 0.38485124, 0.39429265, 0.40373406,\n",
       "        0.41317547, 0.42261688, 0.43205829, 0.4414997 , 0.45094111,\n",
       "        0.46038251, 0.46982392, 0.47926533, 0.48870674, 0.49814815,\n",
       "        0.50758956, 0.51703097, 0.52647237, 0.53591378, 0.54535519,\n",
       "        0.5547966 , 0.56423801, 0.57367942, 0.58312083, 0.59256223,\n",
       "        0.60200364, 0.61144505, 0.62088646, 0.63032787, 0.63976928,\n",
       "        0.64921069, 0.65865209, 0.6680935 , 0.67753491, 0.68697632,\n",
       "        0.69641773, 0.70585914, 0.71530055, 0.72474196, 0.73418336,\n",
       "        0.74362477, 0.75306618, 0.76250759, 0.771949  , 0.78139041,\n",
       "        0.79083182, 0.80027322, 0.80971463, 0.81915604, 0.82859745,\n",
       "        0.83803886, 0.84748027, 0.85692168, 0.86636308, 0.87580449,\n",
       "        0.8852459 ]),\n",
       " <a list of 90 Patch objects>)"
      ]
     },
     "execution_count": 8,
     "metadata": {},
     "output_type": "execute_result"
    },
    {
     "data": {
      "image/png": "[encoded data removed]",
      "text/plain": [
       "<Figure size 432x288 with 1 Axes>"
      ]
     },
     "metadata": {
      "needs_background": "light"
     },
     "output_type": "display_data"
    }
   ],
   "source": [
    "rows_n_nans = azdias.isnull().sum(axis=1)\n",
    "plt.hist(rows_n_nans / azdias.shape[1], bins=90)"
   ]
  },
  {
   "cell_type": "code",
   "execution_count": 9,
   "metadata": {
    "ExecuteTime": {
     "end_time": "2020-03-05T15:13:12.455202Z",
     "start_time": "2020-03-05T15:13:09.163205Z"
    }
   },
   "outputs": [
    {
     "name": "stdout",
     "output_type": "stream",
     "text": [
      "Before delete the missing rows, Azdias has 891221 rows\n",
      "After delete the missing rows, Azdias has 735511 rows\n",
      "Delete 155710 rows in total\n"
     ]
    }
   ],
   "source": [
    "_, rows_droped = h.split_dataset(azdias, threshold=0.25)\n",
    "n_deleted_rows = rows_droped.shape[0]\n",
    "print(f'Before delete the missing rows, {eda_azdias} has {eda_azdias.data.shape[0]} rows')\n",
    "azdias.drop(index = rows_droped.index, inplace =True)\n",
    "print(f'After delete the missing rows, {eda_azdias} has {eda_azdias.data.shape[0]} rows')\n",
    "print(f'Delete {n_deleted_rows} rows in total')"
   ]
  },
  {
   "cell_type": "code",
   "execution_count": 10,
   "metadata": {
    "ExecuteTime": {
     "end_time": "2020-03-05T15:13:13.461202Z",
     "start_time": "2020-03-05T15:13:12.457203Z"
    }
   },
   "outputs": [
    {
     "name": "stdout",
     "output_type": "stream",
     "text": [
      "Before delete the high missing rate rows, Customers has 191652 rows\n",
      "After delete the hitg missing rate rows, Customers has 133942 rows\n",
      "Delete 57710 rows in total\n"
     ]
    }
   ],
   "source": [
    "_, rows_droped = h.split_dataset(customers, threshold=0.25)\n",
    "n_deleted_rows = rows_droped.shape[0]\n",
    "print(f'Before delete the high missing rate rows, {eda_customers} has {eda_customers.data.shape[0]} rows')\n",
    "eda_customers.data.drop(index = rows_droped.index, inplace =True)\n",
    "print(f'After delete the hitg missing rate rows, {eda_customers} has {eda_customers.data.shape[0]} rows')\n",
    "print(f'Delete {n_deleted_rows} rows in total')"
   ]
  },
  {
   "cell_type": "markdown",
   "metadata": {},
   "source": [
    "##### b. Handling missing values for columns"
   ]
  },
  {
   "cell_type": "code",
   "execution_count": 11,
   "metadata": {
    "ExecuteTime": {
     "end_time": "2020-03-05T15:13:13.667202Z",
     "start_time": "2020-03-05T15:13:13.463202Z"
    }
   },
   "outputs": [
    {
     "data": {
      "text/plain": [
       "Text(0.5, 1.0, 'Distribution of missing value per column')"
      ]
     },
     "execution_count": 11,
     "metadata": {},
     "output_type": "execute_result"
    },
    {
     "data": {
      "image/png": "[encoded data removed]",
      "text/plain": [
       "<Figure size 432x288 with 1 Axes>"
      ]
     },
     "metadata": {
      "needs_background": "light"
     },
     "output_type": "display_data"
    }
   ],
   "source": [
    "eda_azdias.feat_info.percent_of_nans.sort_values().hist(bins = 40, alpha = 0.7)\n",
    "plt.xlabel('Missing Rate ')\n",
    "plt.ylabel('Num Of Features')\n",
    "plt.title('Distribution of missing value per column')"
   ]
  },
  {
   "cell_type": "code",
   "execution_count": 12,
   "metadata": {
    "ExecuteTime": {
     "end_time": "2020-03-05T15:13:13.683202Z",
     "start_time": "2020-03-05T15:13:13.668203Z"
    }
   },
   "outputs": [
    {
     "data": {
      "text/plain": [
       "Index(['ALTER_KIND1', 'ALTER_KIND2', 'ALTER_KIND3', 'ALTER_KIND4', 'EXTSEL992',\n",
       "       'KK_KUNDENTYP'],\n",
       "      dtype='object')"
      ]
     },
     "execution_count": 12,
     "metadata": {},
     "output_type": "execute_result"
    }
   ],
   "source": [
    "thr_col_missing = 0.37\n",
    "feats_todrop_azdias = eda_azdias.feat_info.loc[eda_azdias.feat_info.percent_of_nans > thr_col_missing].index\n",
    "feats_todrop_azdias"
   ]
  },
  {
   "cell_type": "code",
   "execution_count": 13,
   "metadata": {
    "ExecuteTime": {
     "end_time": "2020-03-05T15:13:13.699247Z",
     "start_time": "2020-03-05T15:13:13.684203Z"
    }
   },
   "outputs": [
    {
     "data": {
      "text/plain": [
       "Index(['ALTER_KIND1', 'ALTER_KIND2', 'ALTER_KIND3', 'ALTER_KIND4', 'EXTSEL992',\n",
       "       'KK_KUNDENTYP'],\n",
       "      dtype='object')"
      ]
     },
     "execution_count": 13,
     "metadata": {},
     "output_type": "execute_result"
    }
   ],
   "source": [
    "feats_todrop_customers = eda_customers.feat_info.loc[eda_customers.feat_info.percent_of_nans >thr_col_missing ].index\n",
    "feats_todrop_customers"
   ]
  },
  {
   "cell_type": "code",
   "execution_count": 17,
   "metadata": {
    "ExecuteTime": {
     "end_time": "2020-03-05T15:13:42.576986Z",
     "start_time": "2020-03-05T15:13:42.562987Z"
    }
   },
   "outputs": [],
   "source": [
    "# # Get features with high missing rates in both datasets\n",
    "feats_todrop_comm = set(feats_todrop_customers).intersection(set(feats_todrop_azdias))\n",
    "feats_todrop_comm = list(feats_todrop_comm)\n",
    "# feats_todrop.extend(feats_todrop_comm)"
   ]
  },
  {
   "cell_type": "code",
   "execution_count": 24,
   "metadata": {
    "ExecuteTime": {
     "end_time": "2020-03-05T15:16:34.959868Z",
     "start_time": "2020-03-05T15:16:34.946868Z"
    }
   },
   "outputs": [
    {
     "data": {
      "text/plain": [
       "['ALTER_KIND4',\n",
       " 'ALTER_KIND2',\n",
       " 'ALTER_KIND3',\n",
       " 'ALTER_KIND1',\n",
       " 'KK_KUNDENTYP',\n",
       " 'EXTSEL992']"
      ]
     },
     "execution_count": 24,
     "metadata": {},
     "output_type": "execute_result"
    }
   ],
   "source": [
    "feats_todrop_comm"
   ]
  },
  {
   "cell_type": "code",
   "execution_count": 27,
   "metadata": {
    "ExecuteTime": {
     "end_time": "2020-03-05T15:20:49.384312Z",
     "start_time": "2020-03-05T15:20:49.371312Z"
    }
   },
   "outputs": [
    {
     "data": {
      "text/plain": [
       "'high missing values'"
      ]
     },
     "execution_count": 27,
     "metadata": {},
     "output_type": "execute_result"
    }
   ],
   "source": [
    "drop_reason_dic[1]"
   ]
  },
  {
   "cell_type": "code",
   "execution_count": 28,
   "metadata": {
    "ExecuteTime": {
     "end_time": "2020-03-05T15:20:52.990445Z",
     "start_time": "2020-03-05T15:20:52.938446Z"
    }
   },
   "outputs": [],
   "source": [
    "eda_azdias.feat_info.loc[feats_todrop_comm,'drop_reason'] = drop_reason_dic[1]"
   ]
  },
  {
   "cell_type": "code",
   "execution_count": 29,
   "metadata": {
    "ExecuteTime": {
     "end_time": "2020-03-05T15:21:08.849077Z",
     "start_time": "2020-03-05T15:21:08.813080Z"
    }
   },
   "outputs": [
    {
     "data": {
      "text/html": [
       "<div>\n",
       "<style scoped>\n",
       "    .dataframe tbody tr th:only-of-type {\n",
       "        vertical-align: middle;\n",
       "    }\n",
       "\n",
       "    .dataframe tbody tr th {\n",
       "        vertical-align: top;\n",
       "    }\n",
       "\n",
       "    .dataframe thead th {\n",
       "        text-align: right;\n",
       "    }\n",
       "</style>\n",
       "<table border=\"1\" class=\"dataframe\">\n",
       "  <thead>\n",
       "    <tr style=\"text-align: right;\">\n",
       "      <th></th>\n",
       "      <th>type</th>\n",
       "      <th>unknown</th>\n",
       "      <th>n_nans</th>\n",
       "      <th>percent_of_nans</th>\n",
       "      <th>is_drop</th>\n",
       "      <th>value_distinct</th>\n",
       "      <th>count</th>\n",
       "      <th>mean</th>\n",
       "      <th>std</th>\n",
       "      <th>min</th>\n",
       "      <th>25%</th>\n",
       "      <th>50%</th>\n",
       "      <th>75%</th>\n",
       "      <th>max</th>\n",
       "      <th>drop_reason</th>\n",
       "    </tr>\n",
       "  </thead>\n",
       "  <tbody>\n",
       "    <tr>\n",
       "      <td>AGER_TYP</td>\n",
       "      <td>categorical</td>\n",
       "      <td>[-1,0]</td>\n",
       "      <td>546202.0</td>\n",
       "      <td>0.74</td>\n",
       "      <td>0.0</td>\n",
       "      <td>4.0</td>\n",
       "      <td>189309.0</td>\n",
       "      <td>1.720499</td>\n",
       "      <td>0.676624</td>\n",
       "      <td>1.0</td>\n",
       "      <td>1.0</td>\n",
       "      <td>2.0</td>\n",
       "      <td>2.0</td>\n",
       "      <td>3.0</td>\n",
       "      <td>NaN</td>\n",
       "    </tr>\n",
       "    <tr>\n",
       "      <td>AKT_DAT_KL</td>\n",
       "      <td>ordinal</td>\n",
       "      <td>[]</td>\n",
       "      <td>0.0</td>\n",
       "      <td>0.00</td>\n",
       "      <td>1.0</td>\n",
       "      <td>9.0</td>\n",
       "      <td>735511.0</td>\n",
       "      <td>4.403075</td>\n",
       "      <td>3.642027</td>\n",
       "      <td>1.0</td>\n",
       "      <td>1.0</td>\n",
       "      <td>3.0</td>\n",
       "      <td>9.0</td>\n",
       "      <td>9.0</td>\n",
       "      <td>NaN</td>\n",
       "    </tr>\n",
       "    <tr>\n",
       "      <td>ALTERSKATEGORIE_FEIN</td>\n",
       "      <td>ordinal</td>\n",
       "      <td>[-1,0,9]</td>\n",
       "      <td>228839.0</td>\n",
       "      <td>0.31</td>\n",
       "      <td>1.0</td>\n",
       "      <td>25.0</td>\n",
       "      <td>506672.0</td>\n",
       "      <td>14.896308</td>\n",
       "      <td>3.550436</td>\n",
       "      <td>1.0</td>\n",
       "      <td>12.0</td>\n",
       "      <td>15.0</td>\n",
       "      <td>18.0</td>\n",
       "      <td>25.0</td>\n",
       "      <td>NaN</td>\n",
       "    </tr>\n",
       "    <tr>\n",
       "      <td>ALTERSKATEGORIE_GROB</td>\n",
       "      <td>ordinal</td>\n",
       "      <td>[-1,0,9]</td>\n",
       "      <td>2559.0</td>\n",
       "      <td>0.00</td>\n",
       "      <td>0.0</td>\n",
       "      <td>5.0</td>\n",
       "      <td>732952.0</td>\n",
       "      <td>2.796311</td>\n",
       "      <td>1.019304</td>\n",
       "      <td>1.0</td>\n",
       "      <td>2.0</td>\n",
       "      <td>3.0</td>\n",
       "      <td>4.0</td>\n",
       "      <td>4.0</td>\n",
       "      <td>NaN</td>\n",
       "    </tr>\n",
       "    <tr>\n",
       "      <td>ALTER_HH</td>\n",
       "      <td>ordinal</td>\n",
       "      <td>[0]</td>\n",
       "      <td>210105.0</td>\n",
       "      <td>0.29</td>\n",
       "      <td>0.0</td>\n",
       "      <td>22.0</td>\n",
       "      <td>525406.0</td>\n",
       "      <td>15.273347</td>\n",
       "      <td>3.806356</td>\n",
       "      <td>1.0</td>\n",
       "      <td>12.0</td>\n",
       "      <td>16.0</td>\n",
       "      <td>18.0</td>\n",
       "      <td>21.0</td>\n",
       "      <td>NaN</td>\n",
       "    </tr>\n",
       "    <tr>\n",
       "      <td>...</td>\n",
       "      <td>...</td>\n",
       "      <td>...</td>\n",
       "      <td>...</td>\n",
       "      <td>...</td>\n",
       "      <td>...</td>\n",
       "      <td>...</td>\n",
       "      <td>...</td>\n",
       "      <td>...</td>\n",
       "      <td>...</td>\n",
       "      <td>...</td>\n",
       "      <td>...</td>\n",
       "      <td>...</td>\n",
       "      <td>...</td>\n",
       "      <td>...</td>\n",
       "      <td>...</td>\n",
       "    </tr>\n",
       "    <tr>\n",
       "      <td>WOHNDAUER_2008</td>\n",
       "      <td>ordinal</td>\n",
       "      <td>[-1,0]</td>\n",
       "      <td>0.0</td>\n",
       "      <td>0.00</td>\n",
       "      <td>0.0</td>\n",
       "      <td>9.0</td>\n",
       "      <td>735511.0</td>\n",
       "      <td>7.966192</td>\n",
       "      <td>1.888002</td>\n",
       "      <td>1.0</td>\n",
       "      <td>8.0</td>\n",
       "      <td>9.0</td>\n",
       "      <td>9.0</td>\n",
       "      <td>9.0</td>\n",
       "      <td>NaN</td>\n",
       "    </tr>\n",
       "    <tr>\n",
       "      <td>WOHNLAGE</td>\n",
       "      <td>ordinal</td>\n",
       "      <td>[-1,0]</td>\n",
       "      <td>24.0</td>\n",
       "      <td>0.00</td>\n",
       "      <td>0.0</td>\n",
       "      <td>8.0</td>\n",
       "      <td>735487.0</td>\n",
       "      <td>4.054319</td>\n",
       "      <td>1.896735</td>\n",
       "      <td>1.0</td>\n",
       "      <td>3.0</td>\n",
       "      <td>3.0</td>\n",
       "      <td>5.0</td>\n",
       "      <td>8.0</td>\n",
       "      <td>NaN</td>\n",
       "    </tr>\n",
       "    <tr>\n",
       "      <td>W_KEIT_KIND_HH</td>\n",
       "      <td>ordinal</td>\n",
       "      <td>[-1,0]</td>\n",
       "      <td>53648.0</td>\n",
       "      <td>0.07</td>\n",
       "      <td>0.0</td>\n",
       "      <td>7.0</td>\n",
       "      <td>681863.0</td>\n",
       "      <td>4.184568</td>\n",
       "      <td>1.766795</td>\n",
       "      <td>1.0</td>\n",
       "      <td>3.0</td>\n",
       "      <td>4.0</td>\n",
       "      <td>6.0</td>\n",
       "      <td>6.0</td>\n",
       "      <td>NaN</td>\n",
       "    </tr>\n",
       "    <tr>\n",
       "      <td>ZABEOTYP</td>\n",
       "      <td>categorical</td>\n",
       "      <td>[-1,9]</td>\n",
       "      <td>0.0</td>\n",
       "      <td>0.00</td>\n",
       "      <td>0.0</td>\n",
       "      <td>6.0</td>\n",
       "      <td>735511.0</td>\n",
       "      <td>3.392520</td>\n",
       "      <td>1.407473</td>\n",
       "      <td>1.0</td>\n",
       "      <td>3.0</td>\n",
       "      <td>3.0</td>\n",
       "      <td>4.0</td>\n",
       "      <td>6.0</td>\n",
       "      <td>NaN</td>\n",
       "    </tr>\n",
       "    <tr>\n",
       "      <td>feat</td>\n",
       "      <td>type</td>\n",
       "      <td>unknow</td>\n",
       "      <td>NaN</td>\n",
       "      <td>NaN</td>\n",
       "      <td>is_drop</td>\n",
       "      <td>NaN</td>\n",
       "      <td>NaN</td>\n",
       "      <td>NaN</td>\n",
       "      <td>NaN</td>\n",
       "      <td>NaN</td>\n",
       "      <td>NaN</td>\n",
       "      <td>NaN</td>\n",
       "      <td>NaN</td>\n",
       "      <td>NaN</td>\n",
       "      <td>NaN</td>\n",
       "    </tr>\n",
       "  </tbody>\n",
       "</table>\n",
       "<p>367 rows × 15 columns</p>\n",
       "</div>"
      ],
      "text/plain": [
       "                             type   unknown    n_nans  percent_of_nans  \\\n",
       "AGER_TYP              categorical    [-1,0]  546202.0             0.74   \n",
       "AKT_DAT_KL                ordinal        []       0.0             0.00   \n",
       "ALTERSKATEGORIE_FEIN      ordinal  [-1,0,9]  228839.0             0.31   \n",
       "ALTERSKATEGORIE_GROB      ordinal  [-1,0,9]    2559.0             0.00   \n",
       "ALTER_HH                  ordinal       [0]  210105.0             0.29   \n",
       "...                           ...       ...       ...              ...   \n",
       "WOHNDAUER_2008            ordinal    [-1,0]       0.0             0.00   \n",
       "WOHNLAGE                  ordinal    [-1,0]      24.0             0.00   \n",
       "W_KEIT_KIND_HH            ordinal    [-1,0]   53648.0             0.07   \n",
       "ZABEOTYP              categorical    [-1,9]       0.0             0.00   \n",
       "feat                         type    unknow       NaN              NaN   \n",
       "\n",
       "                      is_drop  value_distinct     count       mean       std  \\\n",
       "AGER_TYP                  0.0             4.0  189309.0   1.720499  0.676624   \n",
       "AKT_DAT_KL                1.0             9.0  735511.0   4.403075  3.642027   \n",
       "ALTERSKATEGORIE_FEIN      1.0            25.0  506672.0  14.896308  3.550436   \n",
       "ALTERSKATEGORIE_GROB      0.0             5.0  732952.0   2.796311  1.019304   \n",
       "ALTER_HH                  0.0            22.0  525406.0  15.273347  3.806356   \n",
       "...                       ...             ...       ...        ...       ...   \n",
       "WOHNDAUER_2008            0.0             9.0  735511.0   7.966192  1.888002   \n",
       "WOHNLAGE                  0.0             8.0  735487.0   4.054319  1.896735   \n",
       "W_KEIT_KIND_HH            0.0             7.0  681863.0   4.184568  1.766795   \n",
       "ZABEOTYP                  0.0             6.0  735511.0   3.392520  1.407473   \n",
       "feat                  is_drop             NaN       NaN        NaN       NaN   \n",
       "\n",
       "                      min   25%   50%   75%   max drop_reason  \n",
       "AGER_TYP              1.0   1.0   2.0   2.0   3.0         NaN  \n",
       "AKT_DAT_KL            1.0   1.0   3.0   9.0   9.0         NaN  \n",
       "ALTERSKATEGORIE_FEIN  1.0  12.0  15.0  18.0  25.0         NaN  \n",
       "ALTERSKATEGORIE_GROB  1.0   2.0   3.0   4.0   4.0         NaN  \n",
       "ALTER_HH              1.0  12.0  16.0  18.0  21.0         NaN  \n",
       "...                   ...   ...   ...   ...   ...         ...  \n",
       "WOHNDAUER_2008        1.0   8.0   9.0   9.0   9.0         NaN  \n",
       "WOHNLAGE              1.0   3.0   3.0   5.0   8.0         NaN  \n",
       "W_KEIT_KIND_HH        1.0   3.0   4.0   6.0   6.0         NaN  \n",
       "ZABEOTYP              1.0   3.0   3.0   4.0   6.0         NaN  \n",
       "feat                  NaN   NaN   NaN   NaN   NaN         NaN  \n",
       "\n",
       "[367 rows x 15 columns]"
      ]
     },
     "execution_count": 29,
     "metadata": {},
     "output_type": "execute_result"
    }
   ],
   "source": [
    "eda_azdias.feat_info"
   ]
  },
  {
   "cell_type": "code",
   "execution_count": 18,
   "metadata": {
    "ExecuteTime": {
     "end_time": "2020-03-05T15:13:50.755985Z",
     "start_time": "2020-03-05T15:13:45.500986Z"
    }
   },
   "outputs": [
    {
     "name": "stdout",
     "output_type": "stream",
     "text": [
      "Before delete the high missing rate features/columns, Azdias has 366 features.\n",
      "After delete the high missing rate features/columns, Azdias has 360 features.\n",
      "\n",
      "Before delete the high missing rate features/columns, Customers has 369 features.\n",
      "After delete the high missing rate features/columns, Customers has 363 features.\n",
      "\n",
      "Delete 6 features in total\n"
     ]
    }
   ],
   "source": [
    "print(f'Before delete the high missing rate features/columns, {eda_azdias} has {eda_azdias.data.shape[1]} features.')\n",
    "for x in feats_todrop_comm:\n",
    "    if x in azdias.columns:        \n",
    "        azdias.drop(columns=x, inplace=True)\n",
    "print(f'After delete the high missing rate features/columns, {eda_azdias} has {eda_azdias.data.shape[1]} features.')\n",
    "\n",
    "print()\n",
    "\n",
    "print(f'Before delete the high missing rate features/columns, {eda_customers} has {eda_customers.data.shape[1]} features.')\n",
    "for x in feats_todrop_comm:\n",
    "    if x in customers.columns:        \n",
    "        customers.drop(columns=x, inplace=True)\n",
    "\n",
    "print(f'After delete the high missing rate features/columns, {eda_customers} has {eda_customers.data.shape[1]} features.')\n",
    "\n",
    "print()\n",
    "print(f'Delete {len(feats_todrop_comm)} features in total')"
   ]
  },
  {
   "cell_type": "code",
   "execution_count": 23,
   "metadata": {
    "ExecuteTime": {
     "end_time": "2020-03-05T15:15:35.019950Z",
     "start_time": "2020-03-05T15:15:35.011952Z"
    }
   },
   "outputs": [],
   "source": [
    "# eda_azdias.update_stats()\n",
    "# eda_azdias.feat_info.loc[eda_azdias.feat_info.value_distinct  > 30]\n",
    "# eda_azdias.feat_info.loc[eda_azdias.feat_info.value_distinct  < 3]"
   ]
  },
  {
   "cell_type": "code",
   "execution_count": 22,
   "metadata": {
    "ExecuteTime": {
     "end_time": "2020-03-05T15:14:48.274574Z",
     "start_time": "2020-03-05T15:14:48.222575Z"
    }
   },
   "outputs": [
    {
     "data": {
      "text/html": [
       "<div>\n",
       "<style scoped>\n",
       "    .dataframe tbody tr th:only-of-type {\n",
       "        vertical-align: middle;\n",
       "    }\n",
       "\n",
       "    .dataframe tbody tr th {\n",
       "        vertical-align: top;\n",
       "    }\n",
       "\n",
       "    .dataframe thead th {\n",
       "        text-align: right;\n",
       "    }\n",
       "</style>\n",
       "<table border=\"1\" class=\"dataframe\">\n",
       "  <thead>\n",
       "    <tr style=\"text-align: right;\">\n",
       "      <th></th>\n",
       "      <th>type</th>\n",
       "      <th>unknown</th>\n",
       "      <th>n_nans</th>\n",
       "      <th>percent_of_nans</th>\n",
       "      <th>is_drop</th>\n",
       "      <th>value_distinct</th>\n",
       "      <th>count</th>\n",
       "      <th>mean</th>\n",
       "      <th>std</th>\n",
       "      <th>min</th>\n",
       "      <th>25%</th>\n",
       "      <th>50%</th>\n",
       "      <th>75%</th>\n",
       "      <th>max</th>\n",
       "    </tr>\n",
       "  </thead>\n",
       "  <tbody>\n",
       "    <tr>\n",
       "      <td>CAMEO_DEUG_2015</td>\n",
       "      <td>mixed</td>\n",
       "      <td>['-1','X']</td>\n",
       "      <td>3233.0</td>\n",
       "      <td>0.00</td>\n",
       "      <td>0.0</td>\n",
       "      <td>19.0</td>\n",
       "      <td>NaN</td>\n",
       "      <td>NaN</td>\n",
       "      <td>NaN</td>\n",
       "      <td>NaN</td>\n",
       "      <td>NaN</td>\n",
       "      <td>NaN</td>\n",
       "      <td>NaN</td>\n",
       "      <td>NaN</td>\n",
       "    </tr>\n",
       "    <tr>\n",
       "      <td>CAMEO_DEU_2015</td>\n",
       "      <td>mixed</td>\n",
       "      <td>['XX']</td>\n",
       "      <td>3233.0</td>\n",
       "      <td>0.00</td>\n",
       "      <td>1.0</td>\n",
       "      <td>45.0</td>\n",
       "      <td>NaN</td>\n",
       "      <td>NaN</td>\n",
       "      <td>NaN</td>\n",
       "      <td>NaN</td>\n",
       "      <td>NaN</td>\n",
       "      <td>NaN</td>\n",
       "      <td>NaN</td>\n",
       "      <td>NaN</td>\n",
       "    </tr>\n",
       "    <tr>\n",
       "      <td>CAMEO_INTL_2015</td>\n",
       "      <td>mixed</td>\n",
       "      <td>['-1','XX']</td>\n",
       "      <td>3233.0</td>\n",
       "      <td>0.00</td>\n",
       "      <td>0.0</td>\n",
       "      <td>43.0</td>\n",
       "      <td>NaN</td>\n",
       "      <td>NaN</td>\n",
       "      <td>NaN</td>\n",
       "      <td>NaN</td>\n",
       "      <td>NaN</td>\n",
       "      <td>NaN</td>\n",
       "      <td>NaN</td>\n",
       "      <td>NaN</td>\n",
       "    </tr>\n",
       "    <tr>\n",
       "      <td>LP_LEBENSPHASE_FEIN</td>\n",
       "      <td>mixed</td>\n",
       "      <td>[0]</td>\n",
       "      <td>44166.0</td>\n",
       "      <td>0.06</td>\n",
       "      <td>1.0</td>\n",
       "      <td>41.0</td>\n",
       "      <td>691345.0</td>\n",
       "      <td>16.312586</td>\n",
       "      <td>12.296650</td>\n",
       "      <td>1.0</td>\n",
       "      <td>5.0</td>\n",
       "      <td>13.0</td>\n",
       "      <td>29.0</td>\n",
       "      <td>40.0</td>\n",
       "    </tr>\n",
       "    <tr>\n",
       "      <td>LP_LEBENSPHASE_GROB</td>\n",
       "      <td>mixed</td>\n",
       "      <td>[0]</td>\n",
       "      <td>41594.0</td>\n",
       "      <td>0.06</td>\n",
       "      <td>0.0</td>\n",
       "      <td>13.0</td>\n",
       "      <td>693917.0</td>\n",
       "      <td>4.952496</td>\n",
       "      <td>3.765767</td>\n",
       "      <td>1.0</td>\n",
       "      <td>2.0</td>\n",
       "      <td>3.0</td>\n",
       "      <td>9.0</td>\n",
       "      <td>12.0</td>\n",
       "    </tr>\n",
       "    <tr>\n",
       "      <td>PRAEGENDE_JUGENDJAHRE</td>\n",
       "      <td>mixed</td>\n",
       "      <td>[-1,0]</td>\n",
       "      <td>20518.0</td>\n",
       "      <td>0.03</td>\n",
       "      <td>0.0</td>\n",
       "      <td>16.0</td>\n",
       "      <td>714993.0</td>\n",
       "      <td>9.225774</td>\n",
       "      <td>4.030352</td>\n",
       "      <td>1.0</td>\n",
       "      <td>6.0</td>\n",
       "      <td>9.0</td>\n",
       "      <td>14.0</td>\n",
       "      <td>15.0</td>\n",
       "    </tr>\n",
       "  </tbody>\n",
       "</table>\n",
       "</div>"
      ],
      "text/plain": [
       "                        type      unknown   n_nans  percent_of_nans is_drop  \\\n",
       "CAMEO_DEUG_2015        mixed   ['-1','X']   3233.0             0.00     0.0   \n",
       "CAMEO_DEU_2015         mixed       ['XX']   3233.0             0.00     1.0   \n",
       "CAMEO_INTL_2015        mixed  ['-1','XX']   3233.0             0.00     0.0   \n",
       "LP_LEBENSPHASE_FEIN    mixed          [0]  44166.0             0.06     1.0   \n",
       "LP_LEBENSPHASE_GROB    mixed          [0]  41594.0             0.06     0.0   \n",
       "PRAEGENDE_JUGENDJAHRE  mixed       [-1,0]  20518.0             0.03     0.0   \n",
       "\n",
       "                       value_distinct     count       mean        std  min  \\\n",
       "CAMEO_DEUG_2015                  19.0       NaN        NaN        NaN  NaN   \n",
       "CAMEO_DEU_2015                   45.0       NaN        NaN        NaN  NaN   \n",
       "CAMEO_INTL_2015                  43.0       NaN        NaN        NaN  NaN   \n",
       "LP_LEBENSPHASE_FEIN              41.0  691345.0  16.312586  12.296650  1.0   \n",
       "LP_LEBENSPHASE_GROB              13.0  693917.0   4.952496   3.765767  1.0   \n",
       "PRAEGENDE_JUGENDJAHRE            16.0  714993.0   9.225774   4.030352  1.0   \n",
       "\n",
       "                       25%   50%   75%   max  \n",
       "CAMEO_DEUG_2015        NaN   NaN   NaN   NaN  \n",
       "CAMEO_DEU_2015         NaN   NaN   NaN   NaN  \n",
       "CAMEO_INTL_2015        NaN   NaN   NaN   NaN  \n",
       "LP_LEBENSPHASE_FEIN    5.0  13.0  29.0  40.0  \n",
       "LP_LEBENSPHASE_GROB    2.0   3.0   9.0  12.0  \n",
       "PRAEGENDE_JUGENDJAHRE  6.0   9.0  14.0  15.0  "
      ]
     },
     "execution_count": 22,
     "metadata": {},
     "output_type": "execute_result"
    }
   ],
   "source": [
    "eda_azdias.feat_info.loc[eda_azdias.feat_info.type=='mixed']"
   ]
  },
  {
   "cell_type": "markdown",
   "metadata": {},
   "source": [
    "### Feature Selection"
   ]
  },
  {
   "cell_type": "markdown",
   "metadata": {},
   "source": [
    "####  Step 5: Remove duplicate features"
   ]
  },
  {
   "cell_type": "code",
   "execution_count": null,
   "metadata": {
    "ExecuteTime": {
     "end_time": "2020-03-03T22:47:57.523731Z",
     "start_time": "2020-03-03T22:47:54.788731Z"
    }
   },
   "outputs": [],
   "source": [
    "feats_fein =[x for x in eda_azdias.data.columns if x.endswith( '_FEIN')]\n",
    "feats_grob = [x for x in eda_azdias.data.columns if x.endswith( '_GROB')]\n",
    "feats_duplicate = [x for x in zip(pd.Series(feats_grob).sort_values(), pd.Series(feats_fein).sort_values())]\n",
    "h.plot_2feats_comparison(eda_azdias.data, feats_duplicate)   "
   ]
  },
  {
   "cell_type": "markdown",
   "metadata": {},
   "source": [
    "Both features on the same line have the same meaning. Features with a suffix of _GROB on the left represent coarse-grained information, and _FEIN represents fine-grained features. I decided to delete these duplicate features, 'ALTERSKATEGORIE_FEIN', 'LP_FAMILIE_GROB', 'LP_LEBENSPHASE_FEIN', 'LP_STATUS_GROB', 'CAMEO_DEU_2015'. Because some of them are undefined, or  use the corresponding _GROB feature is enough."
   ]
  },
  {
   "cell_type": "code",
   "execution_count": null,
   "metadata": {
    "ExecuteTime": {
     "end_time": "2020-03-03T22:47:58.283731Z",
     "start_time": "2020-03-03T22:47:57.545733Z"
    }
   },
   "outputs": [],
   "source": [
    "#  ANZ_STATISTISCHE_HAUSHALTE, ANZ_HAUSHALTE_AKTIV :  number of households in the building\n",
    "#  Delete ANZ_STATISTISCHE_HAUSHALTE, because they are duplicated.\n",
    "\n",
    "feats_HAUSHALTE = ['ANZ_STATISTISCHE_HAUSHALTE', 'ANZ_HAUSHALTE_AKTIV']\n",
    "h.plot_boxplot(eda_azdias.data, feats_HAUSHALTE, n_cols =2,  figsize = (16, 4))     "
   ]
  },
  {
   "cell_type": "markdown",
   "metadata": {},
   "source": [
    "####  Step 4. Feature Selection by Data Comparison:  Customers vs. Azdias"
   ]
  },
  {
   "cell_type": "code",
   "execution_count": null,
   "metadata": {
    "ExecuteTime": {
     "end_time": "2020-03-05T15:01:14.489427Z",
     "start_time": "2020-03-05T15:01:14.463425Z"
    }
   },
   "outputs": [],
   "source": [
    "eda_azdias.feat_info"
   ]
  },
  {
   "cell_type": "code",
   "execution_count": null,
   "metadata": {
    "ExecuteTime": {
     "end_time": "2020-03-05T15:00:59.799959Z",
     "start_time": "2020-03-05T15:00:59.731961Z"
    }
   },
   "outputs": [],
   "source": [
    "eda_azdias.feat_info.loc[eda_azdias.feat_info.is_drop == 1]"
   ]
  },
  {
   "cell_type": "markdown",
   "metadata": {},
   "source": [
    "### Feature engineering"
   ]
  },
  {
   "cell_type": "markdown",
   "metadata": {},
   "source": [
    "#### Step 6: Re-encodings features"
   ]
  },
  {
   "cell_type": "markdown",
   "metadata": {},
   "source": [
    "-  'CAMEO_DEUG_2015' \n",
    "- 'CAMEO_INTL_2015' :“New German CAMEO Typology established together with Call Credit in late 2015”.\n",
    " - 'EINGEFUEGT_AM',  \n",
    " -'OST_WEST_KZ' "
   ]
  },
  {
   "cell_type": "code",
   "execution_count": null,
   "metadata": {
    "ExecuteTime": {
     "end_time": "2020-03-03T22:47:58.853731Z",
     "start_time": "2020-03-03T22:47:58.624732Z"
    }
   },
   "outputs": [],
   "source": [
    "encoding = [\n",
    "                  'OST_WEST_KZ',\n",
    "                  'CAMEO_DEUG_2015',\n",
    "                  'CAMEO_INTL_2015',\n",
    "                  'EINGEFUEGT_AM',\n",
    "#                   'D19_LETZTER_KAUF_BRANCHE',    \n",
    "]\n",
    "\n",
    "h.check_features(eda_azdias, encoding)     \n",
    "for x in encoding:\n",
    "     print(x, eda_azdias.data[x].unique())"
   ]
  },
  {
   "cell_type": "code",
   "execution_count": null,
   "metadata": {
    "ExecuteTime": {
     "end_time": "2020-03-03T22:48:02.878731Z",
     "start_time": "2020-03-03T22:47:58.856732Z"
    }
   },
   "outputs": [],
   "source": [
    "# feats_encoding = ['OST_WEST_KZ','CAMEO_DEUG_2015','CAMEO_INTL_2015','EINGEFUEGT_AM', 'D19_LETZTER_KAUF_BRANCHE']\n",
    "feats_encoding = ['OST_WEST_KZ','CAMEO_DEUG_2015','CAMEO_INTL_2015','EINGEFUEGT_AM']\n",
    "\n",
    "for x in feats_encoding:\n",
    "    eda_azdias.re_encoding(x)\n",
    "    eda_customers.re_encoding(x)        "
   ]
  },
  {
   "cell_type": "markdown",
   "metadata": {
    "ExecuteTime": {
     "end_time": "2020-02-29T07:38:48.175159Z",
     "start_time": "2020-02-29T07:38:48.168158Z"
    }
   },
   "source": [
    "####  Step 7. Split Mixed Features"
   ]
  },
  {
   "cell_type": "code",
   "execution_count": null,
   "metadata": {
    "ExecuteTime": {
     "end_time": "2020-03-03T22:48:02.909732Z",
     "start_time": "2020-03-03T22:48:02.882731Z"
    }
   },
   "outputs": [],
   "source": [
    "mixed = eda_azdias.feat_info[ eda_azdias.feat_info['type'] == 'mixed']\n",
    "mixed"
   ]
  },
  {
   "cell_type": "code",
   "execution_count": null,
   "metadata": {
    "ExecuteTime": {
     "end_time": "2020-03-03T22:48:10.117730Z",
     "start_time": "2020-03-03T22:48:02.914732Z"
    }
   },
   "outputs": [],
   "source": [
    "mixed_feats = ['CAMEO_INTL_2015', 'LP_LEBENSPHASE_GROB', 'PRAEGENDE_JUGENDJAHRE']\n",
    "for x in mixed_feats:\n",
    "    eda_azdias.process_mixed_feat(x)\n",
    "    eda_customers.process_mixed_feat(x)    "
   ]
  },
  {
   "cell_type": "code",
   "execution_count": null,
   "metadata": {
    "ExecuteTime": {
     "end_time": "2020-03-03T22:48:10.165734Z",
     "start_time": "2020-03-03T22:48:10.121732Z"
    }
   },
   "outputs": [],
   "source": [
    "feats_splited = ['CAMEO_INTL_2015_SPLIT_WEALTH', 'CAMEO_INTL_2015_SPLIT_LIFE_STAGE','LP_LEBENSPHASE_GROB_SPLIT_FAMILY','LP_LEBENSPHASE_GROB_SPLIT_AGE','LP_LEBENSPHASE_GROB_SPLIT_INCOME','PRAEGENDE_JUGENDJAHRE_SPLIT_DECADE','PRAEGENDE_JUGENDJAHRE_SPLIT_MOVEMENT']\n",
    "eda_azdias.data[feats_splited]"
   ]
  },
  {
   "cell_type": "code",
   "execution_count": null,
   "metadata": {
    "ExecuteTime": {
     "end_time": "2020-03-03T22:48:10.559731Z",
     "start_time": "2020-03-03T22:48:10.170733Z"
    }
   },
   "outputs": [],
   "source": [
    "feat_info_split = eda_azdias.build_split_feat_info(feats_splited)\n",
    "eda_azdias.feat_info= pd.concat([eda_azdias.feat_info, feat_info_split], sort = False)\n",
    "\n",
    "feat_info_split = eda_customers.build_split_feat_info(feats_splited)\n",
    "eda_customers.feat_info= pd.concat([eda_customers.feat_info, feat_info_split], sort = False)\n",
    "eda_azdias.feat_info.loc[feats_splited]"
   ]
  },
  {
   "cell_type": "code",
   "execution_count": null,
   "metadata": {
    "ExecuteTime": {
     "end_time": "2020-03-03T22:48:15.353731Z",
     "start_time": "2020-03-03T22:48:10.563732Z"
    }
   },
   "outputs": [],
   "source": [
    "eda_azdias.update_stats()\n",
    "eda_customers.update_stats()"
   ]
  },
  {
   "cell_type": "markdown",
   "metadata": {},
   "source": [
    "#### Step 8.  Cleaning outliers"
   ]
  },
  {
   "cell_type": "markdown",
   "metadata": {},
   "source": [
    "#####  a. Analysis outliers for  numeric features"
   ]
  },
  {
   "cell_type": "code",
   "execution_count": null,
   "metadata": {
    "ExecuteTime": {
     "end_time": "2020-03-03T22:48:15.385731Z",
     "start_time": "2020-03-03T22:48:15.356731Z"
    }
   },
   "outputs": [],
   "source": [
    "eda_azdias.feat_info.loc[eda_azdias.feat_info.type == 'numeric']"
   ]
  },
  {
   "cell_type": "code",
   "execution_count": null,
   "metadata": {
    "ExecuteTime": {
     "end_time": "2020-03-03T22:48:15.417732Z",
     "start_time": "2020-03-03T22:48:15.389732Z"
    }
   },
   "outputs": [],
   "source": [
    "eda_azdias.feat_info[eda_azdias.feat_info['count'] > 100]"
   ]
  },
  {
   "cell_type": "code",
   "execution_count": null,
   "metadata": {
    "ExecuteTime": {
     "end_time": "2020-03-03T22:48:15.433731Z",
     "start_time": "2020-03-03T22:48:15.421732Z"
    }
   },
   "outputs": [],
   "source": [
    "# Delete  'KBA13_ANZAHL_PKW'  and ' ANZ_HAUSHALTE_AKTIV'  , Because they have 221 and 1245 unique values, respectively, it is not good for subsequent cluster comparisons\n",
    "feats_todrop.extend(['KBA13_ANZAHL_PKW','ANZ_HAUSHALTE_AKTIV', 'ANZ_PERSONEN'])"
   ]
  },
  {
   "cell_type": "code",
   "execution_count": null,
   "metadata": {
    "ExecuteTime": {
     "end_time": "2020-03-03T22:48:16.466733Z",
     "start_time": "2020-03-03T22:48:15.437732Z"
    }
   },
   "outputs": [],
   "source": [
    "numeric_outlier_feats = ['MIN_GEBAEUDEJAHR' , 'EINGEZOGENAM_HH_JAHR']\n",
    "h.plot_boxplot(eda_azdias.data, numeric_outlier_feats, n_cols=2,  figsize = (16, 4))"
   ]
  },
  {
   "cell_type": "code",
   "execution_count": null,
   "metadata": {
    "ExecuteTime": {
     "end_time": "2020-03-03T22:48:16.481736Z",
     "start_time": "2020-03-03T22:48:16.470735Z"
    }
   },
   "outputs": [],
   "source": [
    "eda_azdias.feat_info['25%']"
   ]
  },
  {
   "cell_type": "code",
   "execution_count": null,
   "metadata": {
    "ExecuteTime": {
     "end_time": "2020-03-03T22:48:18.602732Z",
     "start_time": "2020-03-03T22:48:16.487735Z"
    }
   },
   "outputs": [],
   "source": [
    "eda_azdias.clean_outlier(numeric_outlier_feats)\n",
    "h.plot_boxplot(eda_azdias.data, numeric_outlier_feats, n_cols=2,  figsize = (16, 4))"
   ]
  },
  {
   "cell_type": "code",
   "execution_count": null,
   "metadata": {
    "ExecuteTime": {
     "end_time": "2020-03-03T22:48:18.918732Z",
     "start_time": "2020-03-03T22:48:18.606731Z"
    }
   },
   "outputs": [],
   "source": [
    "h.plot_boxplot(eda_customers.data, numeric_outlier_feats, n_cols=2,  figsize = (16, 4))     "
   ]
  },
  {
   "cell_type": "markdown",
   "metadata": {},
   "source": [
    "#####  a. Analysis outliers for  categorical features"
   ]
  },
  {
   "cell_type": "code",
   "execution_count": null,
   "metadata": {
    "ExecuteTime": {
     "end_time": "2020-03-03T22:48:18.950732Z",
     "start_time": "2020-03-03T22:48:18.921732Z"
    }
   },
   "outputs": [],
   "source": [
    "eda_azdias.feat_info.loc[eda_azdias.feat_info.type == 'categorical']"
   ]
  },
  {
   "cell_type": "code",
   "execution_count": null,
   "metadata": {
    "ExecuteTime": {
     "end_time": "2020-03-03T22:48:19.442731Z",
     "start_time": "2020-03-03T22:48:18.955733Z"
    }
   },
   "outputs": [],
   "source": [
    "h.check_features(eda_azdias, 'categorical')      "
   ]
  },
  {
   "cell_type": "code",
   "execution_count": null,
   "metadata": {
    "ExecuteTime": {
     "end_time": "2020-03-03T22:48:19.774731Z",
     "start_time": "2020-03-03T22:48:19.446732Z"
    }
   },
   "outputs": [],
   "source": [
    "cat_outlier_feats  = ['D19_KONSUMTYP', 'EINGEZOGENAM_HH_JAHR']\n",
    "h.plot_boxplot(eda_azdias.data, cat_outlier_feats, n_cols=2 ,  figsize = (16, 4))     "
   ]
  },
  {
   "cell_type": "code",
   "execution_count": null,
   "metadata": {
    "ExecuteTime": {
     "end_time": "2020-03-03T22:48:19.789733Z",
     "start_time": "2020-03-03T22:48:19.777731Z"
    }
   },
   "outputs": [],
   "source": [
    "# eda_azdias.clean_outlier(numeric_outlier_feats)\n",
    "# h.plot_boxplot(eda_azdias.data, cat_outlier_feats, n_cols=2 ,  figsize = (16, 4))     "
   ]
  },
  {
   "cell_type": "markdown",
   "metadata": {},
   "source": [
    "##  Step  8:  Impute missing value"
   ]
  },
  {
   "cell_type": "code",
   "execution_count": null,
   "metadata": {
    "ExecuteTime": {
     "end_time": "2020-03-03T22:48:19.852731Z",
     "start_time": "2020-03-03T22:48:19.792731Z"
    }
   },
   "outputs": [],
   "source": [
    "# Save the droped  features into a file.\n",
    "# for x in (feats_todrop_comm, feats_duplicated, feats_wo_def, feats_D19, feats_KBA05, feats_KBA13):\n",
    "#     feats_todrop.extend(x)\n",
    "# for c in feats_todrop:\n",
    "#     if c in eda_azdias.data.columns:\n",
    "#         eda_azdias.data.drop(columns = c, inplace = True)     \n",
    "        \n",
    "#     if c in eda_customers.data.columns:\n",
    "#         eda_customers.data.drop(columns = c, inplace = True)             \n",
    "    \n",
    "pd.Series(feats_todrop).sort_values().to_csv('feats_dropped.csv', index=False)"
   ]
  },
  {
   "cell_type": "code",
   "execution_count": null,
   "metadata": {
    "ExecuteTime": {
     "end_time": "2020-03-03T22:48:32.672731Z",
     "start_time": "2020-03-03T22:48:19.856731Z"
    }
   },
   "outputs": [],
   "source": [
    "imputer = Imputer(strategy='median')\n",
    "eda_azdias.data_imputed = pd.DataFrame(imputer.fit_transform(eda_azdias.data))\n",
    "eda_customers.data_imputed = pd.DataFrame(imputer.fit_transform(eda_customers.data))"
   ]
  },
  {
   "cell_type": "markdown",
   "metadata": {},
   "source": [
    "####  Step  9:   Feature  Scaling"
   ]
  },
  {
   "cell_type": "code",
   "execution_count": null,
   "metadata": {
    "ExecuteTime": {
     "end_time": "2020-03-03T22:48:35.895732Z",
     "start_time": "2020-03-03T22:48:32.675732Z"
    }
   },
   "outputs": [],
   "source": [
    "eda_azdias.data_scaled = StandardScaler().fit_transform(eda_azdias.data_imputed)    \n",
    "eda_customers.data_scaled = pd.DataFrame(StandardScaler().fit_transform(eda_customers.data_imputed) , columns=eda_customers.data.columns)"
   ]
  },
  {
   "cell_type": "markdown",
   "metadata": {},
   "source": [
    "## Part 1: Customer Segmentation Report\n",
    "\n",
    "The main bulk of your analysis will come in this part of the project. Here, you should use unsupervised learning techniques to describe the relationship between the demographics of the company's existing customers and the general population of Germany. By the end of this part, you should be able to describe parts of the general population that are more likely to be part of the mail-order company's main customer base, and which parts of the general population are less so."
   ]
  },
  {
   "cell_type": "markdown",
   "metadata": {},
   "source": [
    "### Principal component analysis (PCA)"
   ]
  },
  {
   "cell_type": "code",
   "execution_count": null,
   "metadata": {
    "ExecuteTime": {
     "end_time": "2020-03-03T22:48:57.068732Z",
     "start_time": "2020-03-03T22:48:35.901734Z"
    }
   },
   "outputs": [],
   "source": [
    "h.do_pca(eda_azdias, 100)\n",
    "\n",
    "print(f'total explained_variance:  {eda_azdias.pca.explained_variance_ratio_.sum()}')\n",
    "# print('explained_variance_ratio: ', pca.explained_variance_ratio_)\n",
    "# print('explained_variance: ', pca.explained_variance_)\n",
    "print('n_components: ', eda_azdias.pca.n_components_)\n",
    "\n",
    "h.scree_plot(eda_azdias)"
   ]
  },
  {
   "cell_type": "code",
   "execution_count": null,
   "metadata": {
    "ExecuteTime": {
     "end_time": "2020-03-03T22:59:52.457724Z",
     "start_time": "2020-03-03T22:59:48.246722Z"
    }
   },
   "outputs": [],
   "source": [
    "h.do_pca(eda_customers, 100)\n",
    "\n",
    "print(f'total explained_variance:  {eda_customers.pca.explained_variance_ratio_.sum()}')\n",
    "# print('explained_variance_ratio: ', pca.explained_variance_ratio_)\n",
    "# print('explained_variance: ', pca.explained_variance_)\n",
    "print('n_components: ', eda_customers.pca.n_components_)\n",
    "\n",
    "h.scree_plot(eda_customers)"
   ]
  },
  {
   "cell_type": "markdown",
   "metadata": {},
   "source": [
    "### Clustering with KMean"
   ]
  },
  {
   "cell_type": "code",
   "execution_count": null,
   "metadata": {
    "ExecuteTime": {
     "end_time": "2020-03-03T23:00:16.710723Z",
     "start_time": "2020-03-03T22:59:52.460726Z"
    }
   },
   "outputs": [],
   "source": [
    "h.do_pca(eda_azdias, 100)\n",
    "h.do_pca(eda_customers, 100)"
   ]
  },
  {
   "cell_type": "code",
   "execution_count": null,
   "metadata": {
    "ExecuteTime": {
     "end_time": "2020-03-03T23:14:43.613725Z",
     "start_time": "2020-03-03T23:00:16.714725Z"
    }
   },
   "outputs": [],
   "source": [
    "scores = []\n",
    "centers = list(range(1,21))\n",
    "\n",
    "for center in centers:\n",
    "    _, score = h.get_kmeans_score(eda_customers.X_pca, center)\n",
    "    scores.append(score)\n",
    "    \n",
    "plt.plot(centers, scores, linestyle='--', marker='o', color='b')\n",
    "plt.xlabel('K')\n",
    "plt.ylabel('SSE')\n",
    "plt.title('SSE vs. K')"
   ]
  },
  {
   "cell_type": "markdown",
   "metadata": {
    "ExecuteTime": {
     "end_time": "2020-02-29T12:44:57.675678Z",
     "start_time": "2020-02-29T12:33:07.193Z"
    }
   },
   "source": [
    "####  Clustering Comparison  Azdias vs Customers "
   ]
  },
  {
   "cell_type": "code",
   "execution_count": null,
   "metadata": {
    "ExecuteTime": {
     "end_time": "2020-03-03T23:19:28.357721Z",
     "start_time": "2020-03-03T23:14:43.618723Z"
    }
   },
   "outputs": [],
   "source": [
    "model_c, score = h.get_kmeans_score(eda_customers.X_pca, 10)\n",
    "print(score)\n",
    "model_a, score = h.get_kmeans_score(eda_azdias.X_pca, 10)\n",
    "print(score)"
   ]
  },
  {
   "cell_type": "code",
   "execution_count": null,
   "metadata": {
    "ExecuteTime": {
     "end_time": "2020-03-03T23:19:29.537722Z",
     "start_time": "2020-03-03T23:19:28.359726Z"
    }
   },
   "outputs": [],
   "source": [
    "preds_c = model_c.predict(eda_customers.X_pca)\n",
    "preds_a = model_a.predict(eda_azdias.X_pca)\n",
    "\n",
    "counts_c, counts_a = h.plot_cluster_comparison(preds_c, preds_a)"
   ]
  },
  {
   "cell_type": "code",
   "execution_count": null,
   "metadata": {
    "ExecuteTime": {
     "end_time": "2020-03-03T23:19:29.553723Z",
     "start_time": "2020-03-03T23:19:29.540722Z"
    }
   },
   "outputs": [],
   "source": [
    "comp_diff_s = (counts_c.percent - counts_a.percent).sort_values(ascending=False)\n",
    "pd.DataFrame(\n",
    "    {\n",
    "        'cluster': comp_diff_s.index,\n",
    "        'diff_pct': comp_diff_s.values\n",
    "    }\n",
    ")"
   ]
  },
  {
   "cell_type": "code",
   "execution_count": null,
   "metadata": {
    "ExecuteTime": {
     "end_time": "2020-03-04T01:05:44.279429Z",
     "start_time": "2020-03-04T01:05:44.251425Z"
    }
   },
   "outputs": [],
   "source": [
    "h.list_component(eda_customers,  3)"
   ]
  },
  {
   "cell_type": "markdown",
   "metadata": {},
   "source": [
    "## Part 2: Supervised Learning Model\n",
    "\n",
    "Now that you've found which parts of the population are more likely to be customers of the mail-order company, it's time to build a prediction model. Each of the rows in the \"MAILOUT\" data files represents an individual that was targeted for a mailout campaign. Ideally, we should be able to use the demographic information from each individual to decide whether or not it will be worth it to include that person in the campaign.\n",
    "\n",
    "The \"MAILOUT\" data has been split into two approximately equal parts, each with almost 43 000 data rows. In this part, you can verify your model with the \"TRAIN\" partition, which includes a column, \"RESPONSE\", that states whether or not a person became a customer of the company following the campaign. In the next part, you'll need to create predictions on the \"TEST\" partition, where the \"RESPONSE\" column has been withheld."
   ]
  },
  {
   "cell_type": "markdown",
   "metadata": {},
   "source": [
    "### Step 1: Load the data"
   ]
  },
  {
   "cell_type": "code",
   "execution_count": null,
   "metadata": {
    "ExecuteTime": {
     "end_time": "2020-03-03T23:37:35.809307Z",
     "start_time": "2020-03-03T23:37:35.690308Z"
    }
   },
   "outputs": [],
   "source": [
    "# mailout_train = pd.read_csv('../../data/Term2/capstone/arvato_data/Udacity_MAILOUT_052018_TRAIN.csv', sep=';')\n",
    "mailout_train = pd.read_pickle ('..//data//mailout_train.p')    \n",
    "mailout_train.shape"
   ]
  },
  {
   "cell_type": "markdown",
   "metadata": {},
   "source": [
    "### Step 2: Preparing and splitting the data"
   ]
  },
  {
   "cell_type": "code",
   "execution_count": null,
   "metadata": {
    "ExecuteTime": {
     "end_time": "2020-03-03T23:37:35.825309Z",
     "start_time": "2020-03-03T23:37:35.813308Z"
    }
   },
   "outputs": [],
   "source": [
    "positive_cnts = mailout_train[mailout_train['RESPONSE'] == 1].shape[0]\n",
    "total_cnts = mailout_train.shape[0]\n",
    " \n",
    "print(f'The train set contains only {positive_cnts / total_cnts *100 :1.2f}% customers with positive response')"
   ]
  },
  {
   "cell_type": "code",
   "execution_count": null,
   "metadata": {
    "ExecuteTime": {
     "end_time": "2020-03-03T23:37:36.253306Z",
     "start_time": "2020-03-03T23:37:35.829308Z"
    }
   },
   "outputs": [],
   "source": [
    "# extract RESPONSE column\n",
    "response = mailout_train['RESPONSE']\n",
    "\n",
    "# drop RESPONSE column\n",
    "mailout_train.drop(labels=['RESPONSE'], axis=1, inplace=True)\n",
    "\n",
    "# find features to drop because of many missing values\n",
    "missing_per_column = mailout_train.isnull().mean()\n",
    "\n",
    "plt.hist(missing_per_column, bins=34)"
   ]
  },
  {
   "cell_type": "code",
   "execution_count": null,
   "metadata": {
    "ExecuteTime": {
     "end_time": "2020-03-03T23:37:39.679305Z",
     "start_time": "2020-03-03T23:37:36.258308Z"
    }
   },
   "outputs": [],
   "source": [
    "# read in feature info file\n",
    "feat_info = pd.read_csv('./feats_info.csv', sep=';', names=['feat', 'type', 'unknown'])\n",
    "feat_info.set_index('feat', inplace =True)\n",
    "\n",
    "eda_mailout_train = eda.EDA(mailout_train, feat_info, label = 'mailout_train')\n",
    "\n",
    "#  Data Cleaning\n",
    "eda_mailout_train.data_pipeline()"
   ]
  },
  {
   "cell_type": "code",
   "execution_count": null,
   "metadata": {
    "ExecuteTime": {
     "end_time": "2020-03-03T23:37:39.710306Z",
     "start_time": "2020-03-03T23:37:39.686308Z"
    }
   },
   "outputs": [],
   "source": [
    "response = response.loc[mailout_train.index]\n",
    "response.shape"
   ]
  },
  {
   "cell_type": "markdown",
   "metadata": {
    "ExecuteTime": {
     "end_time": "2020-03-01T08:55:35.197973Z",
     "start_time": "2020-03-01T08:55:35.182973Z"
    }
   },
   "source": [
    "### Preparing and splitting the data"
   ]
  },
  {
   "cell_type": "code",
   "execution_count": null,
   "metadata": {
    "ExecuteTime": {
     "end_time": "2020-03-03T23:37:39.789308Z",
     "start_time": "2020-03-03T23:37:39.716307Z"
    }
   },
   "outputs": [],
   "source": [
    "# We split the dataset into 2/3 training and 1/3 testing sets.\n",
    "train_data, test_data, train_targets, test_targets = train_test_split(\n",
    "    eda_mailout_train.data_scaled, \n",
    "    response, \n",
    "    test_size=0.33, \n",
    "    shuffle=True,\n",
    "    random_state=h.RANDOM_STATE)"
   ]
  },
  {
   "cell_type": "markdown",
   "metadata": {},
   "source": [
    "### Step 4. model evaluation"
   ]
  },
  {
   "cell_type": "code",
   "execution_count": null,
   "metadata": {
    "ExecuteTime": {
     "end_time": "2020-03-03T23:39:02.478308Z",
     "start_time": "2020-03-03T23:37:39.795309Z"
    }
   },
   "outputs": [],
   "source": [
    "lrm = LogisticRegression(random_state=h.RANDOM_STATE)\n",
    "bagm = BaggingClassifier()\n",
    "lgbm = lgb.LGBMClassifier(random_state=h.RANDOM_STATE,application='binary')\n",
    "\n",
    "model_dict = {\n",
    "    'logistic regression': lrm,    \n",
    "    'bagging': bagm,\n",
    "    'lgbmclassifier': lgbm,\n",
    "}\n",
    "\n",
    "h.build_roc_auc(model_dict, {},eda_mailout_train.data_scaled, response)    "
   ]
  },
  {
   "cell_type": "markdown",
   "metadata": {},
   "source": [
    "The LGBM classifier got a slightly better score so I'll use it down below to train and tuning for the kaggle competition. "
   ]
  },
  {
   "cell_type": "markdown",
   "metadata": {},
   "source": [
    "### Step 5. LGB Train and Hyperparameter Tuning"
   ]
  },
  {
   "cell_type": "code",
   "execution_count": null,
   "metadata": {
    "ExecuteTime": {
     "end_time": "2020-03-03T23:55:25.714588Z",
     "start_time": "2020-03-03T23:39:02.485307Z"
    },
    "scrolled": false
   },
   "outputs": [],
   "source": [
    "def_params={\n",
    "        'learning_rate':  {'hpf' :  hp.loguniform('learning_rate', np.log(0.00001), np.log(0.0075)),'dtype' : 'float'},           \n",
    "        'num_leaves' :    {'hpf' : hp.quniform('num_leaves', 3, 15, 1),'dtype' : 'int'},     \n",
    "        'min_data_in_leaf' : {'hpf' : hp.quniform('min_data_in_leaf', 1000, 1500, 50),'dtype' : 'int'},     \n",
    "        'min_sum_hessian_in_leaf':  {'hpf' : hp.uniform('min_sum_hessian_in_leaf', 0.0005, 0.002),'dtype' : 'float'},               \n",
    "        'colsample_bytree': {'hpf': hp.uniform('colsample_bytree', 0.5, 0.9),'dtype' : 'float'},        \n",
    "        'reg_alpha': {'hpf': hp.uniform('reg_alpha', 0.3, 1.0),'dtype' : 'float'}, \n",
    "        'reg_lambda': {'hpf': hp.uniform('reg_lambda', 0, 0.6),'dtype' : 'float'}, \n",
    "        'max_bin' :    {'hpf' : hp.quniform('max_bin', 10, 80, 1),'dtype' : 'int'},    \n",
    "        'feature_fraction': {'hpf': hp.uniform('feature_fraction', 0.3, 0.7),'dtype' : 'float'},    \n",
    "}\n",
    "\n",
    "n_iter = 1000\n",
    "cv = 10\n",
    "\n",
    "best, trials, objective = t.search_hyperparameter(def_params, n_iter, cv ,train_data, train_targets)\n",
    "\n",
    "model = t.build_model(best, def_params)\n",
    "\n",
    "model.fit(train_data,train_targets)\n",
    "\n",
    "t.evaluate_model(model, objective, best, test_data, test_targets)\n",
    "\n",
    "sa_results_df = t.plot_result(trials.trials)"
   ]
  },
  {
   "cell_type": "markdown",
   "metadata": {
    "ExecuteTime": {
     "end_time": "2020-03-01T09:05:43.813546Z",
     "start_time": "2020-03-01T09:05:43.804547Z"
    }
   },
   "source": [
    "### Step 6. Top 15 most important features of the model"
   ]
  },
  {
   "cell_type": "code",
   "execution_count": null,
   "metadata": {
    "ExecuteTime": {
     "end_time": "2020-03-03T23:55:26.137589Z",
     "start_time": "2020-03-03T23:55:25.717589Z"
    }
   },
   "outputs": [],
   "source": [
    "lgb.plot_importance(model, max_num_features = 30, figsize=(10,12))"
   ]
  },
  {
   "cell_type": "markdown",
   "metadata": {},
   "source": [
    "## Part 3: Kaggle Competition\n",
    "\n",
    "Now that you've created a model to predict which individuals are most likely to respond to a mailout campaign, it's time to test that model in competition through Kaggle. If you click on the link [here](http://www.kaggle.com/t/21e6d45d4c574c7fa2d868f0e8c83140), you'll be taken to the competition page where, if you have a Kaggle account, you can enter. If you're one of the top performers, you may have the chance to be contacted by a hiring manager from Arvato or Bertelsmann for an interview!\n",
    "\n",
    "Your entry to the competition should be a CSV file with two columns. The first column should be a copy of \"LNR\", which acts as an ID number for each individual in the \"TEST\" partition. The second column, \"RESPONSE\", should be some measure of how likely each individual became a customer – this might not be a straightforward probability. As you should have found in Part 2, there is a large output class imbalance, where most individuals did not respond to the mailout. Thus, predicting individual classes and using accuracy does not seem to be an appropriate performance evaluation method. Instead, the competition will be using AUC to evaluate performance. The exact values of the \"RESPONSE\" column do not matter as much: only that the higher values try to capture as many of the actual customers as possible, early in the ROC curve sweep."
   ]
  },
  {
   "cell_type": "code",
   "execution_count": null,
   "metadata": {
    "ExecuteTime": {
     "end_time": "2020-03-03T23:55:26.945571Z",
     "start_time": "2020-03-03T23:55:26.140593Z"
    }
   },
   "outputs": [],
   "source": [
    "# mailout_test = pd.read_csv('../../data/Term2/capstone/arvato_data/Udacity_MAILOUT_052018_TEST.csv', sep=';')\n",
    "mailout_test = pd.read_pickle ('..//data//mailout_test.p')    \n",
    "mailout_test.shape"
   ]
  },
  {
   "cell_type": "code",
   "execution_count": null,
   "metadata": {
    "ExecuteTime": {
     "end_time": "2020-03-03T23:55:27.877567Z",
     "start_time": "2020-03-03T23:55:26.948568Z"
    }
   },
   "outputs": [],
   "source": [
    "eda_mailout_test = eda.EDA(mailout_test, feat_info, label = 'mailout_test')"
   ]
  },
  {
   "cell_type": "code",
   "execution_count": null,
   "metadata": {
    "ExecuteTime": {
     "end_time": "2020-03-03T23:55:27.893569Z",
     "start_time": "2020-03-03T23:55:27.880568Z"
    }
   },
   "outputs": [],
   "source": [
    "LNR = mailout_test.LNR.copy()\n",
    "LNR.shape"
   ]
  },
  {
   "cell_type": "code",
   "execution_count": null,
   "metadata": {
    "ExecuteTime": {
     "end_time": "2020-03-03T23:55:30.369569Z",
     "start_time": "2020-03-03T23:55:27.897569Z"
    }
   },
   "outputs": [],
   "source": [
    "eda_mailout_test.data_pipeline(clean_rows = False)"
   ]
  },
  {
   "cell_type": "code",
   "execution_count": null,
   "metadata": {
    "ExecuteTime": {
     "end_time": "2020-03-03T23:55:30.557569Z",
     "start_time": "2020-03-03T23:55:30.372570Z"
    }
   },
   "outputs": [],
   "source": [
    "# fit and predict\n",
    "preds_test = model.predict_proba(eda_mailout_test.data_scaled)[:,1]\n",
    "preds_test"
   ]
  },
  {
   "cell_type": "code",
   "execution_count": null,
   "metadata": {
    "ExecuteTime": {
     "end_time": "2020-03-03T23:55:30.761570Z",
     "start_time": "2020-03-03T23:55:30.562569Z"
    }
   },
   "outputs": [],
   "source": [
    "# create submission file\n",
    "preds_test = pd.concat([LNR, pd.Series(preds_test)], axis = 1)\n",
    "preds_test.rename(columns={0:'RESPONSE'}, inplace= True)\n",
    "preds_test.to_csv('MAILOUT_TEST.csv') "
   ]
  }
 ],
 "metadata": {
  "hide_input": false,
  "kernelspec": {
   "display_name": "Python 3",
   "language": "python",
   "name": "python3"
  },
  "language_info": {
   "codemirror_mode": {
    "name": "ipython",
    "version": 3
   },
   "file_extension": ".py",
   "mimetype": "text/x-python",
   "name": "python",
   "nbconvert_exporter": "python",
   "pygments_lexer": "ipython3",
   "version": "3.7.4"
  },
  "latex_envs": {
   "LaTeX_envs_menu_present": true,
   "autoclose": false,
   "autocomplete": true,
   "bibliofile": "biblio.bib",
   "cite_by": "apalike",
   "current_citInitial": 1,
   "eqLabelWithNumbers": true,
   "eqNumInitial": 1,
   "hotkeys": {
    "equation": "Ctrl-E",
    "itemize": "Ctrl-I"
   },
   "labels_anchors": false,
   "latex_user_defs": false,
   "report_style_numbering": false,
   "user_envs_cfg": false
  },
  "toc": {
   "base_numbering": 1,
   "nav_menu": {},
   "number_sections": true,
   "sideBar": true,
   "skip_h1_title": false,
   "title_cell": "Table of Contents",
   "title_sidebar": "Contents",
   "toc_cell": false,
   "toc_position": {
    "height": "calc(100% - 180px)",
    "left": "10px",
    "top": "150px",
    "width": "323px"
   },
   "toc_section_display": true,
   "toc_window_display": true
  },
  "varInspector": {
   "cols": {
    "lenName": 16,
    "lenType": 16,
    "lenVar": 40
   },
   "kernels_config": {
    "python": {
     "delete_cmd_postfix": "",
     "delete_cmd_prefix": "del ",
     "library": "var_list.py",
     "varRefreshCmd": "print(var_dic_list())"
    },
    "r": {
     "delete_cmd_postfix": ") ",
     "delete_cmd_prefix": "rm(",
     "library": "var_list.r",
     "varRefreshCmd": "cat(var_dic_list()) "
    }
   },
   "types_to_exclude": [
    "module",
    "function",
    "builtin_function_or_method",
    "instance",
    "_Feature"
   ],
   "window_display": false
  }
 },
 "nbformat": 4,
 "nbformat_minor": 2
}
