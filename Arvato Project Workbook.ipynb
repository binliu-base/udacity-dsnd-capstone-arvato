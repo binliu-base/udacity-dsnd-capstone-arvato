{
 "cells": [
  {
   "cell_type": "markdown",
   "metadata": {},
   "source": [
    "# Capstone Project: Create a Customer Segmentation Report for Arvato Financial Services\n",
    "\n",
    "In this project, you will analyze demographics data for customers of a mail-order sales company in Germany, comparing it against demographics information for the general population. You'll use unsupervised learning techniques to perform customer segmentation, identifying the parts of the population that best describe the core customer base of the company. Then, you'll apply what you've learned on a third dataset with demographics information for targets of a marketing campaign for the company, and use a model to predict which individuals are most likely to convert into becoming customers for the company. The data that you will use has been provided by our partners at Bertelsmann Arvato Analytics, and represents a real-life data science task.\n",
    "\n",
    "If you completed the first term of this program, you will be familiar with the first part of this project, from the unsupervised learning project. The versions of those two datasets used in this project will include many more features and has not been pre-cleaned. You are also free to choose whatever approach you'd like to analyzing the data rather than follow pre-determined steps. In your work on this project, make sure that you carefully document your steps and decisions, since your main deliverable for this project will be a blog post reporting your findings."
   ]
  },
  {
   "cell_type": "code",
   "execution_count": null,
   "metadata": {
    "ExecuteTime": {
     "end_time": "2020-02-29T13:24:22.006823Z",
     "start_time": "2020-02-29T13:24:13.434826Z"
    }
   },
   "outputs": [],
   "source": [
    "# import libraries here; add more as necessary\n",
    "import numpy as np\n",
    "import pandas as pd\n",
    "import matplotlib.pyplot as plt\n",
    "import seaborn as sns\n",
    "\n",
    "import sys\n",
    "import pickle\n",
    "import ast\n",
    "\n",
    "from sklearn.preprocessing import Imputer, StandardScaler\n",
    "from sklearn.model_selection import GridSearchCV, train_test_split\n",
    "from sklearn.linear_model import LogisticRegression\n",
    "from sklearn.ensemble import BaggingClassifier\n",
    "from sklearn.metrics import roc_auc_score\n",
    "from hyperopt import hp\n",
    "import lightgbm as lgb\n",
    "from skopt import BayesSearchCV\n",
    "\n",
    "sys.path += ['./ilikeds']\n",
    "import eda \n",
    "import helper_functions as h\n",
    "import train_classifier as t\n",
    "\n",
    "# magic word for producing visualizations in notebook\n",
    "%matplotlib inline"
   ]
  },
  {
   "cell_type": "markdown",
   "metadata": {},
   "source": [
    "## Part 0: Get to Know the Data\n",
    "\n",
    "There are four data files associated with this project:\n",
    "\n",
    "- `Udacity_AZDIAS_052018.csv`: Demographics data for the general population of Germany; 891 211 persons (rows) x 366 features (columns).\n",
    "- `Udacity_CUSTOMERS_052018.csv`: Demographics data for customers of a mail-order company; 191 652 persons (rows) x 369 features (columns).\n",
    "- `Udacity_MAILOUT_052018_TRAIN.csv`: Demographics data for individuals who were targets of a marketing campaign; 42 982 persons (rows) x 367 (columns).\n",
    "- `Udacity_MAILOUT_052018_TEST.csv`: Demographics data for individuals who were targets of a marketing campaign; 42 833 persons (rows) x 366 (columns).\n",
    "\n",
    "Each row of the demographics files represents a single person, but also includes information outside of individuals, including information about their household, building, and neighborhood. Use the information from the first two files to figure out how customers (\"CUSTOMERS\") are similar to or differ from the general population at large (\"AZDIAS\"), then use your analysis to make predictions on the other two files (\"MAILOUT\"), predicting which recipients are most likely to become a customer for the mail-order company.\n",
    "\n",
    "The \"CUSTOMERS\" file contains three extra columns ('CUSTOMER_GROUP', 'ONLINE_PURCHASE', and 'PRODUCT_GROUP'), which provide broad information about the customers depicted in the file. The original \"MAILOUT\" file included one additional column, \"RESPONSE\", which indicated whether or not each recipient became a customer of the company. For the \"TRAIN\" subset, this column has been retained, but in the \"TEST\" subset it has been removed; it is against that withheld column that your final predictions will be assessed in the Kaggle competition.\n",
    "\n",
    "Otherwise, all of the remaining columns are the same between the three data files. For more information about the columns depicted in the files, you can refer to two Excel spreadsheets provided in the workspace. [One of them](./DIAS Information Levels - Attributes 2017.xlsx) is a top-level list of attributes and descriptions, organized by informational category. [The other](./DIAS Attributes - Values 2017.xlsx) is a detailed mapping of data values for each feature in alphabetical order.\n",
    "\n",
    "In the below cell, we've provided some initial code to load in the first two datasets. Note for all of the `.csv` data files in this project that they're semicolon (`;`) delimited, so an additional argument in the [`read_csv()`](https://pandas.pydata.org/pandas-docs/stable/generated/pandas.read_csv.html) call has been included to read in the data properly. Also, considering the size of the datasets, it may take some time for them to load completely.\n",
    "\n",
    "You'll notice when the data is loaded in that a warning message will immediately pop up. Before you really start digging into the modeling and analysis, you're going to need to perform some cleaning. Take some time to browse the structure of the data and look over the informational spreadsheets to understand the data values. Make some decisions on which features to keep, which features to drop, and if any revisions need to be made on data formats. It'll be a good idea to create a function with pre-processing steps, since you'll need to clean all of the datasets before you work with them."
   ]
  },
  {
   "cell_type": "code",
   "execution_count": null,
   "metadata": {
    "ExecuteTime": {
     "end_time": "2020-02-29T13:24:33.082825Z",
     "start_time": "2020-02-29T13:24:22.010823Z"
    }
   },
   "outputs": [],
   "source": [
    "# load in the data\n",
    "# azdias = pd.read_csv('../../data/Term2/capstone/arvato_data/Udacity_AZDIAS_052018.csv', sep=';')\n",
    "# customers = pd.read_csv('../../data/Term2/capstone/arvato_data/Udacity_CUSTOMERS_052018.csv', sep=';')\n",
    "\n",
    "azdias = pd.read_pickle ('../data/azdias.p')    \n",
    "customers = pd.read_pickle ('../data/customers.p')    "
   ]
  },
  {
   "cell_type": "code",
   "execution_count": null,
   "metadata": {
    "ExecuteTime": {
     "end_time": "2020-02-29T13:24:33.146824Z",
     "start_time": "2020-02-29T13:24:33.087824Z"
    }
   },
   "outputs": [],
   "source": [
    "# read in feature info file\n",
    "feat_info = pd.read_csv('./feats_info.csv', sep=';', names=['feat', 'type', 'unknown'])\n",
    "feat_info.set_index('feat', inplace =True)"
   ]
  },
  {
   "cell_type": "code",
   "execution_count": null,
   "metadata": {
    "ExecuteTime": {
     "end_time": "2020-02-29T13:24:33.162823Z",
     "start_time": "2020-02-29T13:24:33.152823Z"
    }
   },
   "outputs": [],
   "source": [
    "# create  a EDA  instance for Azdias.\n",
    "eda_azdias= eda.EDA(azdias, feat_info, label = 'Azdias')\n",
    "\n",
    "# create  a EDA  instance for Azdias. for  customers\n",
    "eda_customers= eda.EDA(customers, feat_info, label = 'Customers')"
   ]
  },
  {
   "cell_type": "markdown",
   "metadata": {},
   "source": [
    "### Data Cleaning"
   ]
  },
  {
   "cell_type": "markdown",
   "metadata": {},
   "source": [
    "#### Step 1: Removing undefined features"
   ]
  },
  {
   "cell_type": "code",
   "execution_count": null,
   "metadata": {
    "ExecuteTime": {
     "end_time": "2020-02-29T13:24:34.400823Z",
     "start_time": "2020-02-29T13:24:33.169825Z"
    }
   },
   "outputs": [],
   "source": [
    "feats_todrop = []\n",
    "feats_wo_def = list(set(eda_azdias.data.columns) - set(eda_azdias.feat_info.index))\n",
    "\n",
    "eda_azdias.data.drop(columns = feats_wo_def, inplace =True)\n",
    "eda_customers.data.drop(columns = feats_wo_def, inplace =True)\n",
    "\n",
    "# Removing the three extra columns ('CUSTOMER_GROUP', 'ONLINE_PURCHASE', and 'PRODUCT_GROUP') in Customers\n",
    "feats_customers_excl  = list(set(eda_customers.data.columns) - set(eda_azdias.data.columns))\n",
    "feats_customers_excl\n",
    "eda_customers.data.drop(columns = feats_customers_excl, inplace =True)"
   ]
  },
  {
   "cell_type": "markdown",
   "metadata": {
    "ExecuteTime": {
     "end_time": "2020-02-28T14:54:12.817463Z",
     "start_time": "2020-02-28T14:54:12.808465Z"
    }
   },
   "source": [
    "####  Step 2:  Converting of missing and unknown data to NaN"
   ]
  },
  {
   "cell_type": "code",
   "execution_count": null,
   "metadata": {
    "ExecuteTime": {
     "end_time": "2020-02-29T13:24:59.163827Z",
     "start_time": "2020-02-29T13:24:34.405824Z"
    }
   },
   "outputs": [],
   "source": [
    "eda_azdias.missing2nan()\n",
    "eda_customers.missing2nan()"
   ]
  },
  {
   "cell_type": "markdown",
   "metadata": {},
   "source": [
    "####  Step 3: Handling missing values"
   ]
  },
  {
   "cell_type": "markdown",
   "metadata": {},
   "source": [
    "##### a. Handling missing values for rows"
   ]
  },
  {
   "cell_type": "code",
   "execution_count": null,
   "metadata": {
    "ExecuteTime": {
     "end_time": "2020-02-29T13:25:00.853824Z",
     "start_time": "2020-02-29T13:24:59.171824Z"
    }
   },
   "outputs": [],
   "source": [
    "rows_n_nans = azdias.isnull().sum(axis=1)\n",
    "plt.hist(rows_n_nans / azdias.shape[1], bins=90)"
   ]
  },
  {
   "cell_type": "code",
   "execution_count": null,
   "metadata": {
    "ExecuteTime": {
     "end_time": "2020-02-29T13:25:04.051823Z",
     "start_time": "2020-02-29T13:25:00.858824Z"
    }
   },
   "outputs": [],
   "source": [
    "_, rows_droped = h.split_dataset(azdias, threshold=0.25)\n",
    "n_deleted_rows = rows_droped.shape[0]\n",
    "print(f'Before delete the missing rows, {eda_azdias} has {eda_azdias.data.shape[0]} rows')\n",
    "azdias.drop(index = rows_droped.index, inplace =True)\n",
    "print(f'After delete the missing rows, {eda_azdias} has {eda_azdias.data.shape[0]} rows')\n",
    "print(f'Delete {n_deleted_rows} rows in total')"
   ]
  },
  {
   "cell_type": "code",
   "execution_count": null,
   "metadata": {
    "ExecuteTime": {
     "end_time": "2020-02-29T13:25:04.981829Z",
     "start_time": "2020-02-29T13:25:04.065826Z"
    }
   },
   "outputs": [],
   "source": [
    "_, rows_droped = h.split_dataset(customers, threshold=0.25)\n",
    "n_deleted_rows = rows_droped.shape[0]\n",
    "print(f'Before delete the high missing rate rows, {eda_customers} has {eda_customers.data.shape[0]} rows')\n",
    "eda_customers.data.drop(index = rows_droped.index, inplace =True)\n",
    "print(f'After delete the hitg missing rate rows, {eda_customers} has {eda_customers.data.shape[0]} rows')\n",
    "print(f'Delete {n_deleted_rows} rows in total')"
   ]
  },
  {
   "cell_type": "markdown",
   "metadata": {},
   "source": [
    "##### b. Handling missing values for columns"
   ]
  },
  {
   "cell_type": "code",
   "execution_count": null,
   "metadata": {
    "ExecuteTime": {
     "end_time": "2020-02-29T13:25:05.203823Z",
     "start_time": "2020-02-29T13:25:04.986823Z"
    }
   },
   "outputs": [],
   "source": [
    "eda_azdias.feat_info.percent_of_nans.sort_values().hist(bins = 40, alpha = 0.7)\n",
    "plt.xlabel('Missing Rate ')\n",
    "plt.ylabel('Num Of Features')\n",
    "plt.title('Distribution of missing value per column')"
   ]
  },
  {
   "cell_type": "code",
   "execution_count": null,
   "metadata": {
    "ExecuteTime": {
     "end_time": "2020-02-29T13:25:05.235823Z",
     "start_time": "2020-02-29T13:25:05.207824Z"
    }
   },
   "outputs": [],
   "source": [
    "thr_col_missing = 0.37\n",
    "feats_todrop_azdias = eda_azdias.feat_info.loc[eda_azdias.feat_info.percent_of_nans > thr_col_missing].index\n",
    "feats_todrop_azdias"
   ]
  },
  {
   "cell_type": "code",
   "execution_count": null,
   "metadata": {
    "ExecuteTime": {
     "end_time": "2020-02-29T13:25:05.266825Z",
     "start_time": "2020-02-29T13:25:05.240824Z"
    }
   },
   "outputs": [],
   "source": [
    "feats_todrop_customers = eda_customers.feat_info.loc[eda_customers.feat_info.percent_of_nans >thr_col_missing ].index\n",
    "feats_todrop_customers"
   ]
  },
  {
   "cell_type": "code",
   "execution_count": null,
   "metadata": {
    "ExecuteTime": {
     "end_time": "2020-02-29T13:25:05.281826Z",
     "start_time": "2020-02-29T13:25:05.271825Z"
    }
   },
   "outputs": [],
   "source": [
    "# Get features with high missing rates in both datasets\n",
    "feats_todrop_comm = set(feats_todrop_customers).intersection(set(feats_todrop_azdias))\n",
    "feats_todrop_comm = list(feats_todrop_comm)\n",
    "feats_todrop_comm"
   ]
  },
  {
   "cell_type": "code",
   "execution_count": null,
   "metadata": {
    "ExecuteTime": {
     "end_time": "2020-02-29T13:25:06.023823Z",
     "start_time": "2020-02-29T13:25:05.287824Z"
    }
   },
   "outputs": [],
   "source": [
    "print(f'Before delete the high missing rate features/columns, {eda_azdias} has {eda_azdias.data.shape[1]} features.')\n",
    "azdias.drop(columns=feats_todrop_comm, inplace=True)\n",
    "print(f'After delete the high missing rate features/columns, {eda_azdias} has {eda_azdias.data.shape[1]} features.')\n",
    "\n",
    "print()\n",
    "\n",
    "print(f'Before delete the high missing rate features/columns, {eda_customers} has {eda_customers.data.shape[1]} features.')\n",
    "customers.drop(columns=feats_todrop_comm, inplace=True)\n",
    "print(f'After delete the high missing rate features/columns, {eda_customers} has {eda_customers.data.shape[1]} features.')\n",
    "\n",
    "print()\n",
    "print('Delete {len(feats_todrop_comm)} features in total')"
   ]
  },
  {
   "cell_type": "markdown",
   "metadata": {},
   "source": [
    "####  Step 4:  Scrub for duplicate features"
   ]
  },
  {
   "cell_type": "code",
   "execution_count": null,
   "metadata": {
    "ExecuteTime": {
     "end_time": "2020-02-29T13:25:08.993823Z",
     "start_time": "2020-02-29T13:25:06.026825Z"
    }
   },
   "outputs": [],
   "source": [
    "feats_fein =[x for x in eda_azdias.data.columns if x.endswith( '_FEIN')]\n",
    "feats_grob = [x for x in eda_azdias.data.columns if x.endswith( '_GROB')]\n",
    "feats_duplicate = [x for x in zip(pd.Series(feats_grob).sort_values(), pd.Series(feats_fein).sort_values())]\n",
    "h.plot_2feats_comparison(eda_azdias.data, feats_duplicate)   "
   ]
  },
  {
   "cell_type": "markdown",
   "metadata": {},
   "source": [
    "Both features on the same line have the same meaning. Features with a suffix of _GROB on the left represent coarse-grained information, and _FEIN represents fine-grained features. I decided to delete these duplicate features, 'ALTERSKATEGORIE_FEIN', 'LP_FAMILIE_GROB', 'LP_LEBENSPHASE_FEIN', 'LP_STATUS_GROB', 'CAMEO_DEU_2015'. Because some of them are undefined, or  use the corresponding _GROB feature is enough."
   ]
  },
  {
   "cell_type": "code",
   "execution_count": null,
   "metadata": {
    "ExecuteTime": {
     "end_time": "2020-02-29T13:25:09.046825Z",
     "start_time": "2020-02-29T13:25:09.020825Z"
    }
   },
   "outputs": [],
   "source": [
    "feats_duplicated = ['ALTERSKATEGORIE_FEIN', 'LP_FAMILIE_GROB', 'LP_LEBENSPHASE_FEIN', 'LP_STATUS_GROB','CAMEO_DEU_2015']"
   ]
  },
  {
   "cell_type": "code",
   "execution_count": null,
   "metadata": {
    "ExecuteTime": {
     "end_time": "2020-02-29T13:25:09.797825Z",
     "start_time": "2020-02-29T13:25:09.052824Z"
    }
   },
   "outputs": [],
   "source": [
    "#  ANZ_STATISTISCHE_HAUSHALTE, ANZ_HAUSHALTE_AKTIV :  number of households in the building\n",
    "#  Delete ANZ_STATISTISCHE_HAUSHALTE, because they are duplicated.\n",
    "\n",
    "feats_HAUSHALTE = ['ANZ_STATISTISCHE_HAUSHALTE', 'ANZ_HAUSHALTE_AKTIV']\n",
    "h.plot_boxplot(eda_azdias.data, feats_HAUSHALTE, n_cols =2,  figsize = (16, 4))     "
   ]
  },
  {
   "cell_type": "code",
   "execution_count": null,
   "metadata": {
    "ExecuteTime": {
     "end_time": "2020-02-29T13:25:10.436824Z",
     "start_time": "2020-02-29T13:25:09.800824Z"
    }
   },
   "outputs": [],
   "source": [
    "feats_duplicated.extend(['ANZ_STATISTISCHE_HAUSHALTE'])\n",
    "azdias.drop(columns=feats_duplicated, inplace=True)\n",
    "customers.drop(columns=feats_duplicated, inplace=True)"
   ]
  },
  {
   "cell_type": "markdown",
   "metadata": {},
   "source": [
    "#### Step 5: Re-encodings features"
   ]
  },
  {
   "cell_type": "markdown",
   "metadata": {},
   "source": [
    "-  'CAMEO_DEUG_2015' \n",
    "- 'CAMEO_INTL_2015' :“New German CAMEO Typology established together with Call Credit in late 2015”.\n",
    " - 'EINGEFUEGT_AM',  \n",
    " -'OST_WEST_KZ' "
   ]
  },
  {
   "cell_type": "code",
   "execution_count": null,
   "metadata": {
    "ExecuteTime": {
     "end_time": "2020-02-29T13:25:10.703824Z",
     "start_time": "2020-02-29T13:25:10.440823Z"
    }
   },
   "outputs": [],
   "source": [
    "encoding = [\n",
    "                  'OST_WEST_KZ',\n",
    "                  'CAMEO_DEUG_2015',\n",
    "                  'CAMEO_INTL_2015',\n",
    "                    'CAMEO_INTL_2015',\n",
    "                  'EINGEFUEGT_AM']\n",
    "\n",
    "# h.check_features(eda_azdias, encoding)     \n",
    "for x in encoding:\n",
    "     print(x, eda_azdias.data[x].unique())"
   ]
  },
  {
   "cell_type": "code",
   "execution_count": null,
   "metadata": {
    "ExecuteTime": {
     "end_time": "2020-02-29T13:25:15.941824Z",
     "start_time": "2020-02-29T13:25:10.708825Z"
    }
   },
   "outputs": [],
   "source": [
    "feats_encoding = ['OST_WEST_KZ','CAMEO_DEUG_2015','CAMEO_INTL_2015','EINGEFUEGT_AM']\n",
    "\n",
    "for x in feats_encoding:\n",
    "    eda_azdias.re_encoding(x)\n",
    "    eda_customers.re_encoding(x)        "
   ]
  },
  {
   "cell_type": "markdown",
   "metadata": {
    "ExecuteTime": {
     "end_time": "2020-02-29T07:38:48.175159Z",
     "start_time": "2020-02-29T07:38:48.168158Z"
    }
   },
   "source": [
    "####  Step 6. Split Mixed Features"
   ]
  },
  {
   "cell_type": "code",
   "execution_count": null,
   "metadata": {
    "ExecuteTime": {
     "end_time": "2020-02-29T13:25:16.067824Z",
     "start_time": "2020-02-29T13:25:15.946825Z"
    }
   },
   "outputs": [],
   "source": [
    "mixed = eda_azdias.feat_info[feat_info['type'] == 'mixed']\n",
    "mixed"
   ]
  },
  {
   "cell_type": "code",
   "execution_count": null,
   "metadata": {
    "ExecuteTime": {
     "end_time": "2020-02-29T13:25:26.284824Z",
     "start_time": "2020-02-29T13:25:16.073825Z"
    }
   },
   "outputs": [],
   "source": [
    "mixed_feats = ['CAMEO_INTL_2015', 'LP_LEBENSPHASE_GROB', 'PRAEGENDE_JUGENDJAHRE']\n",
    "for x in mixed_feats:\n",
    "    eda_azdias.process_mixed_feat(x)\n",
    "    eda_customers.process_mixed_feat(x)    "
   ]
  },
  {
   "cell_type": "code",
   "execution_count": null,
   "metadata": {
    "ExecuteTime": {
     "end_time": "2020-02-29T13:25:26.332824Z",
     "start_time": "2020-02-29T13:25:26.288824Z"
    }
   },
   "outputs": [],
   "source": [
    "feats_splited = ['CAMEO_INTL_2015_SPLIT_WEALTH', 'CAMEO_INTL_2015_SPLIT_LIFE_STAGE','LP_LEBENSPHASE_GROB_SPLIT_FAMILY','LP_LEBENSPHASE_GROB_SPLIT_AGE','LP_LEBENSPHASE_GROB_SPLIT_INCOME','PRAEGENDE_JUGENDJAHRE_SPLIT_DECADE','PRAEGENDE_JUGENDJAHRE_SPLIT_MOVEMENT']\n",
    "eda_azdias.data[feats_splited]"
   ]
  },
  {
   "cell_type": "code",
   "execution_count": null,
   "metadata": {
    "ExecuteTime": {
     "end_time": "2020-02-29T13:25:27.017825Z",
     "start_time": "2020-02-29T13:25:26.338825Z"
    }
   },
   "outputs": [],
   "source": [
    "feat_info_split = eda_azdias.build_feat_info(feats_splited)\n",
    "eda_azdias.feat_info= pd.concat([eda_azdias.feat_info, feat_info_split], sort = False)\n",
    "\n",
    "feat_info_split = eda_customers.build_feat_info(feats_splited)\n",
    "eda_customers.feat_info= pd.concat([eda_customers.feat_info, feat_info_split], sort = False)\n",
    "eda_azdias.feat_info.loc[feats_splited]"
   ]
  },
  {
   "cell_type": "code",
   "execution_count": null,
   "metadata": {
    "ExecuteTime": {
     "end_time": "2020-02-29T13:25:44.261823Z",
     "start_time": "2020-02-29T13:25:27.022824Z"
    }
   },
   "outputs": [],
   "source": [
    "eda_azdias.collecting_stats()\n",
    "eda_customers.collecting_stats()"
   ]
  },
  {
   "cell_type": "markdown",
   "metadata": {},
   "source": [
    "#### Step 7.  Cleaning outliers"
   ]
  },
  {
   "cell_type": "code",
   "execution_count": null,
   "metadata": {
    "ExecuteTime": {
     "end_time": "2020-02-29T13:25:44.307825Z",
     "start_time": "2020-02-29T13:25:44.267825Z"
    }
   },
   "outputs": [],
   "source": [
    "eda_azdias.feat_info"
   ]
  },
  {
   "cell_type": "markdown",
   "metadata": {},
   "source": [
    "#####  a. Analysis outliers for  numeric features"
   ]
  },
  {
   "cell_type": "code",
   "execution_count": null,
   "metadata": {
    "ExecuteTime": {
     "end_time": "2020-02-29T11:29:57.434736Z",
     "start_time": "2020-02-29T11:29:57.406738Z"
    }
   },
   "outputs": [],
   "source": [
    "eda_azdias.feat_info.loc[eda_azdias.feat_info.type == 'numeric']"
   ]
  },
  {
   "cell_type": "code",
   "execution_count": null,
   "metadata": {
    "ExecuteTime": {
     "end_time": "2020-02-29T11:29:57.466736Z",
     "start_time": "2020-02-29T11:29:57.438736Z"
    }
   },
   "outputs": [],
   "source": [
    "eda_azdias.feat_info[eda_azdias.feat_info.value_count > 100]"
   ]
  },
  {
   "cell_type": "code",
   "execution_count": null,
   "metadata": {
    "ExecuteTime": {
     "end_time": "2020-02-29T11:29:57.482736Z",
     "start_time": "2020-02-29T11:29:57.469737Z"
    }
   },
   "outputs": [],
   "source": [
    "# Delete  'KBA13_ANZAHL_PKW'  and ' ANZ_HAUSHALTE_AKTIV'  , Because they have 221 and 1245 unique values, respectively, it is not good for subsequent cluster comparisons\n",
    "feats_todrop.extend(['KBA13_ANZAHL_PKW','ANZ_HAUSHALTE_AKTIV'])"
   ]
  },
  {
   "cell_type": "code",
   "execution_count": null,
   "metadata": {
    "ExecuteTime": {
     "end_time": "2020-02-29T11:29:58.475734Z",
     "start_time": "2020-02-29T11:29:57.485736Z"
    }
   },
   "outputs": [],
   "source": [
    "numeric_outlier_feats = ['MIN_GEBAEUDEJAHR' , 'EINGEZOGENAM_HH_JAHR']\n",
    "h.plot_boxplot(eda_azdias.data, numeric_outlier_feats, n_cols=2,  figsize = (16, 4))"
   ]
  },
  {
   "cell_type": "code",
   "execution_count": null,
   "metadata": {
    "ExecuteTime": {
     "end_time": "2020-02-29T11:33:06.755467Z",
     "start_time": "2020-02-29T11:33:04.520469Z"
    }
   },
   "outputs": [],
   "source": [
    "eda_azdias.clean_outlier(numeric_outlier_feats)\n",
    "h.plot_boxplot(eda_azdias.data, numeric_outlier_feats, n_cols=2,  figsize = (16, 4))"
   ]
  },
  {
   "cell_type": "code",
   "execution_count": null,
   "metadata": {
    "ExecuteTime": {
     "end_time": "2020-02-29T11:29:58.636737Z",
     "start_time": "2020-02-29T11:28:44.213Z"
    }
   },
   "outputs": [],
   "source": [
    "h.plot_boxplot(eda_customers.data, numeric_outlier_feats, n_cols=2,  figsize = (16, 4))     "
   ]
  },
  {
   "cell_type": "markdown",
   "metadata": {},
   "source": [
    "#####  a. Analysis outliers for  categorical features"
   ]
  },
  {
   "cell_type": "code",
   "execution_count": null,
   "metadata": {
    "ExecuteTime": {
     "end_time": "2020-02-29T11:29:58.638737Z",
     "start_time": "2020-02-29T11:28:44.245Z"
    }
   },
   "outputs": [],
   "source": [
    "eda_azdias.feat_info.loc[eda_azdias.feat_info.type == 'categorical']"
   ]
  },
  {
   "cell_type": "code",
   "execution_count": null,
   "metadata": {
    "ExecuteTime": {
     "end_time": "2020-02-29T11:29:58.638737Z",
     "start_time": "2020-02-29T11:28:44.249Z"
    }
   },
   "outputs": [],
   "source": [
    "h.check_features(eda_azdias, 'categorical')      "
   ]
  },
  {
   "cell_type": "code",
   "execution_count": null,
   "metadata": {
    "ExecuteTime": {
     "end_time": "2020-02-29T11:34:54.789465Z",
     "start_time": "2020-02-29T11:34:54.454470Z"
    }
   },
   "outputs": [],
   "source": [
    "cat_outlier_feats  = ['D19_KONSUMTYP', 'EINGEZOGENAM_HH_JAHR']\n",
    "h.plot_boxplot(eda_azdias.data, cat_outlier_feats, n_cols=2 ,  figsize = (16, 4))     "
   ]
  },
  {
   "cell_type": "code",
   "execution_count": null,
   "metadata": {
    "ExecuteTime": {
     "end_time": "2020-02-29T11:37:16.467527Z",
     "start_time": "2020-02-29T11:37:16.461527Z"
    }
   },
   "outputs": [],
   "source": [
    "# eda_azdias.clean_outlier(numeric_outlier_feats)\n",
    "# h.plot_boxplot(eda_azdias.data, cat_outlier_feats, n_cols=2 ,  figsize = (16, 4))     "
   ]
  },
  {
   "cell_type": "markdown",
   "metadata": {},
   "source": [
    "####  Step  8:  Impute missing value"
   ]
  },
  {
   "cell_type": "code",
   "execution_count": null,
   "metadata": {
    "ExecuteTime": {
     "end_time": "2020-02-29T11:41:03.321297Z",
     "start_time": "2020-02-29T11:40:35.303296Z"
    }
   },
   "outputs": [],
   "source": [
    "imputer = Imputer(strategy='median')\n",
    "eda_azdias.data_imputed = pd.DataFrame(imputer.fit_transform(eda_azdias.data))\n",
    "eda_customers.data_imputed = pd.DataFrame(imputer.fit_transform(eda_customers.data))"
   ]
  },
  {
   "cell_type": "markdown",
   "metadata": {},
   "source": [
    "####  Step  9:   Feature  Scaling"
   ]
  },
  {
   "cell_type": "code",
   "execution_count": null,
   "metadata": {
    "ExecuteTime": {
     "end_time": "2020-02-29T11:42:18.288196Z",
     "start_time": "2020-02-29T11:42:11.950173Z"
    }
   },
   "outputs": [],
   "source": [
    "eda_azdias.data_scaled = StandardScaler().fit_transform(eda_azdias.data_imputed)    \n",
    "eda_customers.data_scaled = StandardScaler().fit_transform(eda_customers.data_imputed)   "
   ]
  },
  {
   "cell_type": "code",
   "execution_count": null,
   "metadata": {
    "ExecuteTime": {
     "end_time": "2020-02-29T11:47:05.517565Z",
     "start_time": "2020-02-29T11:47:05.492564Z"
    }
   },
   "outputs": [],
   "source": [
    "# Save the droped  features into a file.\n",
    "for x in (feats_todrop_comm, feats_duplicated, feats_wo_def):\n",
    "    feats_todrop.extend(x)\n",
    "\n",
    "pd.Series(feats_todrop).sort_values().to_csv('feats_dropped.csv', index=False)"
   ]
  },
  {
   "cell_type": "markdown",
   "metadata": {},
   "source": [
    "## Part 1: Customer Segmentation Report\n",
    "\n",
    "The main bulk of your analysis will come in this part of the project. Here, you should use unsupervised learning techniques to describe the relationship between the demographics of the company's existing customers and the general population of Germany. By the end of this part, you should be able to describe parts of the general population that are more likely to be part of the mail-order company's main customer base, and which parts of the general population are less so."
   ]
  },
  {
   "cell_type": "markdown",
   "metadata": {},
   "source": [
    "###   Data comparison   Customers vs. Azdias"
   ]
  },
  {
   "cell_type": "markdown",
   "metadata": {
    "ExecuteTime": {
     "end_time": "2020-02-29T11:51:41.533680Z",
     "start_time": "2020-02-29T11:51:41.524681Z"
    }
   },
   "source": [
    "#### D19_  Features Comparison\n",
    "\n",
    "D19_ features is about consumer mail order activities "
   ]
  },
  {
   "cell_type": "code",
   "execution_count": null,
   "metadata": {
    "ExecuteTime": {
     "end_time": "2020-02-29T11:55:16.765417Z",
     "start_time": "2020-02-29T11:55:15.438416Z"
    }
   },
   "outputs": [],
   "source": [
    "comm_feats = set(eda_customers.data.columns).intersection(set(eda_azdias.data.columns))\n",
    "feats_D19 =set([x for x in comm_feats if x.startswith( 'D19_')])\n",
    "feats_D19 = pd.Series(list(feats_D19)).sort_values().tolist()\n",
    "\n",
    "h.plot_feats_comparison(eda_azdias.data, eda_customers.data, feats_D19)"
   ]
  },
  {
   "cell_type": "markdown",
   "metadata": {},
   "source": [
    "The feature comparison in the above figure shows:\n",
    "- D19_SOZIALES: value 1 is significantly higher in customers than in azdias. Although the feature dictionary does not define D19_SOZIALES. But I guess it represents a commodity. \n",
    "- D19_KONSUMTYP:  The values of 2, 3 and 9, customers were significantly higher than azdias, They are 2: versatile, 3: Gourmet, 9 inactive, while value 9 is significantly lower than azdias. The target customers are gourmet, versatile and active.\n",
    "- D19_KONSUMTYP_MAX:  value 2 is significantly higher than azdias, while value 8 is  significantly lower than azdias."
   ]
  },
  {
   "cell_type": "markdown",
   "metadata": {},
   "source": [
    "#### CAMEO_  Features Comparison"
   ]
  },
  {
   "cell_type": "markdown",
   "metadata": {},
   "source": [
    "CAMEO_DEUG_2015:  New German CAMEO Typology established together with Call Credit in late 2015"
   ]
  },
  {
   "cell_type": "code",
   "execution_count": null,
   "metadata": {
    "ExecuteTime": {
     "end_time": "2020-02-29T12:15:21.182342Z",
     "start_time": "2020-02-29T12:15:20.706345Z"
    }
   },
   "outputs": [],
   "source": [
    "h.plot_feats_comparison(eda_azdias.data, eda_customers.data, ['CAMEO_DEUG_2015'], fig_height=5, fig_aspect=1.6)"
   ]
  },
  {
   "cell_type": "markdown",
   "metadata": {},
   "source": [
    "- CAMEO_DEUG_2015:  value 1, 2 is significantly higher in customers than in azdias. while  value 9 is significantly lower than azdias. Indicates that the target customers are middle and upper class people."
   ]
  },
  {
   "cell_type": "markdown",
   "metadata": {},
   "source": [
    "#### CJT_ Features Comparison\n",
    "\n",
    "CJT_ features is about mail order activities of consumers"
   ]
  },
  {
   "cell_type": "code",
   "execution_count": null,
   "metadata": {
    "ExecuteTime": {
     "end_time": "2020-02-29T12:22:20.222707Z",
     "start_time": "2020-02-29T12:22:19.832708Z"
    }
   },
   "outputs": [],
   "source": [
    "feats_CJT =set([x for x in eda_customers.data.columns if x.startswith( 'CJT_')])\n",
    "feats_CJT = pd.Series(list(feats_CJT)).sort_values().tolist()\n",
    "\n",
    "h.plot_feats_comparison(eda_azdias.data, eda_customers.data, feats_CJT)"
   ]
  },
  {
   "cell_type": "markdown",
   "metadata": {},
   "source": [
    "- CJT_GESAMTTYP :   customer journey typology.   value 2  is significantly higher in customers than in azdias. Indicates that the target customers are advertising- and consumptiontraditionalist"
   ]
  },
  {
   "cell_type": "markdown",
   "metadata": {},
   "source": [
    "### Principal component analysis (PCA)"
   ]
  },
  {
   "cell_type": "code",
   "execution_count": null,
   "metadata": {
    "ExecuteTime": {
     "end_time": "2020-02-29T12:30:43.369679Z",
     "start_time": "2020-02-29T12:29:50.745678Z"
    }
   },
   "outputs": [],
   "source": [
    "h.do_pca(eda_azdias, 200)\n",
    "\n",
    "print(f'total explained_variance:  {eda_azdias.pca.explained_variance_ratio_.sum()}')\n",
    "# print('explained_variance_ratio: ', pca.explained_variance_ratio_)\n",
    "# print('explained_variance: ', pca.explained_variance_)\n",
    "print('n_components: ', eda_azdias.pca.n_components_)\n",
    "\n",
    "h.scree_plot(eda_azdias)"
   ]
  },
  {
   "cell_type": "code",
   "execution_count": null,
   "metadata": {
    "ExecuteTime": {
     "end_time": "2020-02-29T12:30:59.133678Z",
     "start_time": "2020-02-29T12:30:49.051679Z"
    }
   },
   "outputs": [],
   "source": [
    "h.do_pca(eda_customers, 200)\n",
    "\n",
    "print(f'total explained_variance:  {eda_customers.pca.explained_variance_ratio_.sum()}')\n",
    "# print('explained_variance_ratio: ', pca.explained_variance_ratio_)\n",
    "# print('explained_variance: ', pca.explained_variance_)\n",
    "print('n_components: ', eda_customers.pca.n_components_)\n",
    "\n",
    "h.scree_plot(eda_customers)"
   ]
  },
  {
   "cell_type": "markdown",
   "metadata": {},
   "source": [
    "### Clustering with KMean"
   ]
  },
  {
   "cell_type": "code",
   "execution_count": null,
   "metadata": {
    "ExecuteTime": {
     "end_time": "2020-02-29T12:32:34.758677Z",
     "start_time": "2020-02-29T12:32:04.496681Z"
    }
   },
   "outputs": [],
   "source": [
    "h.do_pca(eda_azdias, 100)\n",
    "h.do_pca(eda_customers, 100)"
   ]
  },
  {
   "cell_type": "code",
   "execution_count": null,
   "metadata": {
    "ExecuteTime": {
     "end_time": "2020-02-29T12:44:57.622680Z",
     "start_time": "2020-02-29T12:32:40.455679Z"
    }
   },
   "outputs": [],
   "source": [
    "scores = []\n",
    "centers = list(range(1,21))\n",
    "\n",
    "for center in centers:\n",
    "    _, score = h.get_kmeans_score(eda_customers.X_pca, center)\n",
    "    scores.append(score)\n",
    "    \n",
    "plt.plot(centers, scores, linestyle='--', marker='o', color='b')\n",
    "plt.xlabel('K')\n",
    "plt.ylabel('SSE')\n",
    "plt.title('SSE vs. K')"
   ]
  },
  {
   "cell_type": "markdown",
   "metadata": {
    "ExecuteTime": {
     "end_time": "2020-02-29T12:44:57.675678Z",
     "start_time": "2020-02-29T12:33:07.193Z"
    }
   },
   "source": [
    "####  Clustering Comparison  Azdias vs Customers "
   ]
  },
  {
   "cell_type": "code",
   "execution_count": null,
   "metadata": {
    "ExecuteTime": {
     "end_time": "2020-02-29T12:44:57.709679Z",
     "start_time": "2020-02-29T12:33:22.898Z"
    }
   },
   "outputs": [],
   "source": [
    "model_c, score = h.get_kmeans_score(eda_customers.X_pca, 10)\n",
    "print(score)\n",
    "model_a, score = h.get_kmeans_score(eda_azdias.X_pca, 10)\n",
    "print(score)"
   ]
  },
  {
   "cell_type": "code",
   "execution_count": null,
   "metadata": {
    "ExecuteTime": {
     "end_time": "2020-02-29T12:44:57.742680Z",
     "start_time": "2020-02-29T12:33:35.963Z"
    }
   },
   "outputs": [],
   "source": [
    "preds_c = model_c.predict(eda_customers.X_pca)\n",
    "preds_a = model_a.predict(eda_azdias.X_pca)\n",
    "\n",
    "counts_c, counts_a = h.plot_cluster_comparison(preds_c, preds_a)"
   ]
  },
  {
   "cell_type": "code",
   "execution_count": null,
   "metadata": {
    "ExecuteTime": {
     "end_time": "2020-02-29T12:44:57.775681Z",
     "start_time": "2020-02-29T12:34:20.479Z"
    }
   },
   "outputs": [],
   "source": [
    "comp_diff_s = (counts_c.percent - counts_a.percent).sort_values(ascending=False)\n",
    "pd.DataFrame(\n",
    "    {\n",
    "        'cluster': comp_diff_s.index,\n",
    "        'diff_pct': comp_diff_s.values\n",
    "    }\n",
    ")"
   ]
  },
  {
   "cell_type": "code",
   "execution_count": null,
   "metadata": {
    "ExecuteTime": {
     "end_time": "2020-02-29T12:44:57.810680Z",
     "start_time": "2020-02-29T12:34:26.871Z"
    }
   },
   "outputs": [],
   "source": [
    "h.list_component(eda_customers, 2)"
   ]
  },
  {
   "cell_type": "markdown",
   "metadata": {},
   "source": [
    "## Part 2: Supervised Learning Model\n",
    "\n",
    "Now that you've found which parts of the population are more likely to be customers of the mail-order company, it's time to build a prediction model. Each of the rows in the \"MAILOUT\" data files represents an individual that was targeted for a mailout campaign. Ideally, we should be able to use the demographic information from each individual to decide whether or not it will be worth it to include that person in the campaign.\n",
    "\n",
    "The \"MAILOUT\" data has been split into two approximately equal parts, each with almost 43 000 data rows. In this part, you can verify your model with the \"TRAIN\" partition, which includes a column, \"RESPONSE\", that states whether or not a person became a customer of the company following the campaign. In the next part, you'll need to create predictions on the \"TEST\" partition, where the \"RESPONSE\" column has been withheld."
   ]
  },
  {
   "cell_type": "code",
   "execution_count": null,
   "metadata": {
    "ExecuteTime": {
     "end_time": "2020-02-29T12:47:12.539679Z",
     "start_time": "2020-02-29T12:47:11.768679Z"
    }
   },
   "outputs": [],
   "source": [
    "# mailout_train = pd.read_csv('../../data/Term2/capstone/arvato_data/Udacity_MAILOUT_052018_TRAIN.csv', sep=';')\n",
    "mailout_train = pd.read_pickle ('..//data//mailout_train.p')    \n",
    "mailout_train.shape"
   ]
  },
  {
   "cell_type": "code",
   "execution_count": null,
   "metadata": {
    "ExecuteTime": {
     "end_time": "2020-02-29T12:47:12.587679Z",
     "start_time": "2020-02-29T12:47:12.550680Z"
    }
   },
   "outputs": [],
   "source": [
    "positive_cnts = mailout_train[mailout_train['RESPONSE'] == 1].shape[0]\n",
    "total_cnts = mailout_train.shape[0]\n",
    " \n",
    "print(f'The train set contains only {positive_cnts / total_cnts *100 :1.2f}% customers with positive response')"
   ]
  },
  {
   "cell_type": "code",
   "execution_count": null,
   "metadata": {
    "ExecuteTime": {
     "end_time": "2020-02-29T12:47:13.209680Z",
     "start_time": "2020-02-29T12:47:12.595679Z"
    }
   },
   "outputs": [],
   "source": [
    "# extract RESPONSE column\n",
    "response = mailout_train['RESPONSE']\n",
    "\n",
    "# drop RESPONSE column\n",
    "mailout_train.drop(labels=['RESPONSE'], axis=1, inplace=True)\n",
    "\n",
    "# find features to drop because of many missing values\n",
    "missing_per_column = mailout_train.isnull().mean()\n",
    "\n",
    "plt.hist(missing_per_column, bins=34)"
   ]
  },
  {
   "cell_type": "markdown",
   "metadata": {},
   "source": [
    "### Data Cleaning"
   ]
  },
  {
   "cell_type": "code",
   "execution_count": null,
   "metadata": {
    "ExecuteTime": {
     "end_time": "2020-02-29T12:47:13.255678Z",
     "start_time": "2020-02-29T12:47:13.213681Z"
    }
   },
   "outputs": [],
   "source": [
    "# read in feature info file\n",
    "feat_info = pd.read_csv('./feats_info.csv', sep=';', names=['feat', 'type', 'unknown'])\n",
    "feat_info.set_index('feat', inplace =True)\n",
    "\n",
    "eda_mailout_train = eda.EDA(mailout_train, feat_info, label = 'mailout_train')\n",
    "# eda_mailout_train.data"
   ]
  },
  {
   "cell_type": "code",
   "execution_count": null,
   "metadata": {
    "ExecuteTime": {
     "end_time": "2020-02-29T12:47:17.794680Z",
     "start_time": "2020-02-29T12:47:13.261681Z"
    }
   },
   "outputs": [],
   "source": [
    "eda_mailout_train.data_pipeline()"
   ]
  },
  {
   "cell_type": "markdown",
   "metadata": {},
   "source": [
    "## Part 3: Kaggle Competition\n",
    "\n",
    "Now that you've created a model to predict which individuals are most likely to respond to a mailout campaign, it's time to test that model in competition through Kaggle. If you click on the link [here](http://www.kaggle.com/t/21e6d45d4c574c7fa2d868f0e8c83140), you'll be taken to the competition page where, if you have a Kaggle account, you can enter. If you're one of the top performers, you may have the chance to be contacted by a hiring manager from Arvato or Bertelsmann for an interview!\n",
    "\n",
    "Your entry to the competition should be a CSV file with two columns. The first column should be a copy of \"LNR\", which acts as an ID number for each individual in the \"TEST\" partition. The second column, \"RESPONSE\", should be some measure of how likely each individual became a customer – this might not be a straightforward probability. As you should have found in Part 2, there is a large output class imbalance, where most individuals did not respond to the mailout. Thus, predicting individual classes and using accuracy does not seem to be an appropriate performance evaluation method. Instead, the competition will be using AUC to evaluate performance. The exact values of the \"RESPONSE\" column do not matter as much: only that the higher values try to capture as many of the actual customers as possible, early in the ROC curve sweep."
   ]
  },
  {
   "cell_type": "code",
   "execution_count": null,
   "metadata": {
    "ExecuteTime": {
     "end_time": "2020-02-29T12:47:17.810680Z",
     "start_time": "2020-02-29T12:47:17.800679Z"
    }
   },
   "outputs": [],
   "source": [
    "# mailout_test = pd.read_csv('../../data/Term2/capstone/arvato_data/Udacity_MAILOUT_052018_TEST.csv', sep=';')"
   ]
  },
  {
   "cell_type": "code",
   "execution_count": null,
   "metadata": {},
   "outputs": [],
   "source": []
  }
 ],
 "metadata": {
  "hide_input": false,
  "kernelspec": {
   "display_name": "Python 3",
   "language": "python",
   "name": "python3"
  },
  "latex_envs": {
   "LaTeX_envs_menu_present": true,
   "autoclose": false,
   "autocomplete": true,
   "bibliofile": "biblio.bib",
   "cite_by": "apalike",
   "current_citInitial": 1,
   "eqLabelWithNumbers": true,
   "eqNumInitial": 1,
   "hotkeys": {
    "equation": "Ctrl-E",
    "itemize": "Ctrl-I"
   },
   "labels_anchors": false,
   "latex_user_defs": false,
   "report_style_numbering": false,
   "user_envs_cfg": false
  },
  "toc": {
   "base_numbering": 1,
   "nav_menu": {},
   "number_sections": true,
   "sideBar": true,
   "skip_h1_title": false,
   "title_cell": "Table of Contents",
   "title_sidebar": "Contents",
   "toc_cell": false,
   "toc_position": {
    "height": "calc(100% - 180px)",
    "left": "10px",
    "top": "150px",
    "width": "271px"
   },
   "toc_section_display": true,
   "toc_window_display": true
  },
  "varInspector": {
   "cols": {
    "lenName": 16,
    "lenType": 16,
    "lenVar": 40
   },
   "kernels_config": {
    "python": {
     "delete_cmd_postfix": "",
     "delete_cmd_prefix": "del ",
     "library": "var_list.py",
     "varRefreshCmd": "print(var_dic_list())"
    },
    "r": {
     "delete_cmd_postfix": ") ",
     "delete_cmd_prefix": "rm(",
     "library": "var_list.r",
     "varRefreshCmd": "cat(var_dic_list()) "
    }
   },
   "types_to_exclude": [
    "module",
    "function",
    "builtin_function_or_method",
    "instance",
    "_Feature"
   ],
   "window_display": false
  }
 },
 "nbformat": 4,
 "nbformat_minor": 2
}
