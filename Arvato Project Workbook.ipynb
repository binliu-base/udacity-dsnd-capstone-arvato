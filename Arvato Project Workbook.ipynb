{
 "cells": [
  {
   "cell_type": "markdown",
   "metadata": {},
   "source": [
    "# Capstone Project: Create a Customer Segmentation Report for Arvato Financial Services\n",
    "\n",
    "In this project, you will analyze demographics data for customers of a mail-order sales company in Germany, comparing it against demographics information for the general population. You'll use unsupervised learning techniques to perform customer segmentation, identifying the parts of the population that best describe the core customer base of the company. Then, you'll apply what you've learned on a third dataset with demographics information for targets of a marketing campaign for the company, and use a model to predict which individuals are most likely to convert into becoming customers for the company. The data that you will use has been provided by our partners at Bertelsmann Arvato Analytics, and represents a real-life data science task.\n",
    "\n",
    "If you completed the first term of this program, you will be familiar with the first part of this project, from the unsupervised learning project. The versions of those two datasets used in this project will include many more features and has not been pre-cleaned. You are also free to choose whatever approach you'd like to analyzing the data rather than follow pre-determined steps. In your work on this project, make sure that you carefully document your steps and decisions, since your main deliverable for this project will be a blog post reporting your findings."
   ]
  },
  {
   "cell_type": "code",
   "execution_count": 1,
   "metadata": {
    "ExecuteTime": {
     "end_time": "2020-03-08T15:50:49.651893Z",
     "start_time": "2020-03-08T15:50:48.125893Z"
    }
   },
   "outputs": [],
   "source": [
    "# import libraries here; add more as necessary\n",
    "import numpy as np\n",
    "import pandas as pd\n",
    "import matplotlib.pyplot as plt\n",
    "import seaborn as sns\n",
    "\n",
    "import sys\n",
    "import pickle\n",
    "import ast\n",
    "\n",
    "from sklearn.preprocessing import Imputer, StandardScaler\n",
    "from sklearn.model_selection import GridSearchCV, train_test_split\n",
    "from sklearn.linear_model import LogisticRegression\n",
    "from sklearn.ensemble import BaggingClassifier\n",
    "from sklearn.metrics import roc_auc_score\n",
    "from hyperopt import hp\n",
    "import lightgbm as lgb\n",
    "from skopt import BayesSearchCV\n",
    "\n",
    "sys.path += ['./ilikeds']\n",
    "import eda \n",
    "import helper_functions as h\n",
    "import train_classifier as t\n",
    "\n",
    "import warnings                             \n",
    "warnings.filterwarnings('ignore')\n",
    "# magic word for producing visualizations in notebook\n",
    "%matplotlib inline"
   ]
  },
  {
   "cell_type": "markdown",
   "metadata": {},
   "source": [
    "## Part 0: Get to Know the Data\n",
    "\n",
    "There are four data files associated with this project:\n",
    "\n",
    "- `Udacity_AZDIAS_052018.csv`: Demographics data for the general population of Germany; 891 211 persons (rows) x 366 features (columns).\n",
    "- `Udacity_CUSTOMERS_052018.csv`: Demographics data for customers of a mail-order company; 191 652 persons (rows) x 369 features (columns).\n",
    "- `Udacity_MAILOUT_052018_TRAIN.csv`: Demographics data for individuals who were targets of a marketing campaign; 42 982 persons (rows) x 367 (columns).\n",
    "- `Udacity_MAILOUT_052018_TEST.csv`: Demographics data for individuals who were targets of a marketing campaign; 42 833 persons (rows) x 366 (columns).\n",
    "\n",
    "Each row of the demographics files represents a single person, but also includes information outside of individuals, including information about their household, building, and neighborhood. Use the information from the first two files to figure out how customers (\"CUSTOMERS\") are similar to or differ from the general population at large (\"AZDIAS\"), then use your analysis to make predictions on the other two files (\"MAILOUT\"), predicting which recipients are most likely to become a customer for the mail-order company.\n",
    "\n",
    "The \"CUSTOMERS\" file contains three extra columns ('CUSTOMER_GROUP', 'ONLINE_PURCHASE', and 'PRODUCT_GROUP'), which provide broad information about the customers depicted in the file. The original \"MAILOUT\" file included one additional column, \"RESPONSE\", which indicated whether or not each recipient became a customer of the company. For the \"TRAIN\" subset, this column has been retained, but in the \"TEST\" subset it has been removed; it is against that withheld column that your final predictions will be assessed in the Kaggle competition.\n",
    "\n",
    "Otherwise, all of the remaining columns are the same between the three data files. For more information about the columns depicted in the files, you can refer to two Excel spreadsheets provided in the workspace. [One of them](./DIAS Information Levels - Attributes 2017.xlsx) is a top-level list of attributes and descriptions, organized by informational category. [The other](./DIAS Attributes - Values 2017.xlsx) is a detailed mapping of data values for each feature in alphabetical order.\n",
    "\n",
    "In the below cell, we've provided some initial code to load in the first two datasets. Note for all of the `.csv` data files in this project that they're semicolon (`;`) delimited, so an additional argument in the [`read_csv()`](https://pandas.pydata.org/pandas-docs/stable/generated/pandas.read_csv.html) call has been included to read in the data properly. Also, considering the size of the datasets, it may take some time for them to load completely.\n",
    "\n",
    "You'll notice when the data is loaded in that a warning message will immediately pop up. Before you really start digging into the modeling and analysis, you're going to need to perform some cleaning. Take some time to browse the structure of the data and look over the informational spreadsheets to understand the data values. Make some decisions on which features to keep, which features to drop, and if any revisions need to be made on data formats. It'll be a good idea to create a function with pre-processing steps, since you'll need to clean all of the datasets before you work with them."
   ]
  },
  {
   "cell_type": "code",
   "execution_count": 2,
   "metadata": {
    "ExecuteTime": {
     "end_time": "2020-03-08T15:50:52.776892Z",
     "start_time": "2020-03-08T15:50:49.657893Z"
    }
   },
   "outputs": [],
   "source": [
    "# load in the data\n",
    "# azdias = pd.read_csv('../../data/Term2/capstone/arvato_data/Udacity_AZDIAS_052018.csv', sep=';')\n",
    "# customers = pd.read_csv('../../data/Term2/capstone/arvato_data/Udacity_CUSTOMERS_052018.csv', sep=';')\n",
    "\n",
    "azdias = pd.read_pickle ('../data/azdias.p')    \n",
    "customers = pd.read_pickle ('../data/customers.p')    \n",
    "\n",
    "sampling_rate = 0.01\n",
    "r=np.random.randint(0, azdias.shape[0], int(azdias.shape[0]*sampling_rate))\n",
    "azdias=azdias.loc[r,:].copy()\n",
    "r=np.random.randint(0, customers.shape[0], int(customers.shape[0]*sampling_rate))\n",
    "customers=customers.loc[r,:].copy()"
   ]
  },
  {
   "cell_type": "code",
   "execution_count": 3,
   "metadata": {
    "ExecuteTime": {
     "end_time": "2020-03-08T15:50:52.822893Z",
     "start_time": "2020-03-08T15:50:52.784895Z"
    }
   },
   "outputs": [
    {
     "data": {
      "text/html": [
       "<div>\n",
       "<style scoped>\n",
       "    .dataframe tbody tr th:only-of-type {\n",
       "        vertical-align: middle;\n",
       "    }\n",
       "\n",
       "    .dataframe tbody tr th {\n",
       "        vertical-align: top;\n",
       "    }\n",
       "\n",
       "    .dataframe thead th {\n",
       "        text-align: right;\n",
       "    }\n",
       "</style>\n",
       "<table border=\"1\" class=\"dataframe\">\n",
       "  <thead>\n",
       "    <tr style=\"text-align: right;\">\n",
       "      <th></th>\n",
       "      <th>type</th>\n",
       "      <th>unknow</th>\n",
       "    </tr>\n",
       "    <tr>\n",
       "      <th>feat</th>\n",
       "      <th></th>\n",
       "      <th></th>\n",
       "    </tr>\n",
       "  </thead>\n",
       "  <tbody>\n",
       "    <tr>\n",
       "      <td>AGER_TYP</td>\n",
       "      <td>categorical</td>\n",
       "      <td>[-1,0]</td>\n",
       "    </tr>\n",
       "    <tr>\n",
       "      <td>ALTERSKATEGORIE_FEIN</td>\n",
       "      <td>ordinal</td>\n",
       "      <td>[-1,0,9]</td>\n",
       "    </tr>\n",
       "    <tr>\n",
       "      <td>ALTERSKATEGORIE_GROB</td>\n",
       "      <td>ordinal</td>\n",
       "      <td>[-1,0,9]</td>\n",
       "    </tr>\n",
       "    <tr>\n",
       "      <td>ALTER_HH</td>\n",
       "      <td>ordinal</td>\n",
       "      <td>[0]</td>\n",
       "    </tr>\n",
       "    <tr>\n",
       "      <td>ANREDE_KZ</td>\n",
       "      <td>binary</td>\n",
       "      <td>[-1,0]</td>\n",
       "    </tr>\n",
       "    <tr>\n",
       "      <td>...</td>\n",
       "      <td>...</td>\n",
       "      <td>...</td>\n",
       "    </tr>\n",
       "    <tr>\n",
       "      <td>RT_UEBERGROESSE</td>\n",
       "      <td>categorical</td>\n",
       "      <td>[]</td>\n",
       "    </tr>\n",
       "    <tr>\n",
       "      <td>STRUKTURTYP</td>\n",
       "      <td>categorical</td>\n",
       "      <td>[]</td>\n",
       "    </tr>\n",
       "    <tr>\n",
       "      <td>UMFELD_ALT</td>\n",
       "      <td>categorical</td>\n",
       "      <td>[]</td>\n",
       "    </tr>\n",
       "    <tr>\n",
       "      <td>UMFELD_JUNG</td>\n",
       "      <td>categorical</td>\n",
       "      <td>[]</td>\n",
       "    </tr>\n",
       "    <tr>\n",
       "      <td>VERDICHTUNGSRAUM</td>\n",
       "      <td>ordinal</td>\n",
       "      <td>[]</td>\n",
       "    </tr>\n",
       "  </tbody>\n",
       "</table>\n",
       "<p>366 rows × 2 columns</p>\n",
       "</div>"
      ],
      "text/plain": [
       "                             type    unknow\n",
       "feat                                       \n",
       "AGER_TYP              categorical    [-1,0]\n",
       "ALTERSKATEGORIE_FEIN      ordinal  [-1,0,9]\n",
       "ALTERSKATEGORIE_GROB      ordinal  [-1,0,9]\n",
       "ALTER_HH                  ordinal       [0]\n",
       "ANREDE_KZ                  binary    [-1,0]\n",
       "...                           ...       ...\n",
       "RT_UEBERGROESSE       categorical        []\n",
       "STRUKTURTYP           categorical        []\n",
       "UMFELD_ALT            categorical        []\n",
       "UMFELD_JUNG           categorical        []\n",
       "VERDICHTUNGSRAUM          ordinal        []\n",
       "\n",
       "[366 rows x 2 columns]"
      ]
     },
     "execution_count": 3,
     "metadata": {},
     "output_type": "execute_result"
    }
   ],
   "source": [
    "# read in feature info file\n",
    "feat_info = pd.read_csv('./feats_info.csv', sep=';', names=['feat', 'type', 'unknow'])\n",
    "# feat_info = pd.read_csv('./feats_info.csv')\n",
    "feat_info.set_index('feat', inplace =True)\n",
    "feat_info"
   ]
  },
  {
   "cell_type": "code",
   "execution_count": 4,
   "metadata": {
    "ExecuteTime": {
     "end_time": "2020-03-08T15:50:54.277894Z",
     "start_time": "2020-03-08T15:50:52.831893Z"
    }
   },
   "outputs": [],
   "source": [
    "# create  a EDA  instance for Azdias.\n",
    "eda_azdias= eda.EDA(azdias, feat_info, label = 'Azdias')\n",
    "\n",
    "# create  a EDA  instance for Azdias. for  customers\n",
    "eda_customers= eda.EDA(customers, feat_info, label = 'Customers')"
   ]
  },
  {
   "cell_type": "code",
   "execution_count": 5,
   "metadata": {
    "ExecuteTime": {
     "end_time": "2020-03-08T15:50:54.308893Z",
     "start_time": "2020-03-08T15:50:54.282893Z"
    }
   },
   "outputs": [
    {
     "data": {
      "text/plain": [
       "pandas.core.series.Series"
      ]
     },
     "execution_count": 5,
     "metadata": {},
     "output_type": "execute_result"
    }
   ],
   "source": [
    "type(feat_info.type)"
   ]
  },
  {
   "cell_type": "code",
   "execution_count": 6,
   "metadata": {
    "ExecuteTime": {
     "end_time": "2020-03-08T15:50:54.355893Z",
     "start_time": "2020-03-08T15:50:54.317895Z"
    }
   },
   "outputs": [
    {
     "data": {
      "text/html": [
       "<div>\n",
       "<style scoped>\n",
       "    .dataframe tbody tr th:only-of-type {\n",
       "        vertical-align: middle;\n",
       "    }\n",
       "\n",
       "    .dataframe tbody tr th {\n",
       "        vertical-align: top;\n",
       "    }\n",
       "\n",
       "    .dataframe thead th {\n",
       "        text-align: right;\n",
       "    }\n",
       "</style>\n",
       "<table border=\"1\" class=\"dataframe\">\n",
       "  <thead>\n",
       "    <tr style=\"text-align: right;\">\n",
       "      <th></th>\n",
       "      <th>type</th>\n",
       "      <th>unknow</th>\n",
       "      <th>is_drop</th>\n",
       "      <th>action</th>\n",
       "      <th>n_nans</th>\n",
       "      <th>percent_of_nans</th>\n",
       "      <th>value_distinct</th>\n",
       "      <th>value_count</th>\n",
       "      <th>value_mean</th>\n",
       "      <th>value_std</th>\n",
       "      <th>value_min</th>\n",
       "      <th>value_max</th>\n",
       "      <th>value_Q1</th>\n",
       "      <th>value_Q3</th>\n",
       "      <th>value_IRQ</th>\n",
       "    </tr>\n",
       "    <tr>\n",
       "      <th>feat</th>\n",
       "      <th></th>\n",
       "      <th></th>\n",
       "      <th></th>\n",
       "      <th></th>\n",
       "      <th></th>\n",
       "      <th></th>\n",
       "      <th></th>\n",
       "      <th></th>\n",
       "      <th></th>\n",
       "      <th></th>\n",
       "      <th></th>\n",
       "      <th></th>\n",
       "      <th></th>\n",
       "      <th></th>\n",
       "      <th></th>\n",
       "    </tr>\n",
       "  </thead>\n",
       "  <tbody>\n",
       "    <tr>\n",
       "      <td>CAMEO_INTL_2015</td>\n",
       "      <td>mixed</td>\n",
       "      <td>['-1','XX']</td>\n",
       "      <td>0</td>\n",
       "      <td>0</td>\n",
       "      <td>1058</td>\n",
       "      <td>0.119</td>\n",
       "      <td>44</td>\n",
       "      <td>NaN</td>\n",
       "      <td>NaN</td>\n",
       "      <td>NaN</td>\n",
       "      <td>NaN</td>\n",
       "      <td>NaN</td>\n",
       "      <td>NaN</td>\n",
       "      <td>NaN</td>\n",
       "      <td>NaN</td>\n",
       "    </tr>\n",
       "    <tr>\n",
       "      <td>LP_LEBENSPHASE_FEIN</td>\n",
       "      <td>mixed</td>\n",
       "      <td>[0]</td>\n",
       "      <td>0</td>\n",
       "      <td>0</td>\n",
       "      <td>50</td>\n",
       "      <td>0.006</td>\n",
       "      <td>42</td>\n",
       "      <td>8862.0</td>\n",
       "      <td>14.712480</td>\n",
       "      <td>12.692101</td>\n",
       "      <td>0.0</td>\n",
       "      <td>40.0</td>\n",
       "      <td>4.0</td>\n",
       "      <td>27.0</td>\n",
       "      <td>23.0</td>\n",
       "    </tr>\n",
       "    <tr>\n",
       "      <td>LP_LEBENSPHASE_GROB</td>\n",
       "      <td>mixed</td>\n",
       "      <td>[0]</td>\n",
       "      <td>0</td>\n",
       "      <td>0</td>\n",
       "      <td>50</td>\n",
       "      <td>0.006</td>\n",
       "      <td>14</td>\n",
       "      <td>8862.0</td>\n",
       "      <td>4.481043</td>\n",
       "      <td>3.876032</td>\n",
       "      <td>0.0</td>\n",
       "      <td>12.0</td>\n",
       "      <td>1.0</td>\n",
       "      <td>8.0</td>\n",
       "      <td>7.0</td>\n",
       "    </tr>\n",
       "    <tr>\n",
       "      <td>PRAEGENDE_JUGENDJAHRE</td>\n",
       "      <td>mixed</td>\n",
       "      <td>[-1,0]</td>\n",
       "      <td>0</td>\n",
       "      <td>0</td>\n",
       "      <td>0</td>\n",
       "      <td>0.000</td>\n",
       "      <td>16</td>\n",
       "      <td>8912.0</td>\n",
       "      <td>8.167078</td>\n",
       "      <td>4.849760</td>\n",
       "      <td>0.0</td>\n",
       "      <td>15.0</td>\n",
       "      <td>5.0</td>\n",
       "      <td>14.0</td>\n",
       "      <td>9.0</td>\n",
       "    </tr>\n",
       "    <tr>\n",
       "      <td>EINGEFUEGT_AM</td>\n",
       "      <td>mixed</td>\n",
       "      <td>[]</td>\n",
       "      <td>0</td>\n",
       "      <td>0</td>\n",
       "      <td>981</td>\n",
       "      <td>0.110</td>\n",
       "      <td>895</td>\n",
       "      <td>NaN</td>\n",
       "      <td>NaN</td>\n",
       "      <td>NaN</td>\n",
       "      <td>NaN</td>\n",
       "      <td>NaN</td>\n",
       "      <td>NaN</td>\n",
       "      <td>NaN</td>\n",
       "      <td>NaN</td>\n",
       "    </tr>\n",
       "  </tbody>\n",
       "</table>\n",
       "</div>"
      ],
      "text/plain": [
       "                        type       unknow  is_drop  action  n_nans  \\\n",
       "feat                                                                 \n",
       "CAMEO_INTL_2015        mixed  ['-1','XX']        0       0    1058   \n",
       "LP_LEBENSPHASE_FEIN    mixed          [0]        0       0      50   \n",
       "LP_LEBENSPHASE_GROB    mixed          [0]        0       0      50   \n",
       "PRAEGENDE_JUGENDJAHRE  mixed       [-1,0]        0       0       0   \n",
       "EINGEFUEGT_AM          mixed           []        0       0     981   \n",
       "\n",
       "                       percent_of_nans  value_distinct  value_count  \\\n",
       "feat                                                                  \n",
       "CAMEO_INTL_2015                  0.119              44          NaN   \n",
       "LP_LEBENSPHASE_FEIN              0.006              42       8862.0   \n",
       "LP_LEBENSPHASE_GROB              0.006              14       8862.0   \n",
       "PRAEGENDE_JUGENDJAHRE            0.000              16       8912.0   \n",
       "EINGEFUEGT_AM                    0.110             895          NaN   \n",
       "\n",
       "                       value_mean  value_std  value_min  value_max  value_Q1  \\\n",
       "feat                                                                           \n",
       "CAMEO_INTL_2015               NaN        NaN        NaN        NaN       NaN   \n",
       "LP_LEBENSPHASE_FEIN     14.712480  12.692101        0.0       40.0       4.0   \n",
       "LP_LEBENSPHASE_GROB      4.481043   3.876032        0.0       12.0       1.0   \n",
       "PRAEGENDE_JUGENDJAHRE    8.167078   4.849760        0.0       15.0       5.0   \n",
       "EINGEFUEGT_AM                 NaN        NaN        NaN        NaN       NaN   \n",
       "\n",
       "                       value_Q3  value_IRQ  \n",
       "feat                                        \n",
       "CAMEO_INTL_2015             NaN        NaN  \n",
       "LP_LEBENSPHASE_FEIN        27.0       23.0  \n",
       "LP_LEBENSPHASE_GROB         8.0        7.0  \n",
       "PRAEGENDE_JUGENDJAHRE      14.0        9.0  \n",
       "EINGEFUEGT_AM               NaN        NaN  "
      ]
     },
     "execution_count": 6,
     "metadata": {},
     "output_type": "execute_result"
    }
   ],
   "source": [
    "mixed = eda_azdias.feat_info[ (eda_azdias.feat_info.type == 'mixed') & (eda_azdias.feat_info.is_drop == 0)]\n",
    "mixed"
   ]
  },
  {
   "cell_type": "markdown",
   "metadata": {},
   "source": [
    "### Data Preprocessing"
   ]
  },
  {
   "cell_type": "code",
   "execution_count": 7,
   "metadata": {
    "ExecuteTime": {
     "end_time": "2020-03-08T15:50:54.371894Z",
     "start_time": "2020-03-08T15:50:54.365893Z"
    }
   },
   "outputs": [],
   "source": [
    "####  Define action dictionary \n",
    "# action_dic ={\n",
    "#     1:  'drop: high missing values',\n",
    "#     2:  'drop: duplicated',\n",
    "#     3:  're-encoding: mapping',    \n",
    "#     4:  're-encoding: logarithmic scaling',        \n",
    "#     5:  'split',\n",
    "# }"
   ]
  },
  {
   "cell_type": "code",
   "execution_count": 8,
   "metadata": {
    "ExecuteTime": {
     "end_time": "2020-03-08T15:50:54.403894Z",
     "start_time": "2020-03-08T15:50:54.381894Z"
    }
   },
   "outputs": [],
   "source": [
    "# Removing the three extra columns ('CUSTOMER_GROUP', 'ONLINE_PURCHASE', and 'PRODUCT_GROUP') in Customers\n",
    "feats_customers_excl  = list(set(eda_customers.data.columns) - set(eda_azdias.data.columns))\n",
    "feats_customers_excl\n",
    "eda_customers.data.drop(columns = feats_customers_excl, inplace =True)"
   ]
  },
  {
   "cell_type": "markdown",
   "metadata": {
    "ExecuteTime": {
     "end_time": "2020-02-28T14:54:12.817463Z",
     "start_time": "2020-02-28T14:54:12.808465Z"
    }
   },
   "source": [
    "####  Step 1:  Converting of missing and unknown data to NaN"
   ]
  },
  {
   "cell_type": "code",
   "execution_count": 9,
   "metadata": {
    "ExecuteTime": {
     "end_time": "2020-03-08T15:50:57.353893Z",
     "start_time": "2020-03-08T15:50:54.409893Z"
    }
   },
   "outputs": [
    {
     "name": "stdout",
     "output_type": "stream",
     "text": [
      "Number of missing values in Azdias:\n",
      "Before converstion is 348443\n",
      "Ater converstion IS 861100\n",
      "Increase in missing values: 147.13 % \n",
      "Number of missing values in Customers:\n",
      "Before converstion is 136734\n",
      "Ater converstion IS 240453\n",
      "Increase in missing values: 75.85 % \n"
     ]
    }
   ],
   "source": [
    "eda_azdias.missing2nan()\n",
    "eda_customers.missing2nan()\n",
    "\n",
    "# Re-Collecting feature stats\n",
    "eda_azdias.update_stats()\n",
    "eda_customers.update_stats()"
   ]
  },
  {
   "cell_type": "markdown",
   "metadata": {},
   "source": [
    "####  Step 2: Remove rows and columns with high miss values"
   ]
  },
  {
   "cell_type": "markdown",
   "metadata": {},
   "source": [
    "##### a. Deleting rows"
   ]
  },
  {
   "cell_type": "code",
   "execution_count": 10,
   "metadata": {
    "ExecuteTime": {
     "end_time": "2020-03-08T15:50:57.699892Z",
     "start_time": "2020-03-08T15:50:57.357894Z"
    }
   },
   "outputs": [
    {
     "data": {
      "text/plain": [
       "(array([ 10.,  18.,  43.,  63., 101., 179., 238., 293., 456., 422., 620.,\n",
       "        472., 441., 601., 459., 439., 679., 779., 707., 148., 100.,  37.,\n",
       "          8.,  11.,  15.,  12.,  25.,  29.,  28.,  39.,  36.,  34.,  50.,\n",
       "         36.,  46.,  62.,  18.,  15.,  14.,   2.,   2.,   2.,   0.,   4.,\n",
       "          1.,   1.,   3.,   2.,   2.,   6.,   2.,  11.,   5.,   7.,   9.,\n",
       "          6.,   1.,   3.,   0.,   1.,   2.,   1.,   4.,   1.,   3.,   3.,\n",
       "          4.,   5.,  11.,  11.,  19.,  15.,  12.,  18.,  12.,  12.,  27.,\n",
       "         13.,  16.,  11.,  11.,  17.,  28.,  23.,   9.,   2.,   3.,   0.,\n",
       "        262., 504.]),\n",
       " array([0.05191257, 0.06111111, 0.07030965, 0.0795082 , 0.08870674,\n",
       "        0.09790528, 0.10710383, 0.11630237, 0.12550091, 0.13469945,\n",
       "        0.143898  , 0.15309654, 0.16229508, 0.17149362, 0.18069217,\n",
       "        0.18989071, 0.19908925, 0.2082878 , 0.21748634, 0.22668488,\n",
       "        0.23588342, 0.24508197, 0.25428051, 0.26347905, 0.2726776 ,\n",
       "        0.28187614, 0.29107468, 0.30027322, 0.30947177, 0.31867031,\n",
       "        0.32786885, 0.3370674 , 0.34626594, 0.35546448, 0.36466302,\n",
       "        0.37386157, 0.38306011, 0.39225865, 0.40145719, 0.41065574,\n",
       "        0.41985428, 0.42905282, 0.43825137, 0.44744991, 0.45664845,\n",
       "        0.46584699, 0.47504554, 0.48424408, 0.49344262, 0.50264117,\n",
       "        0.51183971, 0.52103825, 0.53023679, 0.53943534, 0.54863388,\n",
       "        0.55783242, 0.56703097, 0.57622951, 0.58542805, 0.59462659,\n",
       "        0.60382514, 0.61302368, 0.62222222, 0.63142077, 0.64061931,\n",
       "        0.64981785, 0.65901639, 0.66821494, 0.67741348, 0.68661202,\n",
       "        0.69581056, 0.70500911, 0.71420765, 0.72340619, 0.73260474,\n",
       "        0.74180328, 0.75100182, 0.76020036, 0.76939891, 0.77859745,\n",
       "        0.78779599, 0.79699454, 0.80619308, 0.81539162, 0.82459016,\n",
       "        0.83378871, 0.84298725, 0.85218579, 0.86138434, 0.87058288,\n",
       "        0.87978142]),\n",
       " <a list of 90 Patch objects>)"
      ]
     },
     "execution_count": 10,
     "metadata": {},
     "output_type": "execute_result"
    },
    {
     "data": {
      "image/png": "[encoded data removed]",
      "text/plain": [
       "<Figure size 432x288 with 1 Axes>"
      ]
     },
     "metadata": {
      "needs_background": "light"
     },
     "output_type": "display_data"
    }
   ],
   "source": [
    "rows_n_nans = azdias.isnull().sum(axis=1)\n",
    "plt.hist(rows_n_nans / azdias.shape[1], bins=90)"
   ]
  },
  {
   "cell_type": "code",
   "execution_count": 11,
   "metadata": {
    "ExecuteTime": {
     "end_time": "2020-03-08T15:50:57.779894Z",
     "start_time": "2020-03-08T15:50:57.705893Z"
    }
   },
   "outputs": [
    {
     "name": "stdout",
     "output_type": "stream",
     "text": [
      "Before delete the missing rows, Azdias has 8912 rows\n",
      "After delete the missing rows, Azdias has 7295 rows\n",
      "Delete 1617 rows in total\n"
     ]
    }
   ],
   "source": [
    "_, rows_droped = h.split_dataset(azdias, threshold=0.25)\n",
    "n_deleted_rows = rows_droped.shape[0]\n",
    "print(f'Before delete the missing rows, {eda_azdias} has {eda_azdias.data.shape[0]} rows')\n",
    "azdias.drop(index = rows_droped.index, inplace =True)\n",
    "print(f'After delete the missing rows, {eda_azdias} has {eda_azdias.data.shape[0]} rows')\n",
    "print(f'Delete {n_deleted_rows} rows in total')"
   ]
  },
  {
   "cell_type": "code",
   "execution_count": 12,
   "metadata": {
    "ExecuteTime": {
     "end_time": "2020-03-08T15:50:57.842890Z",
     "start_time": "2020-03-08T15:50:57.785893Z"
    }
   },
   "outputs": [
    {
     "name": "stdout",
     "output_type": "stream",
     "text": [
      "Before delete the high missing rate rows, Customers has 1916 rows\n",
      "After delete the hitg missing rate rows, Customers has 1354 rows\n",
      "Delete 562 rows in total\n"
     ]
    }
   ],
   "source": [
    "_, rows_droped = h.split_dataset(customers, threshold=0.25)\n",
    "n_deleted_rows = rows_droped.shape[0]\n",
    "print(f'Before delete the high missing rate rows, {eda_customers} has {eda_customers.data.shape[0]} rows')\n",
    "eda_customers.data.drop(index = rows_droped.index, inplace =True)\n",
    "print(f'After delete the hitg missing rate rows, {eda_customers} has {eda_customers.data.shape[0]} rows')\n",
    "print(f'Delete {n_deleted_rows} rows in total')"
   ]
  },
  {
   "cell_type": "markdown",
   "metadata": {},
   "source": [
    "##### b. Deleteing columns"
   ]
  },
  {
   "cell_type": "code",
   "execution_count": 13,
   "metadata": {
    "ExecuteTime": {
     "end_time": "2020-03-08T15:50:58.060893Z",
     "start_time": "2020-03-08T15:50:57.850894Z"
    }
   },
   "outputs": [
    {
     "data": {
      "text/plain": [
       "Text(0.5, 1.0, 'Distribution of missing value per column')"
      ]
     },
     "execution_count": 13,
     "metadata": {},
     "output_type": "execute_result"
    },
    {
     "data": {
      "image/png": "[encoded data removed]",
      "text/plain": [
       "<Figure size 432x288 with 1 Axes>"
      ]
     },
     "metadata": {
      "needs_background": "light"
     },
     "output_type": "display_data"
    }
   ],
   "source": [
    "eda_azdias.feat_info.percent_of_nans.sort_values().hist(bins = 40, alpha = 0.7)\n",
    "plt.xlabel('Missing Rate ')\n",
    "plt.ylabel('Num Of Features')\n",
    "plt.title('Distribution of missing value per column')"
   ]
  },
  {
   "cell_type": "code",
   "execution_count": 14,
   "metadata": {
    "ExecuteTime": {
     "end_time": "2020-03-08T15:50:58.091892Z",
     "start_time": "2020-03-08T15:50:58.064892Z"
    }
   },
   "outputs": [
    {
     "data": {
      "text/plain": [
       "Index(['AGER_TYP', 'D19_BANKEN_ANZ_12', 'D19_BANKEN_ANZ_24',\n",
       "       'D19_BANKEN_DATUM', 'D19_BANKEN_DIREKT', 'D19_BANKEN_GROSS',\n",
       "       'D19_BANKEN_LOKAL', 'D19_BANKEN_OFFLINE_DATUM',\n",
       "       'D19_BANKEN_ONLINE_DATUM', 'D19_BANKEN_ONLINE_QUOTE_12',\n",
       "       'D19_BANKEN_REST', 'D19_BEKLEIDUNG_GEH', 'D19_BEKLEIDUNG_REST',\n",
       "       'D19_BILDUNG', 'D19_BIO_OEKO', 'D19_BUCH_CD', 'D19_DIGIT_SERV',\n",
       "       'D19_DROGERIEARTIKEL', 'D19_ENERGIE', 'D19_FREIZEIT', 'D19_GARTEN',\n",
       "       'D19_GESAMT_ANZ_12', 'D19_GESAMT_OFFLINE_DATUM',\n",
       "       'D19_GESAMT_ONLINE_QUOTE_12', 'D19_HANDWERK', 'D19_HAUS_DEKO',\n",
       "       'D19_KINDERARTIKEL', 'D19_KOSMETIK', 'D19_LEBENSMITTEL', 'D19_LOTTO',\n",
       "       'D19_NAHRUNGSERGAENZUNG', 'D19_RATGEBER', 'D19_REISEN',\n",
       "       'D19_SAMMELARTIKEL', 'D19_SCHUHE', 'D19_SOZIALES', 'D19_TECHNIK',\n",
       "       'D19_TELKO_ANZ_12', 'D19_TELKO_ANZ_24', 'D19_TELKO_DATUM',\n",
       "       'D19_TELKO_MOBILE', 'D19_TELKO_OFFLINE_DATUM', 'D19_TELKO_ONLINE_DATUM',\n",
       "       'D19_TELKO_ONLINE_QUOTE_12', 'D19_TELKO_REST', 'D19_TIERARTIKEL',\n",
       "       'D19_VERSAND_ANZ_12', 'D19_VERSAND_ANZ_24', 'D19_VERSAND_OFFLINE_DATUM',\n",
       "       'D19_VERSAND_ONLINE_QUOTE_12', 'D19_VERSICHERUNGEN', 'D19_VERSAND_REST',\n",
       "       'D19_VERSI_ANZ_12', 'D19_VERSI_ANZ_24', 'D19_VERSI_DATUM',\n",
       "       'D19_VERSI_OFFLINE_DATUM', 'D19_VERSI_ONLINE_DATUM',\n",
       "       'D19_VERSI_ONLINE_QUOTE_12', 'D19_VOLLSORTIMENT', 'D19_WEIN_FEINKOST',\n",
       "       'KK_KUNDENTYP', 'TITEL_KZ', 'EXTSEL992', 'VHA', 'ALTER_KIND1',\n",
       "       'ALTER_KIND2', 'ALTER_KIND3', 'ALTER_KIND4'],\n",
       "      dtype='object', name='feat')"
      ]
     },
     "execution_count": 14,
     "metadata": {},
     "output_type": "execute_result"
    }
   ],
   "source": [
    "thr_col_missing = 0.6\n",
    "feats_high_missing_azdias = eda_azdias.feat_info.loc[eda_azdias.feat_info.percent_of_nans > thr_col_missing].index\n",
    "feats_high_missing_azdias"
   ]
  },
  {
   "cell_type": "code",
   "execution_count": 15,
   "metadata": {
    "ExecuteTime": {
     "end_time": "2020-03-08T15:50:58.122892Z",
     "start_time": "2020-03-08T15:50:58.099892Z"
    }
   },
   "outputs": [
    {
     "data": {
      "text/plain": [
       "Index(['D19_BANKEN_ANZ_12', 'D19_BANKEN_ANZ_24', 'D19_BANKEN_DATUM',\n",
       "       'D19_BANKEN_DIREKT', 'D19_BANKEN_GROSS', 'D19_BANKEN_LOKAL',\n",
       "       'D19_BANKEN_OFFLINE_DATUM', 'D19_BANKEN_ONLINE_DATUM',\n",
       "       'D19_BANKEN_ONLINE_QUOTE_12', 'D19_BANKEN_REST', 'D19_BEKLEIDUNG_GEH',\n",
       "       'D19_BEKLEIDUNG_REST', 'D19_BILDUNG', 'D19_BIO_OEKO', 'D19_DIGIT_SERV',\n",
       "       'D19_DROGERIEARTIKEL', 'D19_ENERGIE', 'D19_FREIZEIT', 'D19_GARTEN',\n",
       "       'D19_GESAMT_ONLINE_QUOTE_12', 'D19_HANDWERK', 'D19_HAUS_DEKO',\n",
       "       'D19_KINDERARTIKEL', 'D19_KOSMETIK', 'D19_LEBENSMITTEL', 'D19_LOTTO',\n",
       "       'D19_NAHRUNGSERGAENZUNG', 'D19_RATGEBER', 'D19_REISEN',\n",
       "       'D19_SAMMELARTIKEL', 'D19_SCHUHE', 'D19_TECHNIK', 'D19_TELKO_ANZ_12',\n",
       "       'D19_TELKO_ANZ_24', 'D19_TELKO_DATUM', 'D19_TELKO_MOBILE',\n",
       "       'D19_TELKO_OFFLINE_DATUM', 'D19_TELKO_ONLINE_DATUM',\n",
       "       'D19_TELKO_ONLINE_QUOTE_12', 'D19_TELKO_REST', 'D19_TIERARTIKEL',\n",
       "       'D19_VERSAND_ANZ_12', 'D19_VERSAND_ONLINE_QUOTE_12',\n",
       "       'D19_VERSICHERUNGEN', 'D19_VERSAND_REST', 'D19_VERSI_ANZ_12',\n",
       "       'D19_VERSI_ANZ_24', 'D19_VERSI_DATUM', 'D19_VERSI_OFFLINE_DATUM',\n",
       "       'D19_VERSI_ONLINE_DATUM', 'D19_VERSI_ONLINE_QUOTE_12',\n",
       "       'D19_WEIN_FEINKOST', 'TITEL_KZ', 'VHA', 'ALTER_KIND1', 'ALTER_KIND2',\n",
       "       'ALTER_KIND3', 'ALTER_KIND4'],\n",
       "      dtype='object', name='feat')"
      ]
     },
     "execution_count": 15,
     "metadata": {},
     "output_type": "execute_result"
    }
   ],
   "source": [
    "feats_high_missing_customers = eda_customers.feat_info.loc[eda_customers.feat_info.percent_of_nans >thr_col_missing ].index\n",
    "feats_high_missing_customers"
   ]
  },
  {
   "cell_type": "code",
   "execution_count": 16,
   "metadata": {
    "ExecuteTime": {
     "end_time": "2020-03-08T15:50:58.138894Z",
     "start_time": "2020-03-08T15:50:58.127893Z"
    }
   },
   "outputs": [
    {
     "data": {
      "text/plain": [
       "{'ALTER_KIND1',\n",
       " 'ALTER_KIND2',\n",
       " 'ALTER_KIND3',\n",
       " 'ALTER_KIND4',\n",
       " 'D19_BANKEN_ANZ_12',\n",
       " 'D19_BANKEN_ANZ_24',\n",
       " 'D19_BANKEN_DATUM',\n",
       " 'D19_BANKEN_DIREKT',\n",
       " 'D19_BANKEN_GROSS',\n",
       " 'D19_BANKEN_LOKAL',\n",
       " 'D19_BANKEN_OFFLINE_DATUM',\n",
       " 'D19_BANKEN_ONLINE_DATUM',\n",
       " 'D19_BANKEN_ONLINE_QUOTE_12',\n",
       " 'D19_BANKEN_REST',\n",
       " 'D19_BEKLEIDUNG_GEH',\n",
       " 'D19_BEKLEIDUNG_REST',\n",
       " 'D19_BILDUNG',\n",
       " 'D19_BIO_OEKO',\n",
       " 'D19_DIGIT_SERV',\n",
       " 'D19_DROGERIEARTIKEL',\n",
       " 'D19_ENERGIE',\n",
       " 'D19_FREIZEIT',\n",
       " 'D19_GARTEN',\n",
       " 'D19_GESAMT_ONLINE_QUOTE_12',\n",
       " 'D19_HANDWERK',\n",
       " 'D19_HAUS_DEKO',\n",
       " 'D19_KINDERARTIKEL',\n",
       " 'D19_KOSMETIK',\n",
       " 'D19_LEBENSMITTEL',\n",
       " 'D19_LOTTO',\n",
       " 'D19_NAHRUNGSERGAENZUNG',\n",
       " 'D19_RATGEBER',\n",
       " 'D19_REISEN',\n",
       " 'D19_SAMMELARTIKEL',\n",
       " 'D19_SCHUHE',\n",
       " 'D19_TECHNIK',\n",
       " 'D19_TELKO_ANZ_12',\n",
       " 'D19_TELKO_ANZ_24',\n",
       " 'D19_TELKO_DATUM',\n",
       " 'D19_TELKO_MOBILE',\n",
       " 'D19_TELKO_OFFLINE_DATUM',\n",
       " 'D19_TELKO_ONLINE_DATUM',\n",
       " 'D19_TELKO_ONLINE_QUOTE_12',\n",
       " 'D19_TELKO_REST',\n",
       " 'D19_TIERARTIKEL',\n",
       " 'D19_VERSAND_ANZ_12',\n",
       " 'D19_VERSAND_ONLINE_QUOTE_12',\n",
       " 'D19_VERSAND_REST',\n",
       " 'D19_VERSICHERUNGEN',\n",
       " 'D19_VERSI_ANZ_12',\n",
       " 'D19_VERSI_ANZ_24',\n",
       " 'D19_VERSI_DATUM',\n",
       " 'D19_VERSI_OFFLINE_DATUM',\n",
       " 'D19_VERSI_ONLINE_DATUM',\n",
       " 'D19_VERSI_ONLINE_QUOTE_12',\n",
       " 'D19_WEIN_FEINKOST',\n",
       " 'TITEL_KZ',\n",
       " 'VHA'}"
      ]
     },
     "execution_count": 16,
     "metadata": {},
     "output_type": "execute_result"
    }
   ],
   "source": [
    "# # Get features with high missing rates in both datasets\n",
    "feats_high_missing = set(feats_high_missing_azdias).intersection(set(feats_high_missing_customers))\n",
    "feats_high_missing"
   ]
  },
  {
   "cell_type": "code",
   "execution_count": 17,
   "metadata": {
    "ExecuteTime": {
     "end_time": "2020-03-08T15:50:58.170892Z",
     "start_time": "2020-03-08T15:50:58.145893Z"
    }
   },
   "outputs": [],
   "source": [
    "eda_azdias.feat_info.loc[feats_high_missing,'action'] = h.action_dic[1]\n",
    "eda_azdias.feat_info.loc[feats_high_missing,'is_drop'] = 1\n",
    "\n",
    "eda_customers.feat_info.loc[feats_high_missing,'action'] = h.action_dic[1]\n",
    "eda_customers.feat_info.loc[feats_high_missing,'is_drop'] = 1"
   ]
  },
  {
   "cell_type": "code",
   "execution_count": 18,
   "metadata": {
    "ExecuteTime": {
     "end_time": "2020-03-08T15:50:58.218895Z",
     "start_time": "2020-03-08T15:50:58.177893Z"
    },
    "scrolled": true
   },
   "outputs": [
    {
     "data": {
      "text/html": [
       "<div>\n",
       "<style scoped>\n",
       "    .dataframe tbody tr th:only-of-type {\n",
       "        vertical-align: middle;\n",
       "    }\n",
       "\n",
       "    .dataframe tbody tr th {\n",
       "        vertical-align: top;\n",
       "    }\n",
       "\n",
       "    .dataframe thead th {\n",
       "        text-align: right;\n",
       "    }\n",
       "</style>\n",
       "<table border=\"1\" class=\"dataframe\">\n",
       "  <thead>\n",
       "    <tr style=\"text-align: right;\">\n",
       "      <th></th>\n",
       "      <th>type</th>\n",
       "      <th>unknow</th>\n",
       "      <th>is_drop</th>\n",
       "      <th>action</th>\n",
       "      <th>n_nans</th>\n",
       "      <th>percent_of_nans</th>\n",
       "      <th>value_distinct</th>\n",
       "      <th>value_count</th>\n",
       "      <th>value_mean</th>\n",
       "      <th>value_std</th>\n",
       "      <th>value_min</th>\n",
       "      <th>value_max</th>\n",
       "      <th>value_Q1</th>\n",
       "      <th>value_Q3</th>\n",
       "      <th>value_IRQ</th>\n",
       "    </tr>\n",
       "    <tr>\n",
       "      <th>feat</th>\n",
       "      <th></th>\n",
       "      <th></th>\n",
       "      <th></th>\n",
       "      <th></th>\n",
       "      <th></th>\n",
       "      <th></th>\n",
       "      <th></th>\n",
       "      <th></th>\n",
       "      <th></th>\n",
       "      <th></th>\n",
       "      <th></th>\n",
       "      <th></th>\n",
       "      <th></th>\n",
       "      <th></th>\n",
       "      <th></th>\n",
       "    </tr>\n",
       "  </thead>\n",
       "  <tbody>\n",
       "    <tr>\n",
       "      <td>D19_TELKO_ONLINE_DATUM</td>\n",
       "      <td>ordinal</td>\n",
       "      <td>[10]</td>\n",
       "      <td>1</td>\n",
       "      <td>drop: high missing values</td>\n",
       "      <td>8838</td>\n",
       "      <td>0.992</td>\n",
       "      <td>9</td>\n",
       "      <td>74.0</td>\n",
       "      <td>7.824324</td>\n",
       "      <td>1.658173</td>\n",
       "      <td>2.0</td>\n",
       "      <td>9.0</td>\n",
       "      <td>7.00</td>\n",
       "      <td>9.00</td>\n",
       "      <td>2.00</td>\n",
       "    </tr>\n",
       "    <tr>\n",
       "      <td>D19_ENERGIE</td>\n",
       "      <td>ordinal</td>\n",
       "      <td>[0]</td>\n",
       "      <td>1</td>\n",
       "      <td>drop: high missing values</td>\n",
       "      <td>8332</td>\n",
       "      <td>0.935</td>\n",
       "      <td>8</td>\n",
       "      <td>580.0</td>\n",
       "      <td>4.936207</td>\n",
       "      <td>1.574099</td>\n",
       "      <td>1.0</td>\n",
       "      <td>7.0</td>\n",
       "      <td>3.00</td>\n",
       "      <td>6.00</td>\n",
       "      <td>3.00</td>\n",
       "    </tr>\n",
       "    <tr>\n",
       "      <td>D19_BANKEN_GROSS</td>\n",
       "      <td>ordinal</td>\n",
       "      <td>[0]</td>\n",
       "      <td>1</td>\n",
       "      <td>drop: high missing values</td>\n",
       "      <td>7816</td>\n",
       "      <td>0.877</td>\n",
       "      <td>7</td>\n",
       "      <td>1096.0</td>\n",
       "      <td>4.822080</td>\n",
       "      <td>1.572685</td>\n",
       "      <td>1.0</td>\n",
       "      <td>6.0</td>\n",
       "      <td>4.00</td>\n",
       "      <td>6.00</td>\n",
       "      <td>2.00</td>\n",
       "    </tr>\n",
       "    <tr>\n",
       "      <td>D19_HAUS_DEKO</td>\n",
       "      <td>ordinal</td>\n",
       "      <td>[0]</td>\n",
       "      <td>1</td>\n",
       "      <td>drop: high missing values</td>\n",
       "      <td>7136</td>\n",
       "      <td>0.801</td>\n",
       "      <td>8</td>\n",
       "      <td>1776.0</td>\n",
       "      <td>5.086712</td>\n",
       "      <td>1.497913</td>\n",
       "      <td>1.0</td>\n",
       "      <td>7.0</td>\n",
       "      <td>4.00</td>\n",
       "      <td>6.00</td>\n",
       "      <td>2.00</td>\n",
       "    </tr>\n",
       "    <tr>\n",
       "      <td>D19_BANKEN_ONLINE_QUOTE_12</td>\n",
       "      <td>ordinal</td>\n",
       "      <td>[0]</td>\n",
       "      <td>1</td>\n",
       "      <td>drop: high missing values</td>\n",
       "      <td>8433</td>\n",
       "      <td>0.946</td>\n",
       "      <td>7</td>\n",
       "      <td>479.0</td>\n",
       "      <td>9.881002</td>\n",
       "      <td>0.810776</td>\n",
       "      <td>2.0</td>\n",
       "      <td>10.0</td>\n",
       "      <td>10.00</td>\n",
       "      <td>10.00</td>\n",
       "      <td>0.00</td>\n",
       "    </tr>\n",
       "    <tr>\n",
       "      <td>D19_TELKO_OFFLINE_DATUM</td>\n",
       "      <td>ordinal</td>\n",
       "      <td>[10]</td>\n",
       "      <td>1</td>\n",
       "      <td>drop: high missing values</td>\n",
       "      <td>8198</td>\n",
       "      <td>0.920</td>\n",
       "      <td>10</td>\n",
       "      <td>714.0</td>\n",
       "      <td>7.806723</td>\n",
       "      <td>1.700313</td>\n",
       "      <td>1.0</td>\n",
       "      <td>9.0</td>\n",
       "      <td>7.00</td>\n",
       "      <td>9.00</td>\n",
       "      <td>2.00</td>\n",
       "    </tr>\n",
       "    <tr>\n",
       "      <td>D19_BANKEN_ANZ_12</td>\n",
       "      <td>ordinal</td>\n",
       "      <td>[0]</td>\n",
       "      <td>1</td>\n",
       "      <td>drop: high missing values</td>\n",
       "      <td>8300</td>\n",
       "      <td>0.931</td>\n",
       "      <td>7</td>\n",
       "      <td>612.0</td>\n",
       "      <td>1.857843</td>\n",
       "      <td>1.121602</td>\n",
       "      <td>1.0</td>\n",
       "      <td>6.0</td>\n",
       "      <td>1.00</td>\n",
       "      <td>2.00</td>\n",
       "      <td>1.00</td>\n",
       "    </tr>\n",
       "    <tr>\n",
       "      <td>ALTER_KIND4</td>\n",
       "      <td>ordinal</td>\n",
       "      <td>[]</td>\n",
       "      <td>1</td>\n",
       "      <td>drop: high missing values</td>\n",
       "      <td>8897</td>\n",
       "      <td>0.998</td>\n",
       "      <td>6</td>\n",
       "      <td>15.0</td>\n",
       "      <td>16.333333</td>\n",
       "      <td>1.588650</td>\n",
       "      <td>12.0</td>\n",
       "      <td>18.0</td>\n",
       "      <td>15.50</td>\n",
       "      <td>17.00</td>\n",
       "      <td>1.50</td>\n",
       "    </tr>\n",
       "    <tr>\n",
       "      <td>VHA</td>\n",
       "      <td>categorical</td>\n",
       "      <td>[0]</td>\n",
       "      <td>1</td>\n",
       "      <td>drop: high missing values</td>\n",
       "      <td>7344</td>\n",
       "      <td>0.824</td>\n",
       "      <td>6</td>\n",
       "      <td>1568.0</td>\n",
       "      <td>2.338648</td>\n",
       "      <td>1.583897</td>\n",
       "      <td>1.0</td>\n",
       "      <td>5.0</td>\n",
       "      <td>1.00</td>\n",
       "      <td>4.00</td>\n",
       "      <td>3.00</td>\n",
       "    </tr>\n",
       "    <tr>\n",
       "      <td>D19_VERSI_ONLINE_DATUM</td>\n",
       "      <td>ordinal</td>\n",
       "      <td>[10]</td>\n",
       "      <td>1</td>\n",
       "      <td>drop: high missing values</td>\n",
       "      <td>8850</td>\n",
       "      <td>0.993</td>\n",
       "      <td>10</td>\n",
       "      <td>62.0</td>\n",
       "      <td>7.048387</td>\n",
       "      <td>2.067924</td>\n",
       "      <td>1.0</td>\n",
       "      <td>9.0</td>\n",
       "      <td>5.25</td>\n",
       "      <td>9.00</td>\n",
       "      <td>3.75</td>\n",
       "    </tr>\n",
       "    <tr>\n",
       "      <td>D19_TELKO_ONLINE_QUOTE_12</td>\n",
       "      <td>ordinal</td>\n",
       "      <td>[0]</td>\n",
       "      <td>1</td>\n",
       "      <td>drop: high missing values</td>\n",
       "      <td>8905</td>\n",
       "      <td>0.999</td>\n",
       "      <td>2</td>\n",
       "      <td>7.0</td>\n",
       "      <td>10.000000</td>\n",
       "      <td>0.000000</td>\n",
       "      <td>10.0</td>\n",
       "      <td>10.0</td>\n",
       "      <td>10.00</td>\n",
       "      <td>10.00</td>\n",
       "      <td>0.00</td>\n",
       "    </tr>\n",
       "    <tr>\n",
       "      <td>D19_TELKO_REST</td>\n",
       "      <td>ordinal</td>\n",
       "      <td>[0]</td>\n",
       "      <td>1</td>\n",
       "      <td>drop: high missing values</td>\n",
       "      <td>7628</td>\n",
       "      <td>0.856</td>\n",
       "      <td>8</td>\n",
       "      <td>1284.0</td>\n",
       "      <td>5.516355</td>\n",
       "      <td>1.109253</td>\n",
       "      <td>1.0</td>\n",
       "      <td>7.0</td>\n",
       "      <td>5.00</td>\n",
       "      <td>6.00</td>\n",
       "      <td>1.00</td>\n",
       "    </tr>\n",
       "    <tr>\n",
       "      <td>D19_BANKEN_DATUM</td>\n",
       "      <td>ordinal</td>\n",
       "      <td>[10]</td>\n",
       "      <td>1</td>\n",
       "      <td>drop: high missing values</td>\n",
       "      <td>6726</td>\n",
       "      <td>0.755</td>\n",
       "      <td>10</td>\n",
       "      <td>2186.0</td>\n",
       "      <td>6.937786</td>\n",
       "      <td>2.315754</td>\n",
       "      <td>1.0</td>\n",
       "      <td>9.0</td>\n",
       "      <td>5.00</td>\n",
       "      <td>9.00</td>\n",
       "      <td>4.00</td>\n",
       "    </tr>\n",
       "    <tr>\n",
       "      <td>D19_GARTEN</td>\n",
       "      <td>ordinal</td>\n",
       "      <td>[0]</td>\n",
       "      <td>1</td>\n",
       "      <td>drop: high missing values</td>\n",
       "      <td>8487</td>\n",
       "      <td>0.952</td>\n",
       "      <td>8</td>\n",
       "      <td>425.0</td>\n",
       "      <td>5.844706</td>\n",
       "      <td>1.057041</td>\n",
       "      <td>1.0</td>\n",
       "      <td>7.0</td>\n",
       "      <td>6.00</td>\n",
       "      <td>6.00</td>\n",
       "      <td>0.00</td>\n",
       "    </tr>\n",
       "    <tr>\n",
       "      <td>D19_BILDUNG</td>\n",
       "      <td>ordinal</td>\n",
       "      <td>[0]</td>\n",
       "      <td>1</td>\n",
       "      <td>drop: high missing values</td>\n",
       "      <td>8123</td>\n",
       "      <td>0.911</td>\n",
       "      <td>8</td>\n",
       "      <td>789.0</td>\n",
       "      <td>5.470215</td>\n",
       "      <td>1.658140</td>\n",
       "      <td>1.0</td>\n",
       "      <td>7.0</td>\n",
       "      <td>5.00</td>\n",
       "      <td>7.00</td>\n",
       "      <td>2.00</td>\n",
       "    </tr>\n",
       "    <tr>\n",
       "      <td>D19_BANKEN_ANZ_24</td>\n",
       "      <td>ordinal</td>\n",
       "      <td>[0]</td>\n",
       "      <td>1</td>\n",
       "      <td>drop: high missing values</td>\n",
       "      <td>7908</td>\n",
       "      <td>0.887</td>\n",
       "      <td>7</td>\n",
       "      <td>1004.0</td>\n",
       "      <td>2.016932</td>\n",
       "      <td>1.247415</td>\n",
       "      <td>1.0</td>\n",
       "      <td>6.0</td>\n",
       "      <td>1.00</td>\n",
       "      <td>3.00</td>\n",
       "      <td>2.00</td>\n",
       "    </tr>\n",
       "    <tr>\n",
       "      <td>D19_NAHRUNGSERGAENZUNG</td>\n",
       "      <td>ordinal</td>\n",
       "      <td>[0]</td>\n",
       "      <td>1</td>\n",
       "      <td>drop: high missing values</td>\n",
       "      <td>8511</td>\n",
       "      <td>0.955</td>\n",
       "      <td>8</td>\n",
       "      <td>401.0</td>\n",
       "      <td>5.593516</td>\n",
       "      <td>1.572214</td>\n",
       "      <td>1.0</td>\n",
       "      <td>7.0</td>\n",
       "      <td>5.00</td>\n",
       "      <td>7.00</td>\n",
       "      <td>2.00</td>\n",
       "    </tr>\n",
       "    <tr>\n",
       "      <td>D19_SAMMELARTIKEL</td>\n",
       "      <td>ordinal</td>\n",
       "      <td>[0]</td>\n",
       "      <td>1</td>\n",
       "      <td>drop: high missing values</td>\n",
       "      <td>8003</td>\n",
       "      <td>0.898</td>\n",
       "      <td>6</td>\n",
       "      <td>909.0</td>\n",
       "      <td>5.985699</td>\n",
       "      <td>0.736714</td>\n",
       "      <td>3.0</td>\n",
       "      <td>7.0</td>\n",
       "      <td>6.00</td>\n",
       "      <td>6.00</td>\n",
       "      <td>0.00</td>\n",
       "    </tr>\n",
       "    <tr>\n",
       "      <td>D19_TELKO_DATUM</td>\n",
       "      <td>ordinal</td>\n",
       "      <td>[10]</td>\n",
       "      <td>1</td>\n",
       "      <td>drop: high missing values</td>\n",
       "      <td>6623</td>\n",
       "      <td>0.743</td>\n",
       "      <td>10</td>\n",
       "      <td>2289.0</td>\n",
       "      <td>7.710791</td>\n",
       "      <td>1.848329</td>\n",
       "      <td>1.0</td>\n",
       "      <td>9.0</td>\n",
       "      <td>7.00</td>\n",
       "      <td>9.00</td>\n",
       "      <td>2.00</td>\n",
       "    </tr>\n",
       "    <tr>\n",
       "      <td>D19_LOTTO</td>\n",
       "      <td>ordinal</td>\n",
       "      <td>[0]</td>\n",
       "      <td>1</td>\n",
       "      <td>drop: high missing values</td>\n",
       "      <td>7475</td>\n",
       "      <td>0.839</td>\n",
       "      <td>5</td>\n",
       "      <td>1437.0</td>\n",
       "      <td>6.718859</td>\n",
       "      <td>0.666769</td>\n",
       "      <td>3.0</td>\n",
       "      <td>7.0</td>\n",
       "      <td>7.00</td>\n",
       "      <td>7.00</td>\n",
       "      <td>0.00</td>\n",
       "    </tr>\n",
       "    <tr>\n",
       "      <td>D19_TIERARTIKEL</td>\n",
       "      <td>ordinal</td>\n",
       "      <td>[0]</td>\n",
       "      <td>1</td>\n",
       "      <td>drop: high missing values</td>\n",
       "      <td>8544</td>\n",
       "      <td>0.959</td>\n",
       "      <td>8</td>\n",
       "      <td>368.0</td>\n",
       "      <td>5.472826</td>\n",
       "      <td>1.368912</td>\n",
       "      <td>1.0</td>\n",
       "      <td>7.0</td>\n",
       "      <td>5.00</td>\n",
       "      <td>6.00</td>\n",
       "      <td>1.00</td>\n",
       "    </tr>\n",
       "    <tr>\n",
       "      <td>D19_VERSAND_REST</td>\n",
       "      <td>ordinal</td>\n",
       "      <td>[0]</td>\n",
       "      <td>1</td>\n",
       "      <td>drop: high missing values</td>\n",
       "      <td>7229</td>\n",
       "      <td>0.811</td>\n",
       "      <td>8</td>\n",
       "      <td>1683.0</td>\n",
       "      <td>4.713607</td>\n",
       "      <td>1.561646</td>\n",
       "      <td>1.0</td>\n",
       "      <td>7.0</td>\n",
       "      <td>3.00</td>\n",
       "      <td>6.00</td>\n",
       "      <td>3.00</td>\n",
       "    </tr>\n",
       "    <tr>\n",
       "      <td>D19_VERSI_OFFLINE_DATUM</td>\n",
       "      <td>ordinal</td>\n",
       "      <td>[10]</td>\n",
       "      <td>1</td>\n",
       "      <td>drop: high missing values</td>\n",
       "      <td>8560</td>\n",
       "      <td>0.961</td>\n",
       "      <td>10</td>\n",
       "      <td>352.0</td>\n",
       "      <td>7.846591</td>\n",
       "      <td>1.650102</td>\n",
       "      <td>1.0</td>\n",
       "      <td>9.0</td>\n",
       "      <td>7.00</td>\n",
       "      <td>9.00</td>\n",
       "      <td>2.00</td>\n",
       "    </tr>\n",
       "    <tr>\n",
       "      <td>D19_VERSI_DATUM</td>\n",
       "      <td>ordinal</td>\n",
       "      <td>[10]</td>\n",
       "      <td>1</td>\n",
       "      <td>drop: high missing values</td>\n",
       "      <td>6628</td>\n",
       "      <td>0.744</td>\n",
       "      <td>10</td>\n",
       "      <td>2284.0</td>\n",
       "      <td>6.690893</td>\n",
       "      <td>2.427194</td>\n",
       "      <td>1.0</td>\n",
       "      <td>9.0</td>\n",
       "      <td>5.00</td>\n",
       "      <td>9.00</td>\n",
       "      <td>4.00</td>\n",
       "    </tr>\n",
       "    <tr>\n",
       "      <td>D19_FREIZEIT</td>\n",
       "      <td>ordinal</td>\n",
       "      <td>[0]</td>\n",
       "      <td>1</td>\n",
       "      <td>drop: high missing values</td>\n",
       "      <td>7899</td>\n",
       "      <td>0.886</td>\n",
       "      <td>8</td>\n",
       "      <td>1013.0</td>\n",
       "      <td>5.242843</td>\n",
       "      <td>1.394604</td>\n",
       "      <td>1.0</td>\n",
       "      <td>7.0</td>\n",
       "      <td>5.00</td>\n",
       "      <td>6.00</td>\n",
       "      <td>1.00</td>\n",
       "    </tr>\n",
       "    <tr>\n",
       "      <td>D19_TECHNIK</td>\n",
       "      <td>ordinal</td>\n",
       "      <td>[0]</td>\n",
       "      <td>1</td>\n",
       "      <td>drop: high missing values</td>\n",
       "      <td>6228</td>\n",
       "      <td>0.699</td>\n",
       "      <td>8</td>\n",
       "      <td>2684.0</td>\n",
       "      <td>5.928465</td>\n",
       "      <td>0.867748</td>\n",
       "      <td>1.0</td>\n",
       "      <td>7.0</td>\n",
       "      <td>6.00</td>\n",
       "      <td>6.00</td>\n",
       "      <td>0.00</td>\n",
       "    </tr>\n",
       "    <tr>\n",
       "      <td>D19_REISEN</td>\n",
       "      <td>ordinal</td>\n",
       "      <td>[0]</td>\n",
       "      <td>1</td>\n",
       "      <td>drop: high missing values</td>\n",
       "      <td>7339</td>\n",
       "      <td>0.823</td>\n",
       "      <td>7</td>\n",
       "      <td>1573.0</td>\n",
       "      <td>6.065480</td>\n",
       "      <td>0.988566</td>\n",
       "      <td>2.0</td>\n",
       "      <td>7.0</td>\n",
       "      <td>6.00</td>\n",
       "      <td>7.00</td>\n",
       "      <td>1.00</td>\n",
       "    </tr>\n",
       "    <tr>\n",
       "      <td>D19_GESAMT_ONLINE_QUOTE_12</td>\n",
       "      <td>ordinal</td>\n",
       "      <td>[0]</td>\n",
       "      <td>1</td>\n",
       "      <td>drop: high missing values</td>\n",
       "      <td>6452</td>\n",
       "      <td>0.724</td>\n",
       "      <td>11</td>\n",
       "      <td>2460.0</td>\n",
       "      <td>9.335772</td>\n",
       "      <td>1.689699</td>\n",
       "      <td>1.0</td>\n",
       "      <td>10.0</td>\n",
       "      <td>10.00</td>\n",
       "      <td>10.00</td>\n",
       "      <td>0.00</td>\n",
       "    </tr>\n",
       "    <tr>\n",
       "      <td>D19_SCHUHE</td>\n",
       "      <td>ordinal</td>\n",
       "      <td>[0]</td>\n",
       "      <td>1</td>\n",
       "      <td>drop: high missing values</td>\n",
       "      <td>7695</td>\n",
       "      <td>0.863</td>\n",
       "      <td>8</td>\n",
       "      <td>1217.0</td>\n",
       "      <td>3.827445</td>\n",
       "      <td>1.553795</td>\n",
       "      <td>1.0</td>\n",
       "      <td>7.0</td>\n",
       "      <td>3.00</td>\n",
       "      <td>5.00</td>\n",
       "      <td>2.00</td>\n",
       "    </tr>\n",
       "    <tr>\n",
       "      <td>D19_BEKLEIDUNG_GEH</td>\n",
       "      <td>ordinal</td>\n",
       "      <td>[0]</td>\n",
       "      <td>1</td>\n",
       "      <td>drop: high missing values</td>\n",
       "      <td>8082</td>\n",
       "      <td>0.907</td>\n",
       "      <td>8</td>\n",
       "      <td>830.0</td>\n",
       "      <td>5.049398</td>\n",
       "      <td>1.541143</td>\n",
       "      <td>1.0</td>\n",
       "      <td>7.0</td>\n",
       "      <td>4.00</td>\n",
       "      <td>6.00</td>\n",
       "      <td>2.00</td>\n",
       "    </tr>\n",
       "    <tr>\n",
       "      <td>D19_TELKO_ANZ_24</td>\n",
       "      <td>ordinal</td>\n",
       "      <td>[0]</td>\n",
       "      <td>1</td>\n",
       "      <td>drop: high missing values</td>\n",
       "      <td>8238</td>\n",
       "      <td>0.924</td>\n",
       "      <td>6</td>\n",
       "      <td>674.0</td>\n",
       "      <td>1.341246</td>\n",
       "      <td>0.623361</td>\n",
       "      <td>1.0</td>\n",
       "      <td>5.0</td>\n",
       "      <td>1.00</td>\n",
       "      <td>2.00</td>\n",
       "      <td>1.00</td>\n",
       "    </tr>\n",
       "    <tr>\n",
       "      <td>D19_TELKO_MOBILE</td>\n",
       "      <td>ordinal</td>\n",
       "      <td>[0]</td>\n",
       "      <td>1</td>\n",
       "      <td>drop: high missing values</td>\n",
       "      <td>7240</td>\n",
       "      <td>0.812</td>\n",
       "      <td>8</td>\n",
       "      <td>1672.0</td>\n",
       "      <td>5.496411</td>\n",
       "      <td>1.193434</td>\n",
       "      <td>1.0</td>\n",
       "      <td>7.0</td>\n",
       "      <td>6.00</td>\n",
       "      <td>6.00</td>\n",
       "      <td>0.00</td>\n",
       "    </tr>\n",
       "    <tr>\n",
       "      <td>D19_VERSAND_ONLINE_QUOTE_12</td>\n",
       "      <td>ordinal</td>\n",
       "      <td>[0]</td>\n",
       "      <td>1</td>\n",
       "      <td>drop: high missing values</td>\n",
       "      <td>6698</td>\n",
       "      <td>0.752</td>\n",
       "      <td>11</td>\n",
       "      <td>2214.0</td>\n",
       "      <td>9.438573</td>\n",
       "      <td>1.576079</td>\n",
       "      <td>1.0</td>\n",
       "      <td>10.0</td>\n",
       "      <td>10.00</td>\n",
       "      <td>10.00</td>\n",
       "      <td>0.00</td>\n",
       "    </tr>\n",
       "    <tr>\n",
       "      <td>D19_KINDERARTIKEL</td>\n",
       "      <td>ordinal</td>\n",
       "      <td>[0]</td>\n",
       "      <td>1</td>\n",
       "      <td>drop: high missing values</td>\n",
       "      <td>7496</td>\n",
       "      <td>0.841</td>\n",
       "      <td>8</td>\n",
       "      <td>1416.0</td>\n",
       "      <td>5.437853</td>\n",
       "      <td>1.438131</td>\n",
       "      <td>1.0</td>\n",
       "      <td>7.0</td>\n",
       "      <td>5.00</td>\n",
       "      <td>6.00</td>\n",
       "      <td>1.00</td>\n",
       "    </tr>\n",
       "    <tr>\n",
       "      <td>D19_BANKEN_ONLINE_DATUM</td>\n",
       "      <td>ordinal</td>\n",
       "      <td>[10]</td>\n",
       "      <td>1</td>\n",
       "      <td>drop: high missing values</td>\n",
       "      <td>7213</td>\n",
       "      <td>0.809</td>\n",
       "      <td>10</td>\n",
       "      <td>1699.0</td>\n",
       "      <td>6.942908</td>\n",
       "      <td>2.360784</td>\n",
       "      <td>1.0</td>\n",
       "      <td>9.0</td>\n",
       "      <td>5.00</td>\n",
       "      <td>9.00</td>\n",
       "      <td>4.00</td>\n",
       "    </tr>\n",
       "    <tr>\n",
       "      <td>ALTER_KIND1</td>\n",
       "      <td>ordinal</td>\n",
       "      <td>[]</td>\n",
       "      <td>1</td>\n",
       "      <td>drop: high missing values</td>\n",
       "      <td>8055</td>\n",
       "      <td>0.904</td>\n",
       "      <td>18</td>\n",
       "      <td>857.0</td>\n",
       "      <td>11.829638</td>\n",
       "      <td>4.041133</td>\n",
       "      <td>2.0</td>\n",
       "      <td>18.0</td>\n",
       "      <td>8.00</td>\n",
       "      <td>15.00</td>\n",
       "      <td>7.00</td>\n",
       "    </tr>\n",
       "    <tr>\n",
       "      <td>D19_VERSAND_ANZ_12</td>\n",
       "      <td>ordinal</td>\n",
       "      <td>[0]</td>\n",
       "      <td>1</td>\n",
       "      <td>drop: high missing values</td>\n",
       "      <td>6327</td>\n",
       "      <td>0.710</td>\n",
       "      <td>7</td>\n",
       "      <td>2585.0</td>\n",
       "      <td>2.132689</td>\n",
       "      <td>1.218328</td>\n",
       "      <td>1.0</td>\n",
       "      <td>6.0</td>\n",
       "      <td>1.00</td>\n",
       "      <td>3.00</td>\n",
       "      <td>2.00</td>\n",
       "    </tr>\n",
       "    <tr>\n",
       "      <td>D19_VERSICHERUNGEN</td>\n",
       "      <td>ordinal</td>\n",
       "      <td>[0]</td>\n",
       "      <td>1</td>\n",
       "      <td>drop: high missing values</td>\n",
       "      <td>6568</td>\n",
       "      <td>0.737</td>\n",
       "      <td>8</td>\n",
       "      <td>2344.0</td>\n",
       "      <td>4.733788</td>\n",
       "      <td>1.621437</td>\n",
       "      <td>1.0</td>\n",
       "      <td>7.0</td>\n",
       "      <td>3.00</td>\n",
       "      <td>6.00</td>\n",
       "      <td>3.00</td>\n",
       "    </tr>\n",
       "    <tr>\n",
       "      <td>D19_HANDWERK</td>\n",
       "      <td>ordinal</td>\n",
       "      <td>[0]</td>\n",
       "      <td>1</td>\n",
       "      <td>drop: high missing values</td>\n",
       "      <td>7692</td>\n",
       "      <td>0.863</td>\n",
       "      <td>6</td>\n",
       "      <td>1220.0</td>\n",
       "      <td>6.107377</td>\n",
       "      <td>0.629422</td>\n",
       "      <td>3.0</td>\n",
       "      <td>7.0</td>\n",
       "      <td>6.00</td>\n",
       "      <td>6.00</td>\n",
       "      <td>0.00</td>\n",
       "    </tr>\n",
       "    <tr>\n",
       "      <td>D19_BEKLEIDUNG_REST</td>\n",
       "      <td>ordinal</td>\n",
       "      <td>[0]</td>\n",
       "      <td>1</td>\n",
       "      <td>drop: high missing values</td>\n",
       "      <td>6934</td>\n",
       "      <td>0.778</td>\n",
       "      <td>8</td>\n",
       "      <td>1978.0</td>\n",
       "      <td>5.233064</td>\n",
       "      <td>1.565233</td>\n",
       "      <td>1.0</td>\n",
       "      <td>7.0</td>\n",
       "      <td>5.00</td>\n",
       "      <td>6.00</td>\n",
       "      <td>1.00</td>\n",
       "    </tr>\n",
       "    <tr>\n",
       "      <td>D19_KOSMETIK</td>\n",
       "      <td>ordinal</td>\n",
       "      <td>[0]</td>\n",
       "      <td>1</td>\n",
       "      <td>drop: high missing values</td>\n",
       "      <td>7420</td>\n",
       "      <td>0.833</td>\n",
       "      <td>7</td>\n",
       "      <td>1492.0</td>\n",
       "      <td>6.320375</td>\n",
       "      <td>0.617681</td>\n",
       "      <td>2.0</td>\n",
       "      <td>7.0</td>\n",
       "      <td>6.00</td>\n",
       "      <td>7.00</td>\n",
       "      <td>1.00</td>\n",
       "    </tr>\n",
       "    <tr>\n",
       "      <td>D19_BANKEN_DIREKT</td>\n",
       "      <td>ordinal</td>\n",
       "      <td>[0]</td>\n",
       "      <td>1</td>\n",
       "      <td>drop: high missing values</td>\n",
       "      <td>7233</td>\n",
       "      <td>0.812</td>\n",
       "      <td>8</td>\n",
       "      <td>1679.0</td>\n",
       "      <td>4.869565</td>\n",
       "      <td>1.624535</td>\n",
       "      <td>1.0</td>\n",
       "      <td>7.0</td>\n",
       "      <td>3.00</td>\n",
       "      <td>6.00</td>\n",
       "      <td>3.00</td>\n",
       "    </tr>\n",
       "    <tr>\n",
       "      <td>D19_TELKO_ANZ_12</td>\n",
       "      <td>ordinal</td>\n",
       "      <td>[0]</td>\n",
       "      <td>1</td>\n",
       "      <td>drop: high missing values</td>\n",
       "      <td>8561</td>\n",
       "      <td>0.961</td>\n",
       "      <td>6</td>\n",
       "      <td>351.0</td>\n",
       "      <td>1.293447</td>\n",
       "      <td>0.629682</td>\n",
       "      <td>1.0</td>\n",
       "      <td>5.0</td>\n",
       "      <td>1.00</td>\n",
       "      <td>1.00</td>\n",
       "      <td>0.00</td>\n",
       "    </tr>\n",
       "    <tr>\n",
       "      <td>D19_BIO_OEKO</td>\n",
       "      <td>ordinal</td>\n",
       "      <td>[0]</td>\n",
       "      <td>1</td>\n",
       "      <td>drop: high missing values</td>\n",
       "      <td>8513</td>\n",
       "      <td>0.955</td>\n",
       "      <td>6</td>\n",
       "      <td>399.0</td>\n",
       "      <td>6.157895</td>\n",
       "      <td>0.978478</td>\n",
       "      <td>3.0</td>\n",
       "      <td>7.0</td>\n",
       "      <td>6.00</td>\n",
       "      <td>7.00</td>\n",
       "      <td>1.00</td>\n",
       "    </tr>\n",
       "    <tr>\n",
       "      <td>D19_BANKEN_REST</td>\n",
       "      <td>ordinal</td>\n",
       "      <td>[0]</td>\n",
       "      <td>1</td>\n",
       "      <td>drop: high missing values</td>\n",
       "      <td>8212</td>\n",
       "      <td>0.921</td>\n",
       "      <td>8</td>\n",
       "      <td>700.0</td>\n",
       "      <td>5.465714</td>\n",
       "      <td>1.299377</td>\n",
       "      <td>1.0</td>\n",
       "      <td>7.0</td>\n",
       "      <td>5.00</td>\n",
       "      <td>6.00</td>\n",
       "      <td>1.00</td>\n",
       "    </tr>\n",
       "    <tr>\n",
       "      <td>D19_DIGIT_SERV</td>\n",
       "      <td>ordinal</td>\n",
       "      <td>[0]</td>\n",
       "      <td>1</td>\n",
       "      <td>drop: high missing values</td>\n",
       "      <td>8585</td>\n",
       "      <td>0.963</td>\n",
       "      <td>7</td>\n",
       "      <td>327.0</td>\n",
       "      <td>5.168196</td>\n",
       "      <td>1.471351</td>\n",
       "      <td>2.0</td>\n",
       "      <td>7.0</td>\n",
       "      <td>3.00</td>\n",
       "      <td>6.00</td>\n",
       "      <td>3.00</td>\n",
       "    </tr>\n",
       "    <tr>\n",
       "      <td>TITEL_KZ</td>\n",
       "      <td>categorical</td>\n",
       "      <td>[-1,0]</td>\n",
       "      <td>1</td>\n",
       "      <td>drop: high missing values</td>\n",
       "      <td>8894</td>\n",
       "      <td>0.998</td>\n",
       "      <td>3</td>\n",
       "      <td>18.0</td>\n",
       "      <td>1.166667</td>\n",
       "      <td>0.707107</td>\n",
       "      <td>1.0</td>\n",
       "      <td>4.0</td>\n",
       "      <td>1.00</td>\n",
       "      <td>1.00</td>\n",
       "      <td>0.00</td>\n",
       "    </tr>\n",
       "    <tr>\n",
       "      <td>D19_RATGEBER</td>\n",
       "      <td>ordinal</td>\n",
       "      <td>[0]</td>\n",
       "      <td>1</td>\n",
       "      <td>drop: high missing values</td>\n",
       "      <td>8053</td>\n",
       "      <td>0.904</td>\n",
       "      <td>8</td>\n",
       "      <td>859.0</td>\n",
       "      <td>5.213038</td>\n",
       "      <td>1.622257</td>\n",
       "      <td>1.0</td>\n",
       "      <td>7.0</td>\n",
       "      <td>4.00</td>\n",
       "      <td>6.00</td>\n",
       "      <td>2.00</td>\n",
       "    </tr>\n",
       "    <tr>\n",
       "      <td>D19_LEBENSMITTEL</td>\n",
       "      <td>ordinal</td>\n",
       "      <td>[0]</td>\n",
       "      <td>1</td>\n",
       "      <td>drop: high missing values</td>\n",
       "      <td>8359</td>\n",
       "      <td>0.938</td>\n",
       "      <td>8</td>\n",
       "      <td>553.0</td>\n",
       "      <td>5.390597</td>\n",
       "      <td>1.434330</td>\n",
       "      <td>1.0</td>\n",
       "      <td>7.0</td>\n",
       "      <td>5.00</td>\n",
       "      <td>6.00</td>\n",
       "      <td>1.00</td>\n",
       "    </tr>\n",
       "    <tr>\n",
       "      <td>ALTER_KIND3</td>\n",
       "      <td>ordinal</td>\n",
       "      <td>[]</td>\n",
       "      <td>1</td>\n",
       "      <td>drop: high missing values</td>\n",
       "      <td>8852</td>\n",
       "      <td>0.993</td>\n",
       "      <td>11</td>\n",
       "      <td>60.0</td>\n",
       "      <td>14.666667</td>\n",
       "      <td>2.653215</td>\n",
       "      <td>6.0</td>\n",
       "      <td>18.0</td>\n",
       "      <td>13.00</td>\n",
       "      <td>16.25</td>\n",
       "      <td>3.25</td>\n",
       "    </tr>\n",
       "    <tr>\n",
       "      <td>D19_BANKEN_LOKAL</td>\n",
       "      <td>ordinal</td>\n",
       "      <td>[0]</td>\n",
       "      <td>1</td>\n",
       "      <td>drop: high missing values</td>\n",
       "      <td>8730</td>\n",
       "      <td>0.980</td>\n",
       "      <td>5</td>\n",
       "      <td>182.0</td>\n",
       "      <td>5.752747</td>\n",
       "      <td>1.651842</td>\n",
       "      <td>3.0</td>\n",
       "      <td>7.0</td>\n",
       "      <td>5.00</td>\n",
       "      <td>7.00</td>\n",
       "      <td>2.00</td>\n",
       "    </tr>\n",
       "    <tr>\n",
       "      <td>D19_VERSI_ANZ_24</td>\n",
       "      <td>ordinal</td>\n",
       "      <td>[0]</td>\n",
       "      <td>1</td>\n",
       "      <td>drop: high missing values</td>\n",
       "      <td>7779</td>\n",
       "      <td>0.873</td>\n",
       "      <td>7</td>\n",
       "      <td>1133.0</td>\n",
       "      <td>1.610768</td>\n",
       "      <td>0.876342</td>\n",
       "      <td>1.0</td>\n",
       "      <td>6.0</td>\n",
       "      <td>1.00</td>\n",
       "      <td>2.00</td>\n",
       "      <td>1.00</td>\n",
       "    </tr>\n",
       "    <tr>\n",
       "      <td>D19_WEIN_FEINKOST</td>\n",
       "      <td>ordinal</td>\n",
       "      <td>[0]</td>\n",
       "      <td>1</td>\n",
       "      <td>drop: high missing values</td>\n",
       "      <td>8305</td>\n",
       "      <td>0.932</td>\n",
       "      <td>7</td>\n",
       "      <td>607.0</td>\n",
       "      <td>6.112026</td>\n",
       "      <td>1.076590</td>\n",
       "      <td>2.0</td>\n",
       "      <td>7.0</td>\n",
       "      <td>6.00</td>\n",
       "      <td>7.00</td>\n",
       "      <td>1.00</td>\n",
       "    </tr>\n",
       "    <tr>\n",
       "      <td>ALTER_KIND2</td>\n",
       "      <td>ordinal</td>\n",
       "      <td>[]</td>\n",
       "      <td>1</td>\n",
       "      <td>drop: high missing values</td>\n",
       "      <td>8601</td>\n",
       "      <td>0.965</td>\n",
       "      <td>15</td>\n",
       "      <td>311.0</td>\n",
       "      <td>13.514469</td>\n",
       "      <td>3.309656</td>\n",
       "      <td>5.0</td>\n",
       "      <td>18.0</td>\n",
       "      <td>11.00</td>\n",
       "      <td>16.00</td>\n",
       "      <td>5.00</td>\n",
       "    </tr>\n",
       "    <tr>\n",
       "      <td>D19_DROGERIEARTIKEL</td>\n",
       "      <td>ordinal</td>\n",
       "      <td>[0]</td>\n",
       "      <td>1</td>\n",
       "      <td>drop: high missing values</td>\n",
       "      <td>7611</td>\n",
       "      <td>0.854</td>\n",
       "      <td>8</td>\n",
       "      <td>1301.0</td>\n",
       "      <td>4.579554</td>\n",
       "      <td>1.733164</td>\n",
       "      <td>1.0</td>\n",
       "      <td>7.0</td>\n",
       "      <td>3.00</td>\n",
       "      <td>6.00</td>\n",
       "      <td>3.00</td>\n",
       "    </tr>\n",
       "    <tr>\n",
       "      <td>D19_BANKEN_OFFLINE_DATUM</td>\n",
       "      <td>ordinal</td>\n",
       "      <td>[10]</td>\n",
       "      <td>1</td>\n",
       "      <td>drop: high missing values</td>\n",
       "      <td>8717</td>\n",
       "      <td>0.978</td>\n",
       "      <td>10</td>\n",
       "      <td>195.0</td>\n",
       "      <td>6.789744</td>\n",
       "      <td>2.259436</td>\n",
       "      <td>1.0</td>\n",
       "      <td>9.0</td>\n",
       "      <td>5.00</td>\n",
       "      <td>9.00</td>\n",
       "      <td>4.00</td>\n",
       "    </tr>\n",
       "    <tr>\n",
       "      <td>D19_VERSI_ANZ_12</td>\n",
       "      <td>ordinal</td>\n",
       "      <td>[0]</td>\n",
       "      <td>1</td>\n",
       "      <td>drop: high missing values</td>\n",
       "      <td>8203</td>\n",
       "      <td>0.920</td>\n",
       "      <td>6</td>\n",
       "      <td>709.0</td>\n",
       "      <td>1.452750</td>\n",
       "      <td>0.720627</td>\n",
       "      <td>1.0</td>\n",
       "      <td>6.0</td>\n",
       "      <td>1.00</td>\n",
       "      <td>2.00</td>\n",
       "      <td>1.00</td>\n",
       "    </tr>\n",
       "    <tr>\n",
       "      <td>D19_VERSI_ONLINE_QUOTE_12</td>\n",
       "      <td>ordinal</td>\n",
       "      <td>[0]</td>\n",
       "      <td>1</td>\n",
       "      <td>drop: high missing values</td>\n",
       "      <td>8896</td>\n",
       "      <td>0.998</td>\n",
       "      <td>2</td>\n",
       "      <td>16.0</td>\n",
       "      <td>10.000000</td>\n",
       "      <td>0.000000</td>\n",
       "      <td>10.0</td>\n",
       "      <td>10.0</td>\n",
       "      <td>10.00</td>\n",
       "      <td>10.00</td>\n",
       "      <td>0.00</td>\n",
       "    </tr>\n",
       "  </tbody>\n",
       "</table>\n",
       "</div>"
      ],
      "text/plain": [
       "                                    type  unknow  is_drop  \\\n",
       "feat                                                        \n",
       "D19_TELKO_ONLINE_DATUM           ordinal    [10]        1   \n",
       "D19_ENERGIE                      ordinal     [0]        1   \n",
       "D19_BANKEN_GROSS                 ordinal     [0]        1   \n",
       "D19_HAUS_DEKO                    ordinal     [0]        1   \n",
       "D19_BANKEN_ONLINE_QUOTE_12       ordinal     [0]        1   \n",
       "D19_TELKO_OFFLINE_DATUM          ordinal    [10]        1   \n",
       "D19_BANKEN_ANZ_12                ordinal     [0]        1   \n",
       "ALTER_KIND4                      ordinal      []        1   \n",
       "VHA                          categorical     [0]        1   \n",
       "D19_VERSI_ONLINE_DATUM           ordinal    [10]        1   \n",
       "D19_TELKO_ONLINE_QUOTE_12        ordinal     [0]        1   \n",
       "D19_TELKO_REST                   ordinal     [0]        1   \n",
       "D19_BANKEN_DATUM                 ordinal    [10]        1   \n",
       "D19_GARTEN                       ordinal     [0]        1   \n",
       "D19_BILDUNG                      ordinal     [0]        1   \n",
       "D19_BANKEN_ANZ_24                ordinal     [0]        1   \n",
       "D19_NAHRUNGSERGAENZUNG           ordinal     [0]        1   \n",
       "D19_SAMMELARTIKEL                ordinal     [0]        1   \n",
       "D19_TELKO_DATUM                  ordinal    [10]        1   \n",
       "D19_LOTTO                        ordinal     [0]        1   \n",
       "D19_TIERARTIKEL                  ordinal     [0]        1   \n",
       "D19_VERSAND_REST                 ordinal     [0]        1   \n",
       "D19_VERSI_OFFLINE_DATUM          ordinal    [10]        1   \n",
       "D19_VERSI_DATUM                  ordinal    [10]        1   \n",
       "D19_FREIZEIT                     ordinal     [0]        1   \n",
       "D19_TECHNIK                      ordinal     [0]        1   \n",
       "D19_REISEN                       ordinal     [0]        1   \n",
       "D19_GESAMT_ONLINE_QUOTE_12       ordinal     [0]        1   \n",
       "D19_SCHUHE                       ordinal     [0]        1   \n",
       "D19_BEKLEIDUNG_GEH               ordinal     [0]        1   \n",
       "D19_TELKO_ANZ_24                 ordinal     [0]        1   \n",
       "D19_TELKO_MOBILE                 ordinal     [0]        1   \n",
       "D19_VERSAND_ONLINE_QUOTE_12      ordinal     [0]        1   \n",
       "D19_KINDERARTIKEL                ordinal     [0]        1   \n",
       "D19_BANKEN_ONLINE_DATUM          ordinal    [10]        1   \n",
       "ALTER_KIND1                      ordinal      []        1   \n",
       "D19_VERSAND_ANZ_12               ordinal     [0]        1   \n",
       "D19_VERSICHERUNGEN               ordinal     [0]        1   \n",
       "D19_HANDWERK                     ordinal     [0]        1   \n",
       "D19_BEKLEIDUNG_REST              ordinal     [0]        1   \n",
       "D19_KOSMETIK                     ordinal     [0]        1   \n",
       "D19_BANKEN_DIREKT                ordinal     [0]        1   \n",
       "D19_TELKO_ANZ_12                 ordinal     [0]        1   \n",
       "D19_BIO_OEKO                     ordinal     [0]        1   \n",
       "D19_BANKEN_REST                  ordinal     [0]        1   \n",
       "D19_DIGIT_SERV                   ordinal     [0]        1   \n",
       "TITEL_KZ                     categorical  [-1,0]        1   \n",
       "D19_RATGEBER                     ordinal     [0]        1   \n",
       "D19_LEBENSMITTEL                 ordinal     [0]        1   \n",
       "ALTER_KIND3                      ordinal      []        1   \n",
       "D19_BANKEN_LOKAL                 ordinal     [0]        1   \n",
       "D19_VERSI_ANZ_24                 ordinal     [0]        1   \n",
       "D19_WEIN_FEINKOST                ordinal     [0]        1   \n",
       "ALTER_KIND2                      ordinal      []        1   \n",
       "D19_DROGERIEARTIKEL              ordinal     [0]        1   \n",
       "D19_BANKEN_OFFLINE_DATUM         ordinal    [10]        1   \n",
       "D19_VERSI_ANZ_12                 ordinal     [0]        1   \n",
       "D19_VERSI_ONLINE_QUOTE_12        ordinal     [0]        1   \n",
       "\n",
       "                                                action  n_nans  \\\n",
       "feat                                                             \n",
       "D19_TELKO_ONLINE_DATUM       drop: high missing values    8838   \n",
       "D19_ENERGIE                  drop: high missing values    8332   \n",
       "D19_BANKEN_GROSS             drop: high missing values    7816   \n",
       "D19_HAUS_DEKO                drop: high missing values    7136   \n",
       "D19_BANKEN_ONLINE_QUOTE_12   drop: high missing values    8433   \n",
       "D19_TELKO_OFFLINE_DATUM      drop: high missing values    8198   \n",
       "D19_BANKEN_ANZ_12            drop: high missing values    8300   \n",
       "ALTER_KIND4                  drop: high missing values    8897   \n",
       "VHA                          drop: high missing values    7344   \n",
       "D19_VERSI_ONLINE_DATUM       drop: high missing values    8850   \n",
       "D19_TELKO_ONLINE_QUOTE_12    drop: high missing values    8905   \n",
       "D19_TELKO_REST               drop: high missing values    7628   \n",
       "D19_BANKEN_DATUM             drop: high missing values    6726   \n",
       "D19_GARTEN                   drop: high missing values    8487   \n",
       "D19_BILDUNG                  drop: high missing values    8123   \n",
       "D19_BANKEN_ANZ_24            drop: high missing values    7908   \n",
       "D19_NAHRUNGSERGAENZUNG       drop: high missing values    8511   \n",
       "D19_SAMMELARTIKEL            drop: high missing values    8003   \n",
       "D19_TELKO_DATUM              drop: high missing values    6623   \n",
       "D19_LOTTO                    drop: high missing values    7475   \n",
       "D19_TIERARTIKEL              drop: high missing values    8544   \n",
       "D19_VERSAND_REST             drop: high missing values    7229   \n",
       "D19_VERSI_OFFLINE_DATUM      drop: high missing values    8560   \n",
       "D19_VERSI_DATUM              drop: high missing values    6628   \n",
       "D19_FREIZEIT                 drop: high missing values    7899   \n",
       "D19_TECHNIK                  drop: high missing values    6228   \n",
       "D19_REISEN                   drop: high missing values    7339   \n",
       "D19_GESAMT_ONLINE_QUOTE_12   drop: high missing values    6452   \n",
       "D19_SCHUHE                   drop: high missing values    7695   \n",
       "D19_BEKLEIDUNG_GEH           drop: high missing values    8082   \n",
       "D19_TELKO_ANZ_24             drop: high missing values    8238   \n",
       "D19_TELKO_MOBILE             drop: high missing values    7240   \n",
       "D19_VERSAND_ONLINE_QUOTE_12  drop: high missing values    6698   \n",
       "D19_KINDERARTIKEL            drop: high missing values    7496   \n",
       "D19_BANKEN_ONLINE_DATUM      drop: high missing values    7213   \n",
       "ALTER_KIND1                  drop: high missing values    8055   \n",
       "D19_VERSAND_ANZ_12           drop: high missing values    6327   \n",
       "D19_VERSICHERUNGEN           drop: high missing values    6568   \n",
       "D19_HANDWERK                 drop: high missing values    7692   \n",
       "D19_BEKLEIDUNG_REST          drop: high missing values    6934   \n",
       "D19_KOSMETIK                 drop: high missing values    7420   \n",
       "D19_BANKEN_DIREKT            drop: high missing values    7233   \n",
       "D19_TELKO_ANZ_12             drop: high missing values    8561   \n",
       "D19_BIO_OEKO                 drop: high missing values    8513   \n",
       "D19_BANKEN_REST              drop: high missing values    8212   \n",
       "D19_DIGIT_SERV               drop: high missing values    8585   \n",
       "TITEL_KZ                     drop: high missing values    8894   \n",
       "D19_RATGEBER                 drop: high missing values    8053   \n",
       "D19_LEBENSMITTEL             drop: high missing values    8359   \n",
       "ALTER_KIND3                  drop: high missing values    8852   \n",
       "D19_BANKEN_LOKAL             drop: high missing values    8730   \n",
       "D19_VERSI_ANZ_24             drop: high missing values    7779   \n",
       "D19_WEIN_FEINKOST            drop: high missing values    8305   \n",
       "ALTER_KIND2                  drop: high missing values    8601   \n",
       "D19_DROGERIEARTIKEL          drop: high missing values    7611   \n",
       "D19_BANKEN_OFFLINE_DATUM     drop: high missing values    8717   \n",
       "D19_VERSI_ANZ_12             drop: high missing values    8203   \n",
       "D19_VERSI_ONLINE_QUOTE_12    drop: high missing values    8896   \n",
       "\n",
       "                             percent_of_nans  value_distinct  value_count  \\\n",
       "feat                                                                        \n",
       "D19_TELKO_ONLINE_DATUM                 0.992               9         74.0   \n",
       "D19_ENERGIE                            0.935               8        580.0   \n",
       "D19_BANKEN_GROSS                       0.877               7       1096.0   \n",
       "D19_HAUS_DEKO                          0.801               8       1776.0   \n",
       "D19_BANKEN_ONLINE_QUOTE_12             0.946               7        479.0   \n",
       "D19_TELKO_OFFLINE_DATUM                0.920              10        714.0   \n",
       "D19_BANKEN_ANZ_12                      0.931               7        612.0   \n",
       "ALTER_KIND4                            0.998               6         15.0   \n",
       "VHA                                    0.824               6       1568.0   \n",
       "D19_VERSI_ONLINE_DATUM                 0.993              10         62.0   \n",
       "D19_TELKO_ONLINE_QUOTE_12              0.999               2          7.0   \n",
       "D19_TELKO_REST                         0.856               8       1284.0   \n",
       "D19_BANKEN_DATUM                       0.755              10       2186.0   \n",
       "D19_GARTEN                             0.952               8        425.0   \n",
       "D19_BILDUNG                            0.911               8        789.0   \n",
       "D19_BANKEN_ANZ_24                      0.887               7       1004.0   \n",
       "D19_NAHRUNGSERGAENZUNG                 0.955               8        401.0   \n",
       "D19_SAMMELARTIKEL                      0.898               6        909.0   \n",
       "D19_TELKO_DATUM                        0.743              10       2289.0   \n",
       "D19_LOTTO                              0.839               5       1437.0   \n",
       "D19_TIERARTIKEL                        0.959               8        368.0   \n",
       "D19_VERSAND_REST                       0.811               8       1683.0   \n",
       "D19_VERSI_OFFLINE_DATUM                0.961              10        352.0   \n",
       "D19_VERSI_DATUM                        0.744              10       2284.0   \n",
       "D19_FREIZEIT                           0.886               8       1013.0   \n",
       "D19_TECHNIK                            0.699               8       2684.0   \n",
       "D19_REISEN                             0.823               7       1573.0   \n",
       "D19_GESAMT_ONLINE_QUOTE_12             0.724              11       2460.0   \n",
       "D19_SCHUHE                             0.863               8       1217.0   \n",
       "D19_BEKLEIDUNG_GEH                     0.907               8        830.0   \n",
       "D19_TELKO_ANZ_24                       0.924               6        674.0   \n",
       "D19_TELKO_MOBILE                       0.812               8       1672.0   \n",
       "D19_VERSAND_ONLINE_QUOTE_12            0.752              11       2214.0   \n",
       "D19_KINDERARTIKEL                      0.841               8       1416.0   \n",
       "D19_BANKEN_ONLINE_DATUM                0.809              10       1699.0   \n",
       "ALTER_KIND1                            0.904              18        857.0   \n",
       "D19_VERSAND_ANZ_12                     0.710               7       2585.0   \n",
       "D19_VERSICHERUNGEN                     0.737               8       2344.0   \n",
       "D19_HANDWERK                           0.863               6       1220.0   \n",
       "D19_BEKLEIDUNG_REST                    0.778               8       1978.0   \n",
       "D19_KOSMETIK                           0.833               7       1492.0   \n",
       "D19_BANKEN_DIREKT                      0.812               8       1679.0   \n",
       "D19_TELKO_ANZ_12                       0.961               6        351.0   \n",
       "D19_BIO_OEKO                           0.955               6        399.0   \n",
       "D19_BANKEN_REST                        0.921               8        700.0   \n",
       "D19_DIGIT_SERV                         0.963               7        327.0   \n",
       "TITEL_KZ                               0.998               3         18.0   \n",
       "D19_RATGEBER                           0.904               8        859.0   \n",
       "D19_LEBENSMITTEL                       0.938               8        553.0   \n",
       "ALTER_KIND3                            0.993              11         60.0   \n",
       "D19_BANKEN_LOKAL                       0.980               5        182.0   \n",
       "D19_VERSI_ANZ_24                       0.873               7       1133.0   \n",
       "D19_WEIN_FEINKOST                      0.932               7        607.0   \n",
       "ALTER_KIND2                            0.965              15        311.0   \n",
       "D19_DROGERIEARTIKEL                    0.854               8       1301.0   \n",
       "D19_BANKEN_OFFLINE_DATUM               0.978              10        195.0   \n",
       "D19_VERSI_ANZ_12                       0.920               6        709.0   \n",
       "D19_VERSI_ONLINE_QUOTE_12              0.998               2         16.0   \n",
       "\n",
       "                             value_mean  value_std  value_min  value_max  \\\n",
       "feat                                                                       \n",
       "D19_TELKO_ONLINE_DATUM         7.824324   1.658173        2.0        9.0   \n",
       "D19_ENERGIE                    4.936207   1.574099        1.0        7.0   \n",
       "D19_BANKEN_GROSS               4.822080   1.572685        1.0        6.0   \n",
       "D19_HAUS_DEKO                  5.086712   1.497913        1.0        7.0   \n",
       "D19_BANKEN_ONLINE_QUOTE_12     9.881002   0.810776        2.0       10.0   \n",
       "D19_TELKO_OFFLINE_DATUM        7.806723   1.700313        1.0        9.0   \n",
       "D19_BANKEN_ANZ_12              1.857843   1.121602        1.0        6.0   \n",
       "ALTER_KIND4                   16.333333   1.588650       12.0       18.0   \n",
       "VHA                            2.338648   1.583897        1.0        5.0   \n",
       "D19_VERSI_ONLINE_DATUM         7.048387   2.067924        1.0        9.0   \n",
       "D19_TELKO_ONLINE_QUOTE_12     10.000000   0.000000       10.0       10.0   \n",
       "D19_TELKO_REST                 5.516355   1.109253        1.0        7.0   \n",
       "D19_BANKEN_DATUM               6.937786   2.315754        1.0        9.0   \n",
       "D19_GARTEN                     5.844706   1.057041        1.0        7.0   \n",
       "D19_BILDUNG                    5.470215   1.658140        1.0        7.0   \n",
       "D19_BANKEN_ANZ_24              2.016932   1.247415        1.0        6.0   \n",
       "D19_NAHRUNGSERGAENZUNG         5.593516   1.572214        1.0        7.0   \n",
       "D19_SAMMELARTIKEL              5.985699   0.736714        3.0        7.0   \n",
       "D19_TELKO_DATUM                7.710791   1.848329        1.0        9.0   \n",
       "D19_LOTTO                      6.718859   0.666769        3.0        7.0   \n",
       "D19_TIERARTIKEL                5.472826   1.368912        1.0        7.0   \n",
       "D19_VERSAND_REST               4.713607   1.561646        1.0        7.0   \n",
       "D19_VERSI_OFFLINE_DATUM        7.846591   1.650102        1.0        9.0   \n",
       "D19_VERSI_DATUM                6.690893   2.427194        1.0        9.0   \n",
       "D19_FREIZEIT                   5.242843   1.394604        1.0        7.0   \n",
       "D19_TECHNIK                    5.928465   0.867748        1.0        7.0   \n",
       "D19_REISEN                     6.065480   0.988566        2.0        7.0   \n",
       "D19_GESAMT_ONLINE_QUOTE_12     9.335772   1.689699        1.0       10.0   \n",
       "D19_SCHUHE                     3.827445   1.553795        1.0        7.0   \n",
       "D19_BEKLEIDUNG_GEH             5.049398   1.541143        1.0        7.0   \n",
       "D19_TELKO_ANZ_24               1.341246   0.623361        1.0        5.0   \n",
       "D19_TELKO_MOBILE               5.496411   1.193434        1.0        7.0   \n",
       "D19_VERSAND_ONLINE_QUOTE_12    9.438573   1.576079        1.0       10.0   \n",
       "D19_KINDERARTIKEL              5.437853   1.438131        1.0        7.0   \n",
       "D19_BANKEN_ONLINE_DATUM        6.942908   2.360784        1.0        9.0   \n",
       "ALTER_KIND1                   11.829638   4.041133        2.0       18.0   \n",
       "D19_VERSAND_ANZ_12             2.132689   1.218328        1.0        6.0   \n",
       "D19_VERSICHERUNGEN             4.733788   1.621437        1.0        7.0   \n",
       "D19_HANDWERK                   6.107377   0.629422        3.0        7.0   \n",
       "D19_BEKLEIDUNG_REST            5.233064   1.565233        1.0        7.0   \n",
       "D19_KOSMETIK                   6.320375   0.617681        2.0        7.0   \n",
       "D19_BANKEN_DIREKT              4.869565   1.624535        1.0        7.0   \n",
       "D19_TELKO_ANZ_12               1.293447   0.629682        1.0        5.0   \n",
       "D19_BIO_OEKO                   6.157895   0.978478        3.0        7.0   \n",
       "D19_BANKEN_REST                5.465714   1.299377        1.0        7.0   \n",
       "D19_DIGIT_SERV                 5.168196   1.471351        2.0        7.0   \n",
       "TITEL_KZ                       1.166667   0.707107        1.0        4.0   \n",
       "D19_RATGEBER                   5.213038   1.622257        1.0        7.0   \n",
       "D19_LEBENSMITTEL               5.390597   1.434330        1.0        7.0   \n",
       "ALTER_KIND3                   14.666667   2.653215        6.0       18.0   \n",
       "D19_BANKEN_LOKAL               5.752747   1.651842        3.0        7.0   \n",
       "D19_VERSI_ANZ_24               1.610768   0.876342        1.0        6.0   \n",
       "D19_WEIN_FEINKOST              6.112026   1.076590        2.0        7.0   \n",
       "ALTER_KIND2                   13.514469   3.309656        5.0       18.0   \n",
       "D19_DROGERIEARTIKEL            4.579554   1.733164        1.0        7.0   \n",
       "D19_BANKEN_OFFLINE_DATUM       6.789744   2.259436        1.0        9.0   \n",
       "D19_VERSI_ANZ_12               1.452750   0.720627        1.0        6.0   \n",
       "D19_VERSI_ONLINE_QUOTE_12     10.000000   0.000000       10.0       10.0   \n",
       "\n",
       "                             value_Q1  value_Q3  value_IRQ  \n",
       "feat                                                        \n",
       "D19_TELKO_ONLINE_DATUM           7.00      9.00       2.00  \n",
       "D19_ENERGIE                      3.00      6.00       3.00  \n",
       "D19_BANKEN_GROSS                 4.00      6.00       2.00  \n",
       "D19_HAUS_DEKO                    4.00      6.00       2.00  \n",
       "D19_BANKEN_ONLINE_QUOTE_12      10.00     10.00       0.00  \n",
       "D19_TELKO_OFFLINE_DATUM          7.00      9.00       2.00  \n",
       "D19_BANKEN_ANZ_12                1.00      2.00       1.00  \n",
       "ALTER_KIND4                     15.50     17.00       1.50  \n",
       "VHA                              1.00      4.00       3.00  \n",
       "D19_VERSI_ONLINE_DATUM           5.25      9.00       3.75  \n",
       "D19_TELKO_ONLINE_QUOTE_12       10.00     10.00       0.00  \n",
       "D19_TELKO_REST                   5.00      6.00       1.00  \n",
       "D19_BANKEN_DATUM                 5.00      9.00       4.00  \n",
       "D19_GARTEN                       6.00      6.00       0.00  \n",
       "D19_BILDUNG                      5.00      7.00       2.00  \n",
       "D19_BANKEN_ANZ_24                1.00      3.00       2.00  \n",
       "D19_NAHRUNGSERGAENZUNG           5.00      7.00       2.00  \n",
       "D19_SAMMELARTIKEL                6.00      6.00       0.00  \n",
       "D19_TELKO_DATUM                  7.00      9.00       2.00  \n",
       "D19_LOTTO                        7.00      7.00       0.00  \n",
       "D19_TIERARTIKEL                  5.00      6.00       1.00  \n",
       "D19_VERSAND_REST                 3.00      6.00       3.00  \n",
       "D19_VERSI_OFFLINE_DATUM          7.00      9.00       2.00  \n",
       "D19_VERSI_DATUM                  5.00      9.00       4.00  \n",
       "D19_FREIZEIT                     5.00      6.00       1.00  \n",
       "D19_TECHNIK                      6.00      6.00       0.00  \n",
       "D19_REISEN                       6.00      7.00       1.00  \n",
       "D19_GESAMT_ONLINE_QUOTE_12      10.00     10.00       0.00  \n",
       "D19_SCHUHE                       3.00      5.00       2.00  \n",
       "D19_BEKLEIDUNG_GEH               4.00      6.00       2.00  \n",
       "D19_TELKO_ANZ_24                 1.00      2.00       1.00  \n",
       "D19_TELKO_MOBILE                 6.00      6.00       0.00  \n",
       "D19_VERSAND_ONLINE_QUOTE_12     10.00     10.00       0.00  \n",
       "D19_KINDERARTIKEL                5.00      6.00       1.00  \n",
       "D19_BANKEN_ONLINE_DATUM          5.00      9.00       4.00  \n",
       "ALTER_KIND1                      8.00     15.00       7.00  \n",
       "D19_VERSAND_ANZ_12               1.00      3.00       2.00  \n",
       "D19_VERSICHERUNGEN               3.00      6.00       3.00  \n",
       "D19_HANDWERK                     6.00      6.00       0.00  \n",
       "D19_BEKLEIDUNG_REST              5.00      6.00       1.00  \n",
       "D19_KOSMETIK                     6.00      7.00       1.00  \n",
       "D19_BANKEN_DIREKT                3.00      6.00       3.00  \n",
       "D19_TELKO_ANZ_12                 1.00      1.00       0.00  \n",
       "D19_BIO_OEKO                     6.00      7.00       1.00  \n",
       "D19_BANKEN_REST                  5.00      6.00       1.00  \n",
       "D19_DIGIT_SERV                   3.00      6.00       3.00  \n",
       "TITEL_KZ                         1.00      1.00       0.00  \n",
       "D19_RATGEBER                     4.00      6.00       2.00  \n",
       "D19_LEBENSMITTEL                 5.00      6.00       1.00  \n",
       "ALTER_KIND3                     13.00     16.25       3.25  \n",
       "D19_BANKEN_LOKAL                 5.00      7.00       2.00  \n",
       "D19_VERSI_ANZ_24                 1.00      2.00       1.00  \n",
       "D19_WEIN_FEINKOST                6.00      7.00       1.00  \n",
       "ALTER_KIND2                     11.00     16.00       5.00  \n",
       "D19_DROGERIEARTIKEL              3.00      6.00       3.00  \n",
       "D19_BANKEN_OFFLINE_DATUM         5.00      9.00       4.00  \n",
       "D19_VERSI_ANZ_12                 1.00      2.00       1.00  \n",
       "D19_VERSI_ONLINE_QUOTE_12       10.00     10.00       0.00  "
      ]
     },
     "execution_count": 18,
     "metadata": {},
     "output_type": "execute_result"
    }
   ],
   "source": [
    "eda_azdias.feat_info.loc[feats_high_missing]"
   ]
  },
  {
   "cell_type": "code",
   "execution_count": 19,
   "metadata": {
    "ExecuteTime": {
     "end_time": "2020-03-08T15:50:59.398894Z",
     "start_time": "2020-03-08T15:50:58.223897Z"
    }
   },
   "outputs": [],
   "source": [
    "eda_azdias.data.drop(columns = list(feats_high_missing), inplace =True)\n",
    "eda_customers.data.drop(columns = list(feats_high_missing), inplace =True)\n",
    "\n",
    "# Re-Collecting feature stats\n",
    "eda_azdias.update_stats()\n",
    "eda_customers.update_stats()"
   ]
  },
  {
   "cell_type": "markdown",
   "metadata": {
    "ExecuteTime": {
     "end_time": "2020-03-06T11:31:27.440073Z",
     "start_time": "2020-03-06T11:31:27.428072Z"
    }
   },
   "source": [
    "#### Step 3.  Remove duplicated features"
   ]
  },
  {
   "cell_type": "code",
   "execution_count": 20,
   "metadata": {
    "ExecuteTime": {
     "end_time": "2020-03-08T15:51:00.937892Z",
     "start_time": "2020-03-08T15:50:59.402895Z"
    }
   },
   "outputs": [
    {
     "data": {
      "image/png": "[encoded data removed]",
      "text/plain": [
       "<Figure size 1800x1800 with 8 Axes>"
      ]
     },
     "metadata": {
      "needs_background": "light"
     },
     "output_type": "display_data"
    }
   ],
   "source": [
    "feats_fein =[x for x in eda_azdias.data.columns if x.endswith( '_FEIN')]\n",
    "feats_grob = [x for x in eda_azdias.data.columns if x.endswith( '_GROB')]\n",
    "feats_duplicate = [x for x in zip(pd.Series(feats_grob).sort_values(), pd.Series(feats_fein).sort_values())]\n",
    "h.plot_2feats_comparison(eda_azdias.data, feats_duplicate)   "
   ]
  },
  {
   "cell_type": "code",
   "execution_count": 21,
   "metadata": {
    "ExecuteTime": {
     "end_time": "2020-03-08T15:51:00.965894Z",
     "start_time": "2020-03-08T15:51:00.959894Z"
    }
   },
   "outputs": [],
   "source": [
    "# CAMEO_DEU_2015 and CAMEO_DEUG_2015 are both describing the wealth and life stage topology but at different scales. I've decided to keep CAMEO_DEUG_2015 which describes the information at a rough scale and drop CAMEO_DEU_2015. Another reason for dropping this feature is that it contains over 40 categories."
   ]
  },
  {
   "cell_type": "code",
   "execution_count": 22,
   "metadata": {
    "ExecuteTime": {
     "end_time": "2020-03-08T15:51:00.995892Z",
     "start_time": "2020-03-08T15:51:00.974893Z"
    }
   },
   "outputs": [],
   "source": [
    "feats_duplicated = ['ALTERSKATEGORIE_FEIN', 'LP_FAMILIE_FEIN', 'LP_LEBENSPHASE_FEIN', 'LP_STATUS_GROB', 'CAMEO_DEU_2015']"
   ]
  },
  {
   "cell_type": "code",
   "execution_count": 23,
   "metadata": {
    "ExecuteTime": {
     "end_time": "2020-03-08T15:51:01.027892Z",
     "start_time": "2020-03-08T15:51:01.009893Z"
    }
   },
   "outputs": [],
   "source": [
    "eda_azdias.feat_info.loc[feats_duplicated,'action'] = h.action_dic[2]\n",
    "eda_azdias.feat_info.loc[feats_duplicated,'is_drop'] = 1\n",
    "\n",
    "eda_customers.feat_info.loc[feats_duplicated,'action'] = h.action_dic[2]\n",
    "eda_customers.feat_info.loc[feats_duplicated,'is_drop'] = 1"
   ]
  },
  {
   "cell_type": "code",
   "execution_count": 24,
   "metadata": {
    "ExecuteTime": {
     "end_time": "2020-03-08T15:51:02.211894Z",
     "start_time": "2020-03-08T15:51:01.037893Z"
    }
   },
   "outputs": [],
   "source": [
    "eda_azdias.data.drop(columns = list(feats_duplicated), inplace =True)\n",
    "eda_customers.data.drop(columns = list(feats_duplicated), inplace =True)\n",
    "\n",
    "# Re-Collecting feature stats\n",
    "eda_azdias.update_stats()\n",
    "eda_customers.update_stats()"
   ]
  },
  {
   "cell_type": "code",
   "execution_count": 25,
   "metadata": {
    "ExecuteTime": {
     "end_time": "2020-03-08T15:51:02.243893Z",
     "start_time": "2020-03-08T15:51:02.216893Z"
    }
   },
   "outputs": [
    {
     "data": {
      "text/html": [
       "<div>\n",
       "<style scoped>\n",
       "    .dataframe tbody tr th:only-of-type {\n",
       "        vertical-align: middle;\n",
       "    }\n",
       "\n",
       "    .dataframe tbody tr th {\n",
       "        vertical-align: top;\n",
       "    }\n",
       "\n",
       "    .dataframe thead th {\n",
       "        text-align: right;\n",
       "    }\n",
       "</style>\n",
       "<table border=\"1\" class=\"dataframe\">\n",
       "  <thead>\n",
       "    <tr style=\"text-align: right;\">\n",
       "      <th></th>\n",
       "      <th>type</th>\n",
       "      <th>unknow</th>\n",
       "      <th>is_drop</th>\n",
       "      <th>action</th>\n",
       "      <th>n_nans</th>\n",
       "      <th>percent_of_nans</th>\n",
       "      <th>value_distinct</th>\n",
       "      <th>value_count</th>\n",
       "      <th>value_mean</th>\n",
       "      <th>value_std</th>\n",
       "      <th>value_min</th>\n",
       "      <th>value_max</th>\n",
       "      <th>value_Q1</th>\n",
       "      <th>value_Q3</th>\n",
       "      <th>value_IRQ</th>\n",
       "    </tr>\n",
       "    <tr>\n",
       "      <th>feat</th>\n",
       "      <th></th>\n",
       "      <th></th>\n",
       "      <th></th>\n",
       "      <th></th>\n",
       "      <th></th>\n",
       "      <th></th>\n",
       "      <th></th>\n",
       "      <th></th>\n",
       "      <th></th>\n",
       "      <th></th>\n",
       "      <th></th>\n",
       "      <th></th>\n",
       "      <th></th>\n",
       "      <th></th>\n",
       "      <th></th>\n",
       "    </tr>\n",
       "  </thead>\n",
       "  <tbody>\n",
       "    <tr>\n",
       "      <td>ALTERSKATEGORIE_FEIN</td>\n",
       "      <td>ordinal</td>\n",
       "      <td>[-1,0,9]</td>\n",
       "      <td>1</td>\n",
       "      <td>drop: duplicated</td>\n",
       "      <td>2254</td>\n",
       "      <td>0.309</td>\n",
       "      <td>23</td>\n",
       "      <td>5041.0</td>\n",
       "      <td>14.913906</td>\n",
       "      <td>3.496615</td>\n",
       "      <td>3.0</td>\n",
       "      <td>25.0</td>\n",
       "      <td>12.0</td>\n",
       "      <td>18.0</td>\n",
       "      <td>6.0</td>\n",
       "    </tr>\n",
       "    <tr>\n",
       "      <td>LP_FAMILIE_FEIN</td>\n",
       "      <td>categorical</td>\n",
       "      <td>[0]</td>\n",
       "      <td>1</td>\n",
       "      <td>drop: duplicated</td>\n",
       "      <td>268</td>\n",
       "      <td>0.037</td>\n",
       "      <td>12</td>\n",
       "      <td>7027.0</td>\n",
       "      <td>3.986196</td>\n",
       "      <td>3.978766</td>\n",
       "      <td>1.0</td>\n",
       "      <td>11.0</td>\n",
       "      <td>1.0</td>\n",
       "      <td>9.0</td>\n",
       "      <td>8.0</td>\n",
       "    </tr>\n",
       "    <tr>\n",
       "      <td>LP_LEBENSPHASE_FEIN</td>\n",
       "      <td>mixed</td>\n",
       "      <td>[0]</td>\n",
       "      <td>1</td>\n",
       "      <td>drop: duplicated</td>\n",
       "      <td>425</td>\n",
       "      <td>0.058</td>\n",
       "      <td>41</td>\n",
       "      <td>6870.0</td>\n",
       "      <td>16.466812</td>\n",
       "      <td>12.356004</td>\n",
       "      <td>1.0</td>\n",
       "      <td>40.0</td>\n",
       "      <td>6.0</td>\n",
       "      <td>29.0</td>\n",
       "      <td>23.0</td>\n",
       "    </tr>\n",
       "    <tr>\n",
       "      <td>LP_STATUS_GROB</td>\n",
       "      <td>categorical</td>\n",
       "      <td>[0]</td>\n",
       "      <td>1</td>\n",
       "      <td>drop: duplicated</td>\n",
       "      <td>32</td>\n",
       "      <td>0.004</td>\n",
       "      <td>6</td>\n",
       "      <td>7263.0</td>\n",
       "      <td>2.442104</td>\n",
       "      <td>1.526747</td>\n",
       "      <td>1.0</td>\n",
       "      <td>5.0</td>\n",
       "      <td>1.0</td>\n",
       "      <td>4.0</td>\n",
       "      <td>3.0</td>\n",
       "    </tr>\n",
       "    <tr>\n",
       "      <td>CAMEO_DEU_2015</td>\n",
       "      <td>categorical</td>\n",
       "      <td>['XX']</td>\n",
       "      <td>1</td>\n",
       "      <td>drop: duplicated</td>\n",
       "      <td>45</td>\n",
       "      <td>0.006</td>\n",
       "      <td>45</td>\n",
       "      <td>NaN</td>\n",
       "      <td>NaN</td>\n",
       "      <td>NaN</td>\n",
       "      <td>NaN</td>\n",
       "      <td>NaN</td>\n",
       "      <td>NaN</td>\n",
       "      <td>NaN</td>\n",
       "      <td>NaN</td>\n",
       "    </tr>\n",
       "  </tbody>\n",
       "</table>\n",
       "</div>"
      ],
      "text/plain": [
       "                             type    unknow  is_drop            action  \\\n",
       "feat                                                                     \n",
       "ALTERSKATEGORIE_FEIN      ordinal  [-1,0,9]        1  drop: duplicated   \n",
       "LP_FAMILIE_FEIN       categorical       [0]        1  drop: duplicated   \n",
       "LP_LEBENSPHASE_FEIN         mixed       [0]        1  drop: duplicated   \n",
       "LP_STATUS_GROB        categorical       [0]        1  drop: duplicated   \n",
       "CAMEO_DEU_2015        categorical    ['XX']        1  drop: duplicated   \n",
       "\n",
       "                      n_nans  percent_of_nans  value_distinct  value_count  \\\n",
       "feat                                                                         \n",
       "ALTERSKATEGORIE_FEIN    2254            0.309              23       5041.0   \n",
       "LP_FAMILIE_FEIN          268            0.037              12       7027.0   \n",
       "LP_LEBENSPHASE_FEIN      425            0.058              41       6870.0   \n",
       "LP_STATUS_GROB            32            0.004               6       7263.0   \n",
       "CAMEO_DEU_2015            45            0.006              45          NaN   \n",
       "\n",
       "                      value_mean  value_std  value_min  value_max  value_Q1  \\\n",
       "feat                                                                          \n",
       "ALTERSKATEGORIE_FEIN   14.913906   3.496615        3.0       25.0      12.0   \n",
       "LP_FAMILIE_FEIN         3.986196   3.978766        1.0       11.0       1.0   \n",
       "LP_LEBENSPHASE_FEIN    16.466812  12.356004        1.0       40.0       6.0   \n",
       "LP_STATUS_GROB          2.442104   1.526747        1.0        5.0       1.0   \n",
       "CAMEO_DEU_2015               NaN        NaN        NaN        NaN       NaN   \n",
       "\n",
       "                      value_Q3  value_IRQ  \n",
       "feat                                       \n",
       "ALTERSKATEGORIE_FEIN      18.0        6.0  \n",
       "LP_FAMILIE_FEIN            9.0        8.0  \n",
       "LP_LEBENSPHASE_FEIN       29.0       23.0  \n",
       "LP_STATUS_GROB             4.0        3.0  \n",
       "CAMEO_DEU_2015             NaN        NaN  "
      ]
     },
     "execution_count": 25,
     "metadata": {},
     "output_type": "execute_result"
    }
   ],
   "source": [
    "eda_azdias.feat_info.loc[feats_duplicated]"
   ]
  },
  {
   "cell_type": "markdown",
   "metadata": {},
   "source": [
    "#### Step 4: Re-encodings features"
   ]
  },
  {
   "cell_type": "markdown",
   "metadata": {},
   "source": [
    "a.  Re-encodings binary/categorical/mixed features"
   ]
  },
  {
   "cell_type": "code",
   "execution_count": 26,
   "metadata": {
    "ExecuteTime": {
     "end_time": "2020-03-08T15:51:02.275893Z",
     "start_time": "2020-03-08T15:51:02.250893Z"
    }
   },
   "outputs": [
    {
     "name": "stdout",
     "output_type": "stream",
     "text": [
      "OST_WEST_KZ ['W' 'O']\n",
      "CAMEO_DEUG_2015 ['4' '9' '3' '5' 6.0 '8' 9.0 5.0 7.0 8.0 4.0 1.0 '7' '6' '2' 3.0 '1' 2.0\n",
      " nan]\n",
      "CAMEO_INTL_2015 ['24' '51' '34' '22' 44.0 51.0 '25' 32.0 54.0 55.0 22.0 15.0 '41' '54'\n",
      " 34.0 '43' '33' '55' '14' 31.0 24.0 '23' 25.0 '15' 13.0 '45' 43.0 '13'\n",
      " 33.0 52.0 41.0 '52' 35.0 nan 23.0 '31' 14.0 '32' 45.0 '44' '12' '35' 12.0]\n"
     ]
    }
   ],
   "source": [
    "feats_encoding = [\n",
    "                  'OST_WEST_KZ',\n",
    "                  'CAMEO_DEUG_2015',\n",
    "#                   'CAMEO_DEU_2015',\n",
    "                  'CAMEO_INTL_2015',\n",
    "#                   'EINGEFUEGT_AM',\n",
    "#                   'D19_LETZTER_KAUF_BRANCHE',    \n",
    "]\n",
    "\n",
    "# h.check_features(eda_azdias, encoding)     \n",
    "for x in feats_encoding:\n",
    "     print(x, eda_azdias.data[x].unique())"
   ]
  },
  {
   "cell_type": "code",
   "execution_count": 27,
   "metadata": {
    "ExecuteTime": {
     "end_time": "2020-03-08T15:51:02.307895Z",
     "start_time": "2020-03-08T15:51:02.280892Z"
    }
   },
   "outputs": [],
   "source": [
    "for x in feats_encoding:\n",
    "    eda_azdias.re_encoding(x)\n",
    "    eda_customers.re_encoding(x)        "
   ]
  },
  {
   "cell_type": "markdown",
   "metadata": {
    "ExecuteTime": {
     "end_time": "2020-03-08T07:34:21.915303Z",
     "start_time": "2020-03-08T07:34:21.903302Z"
    }
   },
   "source": [
    "b.  Re-encodings numeric features"
   ]
  },
  {
   "cell_type": "code",
   "execution_count": 28,
   "metadata": {
    "ExecuteTime": {
     "end_time": "2020-03-08T15:51:02.339894Z",
     "start_time": "2020-03-08T15:51:02.313896Z"
    }
   },
   "outputs": [
    {
     "data": {
      "text/html": [
       "<div>\n",
       "<style scoped>\n",
       "    .dataframe tbody tr th:only-of-type {\n",
       "        vertical-align: middle;\n",
       "    }\n",
       "\n",
       "    .dataframe tbody tr th {\n",
       "        vertical-align: top;\n",
       "    }\n",
       "\n",
       "    .dataframe thead th {\n",
       "        text-align: right;\n",
       "    }\n",
       "</style>\n",
       "<table border=\"1\" class=\"dataframe\">\n",
       "  <thead>\n",
       "    <tr style=\"text-align: right;\">\n",
       "      <th></th>\n",
       "      <th>type</th>\n",
       "      <th>unknow</th>\n",
       "      <th>is_drop</th>\n",
       "      <th>action</th>\n",
       "      <th>n_nans</th>\n",
       "      <th>percent_of_nans</th>\n",
       "      <th>value_distinct</th>\n",
       "      <th>value_count</th>\n",
       "      <th>value_mean</th>\n",
       "      <th>value_std</th>\n",
       "      <th>value_min</th>\n",
       "      <th>value_max</th>\n",
       "      <th>value_Q1</th>\n",
       "      <th>value_Q3</th>\n",
       "      <th>value_IRQ</th>\n",
       "    </tr>\n",
       "    <tr>\n",
       "      <th>feat</th>\n",
       "      <th></th>\n",
       "      <th></th>\n",
       "      <th></th>\n",
       "      <th></th>\n",
       "      <th></th>\n",
       "      <th></th>\n",
       "      <th></th>\n",
       "      <th></th>\n",
       "      <th></th>\n",
       "      <th></th>\n",
       "      <th></th>\n",
       "      <th></th>\n",
       "      <th></th>\n",
       "      <th></th>\n",
       "      <th></th>\n",
       "    </tr>\n",
       "  </thead>\n",
       "  <tbody>\n",
       "    <tr>\n",
       "      <td>ANZ_HAUSHALTE_AKTIV</td>\n",
       "      <td>numeric</td>\n",
       "      <td>[]</td>\n",
       "      <td>0</td>\n",
       "      <td>0</td>\n",
       "      <td>0</td>\n",
       "      <td>0.000</td>\n",
       "      <td>118</td>\n",
       "      <td>7295.0</td>\n",
       "      <td>8.075120</td>\n",
       "      <td>14.197831</td>\n",
       "      <td>0.0</td>\n",
       "      <td>222.0</td>\n",
       "      <td>2.0</td>\n",
       "      <td>9.0</td>\n",
       "      <td>7.0</td>\n",
       "    </tr>\n",
       "    <tr>\n",
       "      <td>ANZ_HH_TITEL</td>\n",
       "      <td>numeric</td>\n",
       "      <td>[]</td>\n",
       "      <td>0</td>\n",
       "      <td>0</td>\n",
       "      <td>31</td>\n",
       "      <td>0.004</td>\n",
       "      <td>11</td>\n",
       "      <td>7264.0</td>\n",
       "      <td>0.037720</td>\n",
       "      <td>0.282508</td>\n",
       "      <td>0.0</td>\n",
       "      <td>9.0</td>\n",
       "      <td>0.0</td>\n",
       "      <td>0.0</td>\n",
       "      <td>0.0</td>\n",
       "    </tr>\n",
       "    <tr>\n",
       "      <td>ANZ_KINDER</td>\n",
       "      <td>numeric</td>\n",
       "      <td>[]</td>\n",
       "      <td>0</td>\n",
       "      <td>0</td>\n",
       "      <td>0</td>\n",
       "      <td>0.000</td>\n",
       "      <td>6</td>\n",
       "      <td>7295.0</td>\n",
       "      <td>0.154764</td>\n",
       "      <td>0.501475</td>\n",
       "      <td>0.0</td>\n",
       "      <td>5.0</td>\n",
       "      <td>0.0</td>\n",
       "      <td>0.0</td>\n",
       "      <td>0.0</td>\n",
       "    </tr>\n",
       "    <tr>\n",
       "      <td>ANZ_PERSONEN</td>\n",
       "      <td>numeric</td>\n",
       "      <td>[]</td>\n",
       "      <td>0</td>\n",
       "      <td>0</td>\n",
       "      <td>0</td>\n",
       "      <td>0.000</td>\n",
       "      <td>11</td>\n",
       "      <td>7295.0</td>\n",
       "      <td>1.752022</td>\n",
       "      <td>1.170800</td>\n",
       "      <td>0.0</td>\n",
       "      <td>12.0</td>\n",
       "      <td>1.0</td>\n",
       "      <td>2.0</td>\n",
       "      <td>1.0</td>\n",
       "    </tr>\n",
       "    <tr>\n",
       "      <td>ANZ_STATISTISCHE_HAUSHALTE</td>\n",
       "      <td>numeric</td>\n",
       "      <td>[]</td>\n",
       "      <td>0</td>\n",
       "      <td>0</td>\n",
       "      <td>0</td>\n",
       "      <td>0.000</td>\n",
       "      <td>111</td>\n",
       "      <td>7295.0</td>\n",
       "      <td>7.385744</td>\n",
       "      <td>12.970768</td>\n",
       "      <td>0.0</td>\n",
       "      <td>230.0</td>\n",
       "      <td>1.0</td>\n",
       "      <td>8.0</td>\n",
       "      <td>7.0</td>\n",
       "    </tr>\n",
       "    <tr>\n",
       "      <td>ANZ_TITEL</td>\n",
       "      <td>numeric</td>\n",
       "      <td>[]</td>\n",
       "      <td>0</td>\n",
       "      <td>0</td>\n",
       "      <td>0</td>\n",
       "      <td>0.000</td>\n",
       "      <td>2</td>\n",
       "      <td>7295.0</td>\n",
       "      <td>0.002467</td>\n",
       "      <td>0.049615</td>\n",
       "      <td>0.0</td>\n",
       "      <td>1.0</td>\n",
       "      <td>0.0</td>\n",
       "      <td>0.0</td>\n",
       "      <td>0.0</td>\n",
       "    </tr>\n",
       "    <tr>\n",
       "      <td>EINGEZOGENAM_HH_JAHR</td>\n",
       "      <td>numeric</td>\n",
       "      <td>[]</td>\n",
       "      <td>0</td>\n",
       "      <td>0</td>\n",
       "      <td>0</td>\n",
       "      <td>0.000</td>\n",
       "      <td>30</td>\n",
       "      <td>7295.0</td>\n",
       "      <td>2003.326388</td>\n",
       "      <td>7.007789</td>\n",
       "      <td>1984.0</td>\n",
       "      <td>2018.0</td>\n",
       "      <td>1997.0</td>\n",
       "      <td>2009.0</td>\n",
       "      <td>12.0</td>\n",
       "    </tr>\n",
       "    <tr>\n",
       "      <td>GEBURTSJAHR</td>\n",
       "      <td>numeric</td>\n",
       "      <td>[0]</td>\n",
       "      <td>0</td>\n",
       "      <td>0</td>\n",
       "      <td>2798</td>\n",
       "      <td>0.384</td>\n",
       "      <td>99</td>\n",
       "      <td>4497.0</td>\n",
       "      <td>1966.680231</td>\n",
       "      <td>17.743189</td>\n",
       "      <td>1905.0</td>\n",
       "      <td>2017.0</td>\n",
       "      <td>1954.0</td>\n",
       "      <td>1980.0</td>\n",
       "      <td>26.0</td>\n",
       "    </tr>\n",
       "    <tr>\n",
       "      <td>KBA13_ANZAHL_PKW</td>\n",
       "      <td>numeric</td>\n",
       "      <td>[]</td>\n",
       "      <td>0</td>\n",
       "      <td>0</td>\n",
       "      <td>0</td>\n",
       "      <td>0.000</td>\n",
       "      <td>1139</td>\n",
       "      <td>7295.0</td>\n",
       "      <td>623.034270</td>\n",
       "      <td>341.348571</td>\n",
       "      <td>10.0</td>\n",
       "      <td>2300.0</td>\n",
       "      <td>385.0</td>\n",
       "      <td>784.0</td>\n",
       "      <td>399.0</td>\n",
       "    </tr>\n",
       "    <tr>\n",
       "      <td>MIN_GEBAEUDEJAHR</td>\n",
       "      <td>numeric</td>\n",
       "      <td>[]</td>\n",
       "      <td>0</td>\n",
       "      <td>0</td>\n",
       "      <td>0</td>\n",
       "      <td>0.000</td>\n",
       "      <td>20</td>\n",
       "      <td>7295.0</td>\n",
       "      <td>1992.752433</td>\n",
       "      <td>1.858841</td>\n",
       "      <td>1985.0</td>\n",
       "      <td>2004.0</td>\n",
       "      <td>1992.0</td>\n",
       "      <td>1992.0</td>\n",
       "      <td>0.0</td>\n",
       "    </tr>\n",
       "  </tbody>\n",
       "</table>\n",
       "</div>"
      ],
      "text/plain": [
       "                               type unknow  is_drop action  n_nans  \\\n",
       "feat                                                                 \n",
       "ANZ_HAUSHALTE_AKTIV         numeric     []        0      0       0   \n",
       "ANZ_HH_TITEL                numeric     []        0      0      31   \n",
       "ANZ_KINDER                  numeric     []        0      0       0   \n",
       "ANZ_PERSONEN                numeric     []        0      0       0   \n",
       "ANZ_STATISTISCHE_HAUSHALTE  numeric     []        0      0       0   \n",
       "ANZ_TITEL                   numeric     []        0      0       0   \n",
       "EINGEZOGENAM_HH_JAHR        numeric     []        0      0       0   \n",
       "GEBURTSJAHR                 numeric    [0]        0      0    2798   \n",
       "KBA13_ANZAHL_PKW            numeric     []        0      0       0   \n",
       "MIN_GEBAEUDEJAHR            numeric     []        0      0       0   \n",
       "\n",
       "                            percent_of_nans  value_distinct  value_count  \\\n",
       "feat                                                                       \n",
       "ANZ_HAUSHALTE_AKTIV                   0.000             118       7295.0   \n",
       "ANZ_HH_TITEL                          0.004              11       7264.0   \n",
       "ANZ_KINDER                            0.000               6       7295.0   \n",
       "ANZ_PERSONEN                          0.000              11       7295.0   \n",
       "ANZ_STATISTISCHE_HAUSHALTE            0.000             111       7295.0   \n",
       "ANZ_TITEL                             0.000               2       7295.0   \n",
       "EINGEZOGENAM_HH_JAHR                  0.000              30       7295.0   \n",
       "GEBURTSJAHR                           0.384              99       4497.0   \n",
       "KBA13_ANZAHL_PKW                      0.000            1139       7295.0   \n",
       "MIN_GEBAEUDEJAHR                      0.000              20       7295.0   \n",
       "\n",
       "                             value_mean   value_std  value_min  value_max  \\\n",
       "feat                                                                        \n",
       "ANZ_HAUSHALTE_AKTIV            8.075120   14.197831        0.0      222.0   \n",
       "ANZ_HH_TITEL                   0.037720    0.282508        0.0        9.0   \n",
       "ANZ_KINDER                     0.154764    0.501475        0.0        5.0   \n",
       "ANZ_PERSONEN                   1.752022    1.170800        0.0       12.0   \n",
       "ANZ_STATISTISCHE_HAUSHALTE     7.385744   12.970768        0.0      230.0   \n",
       "ANZ_TITEL                      0.002467    0.049615        0.0        1.0   \n",
       "EINGEZOGENAM_HH_JAHR        2003.326388    7.007789     1984.0     2018.0   \n",
       "GEBURTSJAHR                 1966.680231   17.743189     1905.0     2017.0   \n",
       "KBA13_ANZAHL_PKW             623.034270  341.348571       10.0     2300.0   \n",
       "MIN_GEBAEUDEJAHR            1992.752433    1.858841     1985.0     2004.0   \n",
       "\n",
       "                            value_Q1  value_Q3  value_IRQ  \n",
       "feat                                                       \n",
       "ANZ_HAUSHALTE_AKTIV              2.0       9.0        7.0  \n",
       "ANZ_HH_TITEL                     0.0       0.0        0.0  \n",
       "ANZ_KINDER                       0.0       0.0        0.0  \n",
       "ANZ_PERSONEN                     1.0       2.0        1.0  \n",
       "ANZ_STATISTISCHE_HAUSHALTE       1.0       8.0        7.0  \n",
       "ANZ_TITEL                        0.0       0.0        0.0  \n",
       "EINGEZOGENAM_HH_JAHR          1997.0    2009.0       12.0  \n",
       "GEBURTSJAHR                   1954.0    1980.0       26.0  \n",
       "KBA13_ANZAHL_PKW               385.0     784.0      399.0  \n",
       "MIN_GEBAEUDEJAHR              1992.0    1992.0        0.0  "
      ]
     },
     "execution_count": 28,
     "metadata": {},
     "output_type": "execute_result"
    }
   ],
   "source": [
    "eda_azdias.feat_info.loc[(eda_azdias.feat_info.type == 'numeric') & (eda_azdias.feat_info.is_drop == 0)]"
   ]
  },
  {
   "cell_type": "code",
   "execution_count": 29,
   "metadata": {
    "ExecuteTime": {
     "end_time": "2020-03-08T15:51:02.371893Z",
     "start_time": "2020-03-08T15:51:02.345894Z"
    }
   },
   "outputs": [],
   "source": [
    "numeric_feats = eda_azdias.feat_info.loc[(eda_azdias.feat_info.type == 'numeric') & (eda_azdias.feat_info.is_drop == 0)].index\n",
    "numeric_feats = numeric_feats.drop(['EINGEZOGENAM_HH_JAHR', 'GEBURTSJAHR', 'MIN_GEBAEUDEJAHR'])\n",
    "data = eda_azdias.data[numeric_feats]"
   ]
  },
  {
   "cell_type": "code",
   "execution_count": 30,
   "metadata": {
    "ExecuteTime": {
     "end_time": "2020-03-08T15:51:09.786892Z",
     "start_time": "2020-03-08T15:51:02.378892Z"
    }
   },
   "outputs": [
    {
     "data": {
      "text/plain": [
       "array([[<matplotlib.axes._subplots.AxesSubplot object at 0x000001F0295A6D48>,\n",
       "        <matplotlib.axes._subplots.AxesSubplot object at 0x000001F029760FC8>,\n",
       "        <matplotlib.axes._subplots.AxesSubplot object at 0x000001F029655C48>,\n",
       "        <matplotlib.axes._subplots.AxesSubplot object at 0x000001F0296C2208>,\n",
       "        <matplotlib.axes._subplots.AxesSubplot object at 0x000001F02980BDC8>,\n",
       "        <matplotlib.axes._subplots.AxesSubplot object at 0x000001F02C858CC8>,\n",
       "        <matplotlib.axes._subplots.AxesSubplot object at 0x000001F02AE95988>],\n",
       "       [<matplotlib.axes._subplots.AxesSubplot object at 0x000001F02B7F92C8>,\n",
       "        <matplotlib.axes._subplots.AxesSubplot object at 0x000001F02C88A308>,\n",
       "        <matplotlib.axes._subplots.AxesSubplot object at 0x000001F029546488>,\n",
       "        <matplotlib.axes._subplots.AxesSubplot object at 0x000001F02AFA9D88>,\n",
       "        <matplotlib.axes._subplots.AxesSubplot object at 0x000001F02B029108>,\n",
       "        <matplotlib.axes._subplots.AxesSubplot object at 0x000001F0295B4348>,\n",
       "        <matplotlib.axes._subplots.AxesSubplot object at 0x000001F029837348>],\n",
       "       [<matplotlib.axes._subplots.AxesSubplot object at 0x000001F02C87B7C8>,\n",
       "        <matplotlib.axes._subplots.AxesSubplot object at 0x000001F02B472508>,\n",
       "        <matplotlib.axes._subplots.AxesSubplot object at 0x000001F02956A088>,\n",
       "        <matplotlib.axes._subplots.AxesSubplot object at 0x000001F029CDE808>,\n",
       "        <matplotlib.axes._subplots.AxesSubplot object at 0x000001F02961F7C8>,\n",
       "        <matplotlib.axes._subplots.AxesSubplot object at 0x000001F0295D1F08>,\n",
       "        <matplotlib.axes._subplots.AxesSubplot object at 0x000001F029567388>],\n",
       "       [<matplotlib.axes._subplots.AxesSubplot object at 0x000001F0295B83C8>,\n",
       "        <matplotlib.axes._subplots.AxesSubplot object at 0x000001F029691148>,\n",
       "        <matplotlib.axes._subplots.AxesSubplot object at 0x000001F02B1F1E48>,\n",
       "        <matplotlib.axes._subplots.AxesSubplot object at 0x000001F0293FB4C8>,\n",
       "        <matplotlib.axes._subplots.AxesSubplot object at 0x000001F02940F548>,\n",
       "        <matplotlib.axes._subplots.AxesSubplot object at 0x000001F02D42C508>,\n",
       "        <matplotlib.axes._subplots.AxesSubplot object at 0x000001F02D0BC0C8>],\n",
       "       [<matplotlib.axes._subplots.AxesSubplot object at 0x000001F02C913C88>,\n",
       "        <matplotlib.axes._subplots.AxesSubplot object at 0x000001F02B452888>,\n",
       "        <matplotlib.axes._subplots.AxesSubplot object at 0x000001F02D61B4C8>,\n",
       "        <matplotlib.axes._subplots.AxesSubplot object at 0x000001F02D0F2408>,\n",
       "        <matplotlib.axes._subplots.AxesSubplot object at 0x000001F02C944488>,\n",
       "        <matplotlib.axes._subplots.AxesSubplot object at 0x000001F02E0EC588>,\n",
       "        <matplotlib.axes._subplots.AxesSubplot object at 0x000001F02D5DE6C8>],\n",
       "       [<matplotlib.axes._subplots.AxesSubplot object at 0x000001F02CFFE7C8>,\n",
       "        <matplotlib.axes._subplots.AxesSubplot object at 0x000001F02D6E48C8>,\n",
       "        <matplotlib.axes._subplots.AxesSubplot object at 0x000001F02D64A988>,\n",
       "        <matplotlib.axes._subplots.AxesSubplot object at 0x000001F02D1F5A88>,\n",
       "        <matplotlib.axes._subplots.AxesSubplot object at 0x000001F02CE98B88>,\n",
       "        <matplotlib.axes._subplots.AxesSubplot object at 0x000001F02B3DBCC8>,\n",
       "        <matplotlib.axes._subplots.AxesSubplot object at 0x000001F02B8C3DC8>],\n",
       "       [<matplotlib.axes._subplots.AxesSubplot object at 0x000001F02B1C3E88>,\n",
       "        <matplotlib.axes._subplots.AxesSubplot object at 0x000001F02BA27FC8>,\n",
       "        <matplotlib.axes._subplots.AxesSubplot object at 0x000001F02B947108>,\n",
       "        <matplotlib.axes._subplots.AxesSubplot object at 0x000001F02D59C208>,\n",
       "        <matplotlib.axes._subplots.AxesSubplot object at 0x000001F02D548348>,\n",
       "        <matplotlib.axes._subplots.AxesSubplot object at 0x000001F02B50D448>,\n",
       "        <matplotlib.axes._subplots.AxesSubplot object at 0x000001F02B8054C8>]],\n",
       "      dtype=object)"
      ]
     },
     "execution_count": 30,
     "metadata": {},
     "output_type": "execute_result"
    },
    {
     "data": {
      "image/png": "[encoded data removed]",
      "text/plain": [
       "<Figure size 1440x864 with 49 Axes>"
      ]
     },
     "metadata": {
      "needs_background": "light"
     },
     "output_type": "display_data"
    }
   ],
   "source": [
    "pd.plotting.scatter_matrix(data, alpha = 0.3, figsize = (20,12), diagonal = 'kde')"
   ]
  },
  {
   "cell_type": "markdown",
   "metadata": {},
   "source": [
    "- ANZ_HAUSHALTE_AKTIV appears rather highly correlated with ANZ_STATISTISCHE_HAUSHALTE.  so I decide delete ANZ_STATISTISCHE_HAUSHALTE and keep ANZ_HAUSHALTE_AKTIV. \n",
    "- ANZ_HAUSHALTE_AKTIV and KBA13_ANZAHL_PKW appear to have a skewed distribution,  I will apply the natural logarithmic transformation to them"
   ]
  },
  {
   "cell_type": "code",
   "execution_count": 31,
   "metadata": {
    "ExecuteTime": {
     "end_time": "2020-03-08T15:51:09.847893Z",
     "start_time": "2020-03-08T15:51:09.815894Z"
    }
   },
   "outputs": [],
   "source": [
    "eda_azdias.feat_info.loc['ANZ_STATISTISCHE_HAUSHALTE' ,['is_drop', 'action']] = 1,  h.action_dic[2]\n",
    "eda_customers.feat_info.loc['ANZ_STATISTISCHE_HAUSHALTE' ,['is_drop', 'action']]  = 1,  h.action_dic[2]\n",
    "\n",
    "eda_azdias.data['ANZ_HAUSHALTE_AKTIV'] =  np.log(eda_azdias.data['ANZ_HAUSHALTE_AKTIV'] +2)\n",
    "eda_azdias.data['KBA13_ANZAHL_PKW'] =  np.log(eda_azdias.data['KBA13_ANZAHL_PKW'])\n",
    "\n",
    "eda_customers.data['ANZ_HAUSHALTE_AKTIV'] =  np.log(eda_customers.data['ANZ_HAUSHALTE_AKTIV'] +2)\n",
    "eda_customers.data['KBA13_ANZAHL_PKW'] =  np.log(eda_customers.data['KBA13_ANZAHL_PKW'])\n",
    "\n",
    "eda_azdias.feat_info.loc['ANZ_STATISTISCHE_HAUSHALTE','action'] =h.action_dic[4]\n",
    "eda_customers.feat_info.loc['ANZ_STATISTISCHE_HAUSHALTE','action']  = h.action_dic[4]"
   ]
  },
  {
   "cell_type": "code",
   "execution_count": 32,
   "metadata": {
    "ExecuteTime": {
     "end_time": "2020-03-08T15:51:10.753893Z",
     "start_time": "2020-03-08T15:51:09.857894Z"
    }
   },
   "outputs": [
    {
     "data": {
      "text/plain": [
       "array([[<matplotlib.axes._subplots.AxesSubplot object at 0x000001F0294DB3C8>,\n",
       "        <matplotlib.axes._subplots.AxesSubplot object at 0x000001F02C533E48>],\n",
       "       [<matplotlib.axes._subplots.AxesSubplot object at 0x000001F02CC08188>,\n",
       "        <matplotlib.axes._subplots.AxesSubplot object at 0x000001F02C71E9C8>]],\n",
       "      dtype=object)"
      ]
     },
     "execution_count": 32,
     "metadata": {},
     "output_type": "execute_result"
    },
    {
     "data": {
      "image/png": "[encoded data removed]",
      "text/plain": [
       "<Figure size 1440x864 with 4 Axes>"
      ]
     },
     "metadata": {
      "needs_background": "light"
     },
     "output_type": "display_data"
    }
   ],
   "source": [
    "pd.plotting.scatter_matrix(eda_azdias.data[['ANZ_HAUSHALTE_AKTIV', 'KBA13_ANZAHL_PKW']] , alpha = 0.3, figsize = (20,12), diagonal = 'kde')"
   ]
  },
  {
   "cell_type": "code",
   "execution_count": 33,
   "metadata": {
    "ExecuteTime": {
     "end_time": "2020-03-08T15:51:11.861893Z",
     "start_time": "2020-03-08T15:51:10.766891Z"
    }
   },
   "outputs": [],
   "source": [
    "# Re-Collecting feature stats\n",
    "eda_azdias.update_stats()\n",
    "eda_customers.update_stats()"
   ]
  },
  {
   "cell_type": "markdown",
   "metadata": {
    "ExecuteTime": {
     "end_time": "2020-02-29T07:38:48.175159Z",
     "start_time": "2020-02-29T07:38:48.168158Z"
    }
   },
   "source": [
    "####  Step 5. Split Mixed Features"
   ]
  },
  {
   "cell_type": "code",
   "execution_count": 34,
   "metadata": {
    "ExecuteTime": {
     "end_time": "2020-03-08T15:51:11.893893Z",
     "start_time": "2020-03-08T15:51:11.866893Z"
    }
   },
   "outputs": [
    {
     "data": {
      "text/html": [
       "<div>\n",
       "<style scoped>\n",
       "    .dataframe tbody tr th:only-of-type {\n",
       "        vertical-align: middle;\n",
       "    }\n",
       "\n",
       "    .dataframe tbody tr th {\n",
       "        vertical-align: top;\n",
       "    }\n",
       "\n",
       "    .dataframe thead th {\n",
       "        text-align: right;\n",
       "    }\n",
       "</style>\n",
       "<table border=\"1\" class=\"dataframe\">\n",
       "  <thead>\n",
       "    <tr style=\"text-align: right;\">\n",
       "      <th></th>\n",
       "      <th>type</th>\n",
       "      <th>unknow</th>\n",
       "      <th>is_drop</th>\n",
       "      <th>action</th>\n",
       "      <th>n_nans</th>\n",
       "      <th>percent_of_nans</th>\n",
       "      <th>value_distinct</th>\n",
       "      <th>value_count</th>\n",
       "      <th>value_mean</th>\n",
       "      <th>value_std</th>\n",
       "      <th>value_min</th>\n",
       "      <th>value_max</th>\n",
       "      <th>value_Q1</th>\n",
       "      <th>value_Q3</th>\n",
       "      <th>value_IRQ</th>\n",
       "    </tr>\n",
       "    <tr>\n",
       "      <th>feat</th>\n",
       "      <th></th>\n",
       "      <th></th>\n",
       "      <th></th>\n",
       "      <th></th>\n",
       "      <th></th>\n",
       "      <th></th>\n",
       "      <th></th>\n",
       "      <th></th>\n",
       "      <th></th>\n",
       "      <th></th>\n",
       "      <th></th>\n",
       "      <th></th>\n",
       "      <th></th>\n",
       "      <th></th>\n",
       "      <th></th>\n",
       "    </tr>\n",
       "  </thead>\n",
       "  <tbody>\n",
       "    <tr>\n",
       "      <td>CAMEO_INTL_2015</td>\n",
       "      <td>mixed</td>\n",
       "      <td>['-1','XX']</td>\n",
       "      <td>0</td>\n",
       "      <td>re-encoding: mapping</td>\n",
       "      <td>45</td>\n",
       "      <td>0.006</td>\n",
       "      <td>22</td>\n",
       "      <td>7250.0</td>\n",
       "      <td>35.549103</td>\n",
       "      <td>14.067291</td>\n",
       "      <td>12.0</td>\n",
       "      <td>55.0</td>\n",
       "      <td>24.0</td>\n",
       "      <td>51.0</td>\n",
       "      <td>27.0</td>\n",
       "    </tr>\n",
       "    <tr>\n",
       "      <td>LP_LEBENSPHASE_GROB</td>\n",
       "      <td>mixed</td>\n",
       "      <td>[0]</td>\n",
       "      <td>0</td>\n",
       "      <td>0</td>\n",
       "      <td>402</td>\n",
       "      <td>0.055</td>\n",
       "      <td>13</td>\n",
       "      <td>6893.0</td>\n",
       "      <td>4.998694</td>\n",
       "      <td>3.782712</td>\n",
       "      <td>1.0</td>\n",
       "      <td>12.0</td>\n",
       "      <td>2.0</td>\n",
       "      <td>9.0</td>\n",
       "      <td>7.0</td>\n",
       "    </tr>\n",
       "    <tr>\n",
       "      <td>PRAEGENDE_JUGENDJAHRE</td>\n",
       "      <td>mixed</td>\n",
       "      <td>[-1,0]</td>\n",
       "      <td>0</td>\n",
       "      <td>0</td>\n",
       "      <td>187</td>\n",
       "      <td>0.026</td>\n",
       "      <td>16</td>\n",
       "      <td>7108.0</td>\n",
       "      <td>9.242966</td>\n",
       "      <td>4.037453</td>\n",
       "      <td>1.0</td>\n",
       "      <td>15.0</td>\n",
       "      <td>5.0</td>\n",
       "      <td>14.0</td>\n",
       "      <td>9.0</td>\n",
       "    </tr>\n",
       "    <tr>\n",
       "      <td>EINGEFUEGT_AM</td>\n",
       "      <td>mixed</td>\n",
       "      <td>[]</td>\n",
       "      <td>0</td>\n",
       "      <td>0</td>\n",
       "      <td>0</td>\n",
       "      <td>0.000</td>\n",
       "      <td>686</td>\n",
       "      <td>NaN</td>\n",
       "      <td>NaN</td>\n",
       "      <td>NaN</td>\n",
       "      <td>NaN</td>\n",
       "      <td>NaN</td>\n",
       "      <td>NaN</td>\n",
       "      <td>NaN</td>\n",
       "      <td>NaN</td>\n",
       "    </tr>\n",
       "  </tbody>\n",
       "</table>\n",
       "</div>"
      ],
      "text/plain": [
       "                        type       unknow  is_drop                action  \\\n",
       "feat                                                                       \n",
       "CAMEO_INTL_2015        mixed  ['-1','XX']        0  re-encoding: mapping   \n",
       "LP_LEBENSPHASE_GROB    mixed          [0]        0                     0   \n",
       "PRAEGENDE_JUGENDJAHRE  mixed       [-1,0]        0                     0   \n",
       "EINGEFUEGT_AM          mixed           []        0                     0   \n",
       "\n",
       "                       n_nans  percent_of_nans  value_distinct  value_count  \\\n",
       "feat                                                                          \n",
       "CAMEO_INTL_2015            45            0.006              22       7250.0   \n",
       "LP_LEBENSPHASE_GROB       402            0.055              13       6893.0   \n",
       "PRAEGENDE_JUGENDJAHRE     187            0.026              16       7108.0   \n",
       "EINGEFUEGT_AM               0            0.000             686          NaN   \n",
       "\n",
       "                       value_mean  value_std  value_min  value_max  value_Q1  \\\n",
       "feat                                                                           \n",
       "CAMEO_INTL_2015         35.549103  14.067291       12.0       55.0      24.0   \n",
       "LP_LEBENSPHASE_GROB      4.998694   3.782712        1.0       12.0       2.0   \n",
       "PRAEGENDE_JUGENDJAHRE    9.242966   4.037453        1.0       15.0       5.0   \n",
       "EINGEFUEGT_AM                 NaN        NaN        NaN        NaN       NaN   \n",
       "\n",
       "                       value_Q3  value_IRQ  \n",
       "feat                                        \n",
       "CAMEO_INTL_2015            51.0       27.0  \n",
       "LP_LEBENSPHASE_GROB         9.0        7.0  \n",
       "PRAEGENDE_JUGENDJAHRE      14.0        9.0  \n",
       "EINGEFUEGT_AM               NaN        NaN  "
      ]
     },
     "execution_count": 34,
     "metadata": {},
     "output_type": "execute_result"
    }
   ],
   "source": [
    "# mixed = eda_azdias.feat_info[ (eda_azdias.feat_info['type'] == 'mixed') & (eda_azdias.feat_info.is_drop == '0')]\n",
    "mixed_feats = eda_azdias.feat_info[ (eda_azdias.feat_info.type == 'mixed') & (eda_azdias.feat_info.is_drop == 0)]\n",
    "mixed_feats"
   ]
  },
  {
   "cell_type": "code",
   "execution_count": 35,
   "metadata": {
    "ExecuteTime": {
     "end_time": "2020-03-08T15:51:12.147893Z",
     "start_time": "2020-03-08T15:51:11.899892Z"
    }
   },
   "outputs": [],
   "source": [
    "# mixed_feats = ['CAMEO_INTL_2015', 'LP_LEBENSPHASE_GROB', 'PRAEGENDE_JUGENDJAHRE', 'EINGEFUEGT_AM']\n",
    "for x in mixed_feats.index:\n",
    "    eda_azdias.split_mixed_feat(x)\n",
    "    eda_customers.split_mixed_feat(x)           "
   ]
  },
  {
   "cell_type": "code",
   "execution_count": 36,
   "metadata": {
    "ExecuteTime": {
     "end_time": "2020-03-08T15:51:12.179893Z",
     "start_time": "2020-03-08T15:51:12.156892Z"
    }
   },
   "outputs": [
    {
     "data": {
      "text/html": [
       "<div>\n",
       "<style scoped>\n",
       "    .dataframe tbody tr th:only-of-type {\n",
       "        vertical-align: middle;\n",
       "    }\n",
       "\n",
       "    .dataframe tbody tr th {\n",
       "        vertical-align: top;\n",
       "    }\n",
       "\n",
       "    .dataframe thead th {\n",
       "        text-align: right;\n",
       "    }\n",
       "</style>\n",
       "<table border=\"1\" class=\"dataframe\">\n",
       "  <thead>\n",
       "    <tr style=\"text-align: right;\">\n",
       "      <th></th>\n",
       "      <th>CAMEO_INTL_2015_SPLIT_WEALTH</th>\n",
       "      <th>CAMEO_INTL_2015_SPLIT_LIFE_STAGE</th>\n",
       "      <th>LP_LEBENSPHASE_GROB_SPLIT_FAMILY</th>\n",
       "      <th>LP_LEBENSPHASE_GROB_SPLIT_AGE</th>\n",
       "      <th>LP_LEBENSPHASE_GROB_SPLIT_INCOME</th>\n",
       "      <th>PRAEGENDE_JUGENDJAHRE_SPLIT_DECADE</th>\n",
       "      <th>PRAEGENDE_JUGENDJAHRE_SPLIT_MOVEMENT</th>\n",
       "    </tr>\n",
       "  </thead>\n",
       "  <tbody>\n",
       "    <tr>\n",
       "      <td>191203</td>\n",
       "      <td>2.0</td>\n",
       "      <td>4.0</td>\n",
       "      <td>2.0</td>\n",
       "      <td>NaN</td>\n",
       "      <td>NaN</td>\n",
       "      <td>5.0</td>\n",
       "      <td>0.0</td>\n",
       "    </tr>\n",
       "    <tr>\n",
       "      <td>189489</td>\n",
       "      <td>5.0</td>\n",
       "      <td>1.0</td>\n",
       "      <td>5.0</td>\n",
       "      <td>0.0</td>\n",
       "      <td>0.0</td>\n",
       "      <td>5.0</td>\n",
       "      <td>0.0</td>\n",
       "    </tr>\n",
       "    <tr>\n",
       "      <td>677258</td>\n",
       "      <td>2.0</td>\n",
       "      <td>4.0</td>\n",
       "      <td>0.0</td>\n",
       "      <td>NaN</td>\n",
       "      <td>1.0</td>\n",
       "      <td>5.0</td>\n",
       "      <td>1.0</td>\n",
       "    </tr>\n",
       "    <tr>\n",
       "      <td>580326</td>\n",
       "      <td>2.0</td>\n",
       "      <td>4.0</td>\n",
       "      <td>5.0</td>\n",
       "      <td>1.0</td>\n",
       "      <td>0.0</td>\n",
       "      <td>1.0</td>\n",
       "      <td>0.0</td>\n",
       "    </tr>\n",
       "    <tr>\n",
       "      <td>97365</td>\n",
       "      <td>3.0</td>\n",
       "      <td>4.0</td>\n",
       "      <td>1.0</td>\n",
       "      <td>1.0</td>\n",
       "      <td>0.0</td>\n",
       "      <td>5.0</td>\n",
       "      <td>0.0</td>\n",
       "    </tr>\n",
       "    <tr>\n",
       "      <td>...</td>\n",
       "      <td>...</td>\n",
       "      <td>...</td>\n",
       "      <td>...</td>\n",
       "      <td>...</td>\n",
       "      <td>...</td>\n",
       "      <td>...</td>\n",
       "      <td>...</td>\n",
       "    </tr>\n",
       "    <tr>\n",
       "      <td>834708</td>\n",
       "      <td>5.0</td>\n",
       "      <td>2.0</td>\n",
       "      <td>5.0</td>\n",
       "      <td>0.0</td>\n",
       "      <td>0.0</td>\n",
       "      <td>5.0</td>\n",
       "      <td>0.0</td>\n",
       "    </tr>\n",
       "    <tr>\n",
       "      <td>101856</td>\n",
       "      <td>5.0</td>\n",
       "      <td>1.0</td>\n",
       "      <td>1.0</td>\n",
       "      <td>1.0</td>\n",
       "      <td>0.0</td>\n",
       "      <td>4.0</td>\n",
       "      <td>0.0</td>\n",
       "    </tr>\n",
       "    <tr>\n",
       "      <td>721239</td>\n",
       "      <td>1.0</td>\n",
       "      <td>4.0</td>\n",
       "      <td>5.0</td>\n",
       "      <td>0.0</td>\n",
       "      <td>0.0</td>\n",
       "      <td>5.0</td>\n",
       "      <td>1.0</td>\n",
       "    </tr>\n",
       "    <tr>\n",
       "      <td>451704</td>\n",
       "      <td>1.0</td>\n",
       "      <td>5.0</td>\n",
       "      <td>5.0</td>\n",
       "      <td>1.0</td>\n",
       "      <td>1.0</td>\n",
       "      <td>3.0</td>\n",
       "      <td>1.0</td>\n",
       "    </tr>\n",
       "    <tr>\n",
       "      <td>518725</td>\n",
       "      <td>2.0</td>\n",
       "      <td>4.0</td>\n",
       "      <td>NaN</td>\n",
       "      <td>NaN</td>\n",
       "      <td>NaN</td>\n",
       "      <td>5.0</td>\n",
       "      <td>0.0</td>\n",
       "    </tr>\n",
       "  </tbody>\n",
       "</table>\n",
       "<p>7295 rows × 7 columns</p>\n",
       "</div>"
      ],
      "text/plain": [
       "        CAMEO_INTL_2015_SPLIT_WEALTH  CAMEO_INTL_2015_SPLIT_LIFE_STAGE  \\\n",
       "191203                           2.0                               4.0   \n",
       "189489                           5.0                               1.0   \n",
       "677258                           2.0                               4.0   \n",
       "580326                           2.0                               4.0   \n",
       "97365                            3.0                               4.0   \n",
       "...                              ...                               ...   \n",
       "834708                           5.0                               2.0   \n",
       "101856                           5.0                               1.0   \n",
       "721239                           1.0                               4.0   \n",
       "451704                           1.0                               5.0   \n",
       "518725                           2.0                               4.0   \n",
       "\n",
       "        LP_LEBENSPHASE_GROB_SPLIT_FAMILY  LP_LEBENSPHASE_GROB_SPLIT_AGE  \\\n",
       "191203                               2.0                            NaN   \n",
       "189489                               5.0                            0.0   \n",
       "677258                               0.0                            NaN   \n",
       "580326                               5.0                            1.0   \n",
       "97365                                1.0                            1.0   \n",
       "...                                  ...                            ...   \n",
       "834708                               5.0                            0.0   \n",
       "101856                               1.0                            1.0   \n",
       "721239                               5.0                            0.0   \n",
       "451704                               5.0                            1.0   \n",
       "518725                               NaN                            NaN   \n",
       "\n",
       "        LP_LEBENSPHASE_GROB_SPLIT_INCOME  PRAEGENDE_JUGENDJAHRE_SPLIT_DECADE  \\\n",
       "191203                               NaN                                 5.0   \n",
       "189489                               0.0                                 5.0   \n",
       "677258                               1.0                                 5.0   \n",
       "580326                               0.0                                 1.0   \n",
       "97365                                0.0                                 5.0   \n",
       "...                                  ...                                 ...   \n",
       "834708                               0.0                                 5.0   \n",
       "101856                               0.0                                 4.0   \n",
       "721239                               0.0                                 5.0   \n",
       "451704                               1.0                                 3.0   \n",
       "518725                               NaN                                 5.0   \n",
       "\n",
       "        PRAEGENDE_JUGENDJAHRE_SPLIT_MOVEMENT  \n",
       "191203                                   0.0  \n",
       "189489                                   0.0  \n",
       "677258                                   1.0  \n",
       "580326                                   0.0  \n",
       "97365                                    0.0  \n",
       "...                                      ...  \n",
       "834708                                   0.0  \n",
       "101856                                   0.0  \n",
       "721239                                   1.0  \n",
       "451704                                   1.0  \n",
       "518725                                   0.0  \n",
       "\n",
       "[7295 rows x 7 columns]"
      ]
     },
     "execution_count": 36,
     "metadata": {},
     "output_type": "execute_result"
    }
   ],
   "source": [
    "feats_splited = ['CAMEO_INTL_2015_SPLIT_WEALTH', 'CAMEO_INTL_2015_SPLIT_LIFE_STAGE','LP_LEBENSPHASE_GROB_SPLIT_FAMILY','LP_LEBENSPHASE_GROB_SPLIT_AGE','LP_LEBENSPHASE_GROB_SPLIT_INCOME','PRAEGENDE_JUGENDJAHRE_SPLIT_DECADE','PRAEGENDE_JUGENDJAHRE_SPLIT_MOVEMENT']\n",
    "eda_azdias.data[feats_splited]"
   ]
  },
  {
   "cell_type": "code",
   "execution_count": 37,
   "metadata": {
    "ExecuteTime": {
     "end_time": "2020-03-08T15:51:12.274891Z",
     "start_time": "2020-03-08T15:51:12.186895Z"
    }
   },
   "outputs": [],
   "source": [
    "feats_splited_info = pd.DataFrame({\n",
    "    'type': pd.Series('categorical', index = feats_splited),\n",
    "    'unknow': pd.Series('[]', index = feats_splited)},\n",
    "index = feats_splited)\n",
    "                \n",
    "feat_info_split = eda_azdias.build_feat_info(feats_splited_info)\n",
    "eda_azdias.feat_info= pd.concat([eda_azdias.feat_info, feat_info_split], sort = False)\n",
    "# eda_azdias.feat_info\n",
    "\n",
    "feat_info_split = eda_customers.build_feat_info(feats_splited_info)\n",
    "eda_customers.feat_info= pd.concat([eda_customers.feat_info, feat_info_split], sort = False)\n",
    "# eda_customers.feat_info"
   ]
  },
  {
   "cell_type": "code",
   "execution_count": 38,
   "metadata": {
    "ExecuteTime": {
     "end_time": "2020-03-08T15:51:13.340893Z",
     "start_time": "2020-03-08T15:51:12.281894Z"
    }
   },
   "outputs": [],
   "source": [
    "eda_azdias.update_stats()\n",
    "eda_customers.update_stats()"
   ]
  },
  {
   "cell_type": "markdown",
   "metadata": {},
   "source": [
    "#### Step 6.  Remove outliers"
   ]
  },
  {
   "cell_type": "markdown",
   "metadata": {},
   "source": [
    "#####  a. Analysis outliers for  numeric features"
   ]
  },
  {
   "cell_type": "code",
   "execution_count": 39,
   "metadata": {
    "ExecuteTime": {
     "end_time": "2020-03-08T15:51:13.372893Z",
     "start_time": "2020-03-08T15:51:13.344892Z"
    }
   },
   "outputs": [
    {
     "data": {
      "text/html": [
       "<div>\n",
       "<style scoped>\n",
       "    .dataframe tbody tr th:only-of-type {\n",
       "        vertical-align: middle;\n",
       "    }\n",
       "\n",
       "    .dataframe tbody tr th {\n",
       "        vertical-align: top;\n",
       "    }\n",
       "\n",
       "    .dataframe thead th {\n",
       "        text-align: right;\n",
       "    }\n",
       "</style>\n",
       "<table border=\"1\" class=\"dataframe\">\n",
       "  <thead>\n",
       "    <tr style=\"text-align: right;\">\n",
       "      <th></th>\n",
       "      <th>type</th>\n",
       "      <th>unknow</th>\n",
       "      <th>is_drop</th>\n",
       "      <th>action</th>\n",
       "      <th>n_nans</th>\n",
       "      <th>percent_of_nans</th>\n",
       "      <th>value_distinct</th>\n",
       "      <th>value_count</th>\n",
       "      <th>value_mean</th>\n",
       "      <th>value_std</th>\n",
       "      <th>value_min</th>\n",
       "      <th>value_max</th>\n",
       "      <th>value_Q1</th>\n",
       "      <th>value_Q3</th>\n",
       "      <th>value_IRQ</th>\n",
       "    </tr>\n",
       "  </thead>\n",
       "  <tbody>\n",
       "    <tr>\n",
       "      <td>ANZ_HAUSHALTE_AKTIV</td>\n",
       "      <td>numeric</td>\n",
       "      <td>[]</td>\n",
       "      <td>0</td>\n",
       "      <td>0</td>\n",
       "      <td>0</td>\n",
       "      <td>0.000</td>\n",
       "      <td>118</td>\n",
       "      <td>7295.0</td>\n",
       "      <td>1.918469</td>\n",
       "      <td>0.779444</td>\n",
       "      <td>0.693147</td>\n",
       "      <td>5.411646</td>\n",
       "      <td>1.386294</td>\n",
       "      <td>2.397895</td>\n",
       "      <td>1.011601</td>\n",
       "    </tr>\n",
       "    <tr>\n",
       "      <td>ANZ_HH_TITEL</td>\n",
       "      <td>numeric</td>\n",
       "      <td>[]</td>\n",
       "      <td>0</td>\n",
       "      <td>0</td>\n",
       "      <td>31</td>\n",
       "      <td>0.004</td>\n",
       "      <td>11</td>\n",
       "      <td>7264.0</td>\n",
       "      <td>0.037720</td>\n",
       "      <td>0.282508</td>\n",
       "      <td>0.000000</td>\n",
       "      <td>9.000000</td>\n",
       "      <td>0.000000</td>\n",
       "      <td>0.000000</td>\n",
       "      <td>0.000000</td>\n",
       "    </tr>\n",
       "    <tr>\n",
       "      <td>ANZ_KINDER</td>\n",
       "      <td>numeric</td>\n",
       "      <td>[]</td>\n",
       "      <td>0</td>\n",
       "      <td>0</td>\n",
       "      <td>0</td>\n",
       "      <td>0.000</td>\n",
       "      <td>6</td>\n",
       "      <td>7295.0</td>\n",
       "      <td>0.154764</td>\n",
       "      <td>0.501475</td>\n",
       "      <td>0.000000</td>\n",
       "      <td>5.000000</td>\n",
       "      <td>0.000000</td>\n",
       "      <td>0.000000</td>\n",
       "      <td>0.000000</td>\n",
       "    </tr>\n",
       "    <tr>\n",
       "      <td>ANZ_PERSONEN</td>\n",
       "      <td>numeric</td>\n",
       "      <td>[]</td>\n",
       "      <td>0</td>\n",
       "      <td>0</td>\n",
       "      <td>0</td>\n",
       "      <td>0.000</td>\n",
       "      <td>11</td>\n",
       "      <td>7295.0</td>\n",
       "      <td>1.752022</td>\n",
       "      <td>1.170800</td>\n",
       "      <td>0.000000</td>\n",
       "      <td>12.000000</td>\n",
       "      <td>1.000000</td>\n",
       "      <td>2.000000</td>\n",
       "      <td>1.000000</td>\n",
       "    </tr>\n",
       "    <tr>\n",
       "      <td>ANZ_TITEL</td>\n",
       "      <td>numeric</td>\n",
       "      <td>[]</td>\n",
       "      <td>0</td>\n",
       "      <td>0</td>\n",
       "      <td>0</td>\n",
       "      <td>0.000</td>\n",
       "      <td>2</td>\n",
       "      <td>7295.0</td>\n",
       "      <td>0.002467</td>\n",
       "      <td>0.049615</td>\n",
       "      <td>0.000000</td>\n",
       "      <td>1.000000</td>\n",
       "      <td>0.000000</td>\n",
       "      <td>0.000000</td>\n",
       "      <td>0.000000</td>\n",
       "    </tr>\n",
       "    <tr>\n",
       "      <td>EINGEZOGENAM_HH_JAHR</td>\n",
       "      <td>numeric</td>\n",
       "      <td>[]</td>\n",
       "      <td>0</td>\n",
       "      <td>0</td>\n",
       "      <td>0</td>\n",
       "      <td>0.000</td>\n",
       "      <td>30</td>\n",
       "      <td>7295.0</td>\n",
       "      <td>2003.326388</td>\n",
       "      <td>7.007789</td>\n",
       "      <td>1984.000000</td>\n",
       "      <td>2018.000000</td>\n",
       "      <td>1997.000000</td>\n",
       "      <td>2009.000000</td>\n",
       "      <td>12.000000</td>\n",
       "    </tr>\n",
       "    <tr>\n",
       "      <td>GEBURTSJAHR</td>\n",
       "      <td>numeric</td>\n",
       "      <td>[0]</td>\n",
       "      <td>0</td>\n",
       "      <td>0</td>\n",
       "      <td>2798</td>\n",
       "      <td>0.384</td>\n",
       "      <td>99</td>\n",
       "      <td>4497.0</td>\n",
       "      <td>1966.680231</td>\n",
       "      <td>17.743189</td>\n",
       "      <td>1905.000000</td>\n",
       "      <td>2017.000000</td>\n",
       "      <td>1954.000000</td>\n",
       "      <td>1980.000000</td>\n",
       "      <td>26.000000</td>\n",
       "    </tr>\n",
       "    <tr>\n",
       "      <td>KBA13_ANZAHL_PKW</td>\n",
       "      <td>numeric</td>\n",
       "      <td>[]</td>\n",
       "      <td>0</td>\n",
       "      <td>0</td>\n",
       "      <td>0</td>\n",
       "      <td>0.000</td>\n",
       "      <td>1139</td>\n",
       "      <td>7295.0</td>\n",
       "      <td>6.285737</td>\n",
       "      <td>0.569849</td>\n",
       "      <td>2.302585</td>\n",
       "      <td>7.740664</td>\n",
       "      <td>5.953243</td>\n",
       "      <td>6.664409</td>\n",
       "      <td>0.711166</td>\n",
       "    </tr>\n",
       "    <tr>\n",
       "      <td>MIN_GEBAEUDEJAHR</td>\n",
       "      <td>numeric</td>\n",
       "      <td>[]</td>\n",
       "      <td>0</td>\n",
       "      <td>0</td>\n",
       "      <td>0</td>\n",
       "      <td>0.000</td>\n",
       "      <td>20</td>\n",
       "      <td>7295.0</td>\n",
       "      <td>1992.752433</td>\n",
       "      <td>1.858841</td>\n",
       "      <td>1985.000000</td>\n",
       "      <td>2004.000000</td>\n",
       "      <td>1992.000000</td>\n",
       "      <td>1992.000000</td>\n",
       "      <td>0.000000</td>\n",
       "    </tr>\n",
       "  </tbody>\n",
       "</table>\n",
       "</div>"
      ],
      "text/plain": [
       "                         type unknow  is_drop action  n_nans  percent_of_nans  \\\n",
       "ANZ_HAUSHALTE_AKTIV   numeric     []        0      0       0            0.000   \n",
       "ANZ_HH_TITEL          numeric     []        0      0      31            0.004   \n",
       "ANZ_KINDER            numeric     []        0      0       0            0.000   \n",
       "ANZ_PERSONEN          numeric     []        0      0       0            0.000   \n",
       "ANZ_TITEL             numeric     []        0      0       0            0.000   \n",
       "EINGEZOGENAM_HH_JAHR  numeric     []        0      0       0            0.000   \n",
       "GEBURTSJAHR           numeric    [0]        0      0    2798            0.384   \n",
       "KBA13_ANZAHL_PKW      numeric     []        0      0       0            0.000   \n",
       "MIN_GEBAEUDEJAHR      numeric     []        0      0       0            0.000   \n",
       "\n",
       "                      value_distinct  value_count   value_mean  value_std  \\\n",
       "ANZ_HAUSHALTE_AKTIV              118       7295.0     1.918469   0.779444   \n",
       "ANZ_HH_TITEL                      11       7264.0     0.037720   0.282508   \n",
       "ANZ_KINDER                         6       7295.0     0.154764   0.501475   \n",
       "ANZ_PERSONEN                      11       7295.0     1.752022   1.170800   \n",
       "ANZ_TITEL                          2       7295.0     0.002467   0.049615   \n",
       "EINGEZOGENAM_HH_JAHR              30       7295.0  2003.326388   7.007789   \n",
       "GEBURTSJAHR                       99       4497.0  1966.680231  17.743189   \n",
       "KBA13_ANZAHL_PKW                1139       7295.0     6.285737   0.569849   \n",
       "MIN_GEBAEUDEJAHR                  20       7295.0  1992.752433   1.858841   \n",
       "\n",
       "                        value_min    value_max     value_Q1     value_Q3  \\\n",
       "ANZ_HAUSHALTE_AKTIV      0.693147     5.411646     1.386294     2.397895   \n",
       "ANZ_HH_TITEL             0.000000     9.000000     0.000000     0.000000   \n",
       "ANZ_KINDER               0.000000     5.000000     0.000000     0.000000   \n",
       "ANZ_PERSONEN             0.000000    12.000000     1.000000     2.000000   \n",
       "ANZ_TITEL                0.000000     1.000000     0.000000     0.000000   \n",
       "EINGEZOGENAM_HH_JAHR  1984.000000  2018.000000  1997.000000  2009.000000   \n",
       "GEBURTSJAHR           1905.000000  2017.000000  1954.000000  1980.000000   \n",
       "KBA13_ANZAHL_PKW         2.302585     7.740664     5.953243     6.664409   \n",
       "MIN_GEBAEUDEJAHR      1985.000000  2004.000000  1992.000000  1992.000000   \n",
       "\n",
       "                      value_IRQ  \n",
       "ANZ_HAUSHALTE_AKTIV    1.011601  \n",
       "ANZ_HH_TITEL           0.000000  \n",
       "ANZ_KINDER             0.000000  \n",
       "ANZ_PERSONEN           1.000000  \n",
       "ANZ_TITEL              0.000000  \n",
       "EINGEZOGENAM_HH_JAHR  12.000000  \n",
       "GEBURTSJAHR           26.000000  \n",
       "KBA13_ANZAHL_PKW       0.711166  \n",
       "MIN_GEBAEUDEJAHR       0.000000  "
      ]
     },
     "execution_count": 39,
     "metadata": {},
     "output_type": "execute_result"
    }
   ],
   "source": [
    "numeric_feats = eda_azdias.feat_info[ (eda_azdias.feat_info.type == 'numeric') & (eda_azdias.feat_info.is_drop == 0)]\n",
    "numeric_feats"
   ]
  },
  {
   "cell_type": "code",
   "execution_count": 41,
   "metadata": {
    "ExecuteTime": {
     "end_time": "2020-03-08T15:51:38.890894Z",
     "start_time": "2020-03-08T15:51:38.406893Z"
    }
   },
   "outputs": [
    {
     "data": {
      "image/png": "[encoded data removed]",
      "text/plain": [
       "<Figure size 1440x432 with 6 Axes>"
      ]
     },
     "metadata": {
      "needs_background": "light"
     },
     "output_type": "display_data"
    }
   ],
   "source": [
    "cols = ['ANZ_HAUSHALTE_AKTIV' , 'ANZ_HH_TITEL','ANZ_TITEL','ANZ_KINDER', 'ANZ_PERSONEN','KBA13_ANZAHL_PKW']\n",
    "h.plot_boxplot(eda_azdias.data, cols, n_cols=3,  figsize = (20, 6))         "
   ]
  },
  {
   "cell_type": "code",
   "execution_count": 43,
   "metadata": {
    "ExecuteTime": {
     "end_time": "2020-03-08T15:51:46.641895Z",
     "start_time": "2020-03-08T15:51:46.160893Z"
    }
   },
   "outputs": [
    {
     "data": {
      "image/png": "[encoded data removed]",
      "text/plain": [
       "<Figure size 1440x432 with 6 Axes>"
      ]
     },
     "metadata": {
      "needs_background": "light"
     },
     "output_type": "display_data"
    }
   ],
   "source": [
    "h.plot_boxplot(eda_customers.data, cols, n_cols=3,  figsize = (20, 6))     "
   ]
  },
  {
   "cell_type": "code",
   "execution_count": 44,
   "metadata": {
    "ExecuteTime": {
     "end_time": "2020-03-08T15:51:55.581894Z",
     "start_time": "2020-03-08T15:51:55.569896Z"
    }
   },
   "outputs": [],
   "source": [
    "eda_azdias.feat_info.loc[['ANZ_TITEL','ANZ_KINDER'] ,['is_drop', 'action']] = 1, h.action_dic[6]   \n",
    "eda_customers.feat_info.loc[['ANZ_TITEL','ANZ_KINDER'] ,['is_drop', 'action']] = 1, h.action_dic[6]   "
   ]
  },
  {
   "cell_type": "code",
   "execution_count": 45,
   "metadata": {
    "ExecuteTime": {
     "end_time": "2020-03-08T15:52:00.540892Z",
     "start_time": "2020-03-08T15:52:00.201892Z"
    }
   },
   "outputs": [
    {
     "name": "stdout",
     "output_type": "stream",
     "text": [
      "Cleaning outliers for ANZ_HAUSHALTE_AKTIV  ...\n",
      "Cleaning outliers for ANZ_PERSONEN  ...\n",
      "Cleaning outliers for KBA13_ANZAHL_PKW  ...\n"
     ]
    },
    {
     "data": {
      "image/png": "[encoded data removed]",
      "text/plain": [
       "<Figure size 1152x288 with 3 Axes>"
      ]
     },
     "metadata": {
      "needs_background": "light"
     },
     "output_type": "display_data"
    }
   ],
   "source": [
    "numeric_outlier_feats = ['ANZ_HAUSHALTE_AKTIV' , 'ANZ_PERSONEN','KBA13_ANZAHL_PKW']\n",
    "eda_azdias.clean_outlier(numeric_outlier_feats)\n",
    "h.plot_boxplot(eda_azdias.data, numeric_outlier_feats, n_cols=3,  figsize = (16, 2))"
   ]
  },
  {
   "cell_type": "code",
   "execution_count": 48,
   "metadata": {
    "ExecuteTime": {
     "end_time": "2020-03-08T15:52:57.238325Z",
     "start_time": "2020-03-08T15:52:56.954327Z"
    }
   },
   "outputs": [
    {
     "name": "stdout",
     "output_type": "stream",
     "text": [
      "Cleaning outliers for ANZ_HAUSHALTE_AKTIV  ...\n",
      "Cleaning outliers for ANZ_PERSONEN  ...\n",
      "Cleaning outliers for KBA13_ANZAHL_PKW  ...\n"
     ]
    },
    {
     "data": {
      "image/png": "[encoded data removed]",
      "text/plain": [
       "<Figure size 1152x144 with 3 Axes>"
      ]
     },
     "metadata": {
      "needs_background": "light"
     },
     "output_type": "display_data"
    }
   ],
   "source": [
    "eda_customers.clean_outlier(numeric_outlier_feats)\n",
    "h.plot_boxplot(eda_customers.data, numeric_outlier_feats, n_cols=3,  figsize = (16, 2))"
   ]
  },
  {
   "cell_type": "code",
   "execution_count": null,
   "metadata": {
    "ExecuteTime": {
     "end_time": "2020-03-08T15:51:13.546893Z",
     "start_time": "2020-03-08T15:50:49.520Z"
    }
   },
   "outputs": [],
   "source": [
    "h.plot_boxplot(eda_customers.data, numeric_outlier_feats, n_cols=2,  figsize = (16, 4))     "
   ]
  },
  {
   "cell_type": "markdown",
   "metadata": {},
   "source": [
    "#####  a. Analysis outliers for  categorical features"
   ]
  },
  {
   "cell_type": "code",
   "execution_count": null,
   "metadata": {
    "ExecuteTime": {
     "end_time": "2020-03-08T15:51:13.548893Z",
     "start_time": "2020-03-08T15:50:49.606Z"
    }
   },
   "outputs": [],
   "source": [
    "eda_azdias.feat_info.loc[eda_azdias.feat_info.type == 'categorical']"
   ]
  },
  {
   "cell_type": "code",
   "execution_count": null,
   "metadata": {
    "ExecuteTime": {
     "end_time": "2020-03-08T15:51:13.549893Z",
     "start_time": "2020-03-08T15:50:49.612Z"
    }
   },
   "outputs": [],
   "source": [
    "h.check_features(eda_azdias, 'categorical')      "
   ]
  },
  {
   "cell_type": "code",
   "execution_count": null,
   "metadata": {
    "ExecuteTime": {
     "end_time": "2020-03-08T15:51:13.550893Z",
     "start_time": "2020-03-08T15:50:49.617Z"
    }
   },
   "outputs": [],
   "source": [
    "cat_outlier_feats  = ['D19_KONSUMTYP', 'EINGEZOGENAM_HH_JAHR']\n",
    "h.plot_boxplot(eda_azdias.data, cat_outlier_feats, n_cols=2 ,  figsize = (20, 6))     "
   ]
  },
  {
   "cell_type": "code",
   "execution_count": null,
   "metadata": {
    "ExecuteTime": {
     "end_time": "2020-03-07T05:25:24.382976Z",
     "start_time": "2020-03-07T05:25:11.360Z"
    }
   },
   "outputs": [],
   "source": [
    "# eda_azdias.clean_outlier(numeric_outlier_feats)\n",
    "# h.plot_boxplot(eda_azdias.data, cat_outlier_feats, n_cols=2 ,  figsize = (16, 4))     "
   ]
  },
  {
   "cell_type": "markdown",
   "metadata": {},
   "source": [
    "##  Step  8:  Impute missing value"
   ]
  },
  {
   "cell_type": "code",
   "execution_count": null,
   "metadata": {
    "ExecuteTime": {
     "end_time": "2020-03-07T05:25:24.384977Z",
     "start_time": "2020-03-07T05:25:11.410Z"
    }
   },
   "outputs": [],
   "source": [
    "# Save the droped  features into a file.\n",
    "# for x in (feats_todrop_comm, feats_duplicated, feats_wo_def, feats_D19, feats_KBA05, feats_KBA13):\n",
    "#     feats_todrop.extend(x)\n",
    "# for c in feats_todrop:\n",
    "#     if c in eda_azdias.data.columns:\n",
    "#         eda_azdias.data.drop(columns = c, inplace = True)     \n",
    "        \n",
    "#     if c in eda_customers.data.columns:\n",
    "#         eda_customers.data.drop(columns = c, inplace = True)             \n",
    "    \n",
    "pd.Series(feats_todrop).sort_values().to_csv('feats_dropped.csv', index=False)"
   ]
  },
  {
   "cell_type": "code",
   "execution_count": null,
   "metadata": {
    "ExecuteTime": {
     "end_time": "2020-03-07T05:25:24.386977Z",
     "start_time": "2020-03-07T05:25:11.413Z"
    }
   },
   "outputs": [],
   "source": [
    "imputer = Imputer(strategy='median')\n",
    "eda_azdias.data_imputed = pd.DataFrame(imputer.fit_transform(eda_azdias.data))\n",
    "eda_customers.data_imputed = pd.DataFrame(imputer.fit_transform(eda_customers.data))"
   ]
  },
  {
   "cell_type": "markdown",
   "metadata": {},
   "source": [
    "####  Step  9:   Feature  Scaling"
   ]
  },
  {
   "cell_type": "code",
   "execution_count": null,
   "metadata": {
    "ExecuteTime": {
     "end_time": "2020-03-07T05:25:24.387980Z",
     "start_time": "2020-03-07T05:25:11.465Z"
    }
   },
   "outputs": [],
   "source": [
    "eda_azdias.data_scaled = StandardScaler().fit_transform(eda_azdias.data_imputed)    \n",
    "eda_customers.data_scaled = pd.DataFrame(StandardScaler().fit_transform(eda_customers.data_imputed) , columns=eda_customers.data.columns)"
   ]
  },
  {
   "cell_type": "markdown",
   "metadata": {},
   "source": [
    "## Part 1: Customer Segmentation Report\n",
    "\n",
    "The main bulk of your analysis will come in this part of the project. Here, you should use unsupervised learning techniques to describe the relationship between the demographics of the company's existing customers and the general population of Germany. By the end of this part, you should be able to describe parts of the general population that are more likely to be part of the mail-order company's main customer base, and which parts of the general population are less so."
   ]
  },
  {
   "cell_type": "markdown",
   "metadata": {},
   "source": [
    "### Principal component analysis (PCA)"
   ]
  },
  {
   "cell_type": "code",
   "execution_count": null,
   "metadata": {
    "ExecuteTime": {
     "end_time": "2020-03-07T05:25:24.388978Z",
     "start_time": "2020-03-07T05:25:11.573Z"
    }
   },
   "outputs": [],
   "source": [
    "h.do_pca(eda_azdias, 100)\n",
    "\n",
    "print(f'total explained_variance:  {eda_azdias.pca.explained_variance_ratio_.sum()}')\n",
    "# print('explained_variance_ratio: ', pca.explained_variance_ratio_)\n",
    "# print('explained_variance: ', pca.explained_variance_)\n",
    "print('n_components: ', eda_azdias.pca.n_components_)\n",
    "\n",
    "h.scree_plot(eda_azdias)"
   ]
  },
  {
   "cell_type": "code",
   "execution_count": null,
   "metadata": {
    "ExecuteTime": {
     "end_time": "2020-03-07T05:25:24.389977Z",
     "start_time": "2020-03-07T05:25:11.576Z"
    }
   },
   "outputs": [],
   "source": [
    "h.do_pca(eda_customers, 100)\n",
    "\n",
    "print(f'total explained_variance:  {eda_customers.pca.explained_variance_ratio_.sum()}')\n",
    "# print('explained_variance_ratio: ', pca.explained_variance_ratio_)\n",
    "# print('explained_variance: ', pca.explained_variance_)\n",
    "print('n_components: ', eda_customers.pca.n_components_)\n",
    "\n",
    "h.scree_plot(eda_customers)"
   ]
  },
  {
   "cell_type": "markdown",
   "metadata": {},
   "source": [
    "### Clustering with KMean"
   ]
  },
  {
   "cell_type": "code",
   "execution_count": null,
   "metadata": {
    "ExecuteTime": {
     "end_time": "2020-03-07T05:25:24.390977Z",
     "start_time": "2020-03-07T05:25:11.627Z"
    }
   },
   "outputs": [],
   "source": [
    "h.do_pca(eda_azdias, 100)\n",
    "h.do_pca(eda_customers, 100)"
   ]
  },
  {
   "cell_type": "code",
   "execution_count": null,
   "metadata": {
    "ExecuteTime": {
     "end_time": "2020-03-07T05:25:24.391981Z",
     "start_time": "2020-03-07T05:25:11.630Z"
    }
   },
   "outputs": [],
   "source": [
    "scores = []\n",
    "centers = list(range(1,21))\n",
    "\n",
    "for center in centers:\n",
    "    _, score = h.get_kmeans_score(eda_customers.X_pca, center)\n",
    "    scores.append(score)\n",
    "    \n",
    "plt.plot(centers, scores, linestyle='--', marker='o', color='b')\n",
    "plt.xlabel('K')\n",
    "plt.ylabel('SSE')\n",
    "plt.title('SSE vs. K')"
   ]
  },
  {
   "cell_type": "markdown",
   "metadata": {
    "ExecuteTime": {
     "end_time": "2020-02-29T12:44:57.675678Z",
     "start_time": "2020-02-29T12:33:07.193Z"
    }
   },
   "source": [
    "####  Clustering Comparison  Azdias vs Customers "
   ]
  },
  {
   "cell_type": "code",
   "execution_count": null,
   "metadata": {
    "ExecuteTime": {
     "end_time": "2020-03-07T05:25:24.392981Z",
     "start_time": "2020-03-07T05:25:11.679Z"
    }
   },
   "outputs": [],
   "source": [
    "model_c, score = h.get_kmeans_score(eda_customers.X_pca, 10)\n",
    "print(score)\n",
    "model_a, score = h.get_kmeans_score(eda_azdias.X_pca, 10)\n",
    "print(score)"
   ]
  },
  {
   "cell_type": "code",
   "execution_count": null,
   "metadata": {
    "ExecuteTime": {
     "end_time": "2020-03-07T05:25:24.394978Z",
     "start_time": "2020-03-07T05:25:11.682Z"
    }
   },
   "outputs": [],
   "source": [
    "preds_c = model_c.predict(eda_customers.X_pca)\n",
    "preds_a = model_a.predict(eda_azdias.X_pca)\n",
    "\n",
    "counts_c, counts_a = h.plot_cluster_comparison(preds_c, preds_a)"
   ]
  },
  {
   "cell_type": "code",
   "execution_count": null,
   "metadata": {
    "ExecuteTime": {
     "end_time": "2020-03-07T05:25:24.394978Z",
     "start_time": "2020-03-07T05:25:11.686Z"
    }
   },
   "outputs": [],
   "source": [
    "comp_diff_s = (counts_c.percent - counts_a.percent).sort_values(ascending=False)\n",
    "pd.DataFrame(\n",
    "    {\n",
    "        'cluster': comp_diff_s.index,\n",
    "        'diff_pct': comp_diff_s.values\n",
    "    }\n",
    ")"
   ]
  },
  {
   "cell_type": "code",
   "execution_count": null,
   "metadata": {
    "ExecuteTime": {
     "end_time": "2020-03-07T05:25:24.397976Z",
     "start_time": "2020-03-07T05:25:11.689Z"
    }
   },
   "outputs": [],
   "source": [
    "h.list_component(eda_customers,  3)"
   ]
  },
  {
   "cell_type": "markdown",
   "metadata": {},
   "source": [
    "## Part 2: Supervised Learning Model\n",
    "\n",
    "Now that you've found which parts of the population are more likely to be customers of the mail-order company, it's time to build a prediction model. Each of the rows in the \"MAILOUT\" data files represents an individual that was targeted for a mailout campaign. Ideally, we should be able to use the demographic information from each individual to decide whether or not it will be worth it to include that person in the campaign.\n",
    "\n",
    "The \"MAILOUT\" data has been split into two approximately equal parts, each with almost 43 000 data rows. In this part, you can verify your model with the \"TRAIN\" partition, which includes a column, \"RESPONSE\", that states whether or not a person became a customer of the company following the campaign. In the next part, you'll need to create predictions on the \"TEST\" partition, where the \"RESPONSE\" column has been withheld."
   ]
  },
  {
   "cell_type": "markdown",
   "metadata": {},
   "source": [
    "### Step 1: Load the data"
   ]
  },
  {
   "cell_type": "code",
   "execution_count": null,
   "metadata": {
    "ExecuteTime": {
     "end_time": "2020-03-07T05:25:24.398977Z",
     "start_time": "2020-03-07T05:25:11.790Z"
    }
   },
   "outputs": [],
   "source": [
    "# mailout_train = pd.read_csv('../../data/Term2/capstone/arvato_data/Udacity_MAILOUT_052018_TRAIN.csv', sep=';')\n",
    "mailout_train = pd.read_pickle ('..//data//mailout_train.p')    \n",
    "mailout_train.shape"
   ]
  },
  {
   "cell_type": "markdown",
   "metadata": {},
   "source": [
    "### Step 2: Preparing and splitting the data"
   ]
  },
  {
   "cell_type": "code",
   "execution_count": null,
   "metadata": {
    "ExecuteTime": {
     "end_time": "2020-03-07T05:25:24.399977Z",
     "start_time": "2020-03-07T05:25:11.905Z"
    }
   },
   "outputs": [],
   "source": [
    "positive_cnts = mailout_train[mailout_train['RESPONSE'] == 1].shape[0]\n",
    "total_cnts = mailout_train.shape[0]\n",
    " \n",
    "print(f'The train set contains only {positive_cnts / total_cnts *100 :1.2f}% customers with positive response')"
   ]
  },
  {
   "cell_type": "code",
   "execution_count": null,
   "metadata": {
    "ExecuteTime": {
     "end_time": "2020-03-07T05:25:24.401976Z",
     "start_time": "2020-03-07T05:25:11.907Z"
    }
   },
   "outputs": [],
   "source": [
    "# extract RESPONSE column\n",
    "response = mailout_train['RESPONSE']\n",
    "\n",
    "# drop RESPONSE column\n",
    "mailout_train.drop(labels=['RESPONSE'], axis=1, inplace=True)\n",
    "\n",
    "# find features to drop because of many missing values\n",
    "missing_per_column = mailout_train.isnull().mean()\n",
    "\n",
    "plt.hist(missing_per_column, bins=34)"
   ]
  },
  {
   "cell_type": "code",
   "execution_count": null,
   "metadata": {
    "ExecuteTime": {
     "end_time": "2020-03-07T05:25:24.402977Z",
     "start_time": "2020-03-07T05:25:11.910Z"
    }
   },
   "outputs": [],
   "source": [
    "# read in feature info file\n",
    "feat_info = pd.read_csv('./feats_info.csv', sep=';', names=['feat', 'type', 'unknown'])\n",
    "feat_info.set_index('feat', inplace =True)\n",
    "\n",
    "eda_mailout_train = eda.EDA(mailout_train, feat_info, label = 'mailout_train')\n",
    "\n",
    "#  Data Cleaning\n",
    "eda_mailout_train.data_pipeline()"
   ]
  },
  {
   "cell_type": "code",
   "execution_count": null,
   "metadata": {
    "ExecuteTime": {
     "end_time": "2020-03-07T05:25:24.403976Z",
     "start_time": "2020-03-07T05:25:11.912Z"
    }
   },
   "outputs": [],
   "source": [
    "response = response.loc[mailout_train.index]\n",
    "response.shape"
   ]
  },
  {
   "cell_type": "markdown",
   "metadata": {
    "ExecuteTime": {
     "end_time": "2020-03-01T08:55:35.197973Z",
     "start_time": "2020-03-01T08:55:35.182973Z"
    }
   },
   "source": [
    "### Preparing and splitting the data"
   ]
  },
  {
   "cell_type": "code",
   "execution_count": null,
   "metadata": {
    "ExecuteTime": {
     "end_time": "2020-03-07T05:25:24.404976Z",
     "start_time": "2020-03-07T05:25:11.970Z"
    }
   },
   "outputs": [],
   "source": [
    "# We split the dataset into 2/3 training and 1/3 testing sets.\n",
    "train_data, test_data, train_targets, test_targets = train_test_split(\n",
    "    eda_mailout_train.data_scaled, \n",
    "    response, \n",
    "    test_size=0.33, \n",
    "    shuffle=True,\n",
    "    random_state=h.RANDOM_STATE)"
   ]
  },
  {
   "cell_type": "markdown",
   "metadata": {},
   "source": [
    "### Step 4. model evaluation"
   ]
  },
  {
   "cell_type": "code",
   "execution_count": null,
   "metadata": {
    "ExecuteTime": {
     "end_time": "2020-03-07T05:25:24.405980Z",
     "start_time": "2020-03-07T05:25:12.028Z"
    }
   },
   "outputs": [],
   "source": [
    "lrm = LogisticRegression(random_state=h.RANDOM_STATE)\n",
    "bagm = BaggingClassifier()\n",
    "lgbm = lgb.LGBMClassifier(random_state=h.RANDOM_STATE,application='binary')\n",
    "\n",
    "model_dict = {\n",
    "    'logistic regression': lrm,    \n",
    "    'bagging': bagm,\n",
    "    'lgbmclassifier': lgbm,\n",
    "}\n",
    "\n",
    "h.build_roc_auc(model_dict, {},eda_mailout_train.data_scaled, response)    "
   ]
  },
  {
   "cell_type": "markdown",
   "metadata": {},
   "source": [
    "The LGBM classifier got a slightly better score so I'll use it down below to train and tuning for the kaggle competition. "
   ]
  },
  {
   "cell_type": "markdown",
   "metadata": {},
   "source": [
    "### Step 5. LGB Train and Hyperparameter Tuning"
   ]
  },
  {
   "cell_type": "code",
   "execution_count": null,
   "metadata": {
    "ExecuteTime": {
     "end_time": "2020-03-07T05:25:24.407976Z",
     "start_time": "2020-03-07T05:25:12.136Z"
    },
    "scrolled": false
   },
   "outputs": [],
   "source": [
    "def_params={\n",
    "        'learning_rate':  {'hpf' :  hp.loguniform('learning_rate', np.log(0.00001), np.log(0.0075)),'dtype' : 'float'},           \n",
    "        'num_leaves' :    {'hpf' : hp.quniform('num_leaves', 3, 15, 1),'dtype' : 'int'},     \n",
    "        'min_data_in_leaf' : {'hpf' : hp.quniform('min_data_in_leaf', 1000, 1500, 50),'dtype' : 'int'},     \n",
    "        'min_sum_hessian_in_leaf':  {'hpf' : hp.uniform('min_sum_hessian_in_leaf', 0.0005, 0.002),'dtype' : 'float'},               \n",
    "        'colsample_bytree': {'hpf': hp.uniform('colsample_bytree', 0.5, 0.9),'dtype' : 'float'},        \n",
    "        'reg_alpha': {'hpf': hp.uniform('reg_alpha', 0.3, 1.0),'dtype' : 'float'}, \n",
    "        'reg_lambda': {'hpf': hp.uniform('reg_lambda', 0, 0.6),'dtype' : 'float'}, \n",
    "        'max_bin' :    {'hpf' : hp.quniform('max_bin', 10, 80, 1),'dtype' : 'int'},    \n",
    "        'feature_fraction': {'hpf': hp.uniform('feature_fraction', 0.3, 0.7),'dtype' : 'float'},    \n",
    "}\n",
    "\n",
    "n_iter = 1000\n",
    "cv = 10\n",
    "\n",
    "best, trials, objective = t.search_hyperparameter(def_params, n_iter, cv ,train_data, train_targets)\n",
    "\n",
    "model = t.build_model(best, def_params)\n",
    "\n",
    "model.fit(train_data,train_targets)\n",
    "\n",
    "t.evaluate_model(model, objective, best, test_data, test_targets)\n",
    "\n",
    "sa_results_df = t.plot_result(trials.trials)"
   ]
  },
  {
   "cell_type": "markdown",
   "metadata": {
    "ExecuteTime": {
     "end_time": "2020-03-01T09:05:43.813546Z",
     "start_time": "2020-03-01T09:05:43.804547Z"
    }
   },
   "source": [
    "### Step 6. Top 15 most important features of the model"
   ]
  },
  {
   "cell_type": "code",
   "execution_count": null,
   "metadata": {
    "ExecuteTime": {
     "end_time": "2020-03-07T05:25:24.409977Z",
     "start_time": "2020-03-07T05:25:12.194Z"
    }
   },
   "outputs": [],
   "source": [
    "lgb.plot_importance(model, max_num_features = 30, figsize=(10,12))"
   ]
  },
  {
   "cell_type": "markdown",
   "metadata": {},
   "source": [
    "## Part 3: Kaggle Competition\n",
    "\n",
    "Now that you've created a model to predict which individuals are most likely to respond to a mailout campaign, it's time to test that model in competition through Kaggle. If you click on the link [here](http://www.kaggle.com/t/21e6d45d4c574c7fa2d868f0e8c83140), you'll be taken to the competition page where, if you have a Kaggle account, you can enter. If you're one of the top performers, you may have the chance to be contacted by a hiring manager from Arvato or Bertelsmann for an interview!\n",
    "\n",
    "Your entry to the competition should be a CSV file with two columns. The first column should be a copy of \"LNR\", which acts as an ID number for each individual in the \"TEST\" partition. The second column, \"RESPONSE\", should be some measure of how likely each individual became a customer – this might not be a straightforward probability. As you should have found in Part 2, there is a large output class imbalance, where most individuals did not respond to the mailout. Thus, predicting individual classes and using accuracy does not seem to be an appropriate performance evaluation method. Instead, the competition will be using AUC to evaluate performance. The exact values of the \"RESPONSE\" column do not matter as much: only that the higher values try to capture as many of the actual customers as possible, early in the ROC curve sweep."
   ]
  },
  {
   "cell_type": "code",
   "execution_count": null,
   "metadata": {
    "ExecuteTime": {
     "end_time": "2020-03-07T05:25:24.411976Z",
     "start_time": "2020-03-07T05:25:12.257Z"
    }
   },
   "outputs": [],
   "source": [
    "# mailout_test = pd.read_csv('../../data/Term2/capstone/arvato_data/Udacity_MAILOUT_052018_TEST.csv', sep=';')\n",
    "mailout_test = pd.read_pickle ('..//data//mailout_test.p')    \n",
    "mailout_test.shape"
   ]
  },
  {
   "cell_type": "code",
   "execution_count": null,
   "metadata": {
    "ExecuteTime": {
     "end_time": "2020-03-07T05:25:24.412977Z",
     "start_time": "2020-03-07T05:25:12.260Z"
    }
   },
   "outputs": [],
   "source": [
    "eda_mailout_test = eda.EDA(mailout_test, feat_info, label = 'mailout_test')"
   ]
  },
  {
   "cell_type": "code",
   "execution_count": null,
   "metadata": {
    "ExecuteTime": {
     "end_time": "2020-03-07T05:25:24.413976Z",
     "start_time": "2020-03-07T05:25:12.263Z"
    }
   },
   "outputs": [],
   "source": [
    "LNR = mailout_test.LNR.copy()\n",
    "LNR.shape"
   ]
  },
  {
   "cell_type": "code",
   "execution_count": null,
   "metadata": {
    "ExecuteTime": {
     "end_time": "2020-03-07T05:25:24.413976Z",
     "start_time": "2020-03-07T05:25:12.266Z"
    }
   },
   "outputs": [],
   "source": [
    "eda_mailout_test.data_pipeline(clean_rows = False)"
   ]
  },
  {
   "cell_type": "code",
   "execution_count": null,
   "metadata": {
    "ExecuteTime": {
     "end_time": "2020-03-07T05:25:24.415977Z",
     "start_time": "2020-03-07T05:25:12.269Z"
    }
   },
   "outputs": [],
   "source": [
    "# fit and predict\n",
    "preds_test = model.predict_proba(eda_mailout_test.data_scaled)[:,1]\n",
    "preds_test"
   ]
  },
  {
   "cell_type": "code",
   "execution_count": null,
   "metadata": {
    "ExecuteTime": {
     "end_time": "2020-03-07T05:25:24.417976Z",
     "start_time": "2020-03-07T05:25:12.273Z"
    }
   },
   "outputs": [],
   "source": [
    "# create submission file\n",
    "preds_test = pd.concat([LNR, pd.Series(preds_test)], axis = 1)\n",
    "preds_test.rename(columns={0:'RESPONSE'}, inplace= True)\n",
    "preds_test.to_csv('MAILOUT_TEST.csv') "
   ]
  }
 ],
 "metadata": {
  "hide_input": false,
  "kernelspec": {
   "display_name": "Python 3",
   "language": "python",
   "name": "python3"
  },
  "language_info": {
   "codemirror_mode": {
    "name": "ipython",
    "version": 3
   },
   "file_extension": ".py",
   "mimetype": "text/x-python",
   "name": "python",
   "nbconvert_exporter": "python",
   "pygments_lexer": "ipython3",
   "version": "3.7.4"
  },
  "latex_envs": {
   "LaTeX_envs_menu_present": true,
   "autoclose": false,
   "autocomplete": true,
   "bibliofile": "biblio.bib",
   "cite_by": "apalike",
   "current_citInitial": 1,
   "eqLabelWithNumbers": true,
   "eqNumInitial": 1,
   "hotkeys": {
    "equation": "Ctrl-E",
    "itemize": "Ctrl-I"
   },
   "labels_anchors": false,
   "latex_user_defs": false,
   "report_style_numbering": false,
   "user_envs_cfg": false
  },
  "toc": {
   "base_numbering": 1,
   "nav_menu": {},
   "number_sections": true,
   "sideBar": true,
   "skip_h1_title": false,
   "title_cell": "Table of Contents",
   "title_sidebar": "Contents",
   "toc_cell": false,
   "toc_position": {
    "height": "calc(100% - 180px)",
    "left": "10px",
    "top": "150px",
    "width": "323px"
   },
   "toc_section_display": true,
   "toc_window_display": true
  },
  "varInspector": {
   "cols": {
    "lenName": 16,
    "lenType": 16,
    "lenVar": 40
   },
   "kernels_config": {
    "python": {
     "delete_cmd_postfix": "",
     "delete_cmd_prefix": "del ",
     "library": "var_list.py",
     "varRefreshCmd": "print(var_dic_list())"
    },
    "r": {
     "delete_cmd_postfix": ") ",
     "delete_cmd_prefix": "rm(",
     "library": "var_list.r",
     "varRefreshCmd": "cat(var_dic_list()) "
    }
   },
   "types_to_exclude": [
    "module",
    "function",
    "builtin_function_or_method",
    "instance",
    "_Feature"
   ],
   "window_display": false
  }
 },
 "nbformat": 4,
 "nbformat_minor": 2
}
