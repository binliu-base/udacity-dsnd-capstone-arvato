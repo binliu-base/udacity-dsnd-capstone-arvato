{
 "cells": [
  {
   "cell_type": "markdown",
   "metadata": {},
   "source": [
    "# 毕业项目：为 Arvato Financial Services 金融服务公司实现一个顾客分类报告\n",
    "\n",
    "该项目要求你分析德国的一家邮购公司的顾客的人口统计数据，将它和一般的人口统计数据进行比较。你将使用非监督学习技术来实现顾客分类，识别出哪些人群是这家公司的基础核心用户。之后，你将把所学的知识应用到第三个数据集上，该数据集是该公司的一场邮购活动的营销对象的人口统计数据。用你搭建的模型预测哪些人更可能成为该公司的顾客。你要使用的数据由我们的合作伙伴 Bertelsmann Arvato Analytics 公司提供。这是真实场景下的数据科学任务。\n",
    "\n",
    "如果你完成了这个纳米学位的第一学期，做过其中的非监督学习项目，那么你应该对这个项目的第一部分很熟悉了。两个数据集版本不同。这个项目中用到的数据集会包括更多的特征，而且没有预先清洗过。你也可以自由选取分析数据的方法，而不用按照既定的步骤。如果你选择完成的是这个项目，请仔细记录你的步骤和决策，因为你主要交付的成果就是一篇博客文章报告你的发现。"
   ]
  },
  {
   "cell_type": "code",
   "execution_count": 1,
   "metadata": {
    "ExecuteTime": {
     "end_time": "2020-02-27T12:01:49.579952Z",
     "start_time": "2020-02-27T12:01:36.237952Z"
    }
   },
   "outputs": [],
   "source": [
    "# import libraries here; add more as necessary\n",
    "import sys\n",
    "import numpy as np\n",
    "import pandas as pd\n",
    "import matplotlib.pyplot as plt\n",
    "import seaborn as sns\n",
    "import pickle\n",
    "import ast\n",
    "\n",
    "from sklearn.preprocessing import Imputer, StandardScaler\n",
    "from sklearn.model_selection import GridSearchCV, train_test_split\n",
    "from sklearn.linear_model import LogisticRegression\n",
    "from sklearn.ensemble import BaggingClassifier\n",
    "from sklearn.metrics import roc_auc_score\n",
    "from hyperopt import hp\n",
    "import lightgbm as lgb\n",
    "from skopt import BayesSearchCV\n",
    "\n",
    "sys.path += ['./ilikeds']\n",
    "import eda \n",
    "import helper_functions as h\n",
    "import train_classifier as t\n",
    "# magic word for producing visualizations in notebook\n",
    "\n",
    "import warnings                             \n",
    "warnings.filterwarnings('ignore')\n",
    "%matplotlib inline"
   ]
  },
  {
   "cell_type": "markdown",
   "metadata": {},
   "source": [
    "## 第 0 部分：了解数据\n",
    "\n",
    "项目数据中包括四个数据文件\n",
    "\n",
    "- `Udacity_AZDIAS_052018.csv`: 德国的一般人口统计数据；891211 人（行）x 366 个特征（列）\n",
    "- `Udacity_CUSTOMERS_052018.csv`: 邮购公司顾客的人口统计数据；191652 人（行）x 369 个特征（列）\n",
    "- `Udacity_MAILOUT_052018_TRAIN.csv`: 营销活动的对象的人口统计数据；42982 人（行）x 367 个特征（列）\n",
    "- `Udacity_MAILOUT_052018_TEST.csv`: 营销活动的对象的人口统计数据；42833 人（行）x 366个特征（列）\n",
    "\n",
    "人口统计数据的每一行表示是一个单独的人，也包括一些非个人特征，比如他的家庭信息、住房信息以及周边环境信息。使用前两个数据文件中的信息来发现顾客（\"CUSTOMERS\"）和一般人（\"AZDIAS\"）在何种程度上相同和不同，然后根据你的分析对其余两个数据文件（\"MAILOUT\"）进行预测，预测更可能成为该邮购公司的客户。\n",
    "\n",
    "\"CUSTOMERS\" 文件包括三个额外的列（'CUSTOMER_GROUP'、’'ONLINE_PURCHASE' 和 'PRODUCT_GROUP'），提供了文件中顾客的更多维度的信息。原始的 \"MAILOUT\" 包括一个额外的列 \"RESPONSE\"，表示每个收到邮件的人是否成为了公司的顾客。对于 \"TRAIN\" 子数据集，该列被保留，但是在 \"TEST\" 子数据集中该列被删除了，它和你最后要在 Kaggle 比赛上预测的数据集中保留的列是对应的。\n",
    "\n",
    "三个数据文件中其他的所有列都是相同的。要获得关于文件中列的更多信息，你可以参考 Workspace 中的两个 Excel 电子表格。[其一](./DIAS Information Levels - Attributes 2017.xlsx) 是一个所有属性和描述的列表，按照信息的类别进行排列。[其二](./DIAS Attributes - Values 2017.xlsx) 是一个详细的每个特征的数据值对应关系，按照字母顺序进行排列。\n",
    "\n",
    "在下面的单元格中，我们提供了一些简单的代码，用于加载进前两个数据集。注意，这个项目中所有的 `.csv` 数据文件都是分号(`;`) 分割的，所以 [`read_csv()`](https://pandas.pydata.org/pandas-docs/stable/generated/pandas.read_csv.html) 中需要加入额外的参数以正确地读取数据。而且，考虑数据集的大小，加载整个数据集可能会花费一些时间。\n",
    "\n",
    "你会注意到在数据加载的时候，会弹出一个警告（warning）信息。在你开始建模和分析之前，你需要先清洗一下数据。浏览一下数据集的结构，查看电子表格中信息了解数据的取值。决定一下要挑选哪些特征，要舍弃哪些特征，以及是否有些数据格式需要修订。我们建议创建一个做预处理的函数，因为你需要在使用数据训练模型前清洗所有数据集。"
   ]
  },
  {
   "cell_type": "code",
   "execution_count": 2,
   "metadata": {
    "ExecuteTime": {
     "end_time": "2020-02-27T12:02:07.851950Z",
     "start_time": "2020-02-27T12:01:49.583950Z"
    }
   },
   "outputs": [],
   "source": [
    "# load in the data\n",
    "# azdias = pd.read_csv('../../data/Term2/capstone/arvato_data/Udacity_AZDIAS_052018.csv', sep=';')\n",
    "# customers = pd.read_csv('../../data/Term2/capstone/arvato_data/Udacity_CUSTOMERS_052018.csv', sep=';')\n",
    "\n",
    "azdias = pd.read_pickle ('../data/azdias.p')    \n",
    "customers = pd.read_pickle ('../data/customers.p')    "
   ]
  },
  {
   "cell_type": "code",
   "execution_count": 3,
   "metadata": {
    "ExecuteTime": {
     "end_time": "2020-02-27T12:02:07.912951Z",
     "start_time": "2020-02-27T12:02:07.855952Z"
    }
   },
   "outputs": [],
   "source": [
    "# read in feature info file\n",
    "feat_info = pd.read_csv('./feats_info.csv', sep=';', names=['feat', 'type', 'unknown'])\n",
    "feat_info.set_index('feat', inplace =True)"
   ]
  },
  {
   "cell_type": "code",
   "execution_count": 4,
   "metadata": {
    "ExecuteTime": {
     "end_time": "2020-02-27T12:02:07.928951Z",
     "start_time": "2020-02-27T12:02:07.917950Z"
    }
   },
   "outputs": [],
   "source": [
    "# 创建德国一般人口统计数据集 (azidas)的 EDA 对象\n",
    "eda_azdias= eda.EDA(azdias, feat_info, label = 'Azdias')\n",
    "# 邮购公司顾客人口统计数据集 (customers)的 EDA 对象\n",
    "eda_customers= eda.EDA(customers, feat_info, label = 'Customers')"
   ]
  },
  {
   "cell_type": "markdown",
   "metadata": {},
   "source": [
    "### 数据整理"
   ]
  },
  {
   "cell_type": "markdown",
   "metadata": {},
   "source": [
    "#### Step 1: 删除未定义特征"
   ]
  },
  {
   "cell_type": "code",
   "execution_count": 5,
   "metadata": {
    "ExecuteTime": {
     "end_time": "2020-02-27T12:02:09.140951Z",
     "start_time": "2020-02-27T12:02:07.935952Z"
    }
   },
   "outputs": [],
   "source": [
    "feats_todrop = []\n",
    "feats_wo_def = list(set(eda_azdias.data.columns) - set(eda_azdias.feat_info.index))\n",
    "\n",
    "eda_azdias.data.drop(columns = feats_wo_def, inplace =True)\n",
    "eda_customers.data.drop(columns = feats_wo_def, inplace =True)"
   ]
  },
  {
   "cell_type": "code",
   "execution_count": 6,
   "metadata": {
    "ExecuteTime": {
     "end_time": "2020-02-27T12:02:09.360952Z",
     "start_time": "2020-02-27T12:02:09.146952Z"
    }
   },
   "outputs": [],
   "source": [
    "feats_customers_excl  = list(set(eda_customers.data.columns) - set(eda_azdias.data.columns))\n",
    "feats_customers_excl\n",
    "eda_customers.data.drop(columns = feats_customers_excl, inplace =True)"
   ]
  },
  {
   "cell_type": "markdown",
   "metadata": {
    "ExecuteTime": {
     "end_time": "2020-02-18T23:49:00.555540Z",
     "start_time": "2020-02-18T23:49:00.543537Z"
    }
   },
   "source": [
    "####  Step 2: 转换缺失和未知数据"
   ]
  },
  {
   "cell_type": "code",
   "execution_count": 7,
   "metadata": {
    "ExecuteTime": {
     "end_time": "2020-02-27T12:02:36.699953Z",
     "start_time": "2020-02-27T12:02:09.373951Z"
    }
   },
   "outputs": [
    {
     "name": "stdout",
     "output_type": "stream",
     "text": [
      "Number of missing values in Azdias:\n",
      "Before converstion is 28909421\n",
      "Ater converstion IS 80037210\n",
      "Increase in missing values: 176.86 % \n",
      "Number of missing values in Customers:\n",
      "Before converstion is 12553501\n",
      "Ater converstion IS 22936825\n",
      "Increase in missing values: 82.71 % \n"
     ]
    }
   ],
   "source": [
    "eda_azdias.missing2nan()\n",
    "eda_customers.missing2nan()"
   ]
  },
  {
   "cell_type": "markdown",
   "metadata": {},
   "source": [
    "####  Step 3: 删除空值较多的样本（行）"
   ]
  },
  {
   "cell_type": "code",
   "execution_count": 8,
   "metadata": {
    "ExecuteTime": {
     "end_time": "2020-02-27T12:02:38.234951Z",
     "start_time": "2020-02-27T12:02:36.705951Z"
    }
   },
   "outputs": [
    {
     "data": {
      "text/plain": [
       "(array([3.4000e+01, 1.9300e+02, 7.5700e+02, 2.9700e+03, 4.6420e+03,\n",
       "        7.6070e+03, 1.6657e+04, 1.9227e+04, 2.6354e+04, 3.2940e+04,\n",
       "        5.3739e+04, 4.4841e+04, 4.6389e+04, 6.2816e+04, 4.6531e+04,\n",
       "        4.7817e+04, 4.9163e+04, 7.0863e+04, 8.7205e+04, 8.4759e+04,\n",
       "        1.7085e+04, 1.3091e+04, 1.4340e+03, 2.9700e+02, 4.8900e+02,\n",
       "        6.0200e+02, 9.4500e+02, 1.9340e+03, 2.1110e+03, 2.6730e+03,\n",
       "        3.1240e+03, 4.4200e+03, 3.1900e+03, 3.3450e+03, 4.3140e+03,\n",
       "        4.4640e+03, 5.1010e+03, 4.3640e+03, 3.5730e+03, 1.7320e+03,\n",
       "        7.1300e+02, 7.0400e+02, 1.5100e+02, 8.7000e+01, 7.3000e+01,\n",
       "        1.1800e+02, 1.0300e+02, 1.2000e+02, 2.7400e+02, 2.2200e+02,\n",
       "        2.3200e+02, 4.1000e+02, 3.2900e+02, 4.2400e+02, 5.0600e+02,\n",
       "        1.0410e+03, 1.3350e+03, 3.3500e+02, 2.0000e+02, 6.5000e+01,\n",
       "        1.7000e+01, 2.3000e+01, 5.7000e+01, 8.0000e+01, 1.5500e+02,\n",
       "        3.0000e+02, 3.2500e+02, 4.6800e+02, 5.5500e+02, 7.7400e+02,\n",
       "        7.0500e+02, 7.1800e+02, 1.1940e+03, 1.1040e+03, 1.4030e+03,\n",
       "        1.3030e+03, 2.0260e+03, 1.3680e+03, 1.4050e+03, 1.7370e+03,\n",
       "        1.2160e+03, 1.2260e+03, 1.2850e+03, 2.6490e+03, 2.6000e+03,\n",
       "        1.3010e+03, 4.7100e+02, 2.1000e+01, 2.7350e+04, 4.6151e+04]),\n",
       " array([0.03235294, 0.04202614, 0.05169935, 0.06137255, 0.07104575,\n",
       "        0.08071895, 0.09039216, 0.10006536, 0.10973856, 0.11941176,\n",
       "        0.12908497, 0.13875817, 0.14843137, 0.15810458, 0.16777778,\n",
       "        0.17745098, 0.18712418, 0.19679739, 0.20647059, 0.21614379,\n",
       "        0.22581699, 0.2354902 , 0.2451634 , 0.2548366 , 0.2645098 ,\n",
       "        0.27418301, 0.28385621, 0.29352941, 0.30320261, 0.31287582,\n",
       "        0.32254902, 0.33222222, 0.34189542, 0.35156863, 0.36124183,\n",
       "        0.37091503, 0.38058824, 0.39026144, 0.39993464, 0.40960784,\n",
       "        0.41928105, 0.42895425, 0.43862745, 0.44830065, 0.45797386,\n",
       "        0.46764706, 0.47732026, 0.48699346, 0.49666667, 0.50633987,\n",
       "        0.51601307, 0.52568627, 0.53535948, 0.54503268, 0.55470588,\n",
       "        0.56437908, 0.57405229, 0.58372549, 0.59339869, 0.6030719 ,\n",
       "        0.6127451 , 0.6224183 , 0.6320915 , 0.64176471, 0.65143791,\n",
       "        0.66111111, 0.67078431, 0.68045752, 0.69013072, 0.69980392,\n",
       "        0.70947712, 0.71915033, 0.72882353, 0.73849673, 0.74816993,\n",
       "        0.75784314, 0.76751634, 0.77718954, 0.78686275, 0.79653595,\n",
       "        0.80620915, 0.81588235, 0.82555556, 0.83522876, 0.84490196,\n",
       "        0.85457516, 0.86424837, 0.87392157, 0.88359477, 0.89326797,\n",
       "        0.90294118]),\n",
       " <a list of 90 Patch objects>)"
      ]
     },
     "execution_count": 8,
     "metadata": {},
     "output_type": "execute_result"
    },
    {
     "data": {
      "image/png": "[encoded data removed]",
      "text/plain": [
       "<Figure size 432x288 with 1 Axes>"
      ]
     },
     "metadata": {
      "needs_background": "light"
     },
     "output_type": "display_data"
    }
   ],
   "source": [
    "rows_n_nans = azdias.isnull().sum(axis=1)\n",
    "plt.hist(rows_n_nans / azdias.shape[1], bins=90)"
   ]
  },
  {
   "cell_type": "code",
   "execution_count": 9,
   "metadata": {
    "ExecuteTime": {
     "end_time": "2020-02-27T12:02:41.798954Z",
     "start_time": "2020-02-27T12:02:38.238951Z"
    }
   },
   "outputs": [
    {
     "name": "stdout",
     "output_type": "stream",
     "text": [
      "清理缺失行前 azdias 有 891221 行\n",
      "共删除 154537 行\n",
      "清理缺失行后 azdias 有 736684 行\n"
     ]
    }
   ],
   "source": [
    "_, rows_droped = h.split_dataset(azdias, threshold=0.25)\n",
    "\n",
    "print(f'清理缺失行前 azdias 有 {azdias.shape[0]} 行')\n",
    "print(f'共删除 {rows_droped.shape[0]} 行')\n",
    "azdias.drop(index = rows_droped.index, inplace =True)\n",
    "print(f'清理缺失行后 azdias 有 {azdias.shape[0]} 行')"
   ]
  },
  {
   "cell_type": "code",
   "execution_count": 10,
   "metadata": {
    "ExecuteTime": {
     "end_time": "2020-02-27T12:02:42.775951Z",
     "start_time": "2020-02-27T12:02:41.804951Z"
    }
   },
   "outputs": [
    {
     "name": "stdout",
     "output_type": "stream",
     "text": [
      "清理缺失行前 customers 有 191652 行\n",
      "清理缺失行后 customers 有 134251 行\n",
      "共删除 57401 行\n"
     ]
    }
   ],
   "source": [
    "_, rows_droped = h.split_dataset(customers, threshold=0.25)\n",
    "n_droped_rows = rows_droped.shape[0]\n",
    "print(f'清理缺失行前 customers 有 {customers.shape[0]} 行')\n",
    "customers.drop(index = rows_droped.index, inplace =True)\n",
    "print(f'清理缺失行后 customers 有 {customers.shape[0]} 行')\n",
    "print(f'共删除 {n_droped_rows} 行')"
   ]
  },
  {
   "cell_type": "markdown",
   "metadata": {},
   "source": [
    "####  Step 4: 删除空值较多的特征（列）"
   ]
  },
  {
   "cell_type": "code",
   "execution_count": 11,
   "metadata": {
    "ExecuteTime": {
     "end_time": "2020-02-27T12:02:42.993952Z",
     "start_time": "2020-02-27T12:02:42.780951Z"
    }
   },
   "outputs": [
    {
     "data": {
      "text/plain": [
       "Text(0.5, 1.0, 'Distribution of missing value per column')"
      ]
     },
     "execution_count": 11,
     "metadata": {},
     "output_type": "execute_result"
    },
    {
     "data": {
      "image/png": "[encoded data removed]",
      "text/plain": [
       "<Figure size 432x288 with 1 Axes>"
      ]
     },
     "metadata": {
      "needs_background": "light"
     },
     "output_type": "display_data"
    }
   ],
   "source": [
    "# 查看各特征缺失值的分布\n",
    "eda_azdias.feat_info.percent_of_nans.sort_values().hist(bins = 40, alpha = 0.7)\n",
    "plt.xlabel('Missing Rate ')\n",
    "plt.ylabel('Num Of Features')\n",
    "plt.title('Distribution of missing value per column')"
   ]
  },
  {
   "cell_type": "code",
   "execution_count": 12,
   "metadata": {
    "ExecuteTime": {
     "end_time": "2020-02-27T12:02:43.009950Z",
     "start_time": "2020-02-27T12:02:42.997952Z"
    }
   },
   "outputs": [
    {
     "data": {
      "text/plain": [
       "Index(['AGER_TYP', 'D19_BANKEN_ANZ_12', 'D19_BANKEN_ANZ_24',\n",
       "       'D19_BANKEN_DATUM', 'D19_BANKEN_DIREKT', 'D19_BANKEN_GROSS',\n",
       "       'D19_BANKEN_LOKAL', 'D19_BANKEN_OFFLINE_DATUM',\n",
       "       'D19_BANKEN_ONLINE_DATUM', 'D19_BANKEN_ONLINE_QUOTE_12',\n",
       "       'D19_BANKEN_REST', 'D19_BEKLEIDUNG_GEH', 'D19_BEKLEIDUNG_REST',\n",
       "       'D19_BILDUNG', 'D19_BIO_OEKO', 'D19_BUCH_CD', 'D19_DIGIT_SERV',\n",
       "       'D19_DROGERIEARTIKEL', 'D19_ENERGIE', 'D19_FREIZEIT', 'D19_GARTEN',\n",
       "       'D19_GESAMT_ANZ_12', 'D19_GESAMT_ANZ_24', 'D19_GESAMT_DATUM',\n",
       "       'D19_GESAMT_OFFLINE_DATUM', 'D19_GESAMT_ONLINE_DATUM',\n",
       "       'D19_GESAMT_ONLINE_QUOTE_12', 'D19_HANDWERK', 'D19_HAUS_DEKO',\n",
       "       'D19_KINDERARTIKEL', 'D19_KOSMETIK', 'D19_LEBENSMITTEL', 'D19_LOTTO',\n",
       "       'D19_NAHRUNGSERGAENZUNG', 'D19_RATGEBER', 'D19_REISEN',\n",
       "       'D19_SAMMELARTIKEL', 'D19_SCHUHE', 'D19_SONSTIGE', 'D19_SOZIALES',\n",
       "       'D19_TECHNIK', 'D19_TELKO_ANZ_12', 'D19_TELKO_ANZ_24',\n",
       "       'D19_TELKO_DATUM', 'D19_TELKO_MOBILE', 'D19_TELKO_OFFLINE_DATUM',\n",
       "       'D19_TELKO_ONLINE_DATUM', 'D19_TELKO_ONLINE_QUOTE_12', 'D19_TELKO_REST',\n",
       "       'D19_TIERARTIKEL', 'D19_VERSAND_ANZ_12', 'D19_VERSAND_ANZ_24',\n",
       "       'D19_VERSAND_DATUM', 'D19_VERSAND_OFFLINE_DATUM',\n",
       "       'D19_VERSAND_ONLINE_DATUM', 'D19_VERSAND_ONLINE_QUOTE_12',\n",
       "       'D19_VERSICHERUNGEN', 'D19_VERSAND_REST', 'D19_VERSI_ANZ_12',\n",
       "       'D19_VERSI_ANZ_24', 'D19_VERSI_DATUM', 'D19_VERSI_OFFLINE_DATUM',\n",
       "       'D19_VERSI_ONLINE_DATUM', 'D19_VERSI_ONLINE_QUOTE_12',\n",
       "       'D19_VOLLSORTIMENT', 'D19_WEIN_FEINKOST', 'GEBURTSJAHR', 'KBA05_BAUMAX',\n",
       "       'KK_KUNDENTYP', 'TITEL_KZ', 'EXTSEL992', 'VHA'],\n",
       "      dtype='object', name='feat')"
      ]
     },
     "execution_count": 12,
     "metadata": {},
     "output_type": "execute_result"
    }
   ],
   "source": [
    "thr_col_missing = 0.37\n",
    "feats_todrop_azdias = eda_azdias.feat_info.loc[eda_azdias.feat_info.percent_of_nans > thr_col_missing].index\n",
    "feats_todrop_azdias"
   ]
  },
  {
   "cell_type": "code",
   "execution_count": 13,
   "metadata": {
    "ExecuteTime": {
     "end_time": "2020-02-27T12:02:43.041951Z",
     "start_time": "2020-02-27T12:02:43.016951Z"
    }
   },
   "outputs": [
    {
     "data": {
      "text/plain": [
       "Index(['AGER_TYP', 'ALTERSKATEGORIE_FEIN', 'D19_BANKEN_ANZ_12',\n",
       "       'D19_BANKEN_ANZ_24', 'D19_BANKEN_DATUM', 'D19_BANKEN_DIREKT',\n",
       "       'D19_BANKEN_GROSS', 'D19_BANKEN_LOKAL', 'D19_BANKEN_OFFLINE_DATUM',\n",
       "       'D19_BANKEN_ONLINE_DATUM', 'D19_BANKEN_ONLINE_QUOTE_12',\n",
       "       'D19_BANKEN_REST', 'D19_BEKLEIDUNG_GEH', 'D19_BEKLEIDUNG_REST',\n",
       "       'D19_BILDUNG', 'D19_BIO_OEKO', 'D19_BUCH_CD', 'D19_DIGIT_SERV',\n",
       "       'D19_DROGERIEARTIKEL', 'D19_ENERGIE', 'D19_FREIZEIT', 'D19_GARTEN',\n",
       "       'D19_GESAMT_ANZ_12', 'D19_GESAMT_ANZ_24', 'D19_GESAMT_OFFLINE_DATUM',\n",
       "       'D19_GESAMT_ONLINE_DATUM', 'D19_GESAMT_ONLINE_QUOTE_12', 'D19_HANDWERK',\n",
       "       'D19_HAUS_DEKO', 'D19_KINDERARTIKEL', 'D19_KOSMETIK',\n",
       "       'D19_LEBENSMITTEL', 'D19_LOTTO', 'D19_NAHRUNGSERGAENZUNG',\n",
       "       'D19_RATGEBER', 'D19_REISEN', 'D19_SAMMELARTIKEL', 'D19_SCHUHE',\n",
       "       'D19_SONSTIGE', 'D19_TECHNIK', 'D19_TELKO_ANZ_12', 'D19_TELKO_ANZ_24',\n",
       "       'D19_TELKO_DATUM', 'D19_TELKO_MOBILE', 'D19_TELKO_OFFLINE_DATUM',\n",
       "       'D19_TELKO_ONLINE_DATUM', 'D19_TELKO_ONLINE_QUOTE_12', 'D19_TELKO_REST',\n",
       "       'D19_TIERARTIKEL', 'D19_VERSAND_ANZ_12', 'D19_VERSAND_ANZ_24',\n",
       "       'D19_VERSAND_DATUM', 'D19_VERSAND_OFFLINE_DATUM',\n",
       "       'D19_VERSAND_ONLINE_DATUM', 'D19_VERSAND_ONLINE_QUOTE_12',\n",
       "       'D19_VERSICHERUNGEN', 'D19_VERSAND_REST', 'D19_VERSI_ANZ_12',\n",
       "       'D19_VERSI_ANZ_24', 'D19_VERSI_DATUM', 'D19_VERSI_OFFLINE_DATUM',\n",
       "       'D19_VERSI_ONLINE_DATUM', 'D19_VERSI_ONLINE_QUOTE_12',\n",
       "       'D19_VOLLSORTIMENT', 'D19_WEIN_FEINKOST', 'GEBURTSJAHR', 'KBA05_BAUMAX',\n",
       "       'KK_KUNDENTYP', 'TITEL_KZ', 'EXTSEL992', 'VHA'],\n",
       "      dtype='object', name='feat')"
      ]
     },
     "execution_count": 13,
     "metadata": {},
     "output_type": "execute_result"
    }
   ],
   "source": [
    "feats_todrop_customers = eda_customers.feat_info.loc[eda_customers.feat_info.percent_of_nans >thr_col_missing ].index\n",
    "feats_todrop_customers"
   ]
  },
  {
   "cell_type": "code",
   "execution_count": 14,
   "metadata": {
    "ExecuteTime": {
     "end_time": "2020-02-27T12:02:43.071952Z",
     "start_time": "2020-02-27T12:02:43.052952Z"
    }
   },
   "outputs": [
    {
     "data": {
      "text/plain": [
       "['D19_WEIN_FEINKOST',\n",
       " 'D19_BANKEN_ANZ_12',\n",
       " 'D19_ENERGIE',\n",
       " 'D19_REISEN',\n",
       " 'D19_VERSI_ANZ_12',\n",
       " 'D19_GESAMT_ANZ_24',\n",
       " 'D19_BIO_OEKO',\n",
       " 'D19_BUCH_CD',\n",
       " 'D19_TELKO_ANZ_24',\n",
       " 'TITEL_KZ',\n",
       " 'D19_LEBENSMITTEL',\n",
       " 'D19_GARTEN',\n",
       " 'D19_VERSAND_ANZ_24',\n",
       " 'D19_VERSI_DATUM',\n",
       " 'D19_TELKO_REST',\n",
       " 'D19_TELKO_ONLINE_QUOTE_12',\n",
       " 'D19_VERSI_OFFLINE_DATUM',\n",
       " 'D19_TELKO_MOBILE',\n",
       " 'D19_BANKEN_OFFLINE_DATUM',\n",
       " 'D19_RATGEBER',\n",
       " 'D19_LOTTO',\n",
       " 'AGER_TYP',\n",
       " 'D19_GESAMT_ONLINE_DATUM',\n",
       " 'D19_TELKO_OFFLINE_DATUM',\n",
       " 'D19_SCHUHE',\n",
       " 'D19_FREIZEIT',\n",
       " 'D19_DIGIT_SERV',\n",
       " 'D19_BANKEN_DATUM',\n",
       " 'D19_VERSAND_OFFLINE_DATUM',\n",
       " 'D19_VERSAND_ONLINE_QUOTE_12',\n",
       " 'KBA05_BAUMAX',\n",
       " 'D19_GESAMT_OFFLINE_DATUM',\n",
       " 'D19_HAUS_DEKO',\n",
       " 'D19_BANKEN_REST',\n",
       " 'D19_BANKEN_DIREKT',\n",
       " 'D19_VERSI_ONLINE_QUOTE_12',\n",
       " 'D19_GESAMT_ONLINE_QUOTE_12',\n",
       " 'D19_BANKEN_ONLINE_DATUM',\n",
       " 'D19_TECHNIK',\n",
       " 'GEBURTSJAHR',\n",
       " 'D19_BANKEN_ONLINE_QUOTE_12',\n",
       " 'D19_SONSTIGE',\n",
       " 'D19_VERSICHERUNGEN',\n",
       " 'D19_NAHRUNGSERGAENZUNG',\n",
       " 'D19_VERSI_ANZ_24',\n",
       " 'D19_VOLLSORTIMENT',\n",
       " 'D19_BILDUNG',\n",
       " 'D19_BANKEN_ANZ_24',\n",
       " 'D19_TELKO_DATUM',\n",
       " 'D19_VERSAND_ANZ_12',\n",
       " 'D19_TELKO_ANZ_12',\n",
       " 'D19_TELKO_ONLINE_DATUM',\n",
       " 'D19_VERSAND_ONLINE_DATUM',\n",
       " 'D19_VERSAND_DATUM',\n",
       " 'VHA',\n",
       " 'D19_KOSMETIK',\n",
       " 'D19_GESAMT_ANZ_12',\n",
       " 'EXTSEL992',\n",
       " 'D19_BEKLEIDUNG_REST',\n",
       " 'D19_SAMMELARTIKEL',\n",
       " 'D19_KINDERARTIKEL',\n",
       " 'D19_VERSI_ONLINE_DATUM',\n",
       " 'KK_KUNDENTYP',\n",
       " 'D19_BEKLEIDUNG_GEH',\n",
       " 'D19_DROGERIEARTIKEL',\n",
       " 'D19_TIERARTIKEL',\n",
       " 'D19_BANKEN_GROSS',\n",
       " 'D19_VERSAND_REST',\n",
       " 'D19_HANDWERK',\n",
       " 'D19_BANKEN_LOKAL']"
      ]
     },
     "execution_count": 14,
     "metadata": {},
     "output_type": "execute_result"
    }
   ],
   "source": [
    "feats_todrop_comm = set(feats_todrop_customers).intersection(set(feats_todrop_azdias))\n",
    "feats_todrop_comm = list(feats_todrop_comm)\n",
    "feats_todrop_comm"
   ]
  },
  {
   "cell_type": "code",
   "execution_count": 15,
   "metadata": {
    "ExecuteTime": {
     "end_time": "2020-02-27T12:02:43.832951Z",
     "start_time": "2020-02-27T12:02:43.078954Z"
    }
   },
   "outputs": [
    {
     "name": "stdout",
     "output_type": "stream",
     "text": [
      "清理列缺失值\n",
      "清理前 Azdias 有  340 列\n",
      "清理后 Azdias 有  270 列\n",
      "清理前 Customers 有  340 列\n",
      "清理后 Customers 有  270 列\n"
     ]
    }
   ],
   "source": [
    "print(f'清理列缺失值')\n",
    "print(f'清理前 {eda_azdias} 有  {eda_azdias.data.shape[1]} 列')\n",
    "azdias.drop(columns=feats_todrop_comm, inplace=True)\n",
    "print(f'清理后 {eda_azdias} 有  {eda_azdias.data.shape[1]} 列')\n",
    "\n",
    "print(f'清理前 {eda_customers} 有  {eda_customers.data.shape[1]} 列')\n",
    "customers.drop(columns=feats_todrop_comm, inplace=True)\n",
    "print(f'清理后 {eda_customers} 有  {eda_customers.data.shape[1]} 列')"
   ]
  },
  {
   "cell_type": "markdown",
   "metadata": {
    "ExecuteTime": {
     "end_time": "2020-02-19T08:36:41.789367Z",
     "start_time": "2020-02-19T08:36:41.777367Z"
    }
   },
   "source": [
    "####  Step  5:  清理信息重复的特征（列）"
   ]
  },
  {
   "cell_type": "code",
   "execution_count": 16,
   "metadata": {
    "ExecuteTime": {
     "end_time": "2020-02-27T12:02:46.630950Z",
     "start_time": "2020-02-27T12:02:43.840952Z"
    },
    "scrolled": false
   },
   "outputs": [
    {
     "data": {
      "image/png": "[encoded data removed]",
      "text/plain": [
       "<Figure size 1800x1800 with 8 Axes>"
      ]
     },
     "metadata": {
      "needs_background": "light"
     },
     "output_type": "display_data"
    }
   ],
   "source": [
    "feats_fein =[x for x in eda_azdias.data.columns if x.endswith( '_FEIN')]\n",
    "feats_grob = [x for x in eda_azdias.data.columns if x.endswith( '_GROB')]\n",
    "feats_duplicate = [x for x in zip(pd.Series(feats_grob).sort_values(), pd.Series(feats_fein).sort_values())]\n",
    "h.plot_2feats_comparison(eda_azdias.data, feats_duplicate)   "
   ]
  },
  {
   "cell_type": "markdown",
   "metadata": {
    "ExecuteTime": {
     "end_time": "2020-02-19T08:47:38.220843Z",
     "start_time": "2020-02-19T08:47:38.200842Z"
    }
   },
   "source": [
    "- 删除 ALTERSKATEGORIE_FEIN， 因为它是 ALTERSKATEGORIE_GROB 细粒度版本， 而且没有定义。\n",
    "- 删除 LP_FAMILIE_GROB, 因为 LP_FAMILIE_FEIN 已经包含它的信息\n",
    "- 删除 LP_LEBENSPHASE_GROB, 因为 LP_LEBENSPHASE_FEIN 已经包含它的信息\n",
    "- 删除 LP_STATUS_GROB, 因为 LP_STATUS_FEIN 已经包含它的信息"
   ]
  },
  {
   "cell_type": "code",
   "execution_count": 17,
   "metadata": {
    "ExecuteTime": {
     "end_time": "2020-02-27T12:02:46.660953Z",
     "start_time": "2020-02-27T12:02:46.646950Z"
    }
   },
   "outputs": [],
   "source": [
    "feats_duplicated = ['ALTERSKATEGORIE_FEIN', 'LP_FAMILIE_GROB', 'LP_LEBENSPHASE_FEIN', 'LP_STATUS_GROB','CAMEO_DEU_2015']"
   ]
  },
  {
   "cell_type": "code",
   "execution_count": 18,
   "metadata": {
    "ExecuteTime": {
     "end_time": "2020-02-27T12:02:47.372951Z",
     "start_time": "2020-02-27T12:02:46.667953Z"
    }
   },
   "outputs": [
    {
     "data": {
      "image/png": "[encoded data removed]",
      "text/plain": [
       "<Figure size 1152x288 with 2 Axes>"
      ]
     },
     "metadata": {
      "needs_background": "light"
     },
     "output_type": "display_data"
    }
   ],
   "source": [
    "# ANZ_STATISTISCHE_HAUSHALTE, ANZ_HAUSHALTE_AKTIV :  number of households in the building\n",
    "feats_HAUSHALTE = ['ANZ_STATISTISCHE_HAUSHALTE', 'ANZ_HAUSHALTE_AKTIV']\n",
    "h.plot_boxplot(eda_azdias.data, feats_HAUSHALTE, n_cols =2,  figsize = (16, 4))     "
   ]
  },
  {
   "cell_type": "markdown",
   "metadata": {},
   "source": [
    "- ANZ_STATISTISCHE_HAUSHALTE, ANZ_HAUSHALTE_AKTIV :  number of households in the building\n",
    "- 删除 ANZ_STATISTISCHE_HAUSHALTE 因为其和 ANZ_HAUSHALTE_AKTIV 重复，并且没有定义"
   ]
  },
  {
   "cell_type": "code",
   "execution_count": 19,
   "metadata": {
    "ExecuteTime": {
     "end_time": "2020-02-27T12:02:48.076951Z",
     "start_time": "2020-02-27T12:02:47.377953Z"
    }
   },
   "outputs": [],
   "source": [
    "feats_duplicated.extend(['ANZ_STATISTISCHE_HAUSHALTE'])\n",
    "azdias.drop(columns=feats_duplicated, inplace=True)\n",
    "customers.drop(columns=feats_duplicated, inplace=True)"
   ]
  },
  {
   "cell_type": "markdown",
   "metadata": {},
   "source": [
    "####  Step  6:  分析类别型特征"
   ]
  },
  {
   "cell_type": "code",
   "execution_count": 20,
   "metadata": {
    "ExecuteTime": {
     "end_time": "2020-02-27T12:02:48.122951Z",
     "start_time": "2020-02-27T12:02:48.084952Z"
    }
   },
   "outputs": [
    {
     "data": {
      "text/plain": [
       "(30, 4)"
      ]
     },
     "execution_count": 20,
     "metadata": {},
     "output_type": "execute_result"
    }
   ],
   "source": [
    "# how many categorical features do we have?\n",
    "categorical = eda_azdias.feat_info[feat_info['type'] == 'categorical']\n",
    "categorical.shape"
   ]
  },
  {
   "cell_type": "markdown",
   "metadata": {},
   "source": [
    "##### a. 查看类别型特征"
   ]
  },
  {
   "cell_type": "code",
   "execution_count": 21,
   "metadata": {
    "ExecuteTime": {
     "end_time": "2020-02-27T12:02:48.610953Z",
     "start_time": "2020-02-27T12:02:48.131953Z"
    }
   },
   "outputs": [
    {
     "name": "stdout",
     "output_type": "stream",
     "text": [
      "AGER_TYP was eliminated already\n",
      "ANREDE_KZ [2 1]\n",
      "CAMEO_DEUG_2015 [8.0 4.0 2.0 6.0 1.0 9.0 7.0 5.0 3.0 nan '3' '7' '2' '4' '9' '6' '8' '5'\n",
      " '1']\n",
      "CAMEO_DEU_2015 was eliminated already\n",
      "CJT_GESAMTTYP [ 5.  3.  2.  4.  1.  6. nan]\n",
      "D19_KONSUMTYP [nan  9.  1.  4.  3.  6.  5.  2.]\n",
      "DSL_FLAG [1. 0.]\n",
      "FINANZTYP [1 6 5 2 4 3]\n",
      "GEBAEUDETYP [8. 1. 3. 2. 6. 4. 5.]\n",
      "GFK_URLAUBERTYP [10.  1.  5. 12.  9.  3.  8. 11.  4.  7.  2.  6. nan]\n",
      "GREEN_AVANTGARDE [0 1]\n",
      "HH_DELTA_FLAG [ 0. nan  1.]\n",
      "KK_KUNDENTYP was eliminated already\n",
      "KONSUMZELLE [ 1.  0. nan]\n",
      "LP_FAMILIE_FEIN [ 5.  1. nan 10.  2.  7. 11.  8.  4.  6.  9.  3.]\n",
      "LP_FAMILIE_GROB was eliminated already\n",
      "LP_STATUS_FEIN [ 2.  3.  9.  4.  1. 10.  8.  5.  6.  7. nan]\n",
      "LP_STATUS_GROB was eliminated already\n",
      "NATIONALITAET_KZ [ 1.  3.  2. nan]\n",
      "OST_WEST_KZ ['W' 'O']\n",
      "SHOPPER_TYP [ 3.  2.  1.  0. nan]\n",
      "SOHO_KZ [1. 0.]\n",
      "TITEL_KZ was eliminated already\n",
      "UNGLEICHENN_FLAG [1. 0.]\n",
      "VERS_TYP [ 2.  1. nan]\n",
      "ZABEOTYP [5 3 4 1 6 2]\n",
      "D19_KONSUMTYP_MAX [9 8 1 2 4 3]\n",
      "VHA was eliminated already\n",
      "VHN [ 4.  2. nan  1.  3.]\n",
      "GEMEINDETYP [22. 40. 21. 12. 30. 50. 11. nan]\n"
     ]
    }
   ],
   "source": [
    "h.check_features(eda_azdias, 'categorical')            "
   ]
  },
  {
   "cell_type": "markdown",
   "metadata": {},
   "source": [
    "##### b. 重编码部分类别型特征\n",
    "\n",
    " - 'CAMEO_DEU_2015', 'CAMEO_DEUG_2015' and 'CAMEO_INTL_2015'  表示 “New German CAMEO Typology established together with Call Credit in late 2015”.\n",
    " - 'EINGEFUEGT_AM',  'OST_WEST_KZ'  也需要重新编码"
   ]
  },
  {
   "cell_type": "code",
   "execution_count": 22,
   "metadata": {
    "ExecuteTime": {
     "end_time": "2020-02-27T12:02:53.832951Z",
     "start_time": "2020-02-27T12:02:48.617951Z"
    }
   },
   "outputs": [],
   "source": [
    "feats_encoding = ['OST_WEST_KZ','CAMEO_DEUG_2015','CAMEO_INTL_2015','EINGEFUEGT_AM']\n",
    "\n",
    "for x in feats_encoding:\n",
    "    eda_azdias.re_encoding(x)\n",
    "    eda_customers.re_encoding(x)        "
   ]
  },
  {
   "cell_type": "markdown",
   "metadata": {},
   "source": [
    "##### c. 拆分层次化类别型特征\n",
    "\n",
    "以下特征是层次化特征：\n",
    "1. CAMEO_INTL_2015 - CAMEO classification 2015 - international typology. 拆分为两个包含家庭分组和财富指标的新变量。\n",
    "2. PRAEGENDE_JUGENDJAHRE - dominating movement in the person's youth (avantgarde or mainstream). 创建四个新的变量，包括年代，运动类型，运动是否前卫/主流的指示，位置O/W/O+W。\n",
    "4. LP_LEBENSPHASE_GROB - life stage rough. 拆分为三个包含年龄、家庭和收入的新变量。"
   ]
  },
  {
   "cell_type": "code",
   "execution_count": 23,
   "metadata": {
    "ExecuteTime": {
     "end_time": "2020-02-27T12:02:53.848951Z",
     "start_time": "2020-02-27T12:02:53.837950Z"
    }
   },
   "outputs": [],
   "source": [
    "# eda_azdias.data.CAMEO_INTL_2015.astype('float64').value_counts()\n",
    "# eda_customers.data.LP_LEBENSPHASE_GROB.value_counts()"
   ]
  },
  {
   "cell_type": "code",
   "execution_count": 24,
   "metadata": {
    "ExecuteTime": {
     "end_time": "2020-02-27T12:02:53.896952Z",
     "start_time": "2020-02-27T12:02:53.856951Z"
    }
   },
   "outputs": [
    {
     "data": {
      "text/html": [
       "<div>\n",
       "<style scoped>\n",
       "    .dataframe tbody tr th:only-of-type {\n",
       "        vertical-align: middle;\n",
       "    }\n",
       "\n",
       "    .dataframe tbody tr th {\n",
       "        vertical-align: top;\n",
       "    }\n",
       "\n",
       "    .dataframe thead th {\n",
       "        text-align: right;\n",
       "    }\n",
       "</style>\n",
       "<table border=\"1\" class=\"dataframe\">\n",
       "  <thead>\n",
       "    <tr style=\"text-align: right;\">\n",
       "      <th></th>\n",
       "      <th>type</th>\n",
       "      <th>unknown</th>\n",
       "      <th>n_nans</th>\n",
       "      <th>percent_of_nans</th>\n",
       "    </tr>\n",
       "    <tr>\n",
       "      <th>feat</th>\n",
       "      <th></th>\n",
       "      <th></th>\n",
       "      <th></th>\n",
       "      <th></th>\n",
       "    </tr>\n",
       "  </thead>\n",
       "  <tbody>\n",
       "    <tr>\n",
       "      <td>CAMEO_INTL_2015</td>\n",
       "      <td>mixed</td>\n",
       "      <td>['-1','XX']</td>\n",
       "      <td>99352</td>\n",
       "      <td>0.11</td>\n",
       "    </tr>\n",
       "    <tr>\n",
       "      <td>LP_LEBENSPHASE_FEIN</td>\n",
       "      <td>mixed</td>\n",
       "      <td>[0]</td>\n",
       "      <td>97632</td>\n",
       "      <td>0.11</td>\n",
       "    </tr>\n",
       "    <tr>\n",
       "      <td>LP_LEBENSPHASE_GROB</td>\n",
       "      <td>mixed</td>\n",
       "      <td>[0]</td>\n",
       "      <td>94572</td>\n",
       "      <td>0.11</td>\n",
       "    </tr>\n",
       "    <tr>\n",
       "      <td>PRAEGENDE_JUGENDJAHRE</td>\n",
       "      <td>mixed</td>\n",
       "      <td>[-1,0]</td>\n",
       "      <td>108164</td>\n",
       "      <td>0.12</td>\n",
       "    </tr>\n",
       "  </tbody>\n",
       "</table>\n",
       "</div>"
      ],
      "text/plain": [
       "                        type      unknown  n_nans  percent_of_nans\n",
       "feat                                                              \n",
       "CAMEO_INTL_2015        mixed  ['-1','XX']   99352             0.11\n",
       "LP_LEBENSPHASE_FEIN    mixed          [0]   97632             0.11\n",
       "LP_LEBENSPHASE_GROB    mixed          [0]   94572             0.11\n",
       "PRAEGENDE_JUGENDJAHRE  mixed       [-1,0]  108164             0.12"
      ]
     },
     "execution_count": 24,
     "metadata": {},
     "output_type": "execute_result"
    }
   ],
   "source": [
    "mixed = eda_azdias.feat_info[feat_info['type'] == 'mixed']\n",
    "mixed"
   ]
  },
  {
   "cell_type": "code",
   "execution_count": 25,
   "metadata": {
    "ExecuteTime": {
     "end_time": "2020-02-27T12:02:54.004950Z",
     "start_time": "2020-02-27T12:02:53.902951Z"
    }
   },
   "outputs": [
    {
     "name": "stdout",
     "output_type": "stream",
     "text": [
      "CAMEO_INTL_2015 [51. 24. 12. 43. 54. 22. 14. 13. 15. 41. 34. 55. 33. 25. nan 23. 31. 52.\n",
      " 45. 35. 44. 32.]\n",
      "LP_LEBENSPHASE_FEIN was eliminated already\n",
      "LP_LEBENSPHASE_GROB [ 6.  1. nan 10.  2.  3.  5.  7. 12. 11.  9.  8.  4.]\n",
      "PRAEGENDE_JUGENDJAHRE [14. 15.  8.  3. 10. 11.  9.  6.  4. nan  5.  2.  1. 12. 13.  7.]\n"
     ]
    }
   ],
   "source": [
    "h.check_features(eda_azdias, 'mixed')"
   ]
  },
  {
   "cell_type": "code",
   "execution_count": 26,
   "metadata": {
    "ExecuteTime": {
     "end_time": "2020-02-27T12:03:04.630952Z",
     "start_time": "2020-02-27T12:02:54.007951Z"
    }
   },
   "outputs": [],
   "source": [
    "mixed_feats = ['CAMEO_INTL_2015', 'LP_LEBENSPHASE_GROB', 'PRAEGENDE_JUGENDJAHRE']\n",
    "for x in mixed_feats:\n",
    "    eda_azdias.process_mixed_feat(x)\n",
    "    eda_customers.process_mixed_feat(x)    "
   ]
  },
  {
   "cell_type": "code",
   "execution_count": 27,
   "metadata": {
    "ExecuteTime": {
     "end_time": "2020-02-27T12:03:04.677950Z",
     "start_time": "2020-02-27T12:03:04.634952Z"
    }
   },
   "outputs": [
    {
     "data": {
      "text/html": [
       "<div>\n",
       "<style scoped>\n",
       "    .dataframe tbody tr th:only-of-type {\n",
       "        vertical-align: middle;\n",
       "    }\n",
       "\n",
       "    .dataframe tbody tr th {\n",
       "        vertical-align: top;\n",
       "    }\n",
       "\n",
       "    .dataframe thead th {\n",
       "        text-align: right;\n",
       "    }\n",
       "</style>\n",
       "<table border=\"1\" class=\"dataframe\">\n",
       "  <thead>\n",
       "    <tr style=\"text-align: right;\">\n",
       "      <th></th>\n",
       "      <th>CAMEO_INTL_2015_SPLIT_WEALTH</th>\n",
       "      <th>CAMEO_INTL_2015_SPLIT_LIFE_STAGE</th>\n",
       "      <th>LP_LEBENSPHASE_GROB_SPLIT_FAMILY</th>\n",
       "      <th>LP_LEBENSPHASE_GROB_SPLIT_AGE</th>\n",
       "      <th>LP_LEBENSPHASE_GROB_SPLIT_INCOME</th>\n",
       "      <th>PRAEGENDE_JUGENDJAHRE_SPLIT_DECADE</th>\n",
       "      <th>PRAEGENDE_JUGENDJAHRE_SPLIT_MOVEMENT</th>\n",
       "    </tr>\n",
       "  </thead>\n",
       "  <tbody>\n",
       "    <tr>\n",
       "      <td>1</td>\n",
       "      <td>5.0</td>\n",
       "      <td>1.0</td>\n",
       "      <td>2.0</td>\n",
       "      <td>NaN</td>\n",
       "      <td>NaN</td>\n",
       "      <td>5.0</td>\n",
       "      <td>0.0</td>\n",
       "    </tr>\n",
       "    <tr>\n",
       "      <td>2</td>\n",
       "      <td>2.0</td>\n",
       "      <td>4.0</td>\n",
       "      <td>0.0</td>\n",
       "      <td>0.0</td>\n",
       "      <td>0.0</td>\n",
       "      <td>5.0</td>\n",
       "      <td>1.0</td>\n",
       "    </tr>\n",
       "    <tr>\n",
       "      <td>3</td>\n",
       "      <td>1.0</td>\n",
       "      <td>2.0</td>\n",
       "      <td>NaN</td>\n",
       "      <td>NaN</td>\n",
       "      <td>NaN</td>\n",
       "      <td>3.0</td>\n",
       "      <td>0.0</td>\n",
       "    </tr>\n",
       "    <tr>\n",
       "      <td>4</td>\n",
       "      <td>4.0</td>\n",
       "      <td>3.0</td>\n",
       "      <td>5.0</td>\n",
       "      <td>1.0</td>\n",
       "      <td>0.0</td>\n",
       "      <td>3.0</td>\n",
       "      <td>0.0</td>\n",
       "    </tr>\n",
       "    <tr>\n",
       "      <td>5</td>\n",
       "      <td>5.0</td>\n",
       "      <td>4.0</td>\n",
       "      <td>0.0</td>\n",
       "      <td>1.0</td>\n",
       "      <td>0.0</td>\n",
       "      <td>1.0</td>\n",
       "      <td>0.0</td>\n",
       "    </tr>\n",
       "    <tr>\n",
       "      <td>...</td>\n",
       "      <td>...</td>\n",
       "      <td>...</td>\n",
       "      <td>...</td>\n",
       "      <td>...</td>\n",
       "      <td>...</td>\n",
       "      <td>...</td>\n",
       "      <td>...</td>\n",
       "    </tr>\n",
       "    <tr>\n",
       "      <td>891216</td>\n",
       "      <td>4.0</td>\n",
       "      <td>1.0</td>\n",
       "      <td>0.0</td>\n",
       "      <td>0.0</td>\n",
       "      <td>0.0</td>\n",
       "      <td>5.0</td>\n",
       "      <td>0.0</td>\n",
       "    </tr>\n",
       "    <tr>\n",
       "      <td>891217</td>\n",
       "      <td>5.0</td>\n",
       "      <td>1.0</td>\n",
       "      <td>0.0</td>\n",
       "      <td>0.0</td>\n",
       "      <td>0.0</td>\n",
       "      <td>4.0</td>\n",
       "      <td>0.0</td>\n",
       "    </tr>\n",
       "    <tr>\n",
       "      <td>891218</td>\n",
       "      <td>2.0</td>\n",
       "      <td>4.0</td>\n",
       "      <td>NaN</td>\n",
       "      <td>NaN</td>\n",
       "      <td>NaN</td>\n",
       "      <td>5.0</td>\n",
       "      <td>0.0</td>\n",
       "    </tr>\n",
       "    <tr>\n",
       "      <td>891219</td>\n",
       "      <td>5.0</td>\n",
       "      <td>1.0</td>\n",
       "      <td>5.0</td>\n",
       "      <td>0.0</td>\n",
       "      <td>0.0</td>\n",
       "      <td>5.0</td>\n",
       "      <td>0.0</td>\n",
       "    </tr>\n",
       "    <tr>\n",
       "      <td>891220</td>\n",
       "      <td>4.0</td>\n",
       "      <td>3.0</td>\n",
       "      <td>0.0</td>\n",
       "      <td>1.0</td>\n",
       "      <td>0.0</td>\n",
       "      <td>1.0</td>\n",
       "      <td>0.0</td>\n",
       "    </tr>\n",
       "  </tbody>\n",
       "</table>\n",
       "<p>736684 rows × 7 columns</p>\n",
       "</div>"
      ],
      "text/plain": [
       "        CAMEO_INTL_2015_SPLIT_WEALTH  CAMEO_INTL_2015_SPLIT_LIFE_STAGE  \\\n",
       "1                                5.0                               1.0   \n",
       "2                                2.0                               4.0   \n",
       "3                                1.0                               2.0   \n",
       "4                                4.0                               3.0   \n",
       "5                                5.0                               4.0   \n",
       "...                              ...                               ...   \n",
       "891216                           4.0                               1.0   \n",
       "891217                           5.0                               1.0   \n",
       "891218                           2.0                               4.0   \n",
       "891219                           5.0                               1.0   \n",
       "891220                           4.0                               3.0   \n",
       "\n",
       "        LP_LEBENSPHASE_GROB_SPLIT_FAMILY  LP_LEBENSPHASE_GROB_SPLIT_AGE  \\\n",
       "1                                    2.0                            NaN   \n",
       "2                                    0.0                            0.0   \n",
       "3                                    NaN                            NaN   \n",
       "4                                    5.0                            1.0   \n",
       "5                                    0.0                            1.0   \n",
       "...                                  ...                            ...   \n",
       "891216                               0.0                            0.0   \n",
       "891217                               0.0                            0.0   \n",
       "891218                               NaN                            NaN   \n",
       "891219                               5.0                            0.0   \n",
       "891220                               0.0                            1.0   \n",
       "\n",
       "        LP_LEBENSPHASE_GROB_SPLIT_INCOME  PRAEGENDE_JUGENDJAHRE_SPLIT_DECADE  \\\n",
       "1                                    NaN                                 5.0   \n",
       "2                                    0.0                                 5.0   \n",
       "3                                    NaN                                 3.0   \n",
       "4                                    0.0                                 3.0   \n",
       "5                                    0.0                                 1.0   \n",
       "...                                  ...                                 ...   \n",
       "891216                               0.0                                 5.0   \n",
       "891217                               0.0                                 4.0   \n",
       "891218                               NaN                                 5.0   \n",
       "891219                               0.0                                 5.0   \n",
       "891220                               0.0                                 1.0   \n",
       "\n",
       "        PRAEGENDE_JUGENDJAHRE_SPLIT_MOVEMENT  \n",
       "1                                        0.0  \n",
       "2                                        1.0  \n",
       "3                                        0.0  \n",
       "4                                        0.0  \n",
       "5                                        0.0  \n",
       "...                                      ...  \n",
       "891216                                   0.0  \n",
       "891217                                   0.0  \n",
       "891218                                   0.0  \n",
       "891219                                   0.0  \n",
       "891220                                   0.0  \n",
       "\n",
       "[736684 rows x 7 columns]"
      ]
     },
     "execution_count": 27,
     "metadata": {},
     "output_type": "execute_result"
    }
   ],
   "source": [
    "feats_splited = ['CAMEO_INTL_2015_SPLIT_WEALTH', 'CAMEO_INTL_2015_SPLIT_LIFE_STAGE','LP_LEBENSPHASE_GROB_SPLIT_FAMILY','LP_LEBENSPHASE_GROB_SPLIT_AGE','LP_LEBENSPHASE_GROB_SPLIT_INCOME','PRAEGENDE_JUGENDJAHRE_SPLIT_DECADE','PRAEGENDE_JUGENDJAHRE_SPLIT_MOVEMENT']\n",
    "eda_azdias.data[feats_splited]"
   ]
  },
  {
   "cell_type": "code",
   "execution_count": 28,
   "metadata": {
    "ExecuteTime": {
     "end_time": "2020-02-27T12:03:05.118951Z",
     "start_time": "2020-02-27T12:03:04.683952Z"
    }
   },
   "outputs": [],
   "source": [
    "feat_info_split = eda_azdias.build_feat_info(feats_splited)\n",
    "eda_azdias.feat_info= pd.concat([eda_azdias.feat_info, feat_info_split], sort = False)\n",
    "\n",
    "feat_info_split = eda_customers.build_feat_info(feats_splited)\n",
    "eda_customers.feat_info= pd.concat([eda_customers.feat_info, feat_info_split], sort = False)"
   ]
  },
  {
   "cell_type": "code",
   "execution_count": 29,
   "metadata": {
    "ExecuteTime": {
     "end_time": "2020-02-27T12:03:05.134951Z",
     "start_time": "2020-02-27T12:03:05.120952Z"
    }
   },
   "outputs": [],
   "source": [
    "# eda_azdias.feat_info.loc[feats_splited]"
   ]
  },
  {
   "cell_type": "code",
   "execution_count": 30,
   "metadata": {
    "ExecuteTime": {
     "end_time": "2020-02-27T12:03:16.943951Z",
     "start_time": "2020-02-27T12:03:05.140952Z"
    }
   },
   "outputs": [],
   "source": [
    "eda_azdias.collecting_stats()\n",
    "eda_customers.collecting_stats()"
   ]
  },
  {
   "cell_type": "markdown",
   "metadata": {},
   "source": [
    "####  Step  7:   分析离群值"
   ]
  },
  {
   "cell_type": "code",
   "execution_count": 31,
   "metadata": {
    "ExecuteTime": {
     "end_time": "2020-02-27T12:03:28.426950Z",
     "start_time": "2020-02-27T12:03:16.951952Z"
    }
   },
   "outputs": [],
   "source": [
    "eda_azdias.collecting_stats()\n",
    "eda_customers.collecting_stats()"
   ]
  },
  {
   "cell_type": "markdown",
   "metadata": {},
   "source": [
    "#####  a. 分析数值类型数据的离群值"
   ]
  },
  {
   "cell_type": "code",
   "execution_count": 32,
   "metadata": {
    "ExecuteTime": {
     "end_time": "2020-02-27T12:03:28.458952Z",
     "start_time": "2020-02-27T12:03:28.434951Z"
    }
   },
   "outputs": [
    {
     "data": {
      "text/html": [
       "<div>\n",
       "<style scoped>\n",
       "    .dataframe tbody tr th:only-of-type {\n",
       "        vertical-align: middle;\n",
       "    }\n",
       "\n",
       "    .dataframe tbody tr th {\n",
       "        vertical-align: top;\n",
       "    }\n",
       "\n",
       "    .dataframe thead th {\n",
       "        text-align: right;\n",
       "    }\n",
       "</style>\n",
       "<table border=\"1\" class=\"dataframe\">\n",
       "  <thead>\n",
       "    <tr style=\"text-align: right;\">\n",
       "      <th></th>\n",
       "      <th>type</th>\n",
       "      <th>unknown</th>\n",
       "      <th>n_nans</th>\n",
       "      <th>percent_of_nans</th>\n",
       "      <th>n_distinct</th>\n",
       "      <th>Q1</th>\n",
       "      <th>Q3</th>\n",
       "      <th>IQR</th>\n",
       "    </tr>\n",
       "    <tr>\n",
       "      <th>feat</th>\n",
       "      <th></th>\n",
       "      <th></th>\n",
       "      <th></th>\n",
       "      <th></th>\n",
       "      <th></th>\n",
       "      <th></th>\n",
       "      <th></th>\n",
       "      <th></th>\n",
       "    </tr>\n",
       "  </thead>\n",
       "  <tbody>\n",
       "    <tr>\n",
       "      <td>ANZ_HAUSHALTE_AKTIV</td>\n",
       "      <td>numeric</td>\n",
       "      <td>[]</td>\n",
       "      <td>0.0</td>\n",
       "      <td>0.0</td>\n",
       "      <td>284.0</td>\n",
       "      <td>2.0</td>\n",
       "      <td>9.0</td>\n",
       "      <td>7.0</td>\n",
       "    </tr>\n",
       "    <tr>\n",
       "      <td>ANZ_HH_TITEL</td>\n",
       "      <td>numeric</td>\n",
       "      <td>[]</td>\n",
       "      <td>3272.0</td>\n",
       "      <td>0.0</td>\n",
       "      <td>21.0</td>\n",
       "      <td>0.0</td>\n",
       "      <td>0.0</td>\n",
       "      <td>0.0</td>\n",
       "    </tr>\n",
       "    <tr>\n",
       "      <td>ANZ_KINDER</td>\n",
       "      <td>numeric</td>\n",
       "      <td>[]</td>\n",
       "      <td>0.0</td>\n",
       "      <td>0.0</td>\n",
       "      <td>10.0</td>\n",
       "      <td>0.0</td>\n",
       "      <td>0.0</td>\n",
       "      <td>0.0</td>\n",
       "    </tr>\n",
       "    <tr>\n",
       "      <td>ANZ_PERSONEN</td>\n",
       "      <td>numeric</td>\n",
       "      <td>[]</td>\n",
       "      <td>0.0</td>\n",
       "      <td>0.0</td>\n",
       "      <td>27.0</td>\n",
       "      <td>1.0</td>\n",
       "      <td>2.0</td>\n",
       "      <td>1.0</td>\n",
       "    </tr>\n",
       "    <tr>\n",
       "      <td>ANZ_STATISTISCHE_HAUSHALTE</td>\n",
       "      <td>numeric</td>\n",
       "      <td>[]</td>\n",
       "      <td>NaN</td>\n",
       "      <td>NaN</td>\n",
       "      <td>NaN</td>\n",
       "      <td>NaN</td>\n",
       "      <td>NaN</td>\n",
       "      <td>NaN</td>\n",
       "    </tr>\n",
       "    <tr>\n",
       "      <td>ANZ_TITEL</td>\n",
       "      <td>numeric</td>\n",
       "      <td>[]</td>\n",
       "      <td>0.0</td>\n",
       "      <td>0.0</td>\n",
       "      <td>5.0</td>\n",
       "      <td>0.0</td>\n",
       "      <td>0.0</td>\n",
       "      <td>0.0</td>\n",
       "    </tr>\n",
       "    <tr>\n",
       "      <td>EINGEZOGENAM_HH_JAHR</td>\n",
       "      <td>numeric</td>\n",
       "      <td>[]</td>\n",
       "      <td>0.0</td>\n",
       "      <td>0.0</td>\n",
       "      <td>37.0</td>\n",
       "      <td>1997.0</td>\n",
       "      <td>2009.0</td>\n",
       "      <td>12.0</td>\n",
       "    </tr>\n",
       "    <tr>\n",
       "      <td>GEBURTSJAHR</td>\n",
       "      <td>numeric</td>\n",
       "      <td>[0]</td>\n",
       "      <td>NaN</td>\n",
       "      <td>NaN</td>\n",
       "      <td>NaN</td>\n",
       "      <td>NaN</td>\n",
       "      <td>NaN</td>\n",
       "      <td>NaN</td>\n",
       "    </tr>\n",
       "    <tr>\n",
       "      <td>KBA13_ANZAHL_PKW</td>\n",
       "      <td>numeric</td>\n",
       "      <td>[]</td>\n",
       "      <td>0.0</td>\n",
       "      <td>0.0</td>\n",
       "      <td>1261.0</td>\n",
       "      <td>384.0</td>\n",
       "      <td>775.0</td>\n",
       "      <td>391.0</td>\n",
       "    </tr>\n",
       "    <tr>\n",
       "      <td>MIN_GEBAEUDEJAHR</td>\n",
       "      <td>numeric</td>\n",
       "      <td>[]</td>\n",
       "      <td>0.0</td>\n",
       "      <td>0.0</td>\n",
       "      <td>25.0</td>\n",
       "      <td>1992.0</td>\n",
       "      <td>1992.0</td>\n",
       "      <td>0.0</td>\n",
       "    </tr>\n",
       "    <tr>\n",
       "      <td>EINGEFUEGT_AM</td>\n",
       "      <td>numeric</td>\n",
       "      <td>[]</td>\n",
       "      <td>NaN</td>\n",
       "      <td>NaN</td>\n",
       "      <td>NaN</td>\n",
       "      <td>NaN</td>\n",
       "      <td>NaN</td>\n",
       "      <td>NaN</td>\n",
       "    </tr>\n",
       "  </tbody>\n",
       "</table>\n",
       "</div>"
      ],
      "text/plain": [
       "                               type unknown  n_nans  percent_of_nans  \\\n",
       "feat                                                                   \n",
       "ANZ_HAUSHALTE_AKTIV         numeric      []     0.0              0.0   \n",
       "ANZ_HH_TITEL                numeric      []  3272.0              0.0   \n",
       "ANZ_KINDER                  numeric      []     0.0              0.0   \n",
       "ANZ_PERSONEN                numeric      []     0.0              0.0   \n",
       "ANZ_STATISTISCHE_HAUSHALTE  numeric      []     NaN              NaN   \n",
       "ANZ_TITEL                   numeric      []     0.0              0.0   \n",
       "EINGEZOGENAM_HH_JAHR        numeric      []     0.0              0.0   \n",
       "GEBURTSJAHR                 numeric     [0]     NaN              NaN   \n",
       "KBA13_ANZAHL_PKW            numeric      []     0.0              0.0   \n",
       "MIN_GEBAEUDEJAHR            numeric      []     0.0              0.0   \n",
       "EINGEFUEGT_AM               numeric      []     NaN              NaN   \n",
       "\n",
       "                            n_distinct      Q1      Q3    IQR  \n",
       "feat                                                           \n",
       "ANZ_HAUSHALTE_AKTIV              284.0     2.0     9.0    7.0  \n",
       "ANZ_HH_TITEL                      21.0     0.0     0.0    0.0  \n",
       "ANZ_KINDER                        10.0     0.0     0.0    0.0  \n",
       "ANZ_PERSONEN                      27.0     1.0     2.0    1.0  \n",
       "ANZ_STATISTISCHE_HAUSHALTE         NaN     NaN     NaN    NaN  \n",
       "ANZ_TITEL                          5.0     0.0     0.0    0.0  \n",
       "EINGEZOGENAM_HH_JAHR              37.0  1997.0  2009.0   12.0  \n",
       "GEBURTSJAHR                        NaN     NaN     NaN    NaN  \n",
       "KBA13_ANZAHL_PKW                1261.0   384.0   775.0  391.0  \n",
       "MIN_GEBAEUDEJAHR                  25.0  1992.0  1992.0    0.0  \n",
       "EINGEFUEGT_AM                      NaN     NaN     NaN    NaN  "
      ]
     },
     "execution_count": 32,
     "metadata": {},
     "output_type": "execute_result"
    }
   ],
   "source": [
    "eda_azdias.feat_info.loc[eda_azdias.feat_info.type == 'numeric']"
   ]
  },
  {
   "cell_type": "code",
   "execution_count": 33,
   "metadata": {
    "ExecuteTime": {
     "end_time": "2020-02-27T12:03:28.506951Z",
     "start_time": "2020-02-27T12:03:28.468952Z"
    }
   },
   "outputs": [
    {
     "data": {
      "text/html": [
       "<div>\n",
       "<style scoped>\n",
       "    .dataframe tbody tr th:only-of-type {\n",
       "        vertical-align: middle;\n",
       "    }\n",
       "\n",
       "    .dataframe tbody tr th {\n",
       "        vertical-align: top;\n",
       "    }\n",
       "\n",
       "    .dataframe thead th {\n",
       "        text-align: right;\n",
       "    }\n",
       "</style>\n",
       "<table border=\"1\" class=\"dataframe\">\n",
       "  <thead>\n",
       "    <tr style=\"text-align: right;\">\n",
       "      <th></th>\n",
       "      <th>type</th>\n",
       "      <th>unknown</th>\n",
       "      <th>n_nans</th>\n",
       "      <th>percent_of_nans</th>\n",
       "      <th>n_distinct</th>\n",
       "      <th>Q1</th>\n",
       "      <th>Q3</th>\n",
       "      <th>IQR</th>\n",
       "    </tr>\n",
       "    <tr>\n",
       "      <th>feat</th>\n",
       "      <th></th>\n",
       "      <th></th>\n",
       "      <th></th>\n",
       "      <th></th>\n",
       "      <th></th>\n",
       "      <th></th>\n",
       "      <th></th>\n",
       "      <th></th>\n",
       "    </tr>\n",
       "  </thead>\n",
       "  <tbody>\n",
       "    <tr>\n",
       "      <td>ANZ_HAUSHALTE_AKTIV</td>\n",
       "      <td>numeric</td>\n",
       "      <td>[]</td>\n",
       "      <td>0.0</td>\n",
       "      <td>0.0</td>\n",
       "      <td>284.0</td>\n",
       "      <td>2.0</td>\n",
       "      <td>9.0</td>\n",
       "      <td>7.0</td>\n",
       "    </tr>\n",
       "    <tr>\n",
       "      <td>KBA13_ANZAHL_PKW</td>\n",
       "      <td>numeric</td>\n",
       "      <td>[]</td>\n",
       "      <td>0.0</td>\n",
       "      <td>0.0</td>\n",
       "      <td>1261.0</td>\n",
       "      <td>384.0</td>\n",
       "      <td>775.0</td>\n",
       "      <td>391.0</td>\n",
       "    </tr>\n",
       "  </tbody>\n",
       "</table>\n",
       "</div>"
      ],
      "text/plain": [
       "                        type unknown  n_nans  percent_of_nans  n_distinct  \\\n",
       "feat                                                                        \n",
       "ANZ_HAUSHALTE_AKTIV  numeric      []     0.0              0.0       284.0   \n",
       "KBA13_ANZAHL_PKW     numeric      []     0.0              0.0      1261.0   \n",
       "\n",
       "                        Q1     Q3    IQR  \n",
       "feat                                      \n",
       "ANZ_HAUSHALTE_AKTIV    2.0    9.0    7.0  \n",
       "KBA13_ANZAHL_PKW     384.0  775.0  391.0  "
      ]
     },
     "execution_count": 33,
     "metadata": {},
     "output_type": "execute_result"
    }
   ],
   "source": [
    "eda_azdias.feat_info[eda_azdias.feat_info.n_distinct > 100]"
   ]
  },
  {
   "cell_type": "code",
   "execution_count": 34,
   "metadata": {
    "ExecuteTime": {
     "end_time": "2020-02-27T12:03:28.522951Z",
     "start_time": "2020-02-27T12:03:28.513952Z"
    }
   },
   "outputs": [],
   "source": [
    "# 删除特征 'KBA13_ANZAHL_PKW','ANZ_HAUSHALTE_AKTIV' , 因为它们分别有 221 和 1245 个唯一值，不利于后面的聚类比较\n",
    "feats_todrop.extend(['KBA13_ANZAHL_PKW','ANZ_HAUSHALTE_AKTIV'])"
   ]
  },
  {
   "cell_type": "code",
   "execution_count": 35,
   "metadata": {
    "ExecuteTime": {
     "end_time": "2020-02-27T12:03:28.727952Z",
     "start_time": "2020-02-27T12:03:28.526951Z"
    }
   },
   "outputs": [
    {
     "name": "stdout",
     "output_type": "stream",
     "text": [
      "ANZ_HAUSHALTE_AKTIV [ 11.  10.   1.   3.   5.   4.   6.   2.   9.   0.  14.  13.   8.   7.\n",
      "  44.  25. 272.  33.  15.  12.  22.  21.  20.  23.  18.  27.  24.  31.\n",
      "  39.  16.  19.  30.  17.  29.  54.  88.  49.  38.  34.  35.  26.  45.\n",
      "  42.  28.  77.  47. 236. 137.  36.  43.  52.  41.  76.  62.  63.  32.\n",
      "  40.  37.  59.  53.  57. 118.  50.  95.  78.  70.  46.  73.  67.  80.\n",
      " 102.  92.  48.  94.  71.  66.  68.  81.  69. 258.  58. 124.  85.  90.\n",
      " 128.  51.  72.  64.  56.  83. 150. 259.  91. 160. 134. 169. 246.  82.\n",
      " 114. 183.  86. 116.  61. 143.  99. 216.  98.  60. 125. 112. 123.  55.\n",
      " 120.  75. 141. 103.  87.  89. 223.  93. 179. 135. 126. 149.  97. 110.\n",
      "  74. 111. 109. 121.  65.  84. 101. 367. 162. 195. 107. 119. 122. 161.\n",
      " 157. 175. 136. 104. 316. 127. 100. 180. 155. 133. 178. 176. 108. 353.\n",
      " 131. 130.  96. 256. 117. 146.  79. 211. 199. 140. 200. 106. 285. 263.\n",
      " 163. 377. 171. 148. 191. 243. 153. 145. 174. 172. 190. 142. 317. 244.\n",
      " 189. 286. 170. 215. 321. 113. 115. 156. 129. 242. 132. 185. 280. 159.\n",
      " 138. 158. 267. 253. 151. 164. 105. 187. 206. 266. 265. 209. 196. 139.\n",
      " 193. 210. 260. 366. 194. 344. 154. 197. 247. 165. 283. 184. 326. 186.\n",
      " 438. 222. 144. 378. 152. 208. 274. 430. 202. 181. 214. 231. 219. 225.\n",
      " 230. 198. 224. 333. 168. 221. 523. 254. 305. 166. 252. 445. 147. 301.\n",
      " 213. 536. 220. 249. 290. 515. 276. 241. 204. 250. 277. 218. 201. 240.\n",
      " 404. 348. 228. 304. 167. 346. 205. 207. 331. 255. 307. 414. 311. 347.\n",
      " 379. 395. 229. 232.]\n",
      "ANZ_HH_TITEL [ 0.  1.  5. nan  2.  3.  4.  6.  9. 15. 14.  8.  7. 11. 10. 12. 13. 20.\n",
      " 16. 17. 18.]\n",
      "ANZ_KINDER [ 0.  1.  2.  3.  4.  5.  6.  7. 11.  9.]\n",
      "ANZ_PERSONEN [ 2.  1.  0.  4.  3.  5.  6.  7.  8. 12.  9. 21. 10. 13. 11. 14. 20. 31.\n",
      " 37. 16. 22. 15. 23. 18. 35. 17. 38.]\n",
      "ANZ_STATISTISCHE_HAUSHALTE was eliminated already\n",
      "ANZ_TITEL [0. 1. 2. 4. 3.]\n",
      "EINGEZOGENAM_HH_JAHR [2004. 2000. 1998. 1994. 2005. 2007. 2009. 2016. 2015. 2013. 2008. 2010.\n",
      " 2001. 2014. 2002. 1997. 2012. 1999. 1996. 1995. 2011. 2003. 1991. 2006.\n",
      " 2017. 1993. 2018. 1992. 1989. 1990. 1987. 1986. 1988. 1900. 1904. 1971.\n",
      " 1984.]\n",
      "GEBURTSJAHR was eliminated already\n",
      "KBA13_ANZAHL_PKW [963. 712. 596. ...   0.   3.   4.]\n",
      "MIN_GEBAEUDEJAHR [1992. 1997. 1994. 1996. 1991. 1993. 1995. 2003. 2000. 1990. 2004. 1999.\n",
      " 1998. 2001. 2002. 1989. 1987. 2005. 1988. 1985. 1986. 2007. 2009. 2008.\n",
      " 2006.]\n",
      "EINGEFUEGT_AM was eliminated already\n"
     ]
    }
   ],
   "source": [
    "h.check_features(eda_azdias, 'numeric')          "
   ]
  },
  {
   "cell_type": "markdown",
   "metadata": {},
   "source": [
    "查看特征 GEBURTSJAHR 和 EINGEZOGENAM_HH_JAHR  的散点图"
   ]
  },
  {
   "cell_type": "code",
   "execution_count": 36,
   "metadata": {
    "ExecuteTime": {
     "end_time": "2020-02-27T12:03:28.758951Z",
     "start_time": "2020-02-27T12:03:28.734951Z"
    }
   },
   "outputs": [
    {
     "data": {
      "text/plain": [
       "<Figure size 1152x288 with 0 Axes>"
      ]
     },
     "metadata": {},
     "output_type": "display_data"
    }
   ],
   "source": [
    "# ax = sns.scatterplot(x=\"MIN_GEBAEUDEJAHR\", y=\"ANZ_HAUSHALTE_AKTIV\", data=eda_azdias.data)\n",
    "# MAX:  KBA13_ANZAHL_PKW,  AN JAHR', 'EINGEZOGENAM_HH_JAHR','ANZ_TITEL']\n",
    "numeric_feats = ['MIN_GEBAEUDEJAHR' , 'EINGEZOGENAM_HH_JAHR']\n",
    "h.plot_boxplot(eda_azdias.data, numeric_feats,n_cols=3,  figsize = (16, 4))     \n",
    "# h.plot_boxplot(eda_customers.data, numeric_feats,n_cols=3,  figsize = (16, 4))     "
   ]
  },
  {
   "cell_type": "code",
   "execution_count": 37,
   "metadata": {
    "ExecuteTime": {
     "end_time": "2020-02-27T12:03:30.136951Z",
     "start_time": "2020-02-27T12:03:28.765951Z"
    }
   },
   "outputs": [
    {
     "name": "stdout",
     "output_type": "stream",
     "text": [
      "   Processing outliers for feature type: numeric\n",
      " Processing outliers for MIN_GEBAEUDEJAHR  ...\n",
      " Processing outliers for EINGEZOGENAM_HH_JAHR  ...\n",
      "   Processing outliers for feature type: numeric\n",
      " Processing outliers for MIN_GEBAEUDEJAHR  ...\n",
      " Processing outliers for EINGEZOGENAM_HH_JAHR  ...\n"
     ]
    }
   ],
   "source": [
    "eda_azdias.clean_outlier('numeric')\n",
    "eda_customers.clean_outlier('numeric')"
   ]
  },
  {
   "cell_type": "code",
   "execution_count": 38,
   "metadata": {
    "ExecuteTime": {
     "end_time": "2020-02-27T12:03:31.123951Z",
     "start_time": "2020-02-27T12:03:30.140951Z"
    },
    "scrolled": true
   },
   "outputs": [
    {
     "data": {
      "image/png": "[encoded data removed]",
      "text/plain": [
       "<Figure size 1152x288 with 2 Axes>"
      ]
     },
     "metadata": {
      "needs_background": "light"
     },
     "output_type": "display_data"
    }
   ],
   "source": [
    "h.plot_boxplot(eda_azdias.data, numeric_feats,n_cols=2,  figsize = (16, 4))     "
   ]
  },
  {
   "cell_type": "code",
   "execution_count": 39,
   "metadata": {
    "ExecuteTime": {
     "end_time": "2020-02-27T12:03:31.455950Z",
     "start_time": "2020-02-27T12:03:31.129953Z"
    }
   },
   "outputs": [
    {
     "data": {
      "image/png": "[encoded data removed]",
      "text/plain": [
       "<Figure size 1152x288 with 2 Axes>"
      ]
     },
     "metadata": {
      "needs_background": "light"
     },
     "output_type": "display_data"
    }
   ],
   "source": [
    "h.plot_boxplot(eda_customers.data, numeric_feats,n_cols=2,  figsize = (16, 4))     "
   ]
  },
  {
   "cell_type": "markdown",
   "metadata": {},
   "source": [
    "#####  b. 分析类别类型数据的离群值"
   ]
  },
  {
   "cell_type": "code",
   "execution_count": 40,
   "metadata": {
    "ExecuteTime": {
     "end_time": "2020-02-27T12:03:31.485956Z",
     "start_time": "2020-02-27T12:03:31.458951Z"
    }
   },
   "outputs": [
    {
     "data": {
      "text/html": [
       "<div>\n",
       "<style scoped>\n",
       "    .dataframe tbody tr th:only-of-type {\n",
       "        vertical-align: middle;\n",
       "    }\n",
       "\n",
       "    .dataframe tbody tr th {\n",
       "        vertical-align: top;\n",
       "    }\n",
       "\n",
       "    .dataframe thead th {\n",
       "        text-align: right;\n",
       "    }\n",
       "</style>\n",
       "<table border=\"1\" class=\"dataframe\">\n",
       "  <thead>\n",
       "    <tr style=\"text-align: right;\">\n",
       "      <th></th>\n",
       "      <th>type</th>\n",
       "      <th>unknown</th>\n",
       "      <th>n_nans</th>\n",
       "      <th>percent_of_nans</th>\n",
       "      <th>n_distinct</th>\n",
       "      <th>Q1</th>\n",
       "      <th>Q3</th>\n",
       "      <th>IQR</th>\n",
       "    </tr>\n",
       "    <tr>\n",
       "      <th>feat</th>\n",
       "      <th></th>\n",
       "      <th></th>\n",
       "      <th></th>\n",
       "      <th></th>\n",
       "      <th></th>\n",
       "      <th></th>\n",
       "      <th></th>\n",
       "      <th></th>\n",
       "    </tr>\n",
       "  </thead>\n",
       "  <tbody>\n",
       "    <tr>\n",
       "      <td>AGER_TYP</td>\n",
       "      <td>categorical</td>\n",
       "      <td>[-1,0]</td>\n",
       "      <td>NaN</td>\n",
       "      <td>NaN</td>\n",
       "      <td>NaN</td>\n",
       "      <td>NaN</td>\n",
       "      <td>NaN</td>\n",
       "      <td>NaN</td>\n",
       "    </tr>\n",
       "    <tr>\n",
       "      <td>ANREDE_KZ</td>\n",
       "      <td>categorical</td>\n",
       "      <td>[-1,0]</td>\n",
       "      <td>0.0</td>\n",
       "      <td>0.00</td>\n",
       "      <td>2.0</td>\n",
       "      <td>1.0</td>\n",
       "      <td>2.0</td>\n",
       "      <td>1.0</td>\n",
       "    </tr>\n",
       "    <tr>\n",
       "      <td>CAMEO_DEUG_2015</td>\n",
       "      <td>categorical</td>\n",
       "      <td>['-1','X']</td>\n",
       "      <td>3285.0</td>\n",
       "      <td>0.00</td>\n",
       "      <td>10.0</td>\n",
       "      <td>3.0</td>\n",
       "      <td>8.0</td>\n",
       "      <td>5.0</td>\n",
       "    </tr>\n",
       "    <tr>\n",
       "      <td>CAMEO_DEU_2015</td>\n",
       "      <td>categorical</td>\n",
       "      <td>['XX']</td>\n",
       "      <td>NaN</td>\n",
       "      <td>NaN</td>\n",
       "      <td>NaN</td>\n",
       "      <td>NaN</td>\n",
       "      <td>NaN</td>\n",
       "      <td>NaN</td>\n",
       "    </tr>\n",
       "    <tr>\n",
       "      <td>CJT_GESAMTTYP</td>\n",
       "      <td>categorical</td>\n",
       "      <td>[0]</td>\n",
       "      <td>4276.0</td>\n",
       "      <td>0.01</td>\n",
       "      <td>7.0</td>\n",
       "      <td>2.0</td>\n",
       "      <td>5.0</td>\n",
       "      <td>3.0</td>\n",
       "    </tr>\n",
       "    <tr>\n",
       "      <td>D19_KONSUMTYP</td>\n",
       "      <td>categorical</td>\n",
       "      <td>[]</td>\n",
       "      <td>163456.0</td>\n",
       "      <td>0.22</td>\n",
       "      <td>8.0</td>\n",
       "      <td>2.0</td>\n",
       "      <td>9.0</td>\n",
       "      <td>7.0</td>\n",
       "    </tr>\n",
       "    <tr>\n",
       "      <td>DSL_FLAG</td>\n",
       "      <td>categorical</td>\n",
       "      <td>[]</td>\n",
       "      <td>0.0</td>\n",
       "      <td>0.00</td>\n",
       "      <td>2.0</td>\n",
       "      <td>1.0</td>\n",
       "      <td>1.0</td>\n",
       "      <td>0.0</td>\n",
       "    </tr>\n",
       "    <tr>\n",
       "      <td>FINANZTYP</td>\n",
       "      <td>categorical</td>\n",
       "      <td>[-1]</td>\n",
       "      <td>0.0</td>\n",
       "      <td>0.00</td>\n",
       "      <td>6.0</td>\n",
       "      <td>2.0</td>\n",
       "      <td>6.0</td>\n",
       "      <td>4.0</td>\n",
       "    </tr>\n",
       "    <tr>\n",
       "      <td>GEBAEUDETYP</td>\n",
       "      <td>categorical</td>\n",
       "      <td>[-1,0]</td>\n",
       "      <td>0.0</td>\n",
       "      <td>0.00</td>\n",
       "      <td>7.0</td>\n",
       "      <td>1.0</td>\n",
       "      <td>3.0</td>\n",
       "      <td>2.0</td>\n",
       "    </tr>\n",
       "    <tr>\n",
       "      <td>GFK_URLAUBERTYP</td>\n",
       "      <td>categorical</td>\n",
       "      <td>[]</td>\n",
       "      <td>4276.0</td>\n",
       "      <td>0.01</td>\n",
       "      <td>13.0</td>\n",
       "      <td>4.0</td>\n",
       "      <td>11.0</td>\n",
       "      <td>7.0</td>\n",
       "    </tr>\n",
       "    <tr>\n",
       "      <td>GREEN_AVANTGARDE</td>\n",
       "      <td>categorical</td>\n",
       "      <td>[]</td>\n",
       "      <td>0.0</td>\n",
       "      <td>0.00</td>\n",
       "      <td>2.0</td>\n",
       "      <td>0.0</td>\n",
       "      <td>0.0</td>\n",
       "      <td>0.0</td>\n",
       "    </tr>\n",
       "    <tr>\n",
       "      <td>HH_DELTA_FLAG</td>\n",
       "      <td>categorical</td>\n",
       "      <td>[]</td>\n",
       "      <td>30112.0</td>\n",
       "      <td>0.04</td>\n",
       "      <td>3.0</td>\n",
       "      <td>0.0</td>\n",
       "      <td>0.0</td>\n",
       "      <td>0.0</td>\n",
       "    </tr>\n",
       "    <tr>\n",
       "      <td>KK_KUNDENTYP</td>\n",
       "      <td>categorical</td>\n",
       "      <td>[-1]</td>\n",
       "      <td>NaN</td>\n",
       "      <td>NaN</td>\n",
       "      <td>NaN</td>\n",
       "      <td>NaN</td>\n",
       "      <td>NaN</td>\n",
       "      <td>NaN</td>\n",
       "    </tr>\n",
       "    <tr>\n",
       "      <td>KONSUMZELLE</td>\n",
       "      <td>categorical</td>\n",
       "      <td>[]</td>\n",
       "      <td>5.0</td>\n",
       "      <td>0.00</td>\n",
       "      <td>3.0</td>\n",
       "      <td>0.0</td>\n",
       "      <td>0.0</td>\n",
       "      <td>0.0</td>\n",
       "    </tr>\n",
       "    <tr>\n",
       "      <td>LP_FAMILIE_FEIN</td>\n",
       "      <td>categorical</td>\n",
       "      <td>[0]</td>\n",
       "      <td>28384.0</td>\n",
       "      <td>0.04</td>\n",
       "      <td>12.0</td>\n",
       "      <td>1.0</td>\n",
       "      <td>9.0</td>\n",
       "      <td>8.0</td>\n",
       "    </tr>\n",
       "    <tr>\n",
       "      <td>LP_FAMILIE_GROB</td>\n",
       "      <td>categorical</td>\n",
       "      <td>[0]</td>\n",
       "      <td>NaN</td>\n",
       "      <td>NaN</td>\n",
       "      <td>NaN</td>\n",
       "      <td>NaN</td>\n",
       "      <td>NaN</td>\n",
       "      <td>NaN</td>\n",
       "    </tr>\n",
       "    <tr>\n",
       "      <td>LP_STATUS_FEIN</td>\n",
       "      <td>categorical</td>\n",
       "      <td>[0]</td>\n",
       "      <td>4276.0</td>\n",
       "      <td>0.01</td>\n",
       "      <td>11.0</td>\n",
       "      <td>1.0</td>\n",
       "      <td>9.0</td>\n",
       "      <td>8.0</td>\n",
       "    </tr>\n",
       "    <tr>\n",
       "      <td>LP_STATUS_GROB</td>\n",
       "      <td>categorical</td>\n",
       "      <td>[0]</td>\n",
       "      <td>NaN</td>\n",
       "      <td>NaN</td>\n",
       "      <td>NaN</td>\n",
       "      <td>NaN</td>\n",
       "      <td>NaN</td>\n",
       "      <td>NaN</td>\n",
       "    </tr>\n",
       "    <tr>\n",
       "      <td>NATIONALITAET_KZ</td>\n",
       "      <td>categorical</td>\n",
       "      <td>[-1,0]</td>\n",
       "      <td>30937.0</td>\n",
       "      <td>0.04</td>\n",
       "      <td>4.0</td>\n",
       "      <td>1.0</td>\n",
       "      <td>1.0</td>\n",
       "      <td>0.0</td>\n",
       "    </tr>\n",
       "    <tr>\n",
       "      <td>OST_WEST_KZ</td>\n",
       "      <td>categorical</td>\n",
       "      <td>[-1]</td>\n",
       "      <td>0.0</td>\n",
       "      <td>0.00</td>\n",
       "      <td>2.0</td>\n",
       "      <td>1.0</td>\n",
       "      <td>1.0</td>\n",
       "      <td>0.0</td>\n",
       "    </tr>\n",
       "    <tr>\n",
       "      <td>SHOPPER_TYP</td>\n",
       "      <td>categorical</td>\n",
       "      <td>[-1]</td>\n",
       "      <td>33502.0</td>\n",
       "      <td>0.05</td>\n",
       "      <td>5.0</td>\n",
       "      <td>1.0</td>\n",
       "      <td>2.0</td>\n",
       "      <td>1.0</td>\n",
       "    </tr>\n",
       "    <tr>\n",
       "      <td>SOHO_KZ</td>\n",
       "      <td>categorical</td>\n",
       "      <td>[]</td>\n",
       "      <td>0.0</td>\n",
       "      <td>0.00</td>\n",
       "      <td>2.0</td>\n",
       "      <td>0.0</td>\n",
       "      <td>0.0</td>\n",
       "      <td>0.0</td>\n",
       "    </tr>\n",
       "    <tr>\n",
       "      <td>TITEL_KZ</td>\n",
       "      <td>categorical</td>\n",
       "      <td>[-1,0]</td>\n",
       "      <td>NaN</td>\n",
       "      <td>NaN</td>\n",
       "      <td>NaN</td>\n",
       "      <td>NaN</td>\n",
       "      <td>NaN</td>\n",
       "      <td>NaN</td>\n",
       "    </tr>\n",
       "    <tr>\n",
       "      <td>UNGLEICHENN_FLAG</td>\n",
       "      <td>categorical</td>\n",
       "      <td>[]</td>\n",
       "      <td>0.0</td>\n",
       "      <td>0.00</td>\n",
       "      <td>2.0</td>\n",
       "      <td>0.0</td>\n",
       "      <td>0.0</td>\n",
       "      <td>0.0</td>\n",
       "    </tr>\n",
       "    <tr>\n",
       "      <td>VERS_TYP</td>\n",
       "      <td>categorical</td>\n",
       "      <td>[-1]</td>\n",
       "      <td>33502.0</td>\n",
       "      <td>0.05</td>\n",
       "      <td>3.0</td>\n",
       "      <td>1.0</td>\n",
       "      <td>2.0</td>\n",
       "      <td>1.0</td>\n",
       "    </tr>\n",
       "    <tr>\n",
       "      <td>ZABEOTYP</td>\n",
       "      <td>categorical</td>\n",
       "      <td>[-1,9]</td>\n",
       "      <td>0.0</td>\n",
       "      <td>0.00</td>\n",
       "      <td>6.0</td>\n",
       "      <td>3.0</td>\n",
       "      <td>4.0</td>\n",
       "      <td>1.0</td>\n",
       "    </tr>\n",
       "    <tr>\n",
       "      <td>D19_KONSUMTYP_MAX</td>\n",
       "      <td>categorical</td>\n",
       "      <td>[]</td>\n",
       "      <td>0.0</td>\n",
       "      <td>0.00</td>\n",
       "      <td>6.0</td>\n",
       "      <td>2.0</td>\n",
       "      <td>8.0</td>\n",
       "      <td>6.0</td>\n",
       "    </tr>\n",
       "    <tr>\n",
       "      <td>VHA</td>\n",
       "      <td>categorical</td>\n",
       "      <td>[0]</td>\n",
       "      <td>NaN</td>\n",
       "      <td>NaN</td>\n",
       "      <td>NaN</td>\n",
       "      <td>NaN</td>\n",
       "      <td>NaN</td>\n",
       "      <td>NaN</td>\n",
       "    </tr>\n",
       "    <tr>\n",
       "      <td>VHN</td>\n",
       "      <td>categorical</td>\n",
       "      <td>[0]</td>\n",
       "      <td>40804.0</td>\n",
       "      <td>0.06</td>\n",
       "      <td>5.0</td>\n",
       "      <td>2.0</td>\n",
       "      <td>3.0</td>\n",
       "      <td>1.0</td>\n",
       "    </tr>\n",
       "    <tr>\n",
       "      <td>GEMEINDETYP</td>\n",
       "      <td>categorical</td>\n",
       "      <td>[]</td>\n",
       "      <td>3758.0</td>\n",
       "      <td>0.01</td>\n",
       "      <td>8.0</td>\n",
       "      <td>12.0</td>\n",
       "      <td>30.0</td>\n",
       "      <td>18.0</td>\n",
       "    </tr>\n",
       "  </tbody>\n",
       "</table>\n",
       "</div>"
      ],
      "text/plain": [
       "                          type     unknown    n_nans  percent_of_nans  \\\n",
       "feat                                                                    \n",
       "AGER_TYP           categorical      [-1,0]       NaN              NaN   \n",
       "ANREDE_KZ          categorical      [-1,0]       0.0             0.00   \n",
       "CAMEO_DEUG_2015    categorical  ['-1','X']    3285.0             0.00   \n",
       "CAMEO_DEU_2015     categorical      ['XX']       NaN              NaN   \n",
       "CJT_GESAMTTYP      categorical         [0]    4276.0             0.01   \n",
       "D19_KONSUMTYP      categorical          []  163456.0             0.22   \n",
       "DSL_FLAG           categorical          []       0.0             0.00   \n",
       "FINANZTYP          categorical        [-1]       0.0             0.00   \n",
       "GEBAEUDETYP        categorical      [-1,0]       0.0             0.00   \n",
       "GFK_URLAUBERTYP    categorical          []    4276.0             0.01   \n",
       "GREEN_AVANTGARDE   categorical          []       0.0             0.00   \n",
       "HH_DELTA_FLAG      categorical          []   30112.0             0.04   \n",
       "KK_KUNDENTYP       categorical        [-1]       NaN              NaN   \n",
       "KONSUMZELLE        categorical          []       5.0             0.00   \n",
       "LP_FAMILIE_FEIN    categorical         [0]   28384.0             0.04   \n",
       "LP_FAMILIE_GROB    categorical         [0]       NaN              NaN   \n",
       "LP_STATUS_FEIN     categorical         [0]    4276.0             0.01   \n",
       "LP_STATUS_GROB     categorical         [0]       NaN              NaN   \n",
       "NATIONALITAET_KZ   categorical      [-1,0]   30937.0             0.04   \n",
       "OST_WEST_KZ        categorical        [-1]       0.0             0.00   \n",
       "SHOPPER_TYP        categorical        [-1]   33502.0             0.05   \n",
       "SOHO_KZ            categorical          []       0.0             0.00   \n",
       "TITEL_KZ           categorical      [-1,0]       NaN              NaN   \n",
       "UNGLEICHENN_FLAG   categorical          []       0.0             0.00   \n",
       "VERS_TYP           categorical        [-1]   33502.0             0.05   \n",
       "ZABEOTYP           categorical      [-1,9]       0.0             0.00   \n",
       "D19_KONSUMTYP_MAX  categorical          []       0.0             0.00   \n",
       "VHA                categorical         [0]       NaN              NaN   \n",
       "VHN                categorical         [0]   40804.0             0.06   \n",
       "GEMEINDETYP        categorical          []    3758.0             0.01   \n",
       "\n",
       "                   n_distinct    Q1    Q3   IQR  \n",
       "feat                                             \n",
       "AGER_TYP                  NaN   NaN   NaN   NaN  \n",
       "ANREDE_KZ                 2.0   1.0   2.0   1.0  \n",
       "CAMEO_DEUG_2015          10.0   3.0   8.0   5.0  \n",
       "CAMEO_DEU_2015            NaN   NaN   NaN   NaN  \n",
       "CJT_GESAMTTYP             7.0   2.0   5.0   3.0  \n",
       "D19_KONSUMTYP             8.0   2.0   9.0   7.0  \n",
       "DSL_FLAG                  2.0   1.0   1.0   0.0  \n",
       "FINANZTYP                 6.0   2.0   6.0   4.0  \n",
       "GEBAEUDETYP               7.0   1.0   3.0   2.0  \n",
       "GFK_URLAUBERTYP          13.0   4.0  11.0   7.0  \n",
       "GREEN_AVANTGARDE          2.0   0.0   0.0   0.0  \n",
       "HH_DELTA_FLAG             3.0   0.0   0.0   0.0  \n",
       "KK_KUNDENTYP              NaN   NaN   NaN   NaN  \n",
       "KONSUMZELLE               3.0   0.0   0.0   0.0  \n",
       "LP_FAMILIE_FEIN          12.0   1.0   9.0   8.0  \n",
       "LP_FAMILIE_GROB           NaN   NaN   NaN   NaN  \n",
       "LP_STATUS_FEIN           11.0   1.0   9.0   8.0  \n",
       "LP_STATUS_GROB            NaN   NaN   NaN   NaN  \n",
       "NATIONALITAET_KZ          4.0   1.0   1.0   0.0  \n",
       "OST_WEST_KZ               2.0   1.0   1.0   0.0  \n",
       "SHOPPER_TYP               5.0   1.0   2.0   1.0  \n",
       "SOHO_KZ                   2.0   0.0   0.0   0.0  \n",
       "TITEL_KZ                  NaN   NaN   NaN   NaN  \n",
       "UNGLEICHENN_FLAG          2.0   0.0   0.0   0.0  \n",
       "VERS_TYP                  3.0   1.0   2.0   1.0  \n",
       "ZABEOTYP                  6.0   3.0   4.0   1.0  \n",
       "D19_KONSUMTYP_MAX         6.0   2.0   8.0   6.0  \n",
       "VHA                       NaN   NaN   NaN   NaN  \n",
       "VHN                       5.0   2.0   3.0   1.0  \n",
       "GEMEINDETYP               8.0  12.0  30.0  18.0  "
      ]
     },
     "execution_count": 40,
     "metadata": {},
     "output_type": "execute_result"
    }
   ],
   "source": [
    "eda_azdias.feat_info.loc[eda_azdias.feat_info.type == 'categorical']"
   ]
  },
  {
   "cell_type": "code",
   "execution_count": 41,
   "metadata": {
    "ExecuteTime": {
     "end_time": "2020-02-27T12:03:31.896953Z",
     "start_time": "2020-02-27T12:03:31.491951Z"
    },
    "scrolled": true
   },
   "outputs": [
    {
     "name": "stdout",
     "output_type": "stream",
     "text": [
      "AGER_TYP was eliminated already\n",
      "ANREDE_KZ [2 1]\n",
      "CAMEO_DEUG_2015 [ 8.  4.  2.  6.  1.  9.  7.  5.  3. nan]\n",
      "CAMEO_DEU_2015 was eliminated already\n",
      "CJT_GESAMTTYP [ 5.  3.  2.  4.  1.  6. nan]\n",
      "D19_KONSUMTYP [nan  9.  1.  4.  3.  6.  5.  2.]\n",
      "DSL_FLAG [1. 0.]\n",
      "FINANZTYP [1 6 5 2 4 3]\n",
      "GEBAEUDETYP [8. 1. 3. 2. 6. 4. 5.]\n",
      "GFK_URLAUBERTYP [10.  1.  5. 12.  9.  3.  8. 11.  4.  7.  2.  6. nan]\n",
      "GREEN_AVANTGARDE [0 1]\n",
      "HH_DELTA_FLAG [ 0. nan  1.]\n",
      "KK_KUNDENTYP was eliminated already\n",
      "KONSUMZELLE [ 1.  0. nan]\n",
      "LP_FAMILIE_FEIN [ 5.  1. nan 10.  2.  7. 11.  8.  4.  6.  9.  3.]\n",
      "LP_FAMILIE_GROB was eliminated already\n",
      "LP_STATUS_FEIN [ 2.  3.  9.  4.  1. 10.  8.  5.  6.  7. nan]\n",
      "LP_STATUS_GROB was eliminated already\n",
      "NATIONALITAET_KZ [ 1.  3.  2. nan]\n",
      "OST_WEST_KZ [1 0]\n",
      "SHOPPER_TYP [ 3.  2.  1.  0. nan]\n",
      "SOHO_KZ [1. 0.]\n",
      "TITEL_KZ was eliminated already\n",
      "UNGLEICHENN_FLAG [1. 0.]\n",
      "VERS_TYP [ 2.  1. nan]\n",
      "ZABEOTYP [5 3 4 1 6 2]\n",
      "D19_KONSUMTYP_MAX [9 8 1 2 4 3]\n",
      "VHA was eliminated already\n",
      "VHN [ 4.  2. nan  1.  3.]\n",
      "GEMEINDETYP [22. 40. 21. 12. 30. 50. 11. nan]\n"
     ]
    }
   ],
   "source": [
    "h.check_features(eda_azdias, 'categorical')      "
   ]
  },
  {
   "cell_type": "code",
   "execution_count": 42,
   "metadata": {
    "ExecuteTime": {
     "end_time": "2020-02-27T12:03:31.912952Z",
     "start_time": "2020-02-27T12:03:31.902951Z"
    }
   },
   "outputs": [
    {
     "data": {
      "text/plain": [
       "type               categorical\n",
       "unknown                     []\n",
       "n_nans                     926\n",
       "percent_of_nans           0.01\n",
       "n_distinct                   8\n",
       "Q1                           2\n",
       "Q3                           3\n",
       "IQR                          1\n",
       "Name: D19_KONSUMTYP, dtype: object"
      ]
     },
     "execution_count": 42,
     "metadata": {},
     "output_type": "execute_result"
    }
   ],
   "source": [
    "# eda_azdias.feat_info.loc['CAMEO_DEU_2015']\n",
    "eda_customers.feat_info.loc['D19_KONSUMTYP']"
   ]
  },
  {
   "cell_type": "code",
   "execution_count": 43,
   "metadata": {
    "ExecuteTime": {
     "end_time": "2020-02-27T12:03:32.260952Z",
     "start_time": "2020-02-27T12:03:31.919952Z"
    }
   },
   "outputs": [
    {
     "data": {
      "image/png": "[encoded data removed]",
      "text/plain": [
       "<Figure size 1152x288 with 2 Axes>"
      ]
     },
     "metadata": {
      "needs_background": "light"
     },
     "output_type": "display_data"
    }
   ],
   "source": [
    "cat_feats  = ['CAMEO_DEUG_2015',  'D19_KONSUMTYP']\n",
    "h.plot_boxplot(eda_azdias.data, cat_feats, n_cols=2 ,  figsize = (16, 4))     "
   ]
  },
  {
   "cell_type": "code",
   "execution_count": 44,
   "metadata": {
    "ExecuteTime": {
     "end_time": "2020-02-27T12:03:32.292951Z",
     "start_time": "2020-02-27T12:03:32.277952Z"
    }
   },
   "outputs": [
    {
     "data": {
      "text/plain": [
       "<Figure size 1152x288 with 0 Axes>"
      ]
     },
     "metadata": {},
     "output_type": "display_data"
    }
   ],
   "source": [
    "h.plot_boxplot(eda_customers.data, cat_feats, n_cols=3 ,  figsize = (16, 4))     "
   ]
  },
  {
   "cell_type": "markdown",
   "metadata": {},
   "source": [
    "####  Step  8:   空值估计"
   ]
  },
  {
   "cell_type": "code",
   "execution_count": 45,
   "metadata": {
    "ExecuteTime": {
     "end_time": "2020-02-27T12:04:07.534953Z",
     "start_time": "2020-02-27T12:03:32.299952Z"
    }
   },
   "outputs": [],
   "source": [
    "# 用中位数估计空值\n",
    "imputer = Imputer(strategy='median')\n",
    "\n",
    "eda_azdias.data_imputed = pd.DataFrame(imputer.fit_transform(eda_azdias.data), columns = eda_azdias.data.columns)\n",
    "eda_customers.data_imputed = pd.DataFrame(imputer.fit_transform(eda_customers.data))"
   ]
  },
  {
   "cell_type": "markdown",
   "metadata": {
    "ExecuteTime": {
     "end_time": "2020-02-20T02:39:26.238582Z",
     "start_time": "2020-02-20T02:39:26.005582Z"
    }
   },
   "source": [
    "####  Step  9:   特征缩放"
   ]
  },
  {
   "cell_type": "code",
   "execution_count": 46,
   "metadata": {
    "ExecuteTime": {
     "end_time": "2020-02-27T12:04:14.098951Z",
     "start_time": "2020-02-27T12:04:07.566952Z"
    },
    "scrolled": true
   },
   "outputs": [],
   "source": [
    "eda_azdias.data_scaled = StandardScaler().fit_transform(eda_azdias.data_imputed)    \n",
    "eda_customers.data_scaled = StandardScaler().fit_transform(eda_customers.data_imputed)   "
   ]
  },
  {
   "cell_type": "code",
   "execution_count": 47,
   "metadata": {
    "ExecuteTime": {
     "end_time": "2020-02-27T12:04:14.330951Z",
     "start_time": "2020-02-27T12:04:14.102951Z"
    }
   },
   "outputs": [],
   "source": [
    "for x in (feats_todrop_comm, feats_duplicated, feats_wo_def):\n",
    "    feats_todrop.extend(x)\n",
    "\n",
    "pd.Series(feats_todrop).sort_values().to_csv('feats_dropped.csv', index=False)"
   ]
  },
  {
   "cell_type": "markdown",
   "metadata": {},
   "source": [
    "## 第1部分：顾客分类报告\n",
    "\n",
    "项目报告的主体部分应该就是这部分。在这个部分，你应该使用非监督学习技术来刻画公司已有顾客和德国一般人群的人口统计数据的关系。这部分做完后，你应该能够描述一般人群中的哪一类人更可能是邮购公司的主要核心顾客，哪些人则很可能不是。"
   ]
  },
  {
   "cell_type": "markdown",
   "metadata": {},
   "source": [
    "### 数据对比 Customers vs. Azdias "
   ]
  },
  {
   "cell_type": "markdown",
   "metadata": {},
   "source": [
    " ####  对比包含有关消费者邮购活动的特征 (以D19_开头)\n",
    " D19: This data contains unique data regarding the mail-order activity of consumers, differentiated\n",
    " 根据字典定义，以D19_开头的特征是包含有关消费者邮购活动的唯一数据。  "
   ]
  },
  {
   "cell_type": "code",
   "execution_count": 48,
   "metadata": {
    "ExecuteTime": {
     "end_time": "2020-02-27T12:04:16.788951Z",
     "start_time": "2020-02-27T12:04:14.336952Z"
    },
    "scrolled": true
   },
   "outputs": [
    {
     "data": {
      "image/png": "[encoded data removed]",
      "text/plain": [
       "<Figure size 1011.1x288 with 4 Axes>"
      ]
     },
     "metadata": {
      "needs_background": "light"
     },
     "output_type": "display_data"
    }
   ],
   "source": [
    "comm_feats = set(eda_customers.data.columns).intersection(set(eda_azdias.data.columns))\n",
    "feats_D19 =set([x for x in comm_feats if x.startswith( 'D19_')])\n",
    "feats_D19 = pd.Series(list(feats_D19)).sort_values().tolist()\n",
    "\n",
    "h.plot_feats_comparison(eda_azdias.data, eda_customers.data, feats_D19)"
   ]
  },
  {
   "cell_type": "markdown",
   "metadata": {
    "ExecuteTime": {
     "end_time": "2020-02-20T13:59:40.942575Z",
     "start_time": "2020-02-20T13:59:40.922573Z"
    }
   },
   "source": [
    "上图 的 D19 组特征对比显示:\n",
    " - D19_SOZIALES 的值 1 在Customers中显著高于Azdias， 虽然特征字典没有给出D19_SOZIALES的定义。但是可以猜到它表示的是一种商品，而值 1表示在过去一年中有多次购买 (Multibuyer 0-12 months).\n",
    " - D19_KONSUMTYP 的 值 2， 3 和 9 在两个数据集中差异很大。 它们分别表示 2: 多才多艺, 3: 美食家, 9 不活跃。其中 2，3 是Customers显著高于Azdias, 而 9 是显著低于Azdias.  表示目标客户是 美食家, 多才多艺,和活跃型.\n",
    " - D19_KONSUMTYP_MAX 的值 2 显著高于Azdias, 8 和 9 明显低于Azdias. 但字典没有给出 D19_KONSUMTYP_MAX 的定义. "
   ]
  },
  {
   "cell_type": "markdown",
   "metadata": {},
   "source": [
    "#### CAMEO_ 类特征对比 \n",
    "\n",
    " 'CAMEO_DEUG_2015' 表示 “New German CAMEO Typology established together with Call Credit in late 2015”"
   ]
  },
  {
   "cell_type": "code",
   "execution_count": 49,
   "metadata": {
    "ExecuteTime": {
     "end_time": "2020-02-27T12:04:17.199955Z",
     "start_time": "2020-02-27T12:04:16.800952Z"
    },
    "scrolled": false
   },
   "outputs": [
    {
     "data": {
      "image/png": "[encoded data removed]",
      "text/plain": [
       "<Figure size 665.5x360 with 1 Axes>"
      ]
     },
     "metadata": {
      "needs_background": "light"
     },
     "output_type": "display_data"
    }
   ],
   "source": [
    "h.plot_feats_comparison(eda_azdias.data, eda_customers.data, ['CAMEO_DEUG_2015'], fig_height=5, fig_aspect=1.6)"
   ]
  },
  {
   "cell_type": "markdown",
   "metadata": {
    "ExecuteTime": {
     "end_time": "2020-02-20T14:05:06.457353Z",
     "start_time": "2020-02-20T14:05:06.240357Z"
    }
   },
   "source": [
    " - CAMEO_DEUG_2015 的值 1, 2  Customers中明显高于Azdias，而 8 和 9 明显低于 Azdias。 表示目标客户是中上阶层人士。"
   ]
  },
  {
   "cell_type": "markdown",
   "metadata": {},
   "source": [
    "####  对比包含有关消费者邮购活动的特征 (以CJT_开头)"
   ]
  },
  {
   "cell_type": "code",
   "execution_count": 50,
   "metadata": {
    "ExecuteTime": {
     "end_time": "2020-02-27T12:04:17.538951Z",
     "start_time": "2020-02-27T12:04:17.202952Z"
    }
   },
   "outputs": [
    {
     "data": {
      "image/png": "[encoded data removed]",
      "text/plain": [
       "<Figure size 319.9x288 with 1 Axes>"
      ]
     },
     "metadata": {
      "needs_background": "light"
     },
     "output_type": "display_data"
    }
   ],
   "source": [
    "feats_CJT =set([x for x in eda_customers.data.columns if x.startswith( 'CJT_')])\n",
    "feats_CJT = pd.Series(list(feats_CJT)).sort_values().tolist()\n",
    "\n",
    "h.plot_feats_comparison(eda_azdias.data, eda_customers.data, feats_CJT)"
   ]
  },
  {
   "cell_type": "markdown",
   "metadata": {
    "ExecuteTime": {
     "end_time": "2020-02-20T14:23:50.978365Z",
     "start_time": "2020-02-20T14:23:50.961365Z"
    }
   },
   "source": [
    "- CJT_GESAMTTYP :   customer journey typology.   值 2  Customers中明显高于Azdias， 表示目标客户是广告与消费传统主义."
   ]
  },
  {
   "cell_type": "markdown",
   "metadata": {
    "ExecuteTime": {
     "end_time": "2020-02-20T14:25:09.703367Z",
     "start_time": "2020-02-20T14:25:09.686365Z"
    }
   },
   "source": [
    "### PCA 降维"
   ]
  },
  {
   "cell_type": "code",
   "execution_count": 51,
   "metadata": {
    "ExecuteTime": {
     "end_time": "2020-02-27T12:05:11.306951Z",
     "start_time": "2020-02-27T12:04:17.543951Z"
    }
   },
   "outputs": [
    {
     "name": "stdout",
     "output_type": "stream",
     "text": [
      "total explained_variance:  0.9697653021637768\n",
      "n_components:  200\n"
     ]
    },
    {
     "data": {
      "image/png": "[encoded data removed]",
      "text/plain": [
       "<Figure size 720x432 with 1 Axes>"
      ]
     },
     "metadata": {
      "needs_background": "light"
     },
     "output_type": "display_data"
    }
   ],
   "source": [
    "h.do_pca(eda_azdias, 200)\n",
    "\n",
    "print(f'total explained_variance:  {eda_azdias.pca.explained_variance_ratio_.sum()}')\n",
    "# print('explained_variance_ratio: ', pca.explained_variance_ratio_)\n",
    "# print('explained_variance: ', pca.explained_variance_)\n",
    "print('n_components: ', eda_azdias.pca.n_components_)\n",
    "\n",
    "h.scree_plot(eda_azdias)"
   ]
  },
  {
   "cell_type": "code",
   "execution_count": 55,
   "metadata": {
    "ExecuteTime": {
     "end_time": "2020-02-27T12:47:15.670934Z",
     "start_time": "2020-02-27T12:47:05.068936Z"
    }
   },
   "outputs": [
    {
     "name": "stdout",
     "output_type": "stream",
     "text": [
      "total explained_variance:  0.9678405856492591\n",
      "n_components:  200\n"
     ]
    },
    {
     "data": {
      "image/png": "[encoded data removed]",
      "text/plain": [
       "<Figure size 720x432 with 1 Axes>"
      ]
     },
     "metadata": {
      "needs_background": "light"
     },
     "output_type": "display_data"
    }
   ],
   "source": [
    "h.do_pca(eda_customers, 200)\n",
    "\n",
    "print(f'total explained_variance:  {eda_customers.pca.explained_variance_ratio_.sum()}')\n",
    "# print('explained_variance_ratio: ', pca.explained_variance_ratio_)\n",
    "# print('explained_variance: ', pca.explained_variance_)\n",
    "print('n_components: ', eda_customers.pca.n_components_)\n",
    "\n",
    "h.scree_plot(eda_customers)"
   ]
  },
  {
   "cell_type": "markdown",
   "metadata": {},
   "source": [
    "### KMeans 聚类  "
   ]
  },
  {
   "cell_type": "code",
   "execution_count": 57,
   "metadata": {
    "ExecuteTime": {
     "end_time": "2020-02-27T12:48:19.196936Z",
     "start_time": "2020-02-27T12:47:49.013938Z"
    }
   },
   "outputs": [],
   "source": [
    "h.do_pca(eda_azdias, 100)\n",
    "h.do_pca(eda_customers, 100)"
   ]
  },
  {
   "cell_type": "code",
   "execution_count": 58,
   "metadata": {
    "ExecuteTime": {
     "end_time": "2020-02-27T13:08:07.983204Z",
     "start_time": "2020-02-27T12:48:23.308933Z"
    },
    "scrolled": true
   },
   "outputs": [
    {
     "data": {
      "text/plain": [
       "Text(0.5, 1.0, 'SSE vs. K')"
      ]
     },
     "execution_count": 58,
     "metadata": {},
     "output_type": "execute_result"
    },
    {
     "data": {
      "image/png": "[encoded data removed]",
      "text/plain": [
       "<Figure size 432x288 with 1 Axes>"
      ]
     },
     "metadata": {
      "needs_background": "light"
     },
     "output_type": "display_data"
    }
   ],
   "source": [
    "scores = []\n",
    "centers = list(range(1,21))\n",
    "\n",
    "for center in centers:\n",
    "    _, score = h.get_kmeans_score(eda_customers.X_pca, center)\n",
    "    scores.append(score)\n",
    "    \n",
    "plt.plot(centers, scores, linestyle='--', marker='o', color='b')\n",
    "plt.xlabel('K')\n",
    "plt.ylabel('SSE')\n",
    "plt.title('SSE vs. K')"
   ]
  },
  {
   "cell_type": "markdown",
   "metadata": {},
   "source": [
    "#### 聚类比较  Global vs Customers "
   ]
  },
  {
   "cell_type": "code",
   "execution_count": 59,
   "metadata": {
    "ExecuteTime": {
     "end_time": "2020-02-27T13:13:29.008203Z",
     "start_time": "2020-02-27T13:08:07.987201Z"
    }
   },
   "outputs": [
    {
     "name": "stdout",
     "output_type": "stream",
     "text": [
      "24536849.057\n",
      "134210437.136\n"
     ]
    }
   ],
   "source": [
    "model_c, score = h.get_kmeans_score(eda_customers.X_pca, 10)\n",
    "print(score)\n",
    "model_a, score = h.get_kmeans_score(eda_azdias.X_pca, 10)\n",
    "print(score)"
   ]
  },
  {
   "cell_type": "code",
   "execution_count": 60,
   "metadata": {
    "ExecuteTime": {
     "end_time": "2020-02-27T13:13:30.240201Z",
     "start_time": "2020-02-27T13:13:29.013202Z"
    }
   },
   "outputs": [
    {
     "name": "stdout",
     "output_type": "stream",
     "text": [
      "\n"
     ]
    },
    {
     "data": {
      "image/png": "[encoded data removed]",
      "text/plain": [
       "<Figure size 671.98x360 with 1 Axes>"
      ]
     },
     "metadata": {
      "needs_background": "light"
     },
     "output_type": "display_data"
    }
   ],
   "source": [
    "preds_c = model_c.predict(eda_customers.X_pca)\n",
    "preds_a = model_a.predict(eda_azdias.X_pca)\n",
    "\n",
    "counts_c, counts_a = h.plot_cluster_comparison(preds_c, preds_a)"
   ]
  },
  {
   "cell_type": "code",
   "execution_count": 61,
   "metadata": {
    "ExecuteTime": {
     "end_time": "2020-02-27T13:13:30.255203Z",
     "start_time": "2020-02-27T13:13:30.244202Z"
    }
   },
   "outputs": [
    {
     "data": {
      "text/html": [
       "<div>\n",
       "<style scoped>\n",
       "    .dataframe tbody tr th:only-of-type {\n",
       "        vertical-align: middle;\n",
       "    }\n",
       "\n",
       "    .dataframe tbody tr th {\n",
       "        vertical-align: top;\n",
       "    }\n",
       "\n",
       "    .dataframe thead th {\n",
       "        text-align: right;\n",
       "    }\n",
       "</style>\n",
       "<table border=\"1\" class=\"dataframe\">\n",
       "  <thead>\n",
       "    <tr style=\"text-align: right;\">\n",
       "      <th></th>\n",
       "      <th>cluster</th>\n",
       "      <th>diff_pct</th>\n",
       "    </tr>\n",
       "  </thead>\n",
       "  <tbody>\n",
       "    <tr>\n",
       "      <td>0</td>\n",
       "      <td>2</td>\n",
       "      <td>10.630522</td>\n",
       "    </tr>\n",
       "    <tr>\n",
       "      <td>1</td>\n",
       "      <td>0</td>\n",
       "      <td>8.208422</td>\n",
       "    </tr>\n",
       "    <tr>\n",
       "      <td>2</td>\n",
       "      <td>1</td>\n",
       "      <td>5.951305</td>\n",
       "    </tr>\n",
       "    <tr>\n",
       "      <td>3</td>\n",
       "      <td>6</td>\n",
       "      <td>0.077597</td>\n",
       "    </tr>\n",
       "    <tr>\n",
       "      <td>4</td>\n",
       "      <td>7</td>\n",
       "      <td>-0.332396</td>\n",
       "    </tr>\n",
       "    <tr>\n",
       "      <td>5</td>\n",
       "      <td>8</td>\n",
       "      <td>-2.519024</td>\n",
       "    </tr>\n",
       "    <tr>\n",
       "      <td>6</td>\n",
       "      <td>9</td>\n",
       "      <td>-4.217881</td>\n",
       "    </tr>\n",
       "    <tr>\n",
       "      <td>7</td>\n",
       "      <td>3</td>\n",
       "      <td>-4.712674</td>\n",
       "    </tr>\n",
       "    <tr>\n",
       "      <td>8</td>\n",
       "      <td>5</td>\n",
       "      <td>-6.348345</td>\n",
       "    </tr>\n",
       "    <tr>\n",
       "      <td>9</td>\n",
       "      <td>4</td>\n",
       "      <td>-6.737525</td>\n",
       "    </tr>\n",
       "  </tbody>\n",
       "</table>\n",
       "</div>"
      ],
      "text/plain": [
       "   cluster   diff_pct\n",
       "0        2  10.630522\n",
       "1        0   8.208422\n",
       "2        1   5.951305\n",
       "3        6   0.077597\n",
       "4        7  -0.332396\n",
       "5        8  -2.519024\n",
       "6        9  -4.217881\n",
       "7        3  -4.712674\n",
       "8        5  -6.348345\n",
       "9        4  -6.737525"
      ]
     },
     "execution_count": 61,
     "metadata": {},
     "output_type": "execute_result"
    }
   ],
   "source": [
    "comp_diff_s = (counts_c.percent - counts_a.percent).sort_values(ascending=False)\n",
    "pd.DataFrame(\n",
    "    {\n",
    "        'cluster': comp_diff_s.index,\n",
    "        'diff_pct': comp_diff_s.values\n",
    "    }\n",
    ")"
   ]
  },
  {
   "cell_type": "code",
   "execution_count": 64,
   "metadata": {
    "ExecuteTime": {
     "end_time": "2020-02-27T13:33:06.799920Z",
     "start_time": "2020-02-27T13:33:06.782924Z"
    }
   },
   "outputs": [],
   "source": [
    "def list_component(eda, top_n_comps):\n",
    "    \"\"\" Listing the top N and the bottom N features of a given component\n",
    "    Args: \n",
    "        eda - EDA object instance        \n",
    "        top_n_comps            \n",
    "    Returns: None\n",
    "\n",
    "    \"\"\"    \n",
    "    listing = pd.DataFrame({\n",
    "                        'Features':list(eda.data.columns),\n",
    "                        'Weights':eda.pca.components_[top_n_comps]}).sort_values('Weights', axis=0, ascending=False).values.tolist()\n",
    "\n",
    "    return listing[:5]+['^^^HEAD','TAILvvv']+listing[-5:]  "
   ]
  },
  {
   "cell_type": "code",
   "execution_count": 66,
   "metadata": {
    "ExecuteTime": {
     "end_time": "2020-02-27T13:34:16.628645Z",
     "start_time": "2020-02-27T13:34:16.618643Z"
    }
   },
   "outputs": [
    {
     "data": {
      "text/plain": [
       "[['FINANZ_SPARER', 0.214036594474099],\n",
       " ['PRAEGENDE_JUGENDJAHRE_SPLIT_DECADE', 0.21257221158165077],\n",
       " ['FINANZ_ANLEGER', 0.18718221322392656],\n",
       " ['SEMIO_RAT', 0.16476414910106169],\n",
       " ['SEMIO_PFLICHT', 0.1583130069051247],\n",
       " '^^^HEAD',\n",
       " 'TAILvvv',\n",
       " ['LP_LEBENSPHASE_GROB_SPLIT_AGE', -0.12808187358578474],\n",
       " ['KBA05_ALTER4', -0.13612328811114355],\n",
       " ['SEMIO_LUST', -0.1490001755171961],\n",
       " ['ALTERSKATEGORIE_GROB', -0.17971657359189208],\n",
       " ['FINANZ_VORSORGER', -0.1951622467214415]]"
      ]
     },
     "execution_count": 66,
     "metadata": {},
     "output_type": "execute_result"
    }
   ],
   "source": [
    "list_component(eda_customers, 2)"
   ]
  },
  {
   "cell_type": "code",
   "execution_count": 68,
   "metadata": {
    "ExecuteTime": {
     "end_time": "2020-02-27T13:34:44.897560Z",
     "start_time": "2020-02-27T13:34:44.882560Z"
    }
   },
   "outputs": [
    {
     "data": {
      "text/plain": [
       "[['KBA13_ANTG3', 0.1667276693199897],\n",
       " ['PLZ8_ANTG3', 0.16560463462569222],\n",
       " ['KBA13_BAUMAX', 0.15823272632360175],\n",
       " ['KBA13_ANTG4', 0.15611069847166917],\n",
       " ['PLZ8_BAUMAX', 0.15484742960358353],\n",
       " '^^^HEAD',\n",
       " 'TAILvvv',\n",
       " ['MOBI_RASTER', -0.14842349972494942],\n",
       " ['KBA13_AUTOQUOTE', -0.15265600171790736],\n",
       " ['KBA13_ANTG1', -0.1589878993278549],\n",
       " ['PLZ8_ANTG1', -0.15911288424959782],\n",
       " ['MOBI_REGIO', -0.1616410402000578]]"
      ]
     },
     "execution_count": 68,
     "metadata": {},
     "output_type": "execute_result"
    }
   ],
   "source": [
    "list_component(eda_customers, 0)"
   ]
  },
  {
   "cell_type": "code",
   "execution_count": 69,
   "metadata": {
    "ExecuteTime": {
     "end_time": "2020-02-27T13:35:07.484285Z",
     "start_time": "2020-02-27T13:35:07.474285Z"
    }
   },
   "outputs": [
    {
     "data": {
      "text/plain": [
       "[['KBA13_HERST_BMW_BENZ', 0.15523993630300498],\n",
       " ['KBA13_SEG_OBEREMITTELKLASSE', 0.13346010409780423],\n",
       " ['KBA13_KMH_211', 0.13236176719933754],\n",
       " ['KBA05_KW3', 0.13209858666676458],\n",
       " ['KBA13_MERCEDES', 0.13111195055223598],\n",
       " '^^^HEAD',\n",
       " 'TAILvvv',\n",
       " ['KBA13_SEG_KLEINST', -0.1115525504564058],\n",
       " ['KBA13_SEG_KLEINWAGEN', -0.12268906511385963],\n",
       " ['KBA13_KMH_140_210', -0.12745758105310215],\n",
       " ['KBA13_KW_0_60', -0.13592249994591143],\n",
       " ['KBA13_KMH_180', -0.139887822744439]]"
      ]
     },
     "execution_count": 69,
     "metadata": {},
     "output_type": "execute_result"
    }
   ],
   "source": [
    "list_component(eda_customers, 1)"
   ]
  },
  {
   "cell_type": "markdown",
   "metadata": {},
   "source": [
    "## 第2部分：监督学习模型\n",
    "\n",
    "你现在应该已经发现哪部分人更可能成为邮购公司的顾客了，是时候搭建一个预测模型了。\"MAILOUT\"数据文件的的每一行表示一个邮购活动的潜在顾客。理想情况下我们应该能够使用每个人的人口统计数据来决定是否该把他作为该活动的营销对象。\n",
    "\n",
    "\"MAILOUT\" 数据被分成了两个大致相等的部分，每部分大概有 43 000 行数据。在这部分，你可以用\"TRAIN\"部分来检验你的模型，该数据集包括一列\"RESPONSE\"，该列表示该对象是否参加了该公司的邮购活动。在下一部分，你需要在\"TEST\"数据集上做出预测，该数据集中\"RESPONSE\" 列也被保留了。"
   ]
  },
  {
   "cell_type": "markdown",
   "metadata": {},
   "source": [
    "### 加载数据"
   ]
  },
  {
   "cell_type": "code",
   "execution_count": 70,
   "metadata": {
    "ExecuteTime": {
     "end_time": "2020-02-27T13:36:01.650760Z",
     "start_time": "2020-02-27T13:36:00.882761Z"
    }
   },
   "outputs": [
    {
     "data": {
      "text/plain": [
       "(42962, 367)"
      ]
     },
     "execution_count": 70,
     "metadata": {},
     "output_type": "execute_result"
    }
   ],
   "source": [
    "# mailout_train = pd.read_csv('../../data/Term2/capstone/arvato_data/Udacity_MAILOUT_052018_TRAIN.csv', sep=';')\n",
    "mailout_train = pd.read_pickle ('..//data//mailout_train.p')    \n",
    "mailout_train.shape"
   ]
  },
  {
   "cell_type": "code",
   "execution_count": 71,
   "metadata": {
    "ExecuteTime": {
     "end_time": "2020-02-27T13:36:01.698761Z",
     "start_time": "2020-02-27T13:36:01.654758Z"
    }
   },
   "outputs": [
    {
     "name": "stdout",
     "output_type": "stream",
     "text": [
      "The train set contains only 1.24% customers with positive response\n"
     ]
    }
   ],
   "source": [
    "# feats_customers_excl = ['CUSTOMER_GROUP','ONLINE_PURCHASE' ,'PRODUCT_GROUP']\n",
    "# mailout_train.drop(columns = feats_customers_excl, inplace =True)\n",
    "positive_cnts = mailout_train[mailout_train['RESPONSE'] == 1].shape[0]\n",
    "total_cnts = mailout_train.shape[0]\n",
    " \n",
    "print(f'The train set contains only {positive_cnts / total_cnts *100 :1.2f}% customers with positive response')"
   ]
  },
  {
   "cell_type": "code",
   "execution_count": 72,
   "metadata": {
    "ExecuteTime": {
     "end_time": "2020-02-27T13:36:02.070758Z",
     "start_time": "2020-02-27T13:36:01.705761Z"
    }
   },
   "outputs": [
    {
     "data": {
      "text/plain": [
       "(array([113.,   0.,   0.,   0.,   0.,  16., 229.,   2.,   0.,   0.,   0.,\n",
       "          0.,   1.,   0.,   0.,   0.,   0.,   0.,   0.,   0.,   1.,   0.,\n",
       "          0.,   0.,   0.,   0.,   0.,   0.,   0.,   0.,   0.,   0.,   1.,\n",
       "          3.]),\n",
       " array([0.        , 0.0293837 , 0.05876739, 0.08815109, 0.11753478,\n",
       "        0.14691848, 0.17630218, 0.20568587, 0.23506957, 0.26445327,\n",
       "        0.29383696, 0.32322066, 0.35260435, 0.38198805, 0.41137175,\n",
       "        0.44075544, 0.47013914, 0.49952283, 0.52890653, 0.55829023,\n",
       "        0.58767392, 0.61705762, 0.64644131, 0.67582501, 0.70520871,\n",
       "        0.7345924 , 0.7639761 , 0.7933598 , 0.82274349, 0.85212719,\n",
       "        0.88151088, 0.91089458, 0.94027828, 0.96966197, 0.99904567]),\n",
       " <a list of 34 Patch objects>)"
      ]
     },
     "execution_count": 72,
     "metadata": {},
     "output_type": "execute_result"
    },
    {
     "data": {
      "image/png": "[encoded data removed]",
      "text/plain": [
       "<Figure size 432x288 with 1 Axes>"
      ]
     },
     "metadata": {
      "needs_background": "light"
     },
     "output_type": "display_data"
    }
   ],
   "source": [
    "# extract RESPONSE column\n",
    "response = mailout_train['RESPONSE']\n",
    "\n",
    "# drop RESPONSE column\n",
    "mailout_train.drop(labels=['RESPONSE'], axis=1, inplace=True)\n",
    "\n",
    "# find features to drop because of many missing values\n",
    "missing_per_column = mailout_train.isnull().mean()\n",
    "\n",
    "plt.hist(missing_per_column, bins=34)"
   ]
  },
  {
   "cell_type": "markdown",
   "metadata": {},
   "source": [
    "### 数据预处理"
   ]
  },
  {
   "cell_type": "code",
   "execution_count": 73,
   "metadata": {
    "ExecuteTime": {
     "end_time": "2020-02-27T13:36:02.164760Z",
     "start_time": "2020-02-27T13:36:02.073758Z"
    }
   },
   "outputs": [],
   "source": [
    "# read in feature info file\n",
    "feat_info = pd.read_csv('./feats_info.csv', sep=';', names=['feat', 'type', 'unknown'])\n",
    "feat_info.set_index('feat', inplace =True)\n",
    "\n",
    "eda_mailout_train = eda.EDA(mailout_train, feat_info, label = 'mailout_train')\n",
    "# eda_mailout_train.data"
   ]
  },
  {
   "cell_type": "code",
   "execution_count": 74,
   "metadata": {
    "ExecuteTime": {
     "end_time": "2020-02-27T13:36:05.676759Z",
     "start_time": "2020-02-27T13:36:02.167759Z"
    }
   },
   "outputs": [
    {
     "name": "stdout",
     "output_type": "stream",
     "text": [
      "Step 1: Delete undefined, multiple missing values and duplicate features ...\n",
      "Before cleaning, Number of columns is 366 in mailout_train \n",
      "After cleaning, Number of columns is 262 in mailout_train \n",
      "Step 2: Convert missing and unknown values ...\n",
      "Number of missing values in mailout_train:\n",
      "Before converstion is 1809846\n",
      "Ater converstion IS 1918834\n",
      "Increase in missing values: 6.02 % \n",
      "Step 3: Delete the rows with more NaN values ...\n",
      "Before cleaning, Number of rows is 262 in mailout_train \n",
      "After cleaning, Number of columns is 262 in mailout_train \n",
      "  8545 lines deleted!\n",
      "Step 4: Re-encoding features...\n",
      "   Re-encoding: OST_WEST_KZ ...\n",
      "   Re-encoding: CAMEO_DEUG_2015 ...\n",
      "   Re-encoding: CAMEO_INTL_2015 ...\n",
      "   Re-encoding: EINGEFUEGT_AM ...\n",
      "Step 5: Split mixed features ...\n",
      "   Spliting: CAMEO_INTL_2015 ...\n",
      "   Spliting: LP_LEBENSPHASE_GROB ...\n",
      "   Spliting: PRAEGENDE_JUGENDJAHRE ...\n",
      "Step 6: Handling outliers ...\n",
      "   Processing outliers for feature type: numeric\n",
      " Processing outliers for MIN_GEBAEUDEJAHR  ...\n",
      " Processing outliers for EINGEZOGENAM_HH_JAHR  ...\n",
      "   Processing outliers for feature type: categorical\n",
      " Processing outliers for D19_KONSUMTYP  ...\n",
      "Step 7: Estimating NaN values with median ...\n",
      "Step 8: Feature scaling ...\n"
     ]
    }
   ],
   "source": [
    "eda_mailout_train.data_pipeline()"
   ]
  },
  {
   "cell_type": "code",
   "execution_count": 75,
   "metadata": {
    "ExecuteTime": {
     "end_time": "2020-02-27T13:36:05.692760Z",
     "start_time": "2020-02-27T13:36:05.680761Z"
    }
   },
   "outputs": [
    {
     "data": {
      "text/plain": [
       "(34417,)"
      ]
     },
     "execution_count": 75,
     "metadata": {},
     "output_type": "execute_result"
    }
   ],
   "source": [
    "response = response.loc[mailout_train.index]\n",
    "response.shape"
   ]
  },
  {
   "cell_type": "markdown",
   "metadata": {
    "ExecuteTime": {
     "end_time": "2020-02-26T06:53:54.763646Z",
     "start_time": "2020-02-26T06:53:54.755643Z"
    }
   },
   "source": [
    "### 模型选择"
   ]
  },
  {
   "cell_type": "code",
   "execution_count": 76,
   "metadata": {
    "ExecuteTime": {
     "end_time": "2020-02-27T13:36:05.708759Z",
     "start_time": "2020-02-27T13:36:05.694762Z"
    }
   },
   "outputs": [],
   "source": [
    "def build_roc_auc(model_dict, param_grid, X_train, y_train):\n",
    "    '''\n",
    "    Function for calculating auc and roc\n",
    "    INPUT:\n",
    "    stuff \n",
    "    OUTPUT:\n",
    "    auc - returns auc as a float\n",
    "    prints the roc auc score\n",
    "    '''\n",
    "    \n",
    "    for k, clf in model_dict.items():\n",
    "            grid = GridSearchCV(estimator=clf, param_grid=param_grid, scoring='roc_auc', cv=10)\n",
    "            grid.fit(X_train, y_train)\n",
    "            print(f'Model: {k},  Best ROC AUC score:  {grid.best_score_}')           \n"
   ]
  },
  {
   "cell_type": "code",
   "execution_count": 77,
   "metadata": {
    "ExecuteTime": {
     "end_time": "2020-02-27T13:39:00.169913Z",
     "start_time": "2020-02-27T13:36:05.714761Z"
    }
   },
   "outputs": [
    {
     "name": "stdout",
     "output_type": "stream",
     "text": [
      "Model: logistic regression,  Best ROC AUC score:  0.7649884539215374\n",
      "Model: bagging,  Best ROC AUC score:  0.6044008854724616\n",
      "Model: lgbmclassifier,  Best ROC AUC score:  0.769817444714204\n"
     ]
    }
   ],
   "source": [
    "lrm = LogisticRegression(random_state=h.RANDOM_STATE)\n",
    "bagm = BaggingClassifier()\n",
    "lgbm = lgb.LGBMClassifier(random_state=h.RANDOM_STATE,application='binary')\n",
    "\n",
    "model_dict = {\n",
    "    'logistic regression': lrm,    \n",
    "    'bagging': bagm,\n",
    "    'lgbmclassifier': lgbm,\n",
    "}\n",
    "\n",
    "build_roc_auc(model_dict, {},eda_mailout_train.data_scaled, response)    "
   ]
  },
  {
   "cell_type": "markdown",
   "metadata": {},
   "source": [
    "### LGB模型参数优化"
   ]
  },
  {
   "cell_type": "code",
   "execution_count": 78,
   "metadata": {
    "ExecuteTime": {
     "end_time": "2020-02-27T13:39:00.343913Z",
     "start_time": "2020-02-27T13:39:00.175914Z"
    }
   },
   "outputs": [],
   "source": [
    "# eda_mailout_train = pd.read_pickle ('../ArvatoPrj_200222.liso/eda_mailout_train.full.pkl')        \n",
    "# response = pd.read_pickle ('../ArvatoPrj_200222.liso/response.pkl')        \n",
    "\n",
    "train_data, test_data, train_targets, test_targets = train_test_split(\n",
    "    eda_mailout_train.data_scaled, \n",
    "    response, \n",
    "    test_size=0.20, \n",
    "    shuffle=True,\n",
    "    random_state=h.RANDOM_STATE)\n",
    "\n",
    "train_data, test_data, train_targets, test_targets = pd.DataFrame(train_data), pd.DataFrame(test_data), pd.Series(train_targets), pd.Series(test_targets) "
   ]
  },
  {
   "cell_type": "code",
   "execution_count": 79,
   "metadata": {
    "ExecuteTime": {
     "end_time": "2020-02-27T13:39:00.455915Z",
     "start_time": "2020-02-27T13:39:00.347914Z"
    }
   },
   "outputs": [
    {
     "name": "stdout",
     "output_type": "stream",
     "text": [
      "Positive weight for the complete target:  79.602\n",
      "Positive weight for the train dataset:    80.943\n",
      "Positive weight for the test dataset:     74.648\n"
     ]
    }
   ],
   "source": [
    "print('Positive weight for the complete target: ', round(float(np.sum(response == 0)) / np.sum(response == 1), 3))\n",
    "print('Positive weight for the train dataset:   ', round(float(np.sum(train_targets == 0)) / np.sum(train_targets == 1), 3))\n",
    "print('Positive weight for the test dataset:    ', round(float(np.sum(test_targets == 0)) / np.sum(test_targets == 1), 3))\n",
    "v_posWeight = 79.75"
   ]
  },
  {
   "cell_type": "code",
   "execution_count": 80,
   "metadata": {
    "ExecuteTime": {
     "end_time": "2020-02-27T13:44:14.549846Z",
     "start_time": "2020-02-27T13:39:00.458913Z"
    }
   },
   "outputs": [
    {
     "name": "stdout",
     "output_type": "stream",
     "text": [
      "100%|████████████████████████████████████████████████████████████████████████████████████████| 100/100 [05:08<00:00,  3.08s/trial, best loss: -0.7982559978093159]\n",
      "Best ROC -0.798 params {'colsample_bytree': 0.7914251370847547, 'learning_rate': 0.00013525207008504797, 'min_data_in_leaf': 1150.0, 'min_sum_hessian_in_leaf': 0.0012492697133027963, 'num_leaves': 11.0, 'reg_alpha': 0.7338146729873141, 'reg_lambda': 0.3127222606297919}\n"
     ]
    },
    {
     "data": {
      "image/png": "[encoded data removed]",
      "text/plain": [
       "<Figure size 720x720 with 8 Axes>"
      ]
     },
     "metadata": {
      "needs_background": "light"
     },
     "output_type": "display_data"
    }
   ],
   "source": [
    "def_params={\n",
    "        'learning_rate':  {'hpf' :  hp.loguniform('learning_rate', np.log(0.00001), np.log(0.0075)),'dtype' : 'float'},           \n",
    "        'num_leaves' :    {'hpf' : hp.quniform('num_leaves', 1, 15, 1),'dtype' : 'int'},     \n",
    "        'min_data_in_leaf' : {'hpf' : hp.quniform('min_data_in_leaf', 1000, 1500, 50),'dtype' : 'int'},     \n",
    "        'min_sum_hessian_in_leaf':  {'hpf' : hp.uniform('min_sum_hessian_in_leaf', 0.0005, 0.002),'dtype' : 'float'},               \n",
    "        'colsample_bytree': {'hpf': hp.uniform('colsample_bytree', 0.2, 1.),'dtype' : 'float'},        \n",
    "        'reg_alpha': {'hpf': hp.uniform('reg_alpha', 0,1.0),'dtype' : 'float'}, \n",
    "        'reg_lambda': {'hpf': hp.uniform('reg_lambda', 0, 1.0),'dtype' : 'float'}, \n",
    "        # //////////////////////////////////////////////////////    \n",
    "#             'n_estimators' :  {'hpf' : hp.quniform('n_estimators', 1000, 2000, 100),'dtype' : 'int'},            \n",
    "#         'max_bin': {'hpf' : hp.quniform('max_bin', 10,100, 10) ,'dtype' : 'int'},            \n",
    "#             'max_depth':   {'hpf': hp.quniform('max_depth', 3, 90, 5),'dtype' : 'int'},         \n",
    "\n",
    "}\n",
    "\n",
    "n_iter = 100\n",
    "cv = 10\n",
    "\n",
    "best, trials, objective = t.search_hyperparameter(def_params, n_iter, cv ,train_data, train_targets)\n",
    "\n",
    "model = t.build_model(best, def_params)\n",
    "\n",
    "model.fit(train_data,train_targets)\n",
    "\n",
    "t.evaluate_model(model, objective, best, test_data, test_targets)\n",
    "\n",
    "sa_results_df = t.plot_result(trials.trials)"
   ]
  },
  {
   "cell_type": "markdown",
   "metadata": {},
   "source": [
    "### Top 15 most important features of the model"
   ]
  },
  {
   "cell_type": "code",
   "execution_count": 81,
   "metadata": {
    "ExecuteTime": {
     "end_time": "2020-02-27T13:44:14.734847Z",
     "start_time": "2020-02-27T13:44:14.571848Z"
    }
   },
   "outputs": [
    {
     "data": {
      "image/png": "[encoded data removed]",
      "text/plain": [
       "<Figure size 720x432 with 1 Axes>"
      ]
     },
     "metadata": {
      "needs_background": "light"
     },
     "output_type": "display_data"
    }
   ],
   "source": [
    "#plot graph of feature importances for better visualization\n",
    "feat_importances = pd.Series(model.feature_importances_, index=eda_mailout_train.data.columns)\n",
    "feat_importances.nlargest(15).plot(kind='barh',  figsize=(10, 6))\n",
    "plt.show()"
   ]
  },
  {
   "cell_type": "markdown",
   "metadata": {},
   "source": [
    "## Part 3:Kaggle比赛\n",
    "\n",
    "你已经搭建了一个用于预测人们有多大程度上会回应邮购活动的模型，是时候到Kaggle上检验一下这个模型了。如果你点击这个 [链接](http://www.kaggle.com/t/21e6d45d4c574c7fa2d868f0e8c83140)，你会进入到比赛界面（如果你已经有一个Kaggle账户的话）如果你表现突出的话，你将有机会收到Arvato或Bertelsmann的人力资源管理的经理的面试邀约！\n",
    "\n",
    "你比赛用提交的文件格式为CSV，该文件含2列。第一列是\"LNR\"，是\"TEST\"部分每个顾客的ID。第二列是\"RESPONSE\"表示此人有多大程度上会参加该活动，可以是某种度量，不一定是概率。你应该在第2部分已经发现了，该数据集存在一个巨大的输出类不平衡的问题，也就是说大部分人都不会参加该邮购活动。因此，预测目标人群的分类并使用准确率来衡量不是一个合适的性能评估方法。相反地，该项竞赛使用AUC衡量模型的性能。\"RESPONSE\"列的绝对值并不重要：仅仅表示高的取值可能吸引到更多的实际参与者，即ROC曲线的前端曲线比较平缓。"
   ]
  },
  {
   "cell_type": "code",
   "execution_count": 82,
   "metadata": {
    "ExecuteTime": {
     "end_time": "2020-02-27T13:44:15.534015Z",
     "start_time": "2020-02-27T13:44:14.739847Z"
    }
   },
   "outputs": [
    {
     "data": {
      "text/plain": [
       "(42833, 366)"
      ]
     },
     "execution_count": 82,
     "metadata": {},
     "output_type": "execute_result"
    }
   ],
   "source": [
    "# mailout_test = pd.read_csv('../../data/Term2/capstone/arvato_data/Udacity_MAILOUT_052018_TEST.csv', sep=';')\n",
    "mailout_test = pd.read_pickle ('..//data//mailout_test.p')    \n",
    "mailout_test.shape"
   ]
  },
  {
   "cell_type": "code",
   "execution_count": 83,
   "metadata": {
    "ExecuteTime": {
     "end_time": "2020-02-27T13:44:15.550018Z",
     "start_time": "2020-02-27T13:44:15.538016Z"
    }
   },
   "outputs": [],
   "source": [
    "eda_mailout_test = eda.EDA(mailout_test, feat_info, label = 'mailout_test')"
   ]
  },
  {
   "cell_type": "code",
   "execution_count": 84,
   "metadata": {
    "ExecuteTime": {
     "end_time": "2020-02-27T13:44:15.566014Z",
     "start_time": "2020-02-27T13:44:15.556016Z"
    }
   },
   "outputs": [
    {
     "data": {
      "text/plain": [
       "(42833,)"
      ]
     },
     "execution_count": 84,
     "metadata": {},
     "output_type": "execute_result"
    }
   ],
   "source": [
    "LNR = mailout_test.LNR.copy()\n",
    "LNR.shape"
   ]
  },
  {
   "cell_type": "code",
   "execution_count": 85,
   "metadata": {
    "ExecuteTime": {
     "end_time": "2020-02-27T13:44:19.500014Z",
     "start_time": "2020-02-27T13:44:15.573017Z"
    }
   },
   "outputs": [
    {
     "name": "stdout",
     "output_type": "stream",
     "text": [
      "Step 1: Delete undefined, multiple missing values and duplicate features ...\n",
      "Before cleaning, Number of columns is 366 in mailout_test \n",
      "After cleaning, Number of columns is 262 in mailout_test \n",
      "Step 2: Convert missing and unknown values ...\n",
      "Number of missing values in mailout_test:\n",
      "Before converstion is 1783358\n",
      "Ater converstion IS 1891132\n",
      "Increase in missing values: 6.04 % \n",
      "Step 4: Re-encoding features...\n",
      "   Re-encoding: OST_WEST_KZ ...\n",
      "   Re-encoding: CAMEO_DEUG_2015 ...\n",
      "   Re-encoding: CAMEO_INTL_2015 ...\n",
      "   Re-encoding: EINGEFUEGT_AM ...\n",
      "Step 5: Split mixed features ...\n",
      "   Spliting: CAMEO_INTL_2015 ...\n",
      "   Spliting: LP_LEBENSPHASE_GROB ...\n",
      "   Spliting: PRAEGENDE_JUGENDJAHRE ...\n",
      "Step 6: Handling outliers ...\n",
      "   Processing outliers for feature type: numeric\n",
      " Processing outliers for MIN_GEBAEUDEJAHR  ...\n",
      " Processing outliers for EINGEZOGENAM_HH_JAHR  ...\n",
      "   Processing outliers for feature type: categorical\n",
      " Processing outliers for D19_KONSUMTYP  ...\n",
      "Step 7: Estimating NaN values with median ...\n",
      "Step 8: Feature scaling ...\n"
     ]
    }
   ],
   "source": [
    "eda_mailout_test.data_pipeline(clean_rows = False)"
   ]
  },
  {
   "cell_type": "code",
   "execution_count": 86,
   "metadata": {
    "ExecuteTime": {
     "end_time": "2020-02-27T13:44:19.516015Z",
     "start_time": "2020-02-27T13:44:19.506014Z"
    }
   },
   "outputs": [
    {
     "data": {
      "text/plain": [
       "(42833, 277)"
      ]
     },
     "execution_count": 86,
     "metadata": {},
     "output_type": "execute_result"
    }
   ],
   "source": [
    "mailout_test.shape"
   ]
  },
  {
   "cell_type": "code",
   "execution_count": 87,
   "metadata": {
    "ExecuteTime": {
     "end_time": "2020-02-27T13:44:19.660012Z",
     "start_time": "2020-02-27T13:44:19.523014Z"
    }
   },
   "outputs": [
    {
     "data": {
      "text/plain": [
       "array([0.50214384, 0.50259025, 0.49516411, ..., 0.50005349, 0.50165973,\n",
       "       0.5005017 ])"
      ]
     },
     "execution_count": 87,
     "metadata": {},
     "output_type": "execute_result"
    }
   ],
   "source": [
    "preds_test = model.predict_proba(eda_mailout_test.data_scaled)[:,1]\n",
    "preds_test"
   ]
  },
  {
   "cell_type": "code",
   "execution_count": 88,
   "metadata": {
    "ExecuteTime": {
     "end_time": "2020-02-27T13:44:19.690012Z",
     "start_time": "2020-02-27T13:44:19.664013Z"
    }
   },
   "outputs": [
    {
     "data": {
      "text/html": [
       "<div>\n",
       "<style scoped>\n",
       "    .dataframe tbody tr th:only-of-type {\n",
       "        vertical-align: middle;\n",
       "    }\n",
       "\n",
       "    .dataframe tbody tr th {\n",
       "        vertical-align: top;\n",
       "    }\n",
       "\n",
       "    .dataframe thead th {\n",
       "        text-align: right;\n",
       "    }\n",
       "</style>\n",
       "<table border=\"1\" class=\"dataframe\">\n",
       "  <thead>\n",
       "    <tr style=\"text-align: right;\">\n",
       "      <th></th>\n",
       "      <th>LNR</th>\n",
       "      <th>RESPONSE</th>\n",
       "    </tr>\n",
       "  </thead>\n",
       "  <tbody>\n",
       "    <tr>\n",
       "      <td>0</td>\n",
       "      <td>1754</td>\n",
       "      <td>0.502144</td>\n",
       "    </tr>\n",
       "    <tr>\n",
       "      <td>1</td>\n",
       "      <td>1770</td>\n",
       "      <td>0.502590</td>\n",
       "    </tr>\n",
       "    <tr>\n",
       "      <td>2</td>\n",
       "      <td>1465</td>\n",
       "      <td>0.495164</td>\n",
       "    </tr>\n",
       "    <tr>\n",
       "      <td>3</td>\n",
       "      <td>1470</td>\n",
       "      <td>0.495405</td>\n",
       "    </tr>\n",
       "    <tr>\n",
       "      <td>4</td>\n",
       "      <td>1478</td>\n",
       "      <td>0.495883</td>\n",
       "    </tr>\n",
       "    <tr>\n",
       "      <td>...</td>\n",
       "      <td>...</td>\n",
       "      <td>...</td>\n",
       "    </tr>\n",
       "    <tr>\n",
       "      <td>42828</td>\n",
       "      <td>67615</td>\n",
       "      <td>0.493846</td>\n",
       "    </tr>\n",
       "    <tr>\n",
       "      <td>42829</td>\n",
       "      <td>67938</td>\n",
       "      <td>0.494484</td>\n",
       "    </tr>\n",
       "    <tr>\n",
       "      <td>42830</td>\n",
       "      <td>67942</td>\n",
       "      <td>0.500053</td>\n",
       "    </tr>\n",
       "    <tr>\n",
       "      <td>42831</td>\n",
       "      <td>67949</td>\n",
       "      <td>0.501660</td>\n",
       "    </tr>\n",
       "    <tr>\n",
       "      <td>42832</td>\n",
       "      <td>68898</td>\n",
       "      <td>0.500502</td>\n",
       "    </tr>\n",
       "  </tbody>\n",
       "</table>\n",
       "<p>42833 rows × 2 columns</p>\n",
       "</div>"
      ],
      "text/plain": [
       "         LNR  RESPONSE\n",
       "0       1754  0.502144\n",
       "1       1770  0.502590\n",
       "2       1465  0.495164\n",
       "3       1470  0.495405\n",
       "4       1478  0.495883\n",
       "...      ...       ...\n",
       "42828  67615  0.493846\n",
       "42829  67938  0.494484\n",
       "42830  67942  0.500053\n",
       "42831  67949  0.501660\n",
       "42832  68898  0.500502\n",
       "\n",
       "[42833 rows x 2 columns]"
      ]
     },
     "execution_count": 88,
     "metadata": {},
     "output_type": "execute_result"
    }
   ],
   "source": [
    "preds_test = pd.concat([LNR, pd.Series(preds_test)], axis = 1)\n",
    "preds_test.rename(columns={0:'RESPONSE'}, inplace= True)\n",
    "preds_test"
   ]
  },
  {
   "cell_type": "code",
   "execution_count": 89,
   "metadata": {
    "ExecuteTime": {
     "end_time": "2020-02-27T13:44:20.096012Z",
     "start_time": "2020-02-27T13:44:19.696013Z"
    }
   },
   "outputs": [
    {
     "data": {
      "image/png": "[encoded data removed]",
      "text/plain": [
       "<Figure size 432x288 with 2 Axes>"
      ]
     },
     "metadata": {
      "needs_background": "light"
     },
     "output_type": "display_data"
    }
   ],
   "source": [
    "preds_test.hist()\n",
    "preds_test.to_csv('MAILOUT_TEST.csv')"
   ]
  },
  {
   "cell_type": "code",
   "execution_count": 90,
   "metadata": {
    "ExecuteTime": {
     "end_time": "2020-02-27T13:44:20.111016Z",
     "start_time": "2020-02-27T13:44:20.101016Z"
    }
   },
   "outputs": [],
   "source": [
    "def save_runs(run_name, model, model_type, space, trials, best, n_iter, preds_test):\n",
    "    run_dic = {\n",
    "        'run_name': run_name,\n",
    "        'model' : model,\n",
    "        'model_type': model_type,\n",
    "        'space': space,\n",
    "        'trails': trials,\n",
    "        'best':  best,\n",
    "        'n_iters':  n_iter,\n",
    "        'preds_test': preds_test\n",
    "    }\n",
    "    \n",
    "    file = open( run_name+'.pkl',  'wb')\n",
    "    pickle.dump(run_dic, file)"
   ]
  },
  {
   "cell_type": "code",
   "execution_count": 91,
   "metadata": {
    "ExecuteTime": {
     "end_time": "2020-02-27T13:44:20.142017Z",
     "start_time": "2020-02-27T13:44:20.115015Z"
    }
   },
   "outputs": [],
   "source": [
    "import datetime\n",
    "model_type =  'lgb.LGBMClassifier'    \n",
    "# save_runs('run_'+model_type+f'_iters_{str(n_iter)}_'+datetime.datetime.now().strftime('%Y.%m.%d'), model,model_type, def_params, trials, best, n_iter, preds_test)    "
   ]
  }
 ],
 "metadata": {
  "hide_input": false,
  "kernelspec": {
   "display_name": "Python 3",
   "language": "python",
   "name": "python3"
  },
  "language_info": {
   "codemirror_mode": {
    "name": "ipython",
    "version": 3
   },
   "file_extension": ".py",
   "mimetype": "text/x-python",
   "name": "python",
   "nbconvert_exporter": "python",
   "pygments_lexer": "ipython3",
   "version": "3.7.4"
  },
  "latex_envs": {
   "LaTeX_envs_menu_present": true,
   "autoclose": false,
   "autocomplete": true,
   "bibliofile": "biblio.bib",
   "cite_by": "apalike",
   "current_citInitial": 1,
   "eqLabelWithNumbers": true,
   "eqNumInitial": 1,
   "hotkeys": {
    "equation": "Ctrl-E",
    "itemize": "Ctrl-I"
   },
   "labels_anchors": false,
   "latex_user_defs": false,
   "report_style_numbering": false,
   "user_envs_cfg": false
  },
  "toc": {
   "base_numbering": 1,
   "nav_menu": {},
   "number_sections": true,
   "sideBar": true,
   "skip_h1_title": false,
   "title_cell": "Table of Contents",
   "title_sidebar": "Contents",
   "toc_cell": false,
   "toc_position": {
    "height": "calc(100% - 180px)",
    "left": "10px",
    "top": "150px",
    "width": "289.547px"
   },
   "toc_section_display": true,
   "toc_window_display": true
  },
  "varInspector": {
   "cols": {
    "lenName": 16,
    "lenType": 16,
    "lenVar": 40
   },
   "kernels_config": {
    "python": {
     "delete_cmd_postfix": "",
     "delete_cmd_prefix": "del ",
     "library": "var_list.py",
     "varRefreshCmd": "print(var_dic_list())"
    },
    "r": {
     "delete_cmd_postfix": ") ",
     "delete_cmd_prefix": "rm(",
     "library": "var_list.r",
     "varRefreshCmd": "cat(var_dic_list()) "
    }
   },
   "types_to_exclude": [
    "module",
    "function",
    "builtin_function_or_method",
    "instance",
    "_Feature"
   ],
   "window_display": false
  }
 },
 "nbformat": 4,
 "nbformat_minor": 2
}
